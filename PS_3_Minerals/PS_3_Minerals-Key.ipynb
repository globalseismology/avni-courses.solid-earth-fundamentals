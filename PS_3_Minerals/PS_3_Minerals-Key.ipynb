{
 "cells": [
  {
   "cell_type": "markdown",
   "id": "87abe991-1153-442e-a88e-e996b991db74",
   "metadata": {},
   "source": [
    "\n",
    "# GEO 203: Minerals\n",
    "\n",
    "## Problem Sheet \\# 3 Minerals\n",
    "\n",
    "*Due 11:59pm Tuesday, October 4 via Gradescope upload (see Canvas link)*\n",
    "\n",
    "IN THE SPACE BELOW, WRITE OUT IN FULL AND THEN SIGN THE HONOR PLEDGE:\n",
    "\n",
    "“I pledge my honor that I have not violated the honor code during this examination.”\n",
    "\n",
    "**PRINT NAME**:\n",
    "\n",
    "By uploading this assignment through Canvas, I sign off on the document below electronically.\n",
    "\n",
    "----"
   ]
  },
  {
   "cell_type": "markdown",
   "id": "b498fa13-5279-4fb6-8c05-07c7741abb5c",
   "metadata": {
    "tags": []
   },
   "source": [
    "# Part I: Physical Properties of Minerals\n",
    "\n",
    "While critical to defining and classifying minerals, measurements of the chemical composition or crystal structure of minerals are not always practical when identifying minerals. Instead, geologists rely on physical properties. Each mineral has a unique set of physical properties that can be utilized to determine its identity. **In this exercise**, you will be introduced to some commonly used physical properties in order to identify a set of minerals. We will first learn about some of these physical properties, then we will develop an approach for the identification of minerals using these physical properties. Among the properties, we will discuss color, cleavage, luster, hardness, density, streak, reactivity, magnetism, and mineral fluorescence. Pages 139-142 of Earth: portrait of a planet by Stephen Marshak is a good reference if needed.\n",
    "\n",
    "## Section A: Learning about Physical Properties \n",
    "\n",
    "**Objective:** In order to correctly identify any mineral, you will need to learn more about each physical property. We have set up stations around the room which help to illustrate the main aspects of each of these physical properties. Below we have provided some basic information on each physical property. Your job is to go to each station, take notes, photos, and measurements, and log this information below. The information you add to this list will be used in the next section of this exercise, and PSET4. So be thorough in your note-taking. You likely will reference these mineral properties many times. \n",
    "\n",
    "### Color: \n",
    "Color is the easiest property to observe, but only a few minerals can be identified by color alone.  Elemental impurities can contaminate the mineral changing its color. For example, below we show how variable the color of quartz can be. \n",
    "\n",
    "1 | 2 | 3 |4 |5 | 6 | 7 \n",
    "- | - | - | - | - | - | - \n",
    "<img src = \"Photos/quartz1.png\" width = \"300\" height = \"300\" > | <img src = \"Photos/quartz2.png\" width = \"300\" height = \"300\" > | <img src = \"Photos/quartz3.png\" width = \"300\" height = \"300\" > | <img src = \"Photos/quartz4.png\" width = \"300\" height = \"300\" > | <img src = \"Photos/quartz5.png\" width = \"300\" height = \"300\" > | <img src = \"Photos/quartz6.png\" width = \"300\" height = \"300\" > | <img src = \"Photos/quartz7.png\" width = \"300\" height = \"300\" > \n",
    "\n"
   ]
  },
  {
   "cell_type": "markdown",
   "id": "9d37d3e5-ed2d-4eba-bd95-044aa0781be5",
   "metadata": {
    "tags": []
   },
   "source": [
    "### Cleavage:\n",
    "\n",
    "Cleavage is one of the trickiest properties to understand. Cleavage is the tendency of crystalline materials to split along definite crystallographic structural planes. If bonds between atoms are weaker in certain directions than in other directions, the crystal will tend to split along the weakly bonded planes. These flat breaks are termed \"cleavage\". Cleavage can come in many forms including Basal (1-cleavage plane), Prismatic (2-cleavage planes), Cubic (3-cleavage planes intersecting at 90 degrees), Rhombohedral (3-cleavage planes intersecting at angles that are **not** 90 degrees), Octahedral (4-cleavage planes), and many others. Below are examples of some of the most common types of cleavage. \n",
    "\n",
    "No Cleavage | Basal Cleavage | Prismatic cleavage | Rhombohedral Cleavage | Cubic | Octahedral Cleavage \n",
    "- | - | - | - | - | -\n",
    "<img src = \"Photos/cleavage1.png\" width = \"300\" height = \"300\" > | <img src = \"Photos/cleavage2.jpg\" width = \"300\" height = \"300\" > | <img src = \"Photos/cleavage3.jpg\" width = \"300\" height = \"300\" > | <img src = \"Photos/cleavage4.jpg\" width = \"300\" height = \"300\" > | <img src = \"Photos/cleavage6.jpg\" width = \"300\" height = \"300\" > | <img src = \"Photos/cleavage5.jpg\" width = \"300\" height = \"300\" > \n",
    "\n",
    "### Luster:\n",
    "\n",
    "Luster is the appearance of a mineral surface in terms of its light-reflective qualities. Luster depends upon a mineral’s refractive power, degree of transparency, and structure. Variations in these properties produce different kinds of luster, whereas variations in the quantity of reflected light produce different intensities of the same luster. \n",
    "\n",
    "\n",
    "Metallic | Silky | Vitreous | Earthy | Pearly | Adamantine \n",
    "- | - | - | - | - | -\n",
    "<img src = \"Photos/luster1.jpg\" width = \"300\" height = \"300\" > | <img src = \"Photos/luster2.jpg\" width = \"300\" height = \"300\" > | <img src = \"Photos/luster3.jpg\" width = \"300\" height = \"300\" > | <img src = \"Photos/luster4.png\" width = \"300\" height = \"300\" > | <img src = \"Photos/luster5.jpg\" width = \"300\" height = \"300\" > | <img src = \"Photos/luster6.png\" width = \"300\" height = \"300\" > \n",
    "\n",
    "### Hardness:\n",
    "\n",
    "Hardness is a measure of how easily a mineral can be scratched. Hardness can be measured by a scratch test using the \"Moh’s Scale of Hardness\". Minerals are ranked out of 10, with 1 being the softest and 10 being the hardest. We have provided a set of 9 minerals (diamond is ranked at 10, so we have left this mineral out) ranked 1 through 9 on the Moh’s Scale of Hardness. Below we have provided a list of minerals that correspond to different levels of hardness. \n",
    "\n",
    "\n",
    "1 - Talc | 2 - Gypsum | 3 - Calcite | 4 - Flurite | 5 - Apatite | 6 - Feldspar | 7 - Quartz | 8 - Topaz | 9 - Corundum | 10 - Diamond\n",
    "- | - | - | - | - | - | - | - | - | - \n",
    "<img src = \"Photos/Hard1.png\" width = \"300\" height = \"300\" > | <img src = \"Photos/Hard2.png\" width = \"300\" height = \"300\" > | <img src = \"Photos/Hard3.png\" width = \"300\" height = \"300\" > | <img src = \"Photos/Hard4.png\" width = \"300\" height = \"300\" > | <img src = \"Photos/Hard5.png\" width = \"300\" height = \"300\" > | <img src = \"Photos/Hard6.png\" width = \"300\" height = \"300\" > | <img src = \"Photos/Hard7.png\" width = \"300\" height = \"300\" > | <img src = \"Photos/Hard8.png\" width = \"300\" height = \"300\" > | <img src = \"Photos/Hard9.png\" width = \"300\" height = \"300\" > | <img src = \"Photos/Hard10.png\" width = \"300\" height = \"300\" > \n",
    "\n",
    "\n",
    "### Density:\n",
    "\n",
    "Density is a measure of a mineral's mass divided by its volume. This property is always the same. We have set up an experiment, similar to the classic Archimedes bathtub experiment, which allows accurate measurements of the density of solids. \n",
    "\n",
    "Dry Weight | Minus Wet Weight | Equals Density\n",
    "- | - | -\n",
    "<img src = \"Photos/density1.jpg\" width = \"300\" height = \"300\" > | <img src = \"Photos/density2.jpg\" width = \"300\" height = \"300\" > | <img src = \"Photos/density3.jpg\" width = \"300\" height = \"300\" > \n",
    "\n",
    "### Streak:\n",
    "\n",
    "Streak is the color of a mineral’s powder. Place the streak plate on a table and scratch the mineral across the plate. You may have to scratch hard to see the color. The harder the mineral, the harder you will have to scratch. Often the streak of a mineral is not unique enough to assist in mineral identification. Other times, the streak is very distinctive.\n",
    "\n",
    "\n",
    "Gray Streak | Red Streak | Blue Streak | Green Streak\n",
    "- | - | - | -\n",
    "<img src = \"Photos/streak1.jpg\" width = \"300\" height = \"300\" > | <img src = \"Photos/streak2.png\" width = \"300\" height = \"300\" >| <img src = \"Photos/streak3.jpg\" width = \"300\" height = \"300\" > | <img src = \"Photos/streak4.jpg\" width = \"300\" height = \"300\" >\n",
    "\n",
    "\n",
    "### Reactivity:\n",
    "\n",
    "Acid Reactions: Reaction to acids, typically dilute hydrochloric acid (~ 0.25 HCl), is a property that can be used to help identify some common minerals. Note, that most minerals will not visibly react to dilute hydrochloric acid. The reaction we are looking for gives off appreciable bubbles of carbon dioxide in a relatively short period of time. \n",
    "\n",
    "\n",
    " <img src = \"Photos/acid2.jpg\" width = \"300\" height = \"300\" > \n",
    "\n",
    "### Magnetism:\n",
    "\n",
    "Several minerals react when placed within a magnetic field. Some minerals are strongly attracted to the magnet (Ferromagnetism), others are weakly attracted (Paramagnetism), and one mineral is actually repelled (Diamagnetism). In most cases, the presence of the element iron (Fe) as a component of the mineral's chemical structure is responsible for its magnetic properties.\n",
    "\n",
    "\n",
    "\n",
    "<img src = \"Photos/magnatite1.jpg\" width = \"300\" height = \"300\" > \n",
    "\n",
    "### Fluorescence:\n",
    "\n",
    "Over 500 minerals have been discovered that exhibit some sort of fluorescence when exposed to ultra violet light. Fluorescence occurs when mineral \"glows\" within the visible spectrum when exposed to ultraviolet light. \n",
    "\n",
    "\n",
    "Calcite under visable light | Calcite under UV light\n",
    "- | - \n",
    "<img src = \"Photos/fluorescence1.png\" width = \"300\" height = \"300\" > | <img src = \"Photos/fluorescence2.png\" width = \"300\" height = \"300\" > \n",
    "\n",
    "\n",
    "\n",
    "**Question 1:** \n",
    "\n",
    "Each table has been given a set of rocks that are among the most common minerals on Earth. Your goal is to identify each mineral by assessing its physical properties. We have provided a mineral identification flow chart that lists each mineral and a set of corresponding physical properties. Once you have identified your minerals, place each of your samples in their proper locations on the flow chart. **Take a photo of it, and upload it**. \n"
   ]
  },
  {
   "cell_type": "markdown",
   "id": "7a843b5e-2108-483e-8dcd-94345301112b",
   "metadata": {},
   "source": [
    "**Answer:** \n",
    "<font color='red'>My answer.</font>"
   ]
  },
  {
   "cell_type": "markdown",
   "id": "deed1e7f-1935-4e7c-9266-561154dc3415",
   "metadata": {},
   "source": [
    "For minererals with hardness less then 5.5 | For minererals with hardness greater then 5.5 \n",
    "- | - \n",
    "<img src = \"Photos/Mineral_ID_gtr_than_5.5_portrait.jpg\" width = \"500\" height = \"500\" > | <img src = \"Photos/Mineral_ID_less_than_5.5_portrait.jpg\" width = \"500\" height = \"500\" > \n"
   ]
  },
  {
   "cell_type": "markdown",
   "id": "66523a6b-ab7c-45d7-95ab-86bb7e748917",
   "metadata": {},
   "source": [
    "## Section B: Identifying Common Rock Forming Minerals\n",
    "\n",
    "**Question 2:** \n",
    "\n",
    "While critical to defining minerals, neither the chemical composition nor crystal structure is directly useful when identifying minerals in a hand sample. Instead, we rely on physical properties. Why?"
   ]
  },
  {
   "cell_type": "markdown",
   "id": "72fd24ce-9983-4136-ba61-af68ee2b9b34",
   "metadata": {},
   "source": [
    "**Answer:**\n",
    "\n",
    "<font color='red'>Can’t directly see chemical composition or crystal structure.  Can see/observe physical properties which are controlled by and thus reflective of chemical composition and crystal structure.</font>"
   ]
  },
  {
   "cell_type": "markdown",
   "id": "93b8f28f-3aca-49b2-9d84-36a4d6f7b277",
   "metadata": {},
   "source": [
    "**Question 3:**  \n",
    "\n",
    "Which if the following are materials “minerals?”? Justify your answers. \n",
    "\n",
    "1. Glass from a foundry\n",
    "2. Obsidian (volcanic glass)\n",
    "3. Cubic zirconia\n",
    "4. Ice in a glacier\n",
    "5. Ice in your freezer\n",
    "6. Coal"
   ]
  },
  {
   "cell_type": "markdown",
   "id": "ce81c25c-5d01-43c0-a479-efff6325da19",
   "metadata": {},
   "source": [
    "**Answer:** \n",
    "\n",
    "<font color='red'> \n",
    "1. Glass - Not a Mineral - Man made\n",
    "2. Obsidian - Not a Mineral - Lacks a good structure\n",
    "3. Cubic zirconia - Not a Mineral - Man made\n",
    "4. Ice in a glacier - Is a mineral\n",
    "5. Ine in your Freezer - Not a Mineral - Man made\n",
    "6. Coal - Not a Mineral - Organic\n",
    "</font>"
   ]
  },
  {
   "cell_type": "markdown",
   "id": "ff736812-af70-4f8d-89d9-ee49a063cd28",
   "metadata": {},
   "source": [
    "**Question 4:** \n",
    "\n",
    "How is the physical property of cleavage reflective of the crystalline structure of minerals?  Explain in your own words with an example or two."
   ]
  },
  {
   "cell_type": "markdown",
   "id": "b3326dcb-7612-48c3-8c93-d098f0c24968",
   "metadata": {},
   "source": [
    "**Answer:** \n",
    "\n",
    "<font color='red'> Cleavage occurs from breaking of bonds, particularly weak bonds. Because the orientation of ions in a mineral is geometrical and repetitive, minerals will fragment into the same geometric shape according to what bonds break easiest. </font>"
   ]
  },
  {
   "cell_type": "markdown",
   "id": "0a8b3039-f25f-4a10-8874-82394e106c04",
   "metadata": {},
   "source": [
    "**Question 5:** \n",
    "\n",
    "How is the physical property of hardness reflective of the crystalline structure of minerals?  Explain in your own words with an example or two."
   ]
  },
  {
   "cell_type": "markdown",
   "id": "8712b55d-bddc-44da-8664-34a3bc4e91c1",
   "metadata": {},
   "source": [
    "**Answer:** \n",
    "\n",
    "<font color='red'> The scratch hardness is related to the breaking of the chemical bonds in the material, creation of microfractures on the surface, or displacing atoms of the mineral. Generally, minerals with covalent bonds (strong) are the hardest while minerals with ionic, metallic, or van der Waals bonding (weak) are much softer. Moreover, generally the close-packed and more complex structures are harder. </font>"
   ]
  },
  {
   "cell_type": "markdown",
   "id": "d7e14045-233f-4f18-a6cf-ccb56cd0fc3f",
   "metadata": {},
   "source": [
    "**Question 6:** \n",
    "\n",
    "How is the specific gravity (density) of a mineral reflective of its crystalline structure?  Explain in your own words with an example or two."
   ]
  },
  {
   "cell_type": "markdown",
   "id": "574c0456-82fa-45d0-bf2d-2ec00c2ee458",
   "metadata": {},
   "source": [
    "**Answer:** \n",
    "\n",
    "<font color='red'>Different crystal stuctures have different arrangements of atoms, some with close packing, others with more distant packing. With all else equal, the closer the packing of atomes (shorter bonds), the more dense the mineral. </font>"
   ]
  },
  {
   "cell_type": "markdown",
   "id": "991ebee2-1c71-43ae-8e4f-3c806fc64f48",
   "metadata": {},
   "source": [
    "**Question 7:** \n",
    "\n",
    "Quartz and feldspars are silicate minerals and are among the most common minerals in the earth’s crust. They are similar in many physical properties and occur in many different types of rocks, often together. What physical property is most useful for distinguishing between quartz and feldspar in rocks?  Describe what would you look for in order to distinguish between them and/or what test(s) you could perform in the field. Note, in the field, you are equipped with a hand lens (aka loupe), rock hammer, squeeze bottle of dilute HCl, and a small knife (hardness of 5.5)."
   ]
  },
  {
   "cell_type": "markdown",
   "id": "21b72517-ee81-4958-9d7c-6befc28c6913",
   "metadata": {},
   "source": [
    "**Answer:** \n",
    "<font color='red'> Cleavage – quartz does not have the property, while feldspar has two good directions of cleavage at 90 deg.  So look for flat breaking surfaces, two directions at 90 deg if you an see them feldspar. Could also use hardness, although they are close.</font>"
   ]
  },
  {
   "cell_type": "markdown",
   "id": "01797d69-e04e-4733-a936-7f342a6df531",
   "metadata": {},
   "source": [
    "# Part II: Crystal Formation, Structure and Chemistry"
   ]
  },
  {
   "cell_type": "code",
   "execution_count": null,
   "id": "c5749751-a349-46b5-abcb-f29ee6354ac5",
   "metadata": {},
   "outputs": [],
   "source": []
  }
 ],
 "metadata": {
  "kernelspec": {
   "display_name": "fall2022 [~/opt/export/course/geo203/anaconda3/envs/fall2022/]",
   "language": "python",
   "name": "conda_fall2022"
  },
  "language_info": {
   "codemirror_mode": {
    "name": "ipython",
    "version": 3
   },
   "file_extension": ".py",
   "mimetype": "text/x-python",
   "name": "python",
   "nbconvert_exporter": "python",
   "pygments_lexer": "ipython3",
   "version": "3.9.12"
  }
 },
 "nbformat": 4,
 "nbformat_minor": 5
}

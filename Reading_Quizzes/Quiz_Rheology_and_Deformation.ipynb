{
 "cells": [
  {
   "cell_type": "markdown",
   "metadata": {},
   "source": [
    "# Quiz: Rheology and Deformation\n",
    "\n",
    "IN THE SPACE BELOW, WRITE OUT IN FULL AND THEN SIGN THE HONOR PLEDGE:\n",
    "\n",
    "“I pledge my honor that I have not violated the honor code during this examination.”\n",
    "\n",
    "**PRINT NAME**:\n",
    "\n",
    "By uploading this assignment through Canvas, I sign off on the document below electronically.\n",
    "\n",
    "----"
   ]
  },
  {
   "cell_type": "markdown",
   "metadata": {},
   "source": [
    "## Instructions\n",
    "\n",
    "This is an open book, open notes quiz to be done independently, on your own.  But it is not open Internet - on your honor, you are not permitted to \"Google\" for answers.\n",
    "\n",
    "Unless otherwise indicated the multiple choice questions have only one correct answer. Once started, you have 20 minutes to finish.\n",
    "\n",
    "When done, click **Submit Quiz** at the bottom of the page.  Note that by submitting this quiz, you are acknowledging the following statement:\n",
    "\n",
    "       “I pledge my honor that I have not violated the honor code during this examination.”\n",
    "Please tick your choice(s) from the list of options provided.  Note that <u>several choices may be correct</u>, so tick all choices you think are appropriate.\n",
    "\n",
    "----"
   ]
  },
  {
   "cell_type": "markdown",
   "metadata": {},
   "source": [
    "Q1. Which of the following factors that deform rocks *cannot* be characterized through a P-T-X phase diagram of the corresponding mineral or mineral assemblage?\n",
    "  1. Composition\n",
    "  2. Pressure\n",
    "  3. Temperature\n",
    "  4. <font color='green'>Strain rate</font>\n",
    "  5. Presence of melt"
   ]
  },
  {
   "cell_type": "markdown",
   "metadata": {},
   "source": [
    "Q2. What are *any set of equations* that denote the general relationship between stress and strain in three dimensions called? \n",
    "  1. Hooke's Law\n",
    "  2. <font color='green'>Constitutive Relations</font>\n",
    "  3. Elastic Constants\n",
    "  4. Shear Modulus"
   ]
  },
  {
   "cell_type": "markdown",
   "metadata": {},
   "source": [
    "Q3.Which of the following statements is true about faults?\n",
    "  1. Faults are an expression of ductile deformation\n",
    "  2. Faults are only found in the deep crust where temperatures are high\n",
    "  3. <font color='green'>Faults do not break at depths below the brittle-ductile transition</font>\n",
    "  4. Faults are always exposed on the Earth's surface and can be mapped"
   ]
  },
  {
   "cell_type": "markdown",
   "metadata": {},
   "source": [
    "Q4. If a gravity anomaly is negative, what does that imply about the material underneath the gravity measurement?\n",
    "  1. <font color='green'>The material underneath is less dense than the surrounding material</font>\n",
    "  2. The material underneath is more dense than the surrounding material\n",
    "  3. The material is in a compressive tectonic environment\n",
    "  4. The material is in a tensional tectonic environment"
   ]
  },
  {
   "cell_type": "markdown",
   "metadata": {},
   "source": [
    "Q5. Under which conditions would a body of rock be more likely to exhibit plastic behavior?  Check all that apply.\n",
    "  1. <font color='green'>High temperature</font>\n",
    "  2. Low temperature \n",
    "  3. <font color='green'>High lithostatic pressure</font>\n",
    "  4. Low lithostatic pressure\n",
    "  5. High strain rate\n",
    "  6. <font color='green'>Low strain rate</font>"
   ]
  },
  {
   "cell_type": "markdown",
   "metadata": {},
   "source": [
    "Q6. Formation of the Himalayas through fold and thrust belts and underthrusting is facilitated by:\n",
    "  1. Brittle deformation in the underlying mantle asthenosphere\n",
    "  2. <font color='green'>Ductile deformation of the thick lower crust</font>\n",
    "  3. High yield strength of the continental crust\n",
    "  4. Viscous flow in the mantle"
   ]
  },
  {
   "cell_type": "markdown",
   "metadata": {},
   "source": [
    "Q7. What is always true about the creep mechanisms for ductile flow inside the Earth?\n",
    "  1. <font color='green'>They are thermally activated so strain rate is exponentially related to temperature</font>\n",
    "  2. They occur only along grain boundaries and not within the rock.\n",
    "  3. Diffusion creep is more widespread in the Earth than dislocation creep\n",
    "  4. Grain size strongly influences the flow mechanism of the material"
   ]
  },
  {
   "cell_type": "markdown",
   "metadata": {},
   "source": [
    "Q8. Which of the following is not true about the diffusion creep mechanism in the Earth?\n",
    "  1. Linear relationship between deviatoric stress and strain rate\n",
    "  2. Material undergoing diffusion creep behaves like a Newtonian fluid \n",
    "  3. <font color='green'>Diffusion creep is insensitive to grain size</font>\n",
    "  4. Diffusion creep is thermally activated so strain rate is exponentially related to temperature"
   ]
  },
  {
   "cell_type": "markdown",
   "metadata": {},
   "source": [
    "Q9. In the elastic limit, there are constants that describe the relationship between stress and strain in a rock. Which of the following is not one of these constants?\n",
    "  1. Bulk modulus\n",
    "  2. Shear modulus\n",
    "  3. Poisson's ratio\n",
    "  4. <font color='green'>Viscosity</font>\n",
    "  5. Young's modulus"
   ]
  },
  {
   "cell_type": "markdown",
   "metadata": {},
   "source": [
    "Q10. Which of the following is **not true** about both the orientation of new faults inside Earth and sliding of rocks along pre-existing fractures? \n",
    "  1. The angle of sliding/fracture does not depend on the mass of the rock body\n",
    "  2. <font color='green'>The angle of sliding/fracture is dependent only on the lithostatic pressure</font>\n",
    "  3. The angle of sliding/fracture can be found using the Mohr-Coulomb criterion\n",
    "  4. The angle of sliding/fracture is a function of normal stress, shear stress and coefficient of friction"
   ]
  }
 ],
 "metadata": {
  "kernelspec": {
   "display_name": "Python 3 (ipykernel)",
   "language": "python",
   "name": "python3"
  },
  "language_info": {
   "codemirror_mode": {
    "name": "ipython",
    "version": 3
   },
   "file_extension": ".py",
   "mimetype": "text/x-python",
   "name": "python",
   "nbconvert_exporter": "python",
   "pygments_lexer": "ipython3",
   "version": "3.9.12"
  }
 },
 "nbformat": 4,
 "nbformat_minor": 4
}

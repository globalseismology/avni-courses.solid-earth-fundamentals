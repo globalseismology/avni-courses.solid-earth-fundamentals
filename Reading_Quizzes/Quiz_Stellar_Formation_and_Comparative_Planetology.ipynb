{
 "cells": [
  {
   "cell_type": "markdown",
   "metadata": {},
   "source": [
    "# Quiz: Stellar Formation and Comparative Planetology\n",
    "\n",
    "IN THE SPACE BELOW, WRITE OUT IN FULL AND THEN SIGN THE HONOR PLEDGE:\n",
    "\n",
    "“I pledge my honor that I have not violated the honor code during this examination.”\n",
    "\n",
    "**PRINT NAME**:\n",
    "\n",
    "By uploading this assignment through Canvas, I sign off on the document below electronically.\n",
    "\n",
    "----"
   ]
  },
  {
   "cell_type": "markdown",
   "metadata": {},
   "source": [
    "## Instructions\n",
    "\n",
    "This is an open book, open notes quiz to be done independently, on your own.  But it is not open Internet - on your honor, you are not permitted to \"Google\" for answers.\n",
    "\n",
    "Unless otherwise indicated the multiple choice questions have only one correct answer. Once started, you have 20 minutes to finish.\n",
    "\n",
    "When done, click **Submit Quiz** at the bottom of the page.  Note that by submitting this quiz, you are acknowledging the following statement:\n",
    "\n",
    "       “I pledge my honor that I have not violated the honor code during this examination.”\n",
    "Please tick your choice(s) from the list of options provided.  Note that <u>several choices may be correct</u>, so tick all choices you think are appropriate.\n",
    "\n",
    "----"
   ]
  },
  {
   "cell_type": "markdown",
   "metadata": {},
   "source": [
    "Q1. What is unique to Earth differ compared to the other 7 planets in our solar system?\n",
    "  1. <font color='green'>Active plate tectonics</font>\n",
    "  2. Polar ice caps\n",
    "  3. <font color='green'>Oxygen-rich atmosphere</font>\n",
    "  4. <font color='green'>Adundant and complex lifeforms</font>"
   ]
  },
  {
   "cell_type": "markdown",
   "metadata": {},
   "source": [
    "Q2. Why do we **not** think of our Sun as a first-generation star? \n",
    "  1. Size of the Sun is relatively small\n",
    "  2. <font color='green'>Presence of heavier elements</font>\n",
    "  3. Emittance of ultra-violet light\n",
    "  4. Solar flares and high-energy radiation"
   ]
  },
  {
   "cell_type": "markdown",
   "metadata": {},
   "source": [
    "Q3. Why did the rocky or terrestrial planets form nearer to our Sun?\n",
    "  1. <font color='green'>Solar wind evaporated and dispersed gases outwards</font>\n",
    "  2. <font color='green'>Volatile gases freeze beyond the frost line</font>\n",
    "  3. Strong gravity of the Sun pulled dust particles\n",
    "  4. <font color='green'>Refractory minerals can remain solid at high temperatures</font>"
   ]
  },
  {
   "cell_type": "markdown",
   "metadata": {},
   "source": [
    "Q4. What conditions are required the formation of a differentiated and round rocky planet?\n",
    "  1. <font color='green'>Gravitational forces for bodies exceeding a critical size</font>\n",
    "  2. Bombardment by large asteroids and formation of moon\n",
    "  3. <font color='green'>Internal temperatures that permit melting and seperation</font>\n",
    "  4. Formation of oceans and a thick atmosphere to shield the surface"
   ]
  },
  {
   "cell_type": "markdown",
   "metadata": {},
   "source": [
    "Q5. Why is the abundance of element Iron (Fe) in the sun 1000 times what of the nearby elements in the periodic table? \n",
    "  1. Fe is found in the cores of the planetary bodies in the early solar system\n",
    "  2. Supernovae caused Fe to get dispersed throughout the solar system  \n",
    "  3. <font color='green'>Nuclear fusion can only happen up to nuclei with 56 atomic particles</font>\n",
    "  4. Fe is the end product of radioactive decay reactions of several heavier elements"
   ]
  },
  {
   "cell_type": "markdown",
   "metadata": {},
   "source": [
    "Q6. Choose the statement(s) that lead to the *band of stability*, where there is no preference for the conversion of one nucleide to another:\n",
    "  1. <font color='green'>Protons can convert to neutrons by capturing an electron</font>\n",
    "  2. <font color='green'>Isolated neutrons are unstable, so decay to electron and proton</font>\n",
    "  3. Protons prefer to stick together in the nucleus through gluons\n",
    "  4. <font color='green'>Neutrons help in seperating protons in the nucleus</font>"
   ]
  },
  {
   "cell_type": "markdown",
   "metadata": {},
   "source": [
    "Q7. What is **not** true about the formation of heavier elements in the universe?\n",
    "  1. Formation of elements beyond H and He during the Big Bang was impeded by gaps in stable nuclides with total 5 or 8 protons and neutrons \n",
    "  2. Multilayered fire in large stars with high temperatures created elements up to Iron (Fe).\n",
    "  3. <font color='green'>All radioactive isotopes of heavier elements decay with long half-lives, allowing detection in stars of all ages</font>\n",
    "  4. Free neutrons are added to the nucleus till the mass of star reaches the limit for a Type II supernovae explosion"
   ]
  },
  {
   "cell_type": "markdown",
   "metadata": {},
   "source": [
    "Q8. What is true about the other bodies in the solar system in the context of habitability of lifeforms?\n",
    "  1. Mars is large enough in size to remain hot and host a long-lived dynamo in the outer core\n",
    "  2. Venus and Mars have strong magnetic fields that shield the surface from solar winds\n",
    "  3. Mars has mountain belts and volcanic arcs, and other evidences of plate tectonics\n",
    "  4. <font color='green'>Venus has a thick atmosphere that protects the surface from bombardment by small objects</font>"
   ]
  }
 ],
 "metadata": {
  "kernelspec": {
   "display_name": "Python 3 (ipykernel)",
   "language": "python",
   "name": "python3"
  },
  "language_info": {
   "codemirror_mode": {
    "name": "ipython",
    "version": 3
   },
   "file_extension": ".py",
   "mimetype": "text/x-python",
   "name": "python",
   "nbconvert_exporter": "python",
   "pygments_lexer": "ipython3",
   "version": "3.9.12"
  }
 },
 "nbformat": 4,
 "nbformat_minor": 4
}

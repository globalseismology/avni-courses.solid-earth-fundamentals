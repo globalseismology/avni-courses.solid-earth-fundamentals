{
 "cells": [
  {
   "cell_type": "markdown",
   "metadata": {
    "tags": []
   },
   "source": [
    "# Relative and Absolute Dating\n",
    "\n",
    "IN THE SPACE BELOW, WRITE OUT IN FULL AND THEN SIGN THE HONOR PLEDGE:\n",
    "\n",
    "“I pledge my honor that I have not violated the honor code during this examination.”\n",
    "\n",
    "**PRINT NAME**: \n",
    "\n",
    "If a fellow student has contributed significantly to this work, please acknowledge them here:\n",
    "\n",
    "**Peer(s)**:                          \n",
    "\n",
    "*Contribution:*\n",
    "\n",
    "\n",
    "By uploading this assignment through Canvas, I sign off on the document below electronically.\n",
    "\n",
    "----"
   ]
  },
  {
   "cell_type": "markdown",
   "metadata": {},
   "source": [
    "## Part II: Age of the Earth\n",
    "\n",
    "In this question, you will be carrying out a famous set of geochronological calculations by Patterson (1956) - the first correct age of the Earth. Read Patterson (1956). This paper is commonly cited as the first correct determination of the age of the Earth (estimates now are about 4.567 Ga).\n",
    "\n",
    "<figure>\n",
    "<img src=\"Photos/CPatterson.jpeg\" alt=\"drawing\" width=\"40%\"/>\n",
    "<figcaption style=\"font-style: italic, text-align: center\"><i>A picture of Claire Patterson. Source: Caltech Archives</i></figcaption>\n",
    "</figure>\n",
    "\n",
    "\n",
    "<figure>\n",
    "<img src=\"Photos/Patterson+56_Thumbnail.png\" alt=\"drawing\" width=\"50%\"/>\n",
    "<figcaption style=\"font-style: italic, text-align: center\"><i>The first page from Patterson (1956) paper</i></figcaption>\n",
    "</figure>"
   ]
  },
  {
   "cell_type": "markdown",
   "metadata": {},
   "source": [
    "### Mini-tutorial\n",
    "\n",
    " - **Opening text (*.txt) files with pandas**\n",
    " - **Basic curve fitting with numpy**\n",
    " - **Basic scatter and line plots with matplotlib**\n",
    "\n",
    "You will need to use the Python programming language for problems that require computations and for making plots in this class. \n",
    "\n",
    "Here is an example of fitting some data and making a plot. We will read a data file, perform linear regression, and make a plot. Most of the time, your code will begin by importing libraries such as `numpy` (for vector calculation), `pandas` (for reading tables and other files), and `matplotlib.pyplot` (for making plots). If you are not familar with these libraries, feel free to follow examples in the previous precepts or the tutorial online for [numpy](https://www.w3schools.com/python/numpy/default.asp) and [matplotlib](https://matplotlib.org/stable/tutorials/index.html).\n"
   ]
  },
  {
   "cell_type": "code",
   "execution_count": 1,
   "metadata": {},
   "outputs": [],
   "source": [
    "import numpy as np\n",
    "import pandas as pd\n",
    "import matplotlib.pyplot as plt\n",
    "%matplotlib inline"
   ]
  },
  {
   "cell_type": "markdown",
   "metadata": {},
   "source": [
    "<div class=\"admonition pythonreview\" name=\"html-admonition\" style=\"background: lightgreen; padding: 10px\">\n",
    "<p class=\"title\">Python Review</p>\n",
    "<p>Reading columnar data with Pandas: Note the line `table = pd.read_table(\"example-data.txt\")`; is how you read a data file into a Pandas DataFrame, which is a 2 dimensional data structure, like a 2 dimensional array or a table with rows and columns.</p>\n",
    "</div>"
   ]
  },
  {
   "cell_type": "markdown",
   "metadata": {
    "tags": []
   },
   "source": [
    "First, let us create an example dataset that will be used in the curve fitting exercise. The basic form of a line is `y=m*x+b` where `m` is the slope and `b` is the intercept of the line on the y-axis. We are adding a bit of noise from a normal distribution to make numpy work a bit harder! We will check later if the fitted values numpy gives for `m` and `b` are similar to what we started off with `y = 5x + 3.5 + random noise`. Data are saved to a text file `example-data.txt` with columns for `x` and `y`. We are going to read this file and fit a straight line."
   ]
  },
  {
   "cell_type": "code",
   "execution_count": 2,
   "metadata": {},
   "outputs": [
    {
     "data": {
      "text/html": [
       "<div>\n",
       "<style scoped>\n",
       "    .dataframe tbody tr th:only-of-type {\n",
       "        vertical-align: middle;\n",
       "    }\n",
       "\n",
       "    .dataframe tbody tr th {\n",
       "        vertical-align: top;\n",
       "    }\n",
       "\n",
       "    .dataframe thead th {\n",
       "        text-align: right;\n",
       "    }\n",
       "</style>\n",
       "<table border=\"1\" class=\"dataframe\">\n",
       "  <thead>\n",
       "    <tr style=\"text-align: right;\">\n",
       "      <th></th>\n",
       "      <th>x</th>\n",
       "      <th>y</th>\n",
       "    </tr>\n",
       "  </thead>\n",
       "  <tbody>\n",
       "    <tr>\n",
       "      <th>0</th>\n",
       "      <td>5.553</td>\n",
       "      <td>22.818</td>\n",
       "    </tr>\n",
       "    <tr>\n",
       "      <th>1</th>\n",
       "      <td>6.735</td>\n",
       "      <td>39.294</td>\n",
       "    </tr>\n",
       "    <tr>\n",
       "      <th>2</th>\n",
       "      <td>7.780</td>\n",
       "      <td>48.010</td>\n",
       "    </tr>\n",
       "    <tr>\n",
       "      <th>3</th>\n",
       "      <td>10.542</td>\n",
       "      <td>64.029</td>\n",
       "    </tr>\n",
       "    <tr>\n",
       "      <th>4</th>\n",
       "      <td>10.870</td>\n",
       "      <td>54.845</td>\n",
       "    </tr>\n",
       "    <tr>\n",
       "      <th>5</th>\n",
       "      <td>11.499</td>\n",
       "      <td>48.524</td>\n",
       "    </tr>\n",
       "    <tr>\n",
       "      <th>6</th>\n",
       "      <td>16.689</td>\n",
       "      <td>87.874</td>\n",
       "    </tr>\n",
       "    <tr>\n",
       "      <th>7</th>\n",
       "      <td>19.600</td>\n",
       "      <td>114.331</td>\n",
       "    </tr>\n",
       "    <tr>\n",
       "      <th>8</th>\n",
       "      <td>20.703</td>\n",
       "      <td>101.660</td>\n",
       "    </tr>\n",
       "    <tr>\n",
       "      <th>9</th>\n",
       "      <td>22.550</td>\n",
       "      <td>121.006</td>\n",
       "    </tr>\n",
       "    <tr>\n",
       "      <th>10</th>\n",
       "      <td>23.762</td>\n",
       "      <td>120.815</td>\n",
       "    </tr>\n",
       "    <tr>\n",
       "      <th>11</th>\n",
       "      <td>24.092</td>\n",
       "      <td>123.064</td>\n",
       "    </tr>\n",
       "  </tbody>\n",
       "</table>\n",
       "</div>"
      ],
      "text/plain": [
       "         x        y\n",
       "0    5.553   22.818\n",
       "1    6.735   39.294\n",
       "2    7.780   48.010\n",
       "3   10.542   64.029\n",
       "4   10.870   54.845\n",
       "5   11.499   48.524\n",
       "6   16.689   87.874\n",
       "7   19.600  114.331\n",
       "8   20.703  101.660\n",
       "9   22.550  121.006\n",
       "10  23.762  120.815\n",
       "11  24.092  123.064"
      ]
     },
     "execution_count": 2,
     "metadata": {},
     "output_type": "execute_result"
    }
   ],
   "source": [
    "# pandas read_table allows you to read a table of any structure\n",
    "# useful when you are not sure how to read the file\n",
    "table = pd.read_table(\"Files/example-data.txt\")\n",
    "\n",
    "# displays the table we have just read\n",
    "table"
   ]
  },
  {
   "cell_type": "code",
   "execution_count": 3,
   "metadata": {},
   "outputs": [
    {
     "data": {
      "text/plain": [
       "0      5.553\n",
       "1      6.735\n",
       "2      7.780\n",
       "3     10.542\n",
       "4     10.870\n",
       "5     11.499\n",
       "6     16.689\n",
       "7     19.600\n",
       "8     20.703\n",
       "9     22.550\n",
       "10    23.762\n",
       "11    24.092\n",
       "Name: x, dtype: float64"
      ]
     },
     "execution_count": 3,
     "metadata": {},
     "output_type": "execute_result"
    }
   ],
   "source": [
    "# access a column of the table by using column's header as a key\n",
    "table['x']"
   ]
  },
  {
   "cell_type": "markdown",
   "metadata": {},
   "source": [
    "<div class=\"admonition pythonreview\" name=\"html-admonition\" style=\"background: lightgreen; padding: 10px\">\n",
    "<p class=\"title\">Python Review</p>\n",
    "<p>Note the line `p = np.polyfit(x, y, 1)`. This is where we fit the line. The value `1` indicates that we fit a first-order polynomial.</p>\n",
    "</div>"
   ]
  },
  {
   "cell_type": "code",
   "execution_count": 4,
   "metadata": {},
   "outputs": [],
   "source": [
    "# One example on how to fit a line using numpy polyfit\n",
    "x = np.array(table['x'])\n",
    "y = np.array(table['y'])\n",
    "\n",
    "p = np.polyfit(x, y, 1)\n",
    "\n",
    "# y-value of the best-fitted line\n",
    "y_fit = p[0] * x + p[1]"
   ]
  },
  {
   "cell_type": "code",
   "execution_count": 5,
   "metadata": {},
   "outputs": [
    {
     "data": {
      "image/png": "[encoded data removed]",
      "text/plain": [
       "<Figure size 432x432 with 1 Axes>"
      ]
     },
     "metadata": {
      "needs_background": "light"
     },
     "output_type": "display_data"
    }
   ],
   "source": [
    "# Basic steps on how to make a plot using matplotlib\n",
    "\n",
    "# creates a figure\n",
    "fig = plt.figure(figsize=[6,6])\n",
    "\n",
    "# makes a scatter plot\n",
    "plt.scatter(x, y, label='data')\n",
    "\n",
    "# makes a line plot\n",
    "text = \"fitted line: y = %.3f x + %.3f\"%(p[0], p[1])\n",
    "plt.plot(x, y_fit, 'r', label=text)\n",
    "\n",
    "# labels the axes \n",
    "plt.xlabel('x', fontsize=12)\n",
    "plt.ylabel('y', fontsize=12)\n",
    "plt.title('The relationship between x and y', fontsize=12)\n",
    "\n",
    "# adds grid lines\n",
    "plt.grid()\n",
    "\n",
    "# adds a legend box\n",
    "plt.legend(fontsize=12)\n",
    "\n",
    "# shows the figure\n",
    "plt.show()"
   ]
  },
  {
   "cell_type": "markdown",
   "metadata": {},
   "source": [
    "**Note**: The value numpy calculated for `m` (5.165) and `b` (1.223) was slightly different from what we started with (5 and 3.5)."
   ]
  },
  {
   "cell_type": "markdown",
   "metadata": {},
   "source": [
    "### TO DO\n",
    "\n",
    "**Question 1.1**. Using the data in Table 1 from that paper (this is also saved as the uploaded file PS1-data.txt), find the slope in Equation 1 from the Patterson paper. Choose the appropriate data to make a scatter plot with a fitted line like in the mini-tutorial and show your code and a plot. \n",
    "\n",
    "If you do not know which data you need to choose, think about what could be the slope in the Equation 1. Report the slope of the fitted line a the variable `fit_slope` below."
   ]
  },
  {
   "cell_type": "markdown",
   "metadata": {},
   "source": [
    "**Answer**"
   ]
  },
  {
   "cell_type": "code",
   "execution_count": 7,
   "metadata": {},
   "outputs": [],
   "source": [
    "import numpy as np\n",
    "import pandas as pd\n",
    "import matplotlib.pyplot as plt\n",
    "%matplotlib inline"
   ]
  },
  {
   "cell_type": "code",
   "execution_count": 9,
   "metadata": {},
   "outputs": [
    {
     "data": {
      "text/html": [
       "<div>\n",
       "<style scoped>\n",
       "    .dataframe tbody tr th:only-of-type {\n",
       "        vertical-align: middle;\n",
       "    }\n",
       "\n",
       "    .dataframe tbody tr th {\n",
       "        vertical-align: top;\n",
       "    }\n",
       "\n",
       "    .dataframe thead th {\n",
       "        text-align: right;\n",
       "    }\n",
       "</style>\n",
       "<table border=\"1\" class=\"dataframe\">\n",
       "  <thead>\n",
       "    <tr style=\"text-align: right;\">\n",
       "      <th></th>\n",
       "      <th>206/204</th>\n",
       "      <th>207/204</th>\n",
       "      <th>208/204</th>\n",
       "      <th>Unnamed: 3</th>\n",
       "    </tr>\n",
       "  </thead>\n",
       "  <tbody>\n",
       "    <tr>\n",
       "      <th>0</th>\n",
       "      <td>50.28</td>\n",
       "      <td>34.86</td>\n",
       "      <td>67.97</td>\n",
       "      <td>Mexico</td>\n",
       "    </tr>\n",
       "    <tr>\n",
       "      <th>1</th>\n",
       "      <td>19.27</td>\n",
       "      <td>15.95</td>\n",
       "      <td>39.05</td>\n",
       "      <td>Iowa</td>\n",
       "    </tr>\n",
       "    <tr>\n",
       "      <th>2</th>\n",
       "      <td>19.48</td>\n",
       "      <td>15.76</td>\n",
       "      <td>38.21</td>\n",
       "      <td>Kansas</td>\n",
       "    </tr>\n",
       "    <tr>\n",
       "      <th>3</th>\n",
       "      <td>9.55</td>\n",
       "      <td>10.38</td>\n",
       "      <td>29.54</td>\n",
       "      <td>Australia</td>\n",
       "    </tr>\n",
       "    <tr>\n",
       "      <th>4</th>\n",
       "      <td>9.46</td>\n",
       "      <td>10.34</td>\n",
       "      <td>29.44</td>\n",
       "      <td>Arizona</td>\n",
       "    </tr>\n",
       "  </tbody>\n",
       "</table>\n",
       "</div>"
      ],
      "text/plain": [
       "   206/204  207/204  208/204 Unnamed: 3\n",
       "0    50.28    34.86    67.97     Mexico\n",
       "1    19.27    15.95    39.05       Iowa\n",
       "2    19.48    15.76    38.21     Kansas\n",
       "3     9.55    10.38    29.54  Australia\n",
       "4     9.46    10.34    29.44    Arizona"
      ]
     },
     "execution_count": 9,
     "metadata": {},
     "output_type": "execute_result"
    }
   ],
   "source": [
    "# pandas read_table allows you to read a table of any structure\n",
    "# useful when you are not sure how to read the file\n",
    "table = pd.read_table(\"Files/PS1-data.txt\")\n",
    "\n",
    "# displays the table we have just read\n",
    "table"
   ]
  },
  {
   "cell_type": "markdown",
   "metadata": {},
   "source": [
    "<div style=\"color:red\">\n",
    "    From Equation (1)\n",
    "    </div>\n",
    "\n",
    "<div style=\"color:red\">\n",
    "\\begin{equation}\n",
    "\\frac{R_{1a} - R_{1b}}{R_{2a} - R_{2b}} = \\frac{e^{\\lambda_{235} T} - 1}{k (e^{\\lambda_{238} T} - 1)}\n",
    "\\end{equation}\n",
    "where $R_1 =\\ ^{207}\\text{Pb}\\ /\\ ^{204}\\text{Pb}$ and $R_2 =\\ ^{206}\\text{Pb}\\ /\\ ^{204}\\text{Pb}$.\n",
    "    </div>\n",
    "\n",
    "<div style=\"color:red\">\n",
    "    You notice that the left-hand side is the slope of the line going through two points of $(x,y) = (^{206}\\text{Pb}\\ /\\ ^{204}\\text{Pb}, ^{207}\\text{Pb}\\ /\\ ^{204}\\text{Pb})$\n",
    "    </div>"
   ]
  },
  {
   "cell_type": "code",
   "execution_count": 10,
   "metadata": {},
   "outputs": [],
   "source": [
    "# One example on how to fit a line using numpy polyfit\n",
    "x = np.array(table['206/204'])\n",
    "y = np.array(table['207/204'])\n",
    "\n",
    "p = np.polyfit(x, y, 1)\n",
    "\n",
    "# y-value of the best-fitted line\n",
    "y_fit = p[0] * x + p[1]"
   ]
  },
  {
   "cell_type": "code",
   "execution_count": 11,
   "metadata": {},
   "outputs": [
    {
     "data": {
      "image/png": "[encoded data removed]",
      "text/plain": [
       "<Figure size 432x432 with 1 Axes>"
      ]
     },
     "metadata": {
      "needs_background": "light"
     },
     "output_type": "display_data"
    }
   ],
   "source": [
    "# Basic steps on how to make a plot using matplotlib\n",
    "\n",
    "# creates a figure\n",
    "fig = plt.figure(figsize=[6,6])\n",
    "\n",
    "# makes a scatter plot\n",
    "plt.scatter(x, y, label='data')\n",
    "\n",
    "# makes a line plot\n",
    "text = \"fitted line: y = %.3f x + %.3f\"%(p[0], p[1])\n",
    "plt.plot(x, y_fit, 'r', label=text)\n",
    "\n",
    "# labels the axes \n",
    "plt.xlabel('x : 206Pb/204Pb', fontsize=12)\n",
    "plt.ylabel('y : 207Pb/204Pb', fontsize=12)\n",
    "plt.title('The relationship between 206Pb/204Pb and 207Pb/204Pb', fontsize=12)\n",
    "\n",
    "# adds grid lines\n",
    "plt.grid()\n",
    "\n",
    "# adds a legend box\n",
    "plt.legend(fontsize=12)\n",
    "\n",
    "# shows the figure\n",
    "plt.show()"
   ]
  },
  {
   "cell_type": "code",
   "execution_count": 12,
   "metadata": {},
   "outputs": [],
   "source": [
    "# Fill slope you have found from the data here\n",
    "fit_slope = 0.603"
   ]
  },
  {
   "cell_type": "markdown",
   "metadata": {},
   "source": [
    "**Question 1.2**. Recalculate Patterson’s age of the Earth based on the slope. You will need to use the `fit_slope` obtained in Question 1.1. You should also use the same values as Patterson did for $\\lambda_{238}$, $\\lambda_{235}$ (from Patterson (1956) paper, equation (1)), and present day $\\frac{^{238}\\text{U}}{^{235}\\text{U}}$.\n"
   ]
  },
  {
   "cell_type": "code",
   "execution_count": 1,
   "metadata": {},
   "outputs": [],
   "source": [
    "# The values Patterson used for the calculation\n",
    "lambda_235 = 9.72e-10      # Decay constant of U-235 in yr^-1\n",
    "lambda_238 = 1.537e-10     # Decay constant of U-238 in yr^-1\n",
    "k = 137.8                  # U-238 / U-235 today"
   ]
  },
  {
   "cell_type": "markdown",
   "metadata": {},
   "source": [
    "You may use this piece of code below to determine the age of Earth. Here we are finding the age of the Earth where the Equation 1 from the Patterson (1956) is satisfied for the slope you have found from the data."
   ]
  },
  {
   "cell_type": "code",
   "execution_count": 13,
   "metadata": {},
   "outputs": [],
   "source": [
    "from scipy import optimize\n",
    "\n",
    "def get_difference(age, reference_slope):\n",
    "    '''\n",
    "    Compute the difference of the right-hand side and the left-hand side of Equation 1 from Patterson (1956)\n",
    "    \n",
    "    Input Parameters:\n",
    "    ----------------\n",
    "    \n",
    "    age:               age of the Earth in years\n",
    "    reference_slope:   the slope obtained from fitting the data\n",
    "    \n",
    "    Return:\n",
    "    ------\n",
    "    \n",
    "    difference:        difference of the right-hand side and the left-hand side of Equation 1 from Patterson (1956)\n",
    "    \n",
    "    '''\n",
    "    lambda_235 = 9.72e-10     # Decay constant of U-235 in yr^-1\n",
    "    lambda_238 = 1.537e-10    # Decay constant of U-235 in yr^-1\n",
    "    k = 137.8                 # U-238 / U-235 today\n",
    "    difference = (np.exp(lambda_235*age) - 1) / (k * (np.exp(lambda_238*age) - 1)) - reference_slope\n",
    "    return difference"
   ]
  },
  {
   "cell_type": "code",
   "execution_count": 14,
   "metadata": {},
   "outputs": [],
   "source": [
    "# Set these parameter to appropriate values ONLY when the age of the Earth makes no sense (e.g. -5 years)\n",
    "age_lower = 1e1       # The lower bound for the bracket (unit: year)\n",
    "age_upper = 14e9      # The upper bound for the bracket (unit: year)\n",
    "\n",
    "# Determine the age of the Earth\n",
    "sol = optimize.root_scalar(get_difference, args=fit_slope, bracket=[age_lower, age_upper], method='brentq')"
   ]
  },
  {
   "cell_type": "markdown",
   "metadata": {},
   "source": [
    "**Answer**:"
   ]
  },
  {
   "cell_type": "code",
   "execution_count": 15,
   "metadata": {
    "tags": []
   },
   "outputs": [
    {
     "name": "stdout",
     "output_type": "stream",
     "text": [
      "The Earth is 4.582e+09 years old.\n"
     ]
    }
   ],
   "source": [
    "# Display the age of the Earth in years\n",
    "print(\"The Earth is %.4g years old.\"%sol.root)"
   ]
  },
  {
   "cell_type": "markdown",
   "metadata": {},
   "source": [
    "**Question 2**. How does Patterson justify that the age of Earth is the same as the meteorites’ ?"
   ]
  },
  {
   "cell_type": "markdown",
   "metadata": {},
   "source": [
    "**Answer**:"
   ]
  },
  {
   "cell_type": "markdown",
   "metadata": {},
   "source": [
    "<div style=\"color:red\">\n",
    "Patterson shows that lead isotope measurements of ocean sediment and galena from Earth \n",
    "also fall upon the same isochron defined by the meteorites. He asserts that the simplest \n",
    "explanation for this agreement is that both Earth and the meteorites were formed at the same \n",
    "time from the same “primordial lead.” Essentially, Earth is one more big meteorite that falls \n",
    "on the same isochron. \n",
    "</div>"
   ]
  },
  {
   "cell_type": "markdown",
   "metadata": {},
   "source": [
    "**Question 3**. What are the three assumptions that need to be met in order for an isochron to be meaningful? Do you think this is met for Patterson’s meteorites? (You may answer this qualitatively.)"
   ]
  },
  {
   "cell_type": "markdown",
   "metadata": {},
   "source": [
    "**Answer**:"
   ]
  },
  {
   "cell_type": "markdown",
   "metadata": {},
   "source": [
    "<div style=\"color:red\">\n",
    "The three assumptions are\n",
    "    <li> All samples are the same age. </li>\n",
    "    <li> All samples have the same initial composition of the daughter isotope (e.g., 207Pb/204Pb, 206Pb/204Pb, 87Sr/86Sr, etc.). </li>\n",
    "    <li> The chemical evolution of the samples took place in a closed system. That is, no parent (e.g., 235U or 238U) or daughter (e.g., 207Pb or 206Pb) isotopes have been added or lost from the samples between the time of formation and the present day. The amount of parent and daughter isotopes within the samples have only changed due to radioactive decay.  </li>\n",
    "<br> \n",
    "    The main line of evidence here is that the data fall along a line in isochron space. If any of the above assumptions were to be violated, the data would fall off of the isochron line. Additionally, since Patterson uses lead-lead dating, which uses two different decay systems (235U $\\rightarrow$ 207Pb & 238U $\\rightarrow$ 206Pb), we have even stronger evidence that none of the above assumptions are violated.\n",
    "    </div>\n"
   ]
  }
 ],
 "metadata": {
  "kernelspec": {
   "display_name": "Python 3 (ipykernel)",
   "language": "python",
   "name": "python3"
  },
  "language_info": {
   "codemirror_mode": {
    "name": "ipython",
    "version": 3
   },
   "file_extension": ".py",
   "mimetype": "text/x-python",
   "name": "python",
   "nbconvert_exporter": "python",
   "pygments_lexer": "ipython3",
   "version": "3.9.12"
  }
 },
 "nbformat": 4,
 "nbformat_minor": 4
}

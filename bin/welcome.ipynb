{
 "cells": [
  {
   "cell_type": "markdown",
   "metadata": {},
   "source": [
    "# Fundamentals of Solid Earth Science\n",
    "<br>\n",
    "\n",
    "**Designed by [Raj Moulik](https://rajmoulik.com) // Maintained by [Global Seismology](https://globalseismology.org)**\n",
    "\n",
    "**Courtesy [AVNI](http://avni.globalseismology.org) software ecosystem // Powered by [Jupyter](https://jupyter.org)**  \n",
    "\n",
    "This website hosts the interactive book, *Fundamentals of Solid Earth Science*, which offers an introduction to a smorgasbord of introductory topics using the Python programming language. The content is specifically designed for people interested in geoscience education using some of the latest computational tools. This website is part of the software ecosystem called **A**nalysis and **V**isualization toolkit for pla**N**etary **I**nferences (or **AVNI**), which provides free web-based and backend code access to tools, techniques, models and data related to global solid Earth geosciences.\n",
    "\n",
    "**Quick Links**  \n",
    "- [Example: Intro Lecture](Lectures/Lecture1_2022_CourseOverview_Earth-as-a-natural-system.ipynb)\n",
    "- [Example: Geophysical Field Trip](Field_Trip_Geophysics/Field_Geophysics.ipynb)\n",
    "- [Example: Problem Set on Plate Tectonics](PS_Plate_Tectonics/Plate_Tectonics.ipynb)\n",
    "- [Overview, Logistics and Policies](Overview-Logistics-Policies.ipynb)\n",
    "- [Syllabus and Required Readings](docs/Admin/Syllabus_Readings.ipynb)\n",
    "\n",
    "<img src=\"images/logo/logo_avni_color.png\" alt=\"drawing\" width=\"30%\"/>\n",
    "\n",
    "<img src=\"images/Field_Trip_Geophysics.png\" alt=\"drawing\" width=\"80%\"/>\n",
    "\n",
    "*Students use their smartphones with hockey sticks and a wooden dump truck to find and characterize a magnetic dike (Oct, 2022). See Teachable Moments on Data and Signal Processing in [this notebook](Field_Trip_Geophysics/Field_Geophysics.ipynb).*\n",
    "\n",
    "**What is Solid Earth Science?**  \n",
    "\n",
    "This book provides a quantitative introduction to the geosciences, focusing on the *physical*, *chemical*, and *biological* processes that created and continually influence the habitable conditions on our planet. Earth’s biosphere, atmosphere, ocean, cryosphere, surface & interior form a coupled system, interacting through processes that operate over a wide range of spatial & temporal scales. Various physical, chemical & biological processes, such as meteorite impacts, glaciation & erosion, erase the geological memory of Earth’s outermost layers. The solid interior, in contrast, harbors the long-term memory of transformations that shape our planet. These include accretion & the evolution of the crust, mantle & core through differentiation, plate tectonics, climate change & anthropogenic forcing. Human interactions with the solid interior include extraction of natural resources and engineering to mitigate the effects of environmental risks and disasters. We will end with the evolution of life and climate, long-term transformations that are either recorded by or have feedbacks with the solid Earth.\n",
    "\n",
    "**Learn to tackle the 'Big Questions'...**\n",
    "\n",
    "<img src=\"docs/Big_Questions.png\" alt=\"drawing\" width=\"40%\"/> <img src=\"docs/Pedagogy.png\" alt=\"drawing\" width=\"40%\"/>\n",
    "\n",
    "\n",
    "**Interactive Code <i class=\"fa fa-rocket\" aria-hidden=\"true\"></i>**  \n",
    "\n",
    "You will learn how to modify and leverage our Python code to solve real-world problems. The course **does not require prior programming experience**. By the end of it, you would have seen the power of learning this new language of modern computing!\n",
    "\n",
    "<img src=\"docs/Course_Toolkit.png\" alt=\"drawing\" width=\"40%\"/>\n",
    "\n",
    "This book's pages contain Python code that can be opened and run in a web browser without any prior installation or configuration. Click the launch button <i class=\"fa fa-rocket\" aria-hidden=\"true\"></i> in the top right corner of any page to open and play with the code. See {doc}`How To Interact With This Book <How-To-Interact-With-This-Book>` for more information.\n",
    "\n",
    "**Acknowledgements**  \n",
    "\n",
    "A project like this one is a culmination of feedback and input from several excellent colleagues and organizations. Some of them are listed in the {doc}`Acknowledgements <Acknowledgements>`. \n",
    "\n",
    "**Feedback**  \n",
    "\n",
    "This is an evolving document so please send [Raj Moulik](mailto:moulik@princeton.edu?cc=moulik@caa.columbia.edu) or the [AVNI Administrators](mailto:avni@globalseismology.org) any constructive feedback or suggestions. \n",
    "\n",
    "**Suggested Citation**\n",
    "\n",
    "> Moulik, P., *AVNI Course: Fundamentals of Solid Earth Science*, Version 1.0 (2022), [https://portal.globalseismology.org/courses/solid-earth-fundamentals](https://portal.globalseismology.org/courses/solid-earth-fundamentals)"
   ]
  }
 ],
 "metadata": {
  "kernelspec": {
   "display_name": "Python 3 (ipykernel)",
   "language": "python",
   "name": "python3"
  },
  "language_info": {
   "codemirror_mode": {
    "name": "ipython",
    "version": 3
   },
   "file_extension": ".py",
   "mimetype": "text/x-python",
   "name": "python",
   "nbconvert_exporter": "python",
   "pygments_lexer": "ipython3",
   "version": "3.9.12"
  }
 },
 "nbformat": 4,
 "nbformat_minor": 4
}

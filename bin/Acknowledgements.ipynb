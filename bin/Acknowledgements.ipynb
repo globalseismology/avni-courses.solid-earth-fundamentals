{
 "cells": [
  {
   "cell_type": "markdown",
   "metadata": {},
   "source": [
    "# Acknowledgments\n",
    "\n",
    "* The execution of the content in Jupyter was done with the assistance of excellent teaching assistants. Sirawich (Pete) Pipatprathanporn converted several problem sets into Jupyter notebooks, performed quality control checks, and contributed towards their content. \n",
    "\n",
    "* This course was inspired by a range of excellent course materials, including those by Goran Ekstrom, Ben Holtzman, Chris Scholz, Meredith Nettles, Jennifer Jackson and Allan Rubin. Field components were inspired by conversations with Frederik Simons, Vadim Levin, Adam Maloof, Lucas Sawade and Forrest Meggers. We are grateful to Satish Myneni, Tom Duffy, and Christopher Hayes for additional discussions and feedback. \n",
    "\n",
    "* The GeoExchange site visit was facilitated by [Office of Sustainability of Princeton University](https://sustain.princeton.edu) and [The Whiting-Turner Contracting Company](www.whiting-turner.com). Data and pictures for the GeoExchange problem set were inspired by content originally written by Ted Borer. Laurel Goodell contributed the geology field trip guide for outcrops near Princeton and suggested modifications. \n",
    "\n",
    "* Ideas on using Jupyter for this course were inspired by the use of Python in other fields, such as by [Lauren Klein](https://github.com/laurenfklein/emory-qtm340) and [Melanie Walsh](https://melaniewalsh.github.io/Intro-Cultural-Analytics/welcome.html).  \n",
    "\n",
    "* These materials were originally created to support *Fundamentals of Solid Earth Science*, an undergraduate course taught at [Princeton University](https://princeton.edu).\n",
    "\n",
    "* Funded by the [National Science Foundation](http://nsf.gov) and the [Computational Infrastructure for Geodynamics](http://geodynamics.org). Computational resources maintained by Princeton University accessible through the [AVNI website](http://avni.globalseismology.org). We thank the system administrators, David Luet, Ryan Fedon and Josko Plazonic, for assistance.\n",
    "\n",
    "<img src=\"images/logo/NSF.png\" width=\"100\"> &nbsp; &nbsp; &nbsp; &nbsp; <img src=\"images/logo/CIG_logo.png\" width=\"200\"> &nbsp; &nbsp; &nbsp; &nbsp; <img src=\"images/logo/PU-standard.png\" width=\"325\">\n"
   ]
  }
 ],
 "metadata": {
  "kernelspec": {
   "display_name": "Python 3 (ipykernel)",
   "language": "python",
   "name": "python3"
  },
  "language_info": {
   "codemirror_mode": {
    "name": "ipython",
    "version": 3
   },
   "file_extension": ".py",
   "mimetype": "text/x-python",
   "name": "python",
   "nbconvert_exporter": "python",
   "pygments_lexer": "ipython3",
   "version": "3.9.12"
  }
 },
 "nbformat": 4,
 "nbformat_minor": 4
}

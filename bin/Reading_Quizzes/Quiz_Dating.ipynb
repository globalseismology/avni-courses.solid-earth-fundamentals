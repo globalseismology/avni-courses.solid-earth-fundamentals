{
 "cells": [
  {
   "cell_type": "markdown",
   "metadata": {},
   "source": [
    "# Quiz: Dating\n",
    "\n",
    "IN THE SPACE BELOW, WRITE OUT IN FULL AND THEN SIGN THE HONOR PLEDGE:\n",
    "\n",
    "“I pledge my honor that I have not violated the honor code during this examination.”\n",
    "\n",
    "**PRINT NAME**:\n",
    "\n",
    "By uploading this assignment through Canvas, I sign off on the document below electronically.\n",
    "\n",
    "----"
   ]
  },
  {
   "cell_type": "markdown",
   "metadata": {},
   "source": [
    "## Instructions\n",
    "\n",
    "This is an open book, open notes quiz to be done independently, on your own.  But it is not open Internet - on your honor, you are not permitted to \"Google\" for answers.\n",
    "\n",
    "Unless otherwise indicated the multiple choice questions have only one correct answer. Once started, you have 20 minutes to finish.\n",
    "\n",
    "When done, click **Submit Quiz** at the bottom of the page.  Note that by submitting this quiz, you are acknowledging the following statement:\n",
    "\n",
    "       “I pledge my honor that I have not violated the honor code during this examination.”\n",
    "Please tick your choice(s) from the list of options provided.  Note that <u>several choices may be correct</u>, so tick all choices you think are appropriate.\n",
    "\n",
    "----"
   ]
  },
  {
   "cell_type": "markdown",
   "metadata": {},
   "source": [
    "Q1. The photo below shows a bedrock exposure of two sedimentary units, A and B, and the overlying modern soil and vegetation that overly them.  The white dashed line is the contact between the two units.  Which is the older unit?\n",
    "\n",
    "<img src=\"images/TaconicUnconf-2.jpeg\" alt=\"drawing\" width=\"60%\"/>\n",
    "\n",
    "1. A\n",
    "2. <font color='green'>B</font>"
   ]
  },
  {
   "cell_type": "markdown",
   "metadata": {},
   "source": [
    "Q2. In a few sentences, justify your response to the question above."
   ]
  },
  {
   "cell_type": "markdown",
   "metadata": {},
   "source": [
    "Q3. The contact between units A and B most likely represents which type of structure?\n",
    "  1. <font color='green'>Unconformity</font>\n",
    "  2. Normal fault\n",
    "  3. <font color='green'>Reverse fault</font>\n",
    "  4. Strike-slip fault"
   ]
  },
  {
   "cell_type": "markdown",
   "metadata": {},
   "source": [
    "Q4. In list form below, create a generalized, relative sequence of events that could have resulted in the outcrop as we see it today.  Your list should include only the following components, but \"Deformation event\" and \"Erosion\" may be used more than once.  Make it clear whether you list goes from youngest to oldest, or oldest to youngest.\n",
    "\n",
    "- Formation of Unit A\n",
    "\n",
    "- Formation of Unit B\n",
    "\n",
    "- Deformation event (maybe used more than once)\n",
    "\n",
    "- Erosion (may be used more than once)"
   ]
  },
  {
   "cell_type": "markdown",
   "metadata": {},
   "source": [
    "Q5. In the 1800s, Lord Kelvin estimated the age of the Earth, utilizing a number of assumptions. Which wrong assumption was the primary reason why his estimate (of approximately 20 million years) was so wildly inaccurate?\n",
    "  1. That the Earth was once hotter than it presently is today.\n",
    "  2. That the Earth may have been molten when first formed.\n",
    "  3. <font color='green'>That no new heat has been added to the Earth since its initial formation.</font>  \n",
    "  4. That the Earth would lose heat over time through radiation into outer space."
   ]
  },
  {
   "cell_type": "markdown",
   "metadata": {},
   "source": [
    "Q6. What is the difference between a rock with a clastic texture and rock with a a crystalline texture?\n",
    "  1. A clastic rock contains rounded grains held together by a cementing material, whereas a crystalline rock contains angular grains held together with cement.\n",
    "  2. A clastic rock contains grains formed by chemical precipitation, whereas crystalline rocks contain grains formed by erosion of pre-existing rocks.\n",
    "  3. A clastic rock contains grains held together by their interlocking ground boundaries, whereas a crystalline rock contains grains held by cement.\n",
    "  4. <font color='green'>A clastic rock contains grains held together by cement, whereas a crystalline rock contain grains held together by their interlocking grain boundaries.</font>"
   ]
  },
  {
   "cell_type": "markdown",
   "metadata": {},
   "source": [
    "Q7. How much of a radioactive parent isotope will remain after three half-lives have passed?\n",
    "  1. three-halves\n",
    "  2. three-quarters \n",
    "  3. one-third \n",
    "  4. <font color='green'>one-eighth</font>   "
   ]
  },
  {
   "cell_type": "markdown",
   "metadata": {},
   "source": [
    "Q8. The closure temperature of a system represents the point when:\n",
    "  1. a magma cools to the point where minerals begin to crystallize. \n",
    "  2. radioactive isotopes begin to decay. \n",
    "  3. <font color='green'>isotopes are no longer free to move out of a crystal lattice.</font>  \n",
    "  4. the last remaining magma crystallizes. "
   ]
  },
  {
   "cell_type": "markdown",
   "metadata": {},
   "source": [
    "Q9. Which of these properly illustrates the principle of isostasy?\n",
    "  1. <font color='green'>Mountains stand high because they are gravitationally balanced by their deep crustal roots.</font> \n",
    "  2. When weight is added to the crust, the crust responds by rebounding upward.\n",
    "  3. High-density crust floats on top of low-density mantle. \n",
    "  4. When material is removed from the crust, the crust maintains the new, lower elevation.  "
   ]
  },
  {
   "cell_type": "markdown",
   "metadata": {},
   "source": [
    "Q10. What is the primary reason why mountains substantially taller than Mt. Everest are unlikely to arise on the Earth?\n",
    "\n",
    "  1. Exhumation proceeds faster than uplift. \n",
    "  2. <font color='green'>The high geothermal gradient in the crust causes mountains to collapse under their own weight.</font>\n",
    "  3. Extreme elevations cause chemical weathering to outpace uplift. \n",
    "  4. Uplift is limited by the rate of subduction. "
   ]
  },
  {
   "cell_type": "markdown",
   "metadata": {},
   "source": [
    "Q11. Normal faulting is most often associated with mountain building along __ boundaries, whereas reverse faulting is typically observed at __ boundaries.\n",
    "\n",
    "  1. divergent; transform \n",
    "  2. transform; convergent \n",
    "  3. convergent; divergent \n",
    "  4. <font color='green'>divergent; convergent</font> "
   ]
  },
  {
   "cell_type": "markdown",
   "metadata": {},
   "source": [
    "Q12. Both the Appalachian Mountains and the Rocky Mountains are comples zones of faulting and folding.  However, compared to the rugged Rocky Mountains, the Appalachian Mountains are a series of gently sloping hills.  Why?\n",
    "\n",
    "  1. The Appalachian formed under divergent tectonics associated with mid-Atlantic ridge. \n",
    "  2. The lithosphere under the Appalachains is thinner and weaker and thus cannot support the load. \n",
    "  3. Because of the wetter climate in the east, erosion is much faster than in the western US. \n",
    "  4. <font color='green'>The Appalachian Moutains are much older than the Rockies.</font> "
   ]
  }
 ],
 "metadata": {
  "kernelspec": {
   "display_name": "Python 3 (ipykernel)",
   "language": "python",
   "name": "python3"
  },
  "language_info": {
   "codemirror_mode": {
    "name": "ipython",
    "version": 3
   },
   "file_extension": ".py",
   "mimetype": "text/x-python",
   "name": "python",
   "nbconvert_exporter": "python",
   "pygments_lexer": "ipython3",
   "version": "3.9.12"
  }
 },
 "nbformat": 4,
 "nbformat_minor": 4
}

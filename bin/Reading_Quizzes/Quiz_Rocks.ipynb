{
 "cells": [
  {
   "cell_type": "markdown",
   "metadata": {},
   "source": [
    "# Quiz: Rocks\n",
    "\n",
    "IN THE SPACE BELOW, WRITE OUT IN FULL AND THEN SIGN THE HONOR PLEDGE:\n",
    "\n",
    "“I pledge my honor that I have not violated the honor code during this examination.”\n",
    "\n",
    "**PRINT NAME**:\n",
    "\n",
    "By uploading this assignment through Canvas, I sign off on the document below electronically.\n",
    "\n",
    "----"
   ]
  },
  {
   "cell_type": "markdown",
   "metadata": {},
   "source": [
    "## Instructions\n",
    "\n",
    "This is an open book, open notes quiz to be done independently, on your own.  But it is not open Internet - on your honor, you are not permitted to \"Google\" for answers.\n",
    "\n",
    "Unless otherwise indicated the multiple choice questions have only one correct answer. Once started, you have 20 minutes to finish.\n",
    "\n",
    "When done, click **Submit Quiz** at the bottom of the page.  Note that by submitting this quiz, you are acknowledging the following statement:\n",
    "\n",
    "       “I pledge my honor that I have not violated the honor code during this examination.”\n",
    "Please tick your choice(s) from the list of options provided.  Note that <u>several choices may be correct</u>, so tick all choices you think are appropriate.\n",
    "\n",
    "----"
   ]
  },
  {
   "cell_type": "markdown",
   "metadata": {},
   "source": [
    "Q1. Which of the following determines the composition of a magma? Check all that apply.\n",
    "1. <font color='green'>The degree of partial melting of the rocks that melt to form the magma</font>\n",
    "2. <font color='green'>The composition of the rocks that melt to form the magma</font>\n",
    "3. The age of the rocks that melt to form the magma\n",
    "4. Whether the melting occurs close to Earth's surface or at depth"
   ]
  },
  {
   "cell_type": "markdown",
   "metadata": {},
   "source": [
    "Q2. How do intrusive and extrusive igneous rocks differ? Check all that apply.\n",
    "  1. <font color='green'>Intrusive igneous rocks have larger grains than extrusive igneous rocks.</font>\n",
    "  2. Intrusive igneous rocks have smaller grains than extrusive igneous rocks.\n",
    "  3. Intrusive igneous rocks are more felsic than extrusive igneous rocks.\n",
    "  4. Intrusive igneous rocks are more mafic than extrusive igneous rocks.\n",
    "  5. Intrusive igneous rocks cool more quickly than extrusive igneous rocks.\n",
    "  6. <font color='green'>Intrusive igneous rocks cool more slowly than extusive igneous rocks.</font>"
   ]
  },
  {
   "cell_type": "markdown",
   "metadata": {},
   "source": [
    "Q3. Viscosity of a magma depends on which of the following. Check all that apply.\n",
    "  1. <font color='green'>temperature</font>\n",
    "  2. <font color='green'>iron/magnesium content</font>\n",
    "  3. <font color='green'>silica content</font>\n",
    "  4. volume of the magma body "
   ]
  },
  {
   "cell_type": "markdown",
   "metadata": {},
   "source": [
    "Q4. In which tectonic settings would you expect to generate basaltic magma?  Check all that apply.\n",
    "\n",
    "<img src=\"images/tectonics.jpeg\" alt=\"drawing\" width=\"60%\"/>\n",
    "\n",
    "  1. island arc above a subducting plate \n",
    "  2. <font color='green'>shield volcano above an oceanic hot spot</font> \n",
    "  3. <font color='green'>oceanic spreading ridge</font>\n",
    "  4. above a subducting plate in an oceanic plate/continental crust above a subducting plate\n",
    "  5. continental rift "
   ]
  },
  {
   "cell_type": "markdown",
   "metadata": {},
   "source": [
    "Q5. The process of fractional crystallization results in a residual magma that is:\n",
    "  1. depleted in silica, compared to the parent magma.\n",
    "  2. <font color='green'>enriched in silica, compared to the parent magma.</font>  \n",
    "  3. the same composition as the parent magma."
   ]
  },
  {
   "cell_type": "markdown",
   "metadata": {},
   "source": [
    "Q6. What is the difference between a rock with a clastic texture and rock with a a crystalline texture?\n",
    "  1. A clastic rock contains rounded grains held together by a cementing material, whereas a crystalline rock contains angular grains held together with cement.\n",
    "  2. A clastic rock contains grains formed by chemical precipitation, whereas crystalline rocks contain grains formed by erosion of pre-existing rocks.\n",
    "  3. A clastic rock contains grains held together by their interlocking ground boundaries, whereas a crystalline rock contains grains held by cement.\n",
    "  4. <font color='green'>A clastic rock contains grains held together by cement, whereas a crystalline rock contain grains held together by their interlocking grain boundaries.</font>"
   ]
  },
  {
   "cell_type": "markdown",
   "metadata": {},
   "source": [
    "Q7. Order the steps that go into making a sedimentary rock from 1 (first step) to 5 (final step).\n",
    "  1. erosion \n",
    "  2. cementation\n",
    "  3. transportation\n",
    "  4. weathering\n",
    "  5. deposition\n",
    "  \n",
    "*Note*: Correct order is <font color='green'>2,5,3,1,4</font>"
   ]
  },
  {
   "cell_type": "markdown",
   "metadata": {},
   "source": [
    "Q8. Metamorphism typically involves which of the following processes?\n",
    "  1. <font color='green'>Solid state recrystallization</font>\n",
    "  2. Fractional crystallization \n",
    "  3. Partial melting"
   ]
  },
  {
   "cell_type": "markdown",
   "metadata": {},
   "source": [
    "Q9. In a few sentences, in your own words, describe how sedimentary layering (bedding) is formed."
   ]
  },
  {
   "cell_type": "markdown",
   "metadata": {},
   "source": [
    "Q10. In a few sentences, in your own words, describe how metamorphic layering (foliation) is formed."
   ]
  }
 ],
 "metadata": {
  "kernelspec": {
   "display_name": "Python 3 (ipykernel)",
   "language": "python",
   "name": "python3"
  },
  "language_info": {
   "codemirror_mode": {
    "name": "ipython",
    "version": 3
   },
   "file_extension": ".py",
   "mimetype": "text/x-python",
   "name": "python",
   "nbconvert_exporter": "python",
   "pygments_lexer": "ipython3",
   "version": "3.9.12"
  }
 },
 "nbformat": 4,
 "nbformat_minor": 4
}

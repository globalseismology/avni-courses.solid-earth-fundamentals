{
 "cells": [
  {
   "cell_type": "markdown",
   "metadata": {},
   "source": [
    "# Quiz: Minerals\n",
    "\n",
    "IN THE SPACE BELOW, WRITE OUT IN FULL AND THEN SIGN THE HONOR PLEDGE:\n",
    "\n",
    "“I pledge my honor that I have not violated the honor code during this examination.”\n",
    "\n",
    "**PRINT NAME**:\n",
    "\n",
    "By uploading this assignment through Canvas, I sign off on the document below electronically.\n",
    "\n",
    "----"
   ]
  },
  {
   "cell_type": "markdown",
   "metadata": {},
   "source": [
    "## Instructions\n",
    "\n",
    "This is an open book, open notes quiz to be done independently, on your own.  But it is not open Internet - on your honor, you are not permitted to \"Google\" for answers.\n",
    "\n",
    "Unless otherwise indicated the multiple choice questions have only one correct answer. Once started, you have 20 minutes to finish.\n",
    "\n",
    "When done, click **Submit Quiz** at the bottom of the page.  Note that by submitting this quiz, you are acknowledging the following statement:\n",
    "\n",
    "       “I pledge my honor that I have not violated the honor code during this examination.”\n",
    "Please tick your choice(s) from the list of options provided.  Note that <u>several choices may be correct</u>, so tick all choices you think are appropriate.\n",
    "\n",
    "----"
   ]
  },
  {
   "cell_type": "markdown",
   "metadata": {},
   "source": [
    "Q1. Which mineral class is most common in the Earth's continental crust?\n",
    "\n",
    "1. Halides\n",
    "2. <font color='green'>Silicates</font>\n",
    "3. Sulfates\n",
    "4. Native Metals"
   ]
  },
  {
   "cell_type": "markdown",
   "metadata": {},
   "source": [
    "Q2. Which of the following statements is true about the **silica tetrahedron**?  Check all that apply.\n",
    "  1. It is deficient in electrons i.e. it is a cation \n",
    "  2. <font color='green'>It has extra electrons i.e. it is an anion</font>\n",
    "  3. Silicate minerals can form by sharing the Silicon atom\n",
    "  4. <font color='green'>Silicate minerals can form by sharing the Oxygen atom(s)</font> "
   ]
  },
  {
   "cell_type": "markdown",
   "metadata": {},
   "source": [
    "Q3. Diamond and graphite, both made purely of carbon atoms, can sit next to each other in your cupboard without reacting during your lifetime. Which **statement on thermodynamics** explains this observation? \n",
    "  1. Crystalline structure of diamond is arranged in tetrahedra, a more stable form in the deep interior\n",
    "  2. Graphite and Diamond do not react because the types of carbon bonds are different \n",
    "  3. <font color='green'>Diamond is metastable at the pressure-temperature conditions on the Earth's surface</font>\n",
    "  4. Graphite has a lower 'chemical energy' on the Earth's surface "
   ]
  },
  {
   "cell_type": "markdown",
   "metadata": {},
   "source": [
    "Q4. Icebergs float even though ice is the solid form of water since it is less dense. In other words, while entropy increases from ice (solid) to water (liquid) like most substances, volume surprisingly decreases from ice to water. Which feature of the phase diagram below results from this unique feature of water?\n",
    "\n",
    "<img src=\"images/water_triple_point.png\" alt=\"drawing\" width=\"60%\"/>\n",
    "\n",
    "  1. Freezing point on the Earth's surface (1 atm) is lower than the boiling point \n",
    "  2. There is a triple point where all three phases exist \n",
    "  3. There is a critical point of temperature, beyond which no amount of pressure can perform the conversion \n",
    "  3. <font color='green'>The Clapeyron slope (dP/dT=dS/dV) of the transition is negative (A-B-D curve) </font>"
   ]
  },
  {
   "cell_type": "markdown",
   "metadata": {},
   "source": [
    "Q5. Which statement can be used to decide if a given natural process *should* be spontaneous?\n",
    "  1. Entropy always increases in a spontaneous process.\n",
    "  2. <font color='green'>The Gibbs Energy always decreases in a spontaneous process.</font>  \n",
    "  3. The enthalpy change from reactants to products is positive, i.e. an exothermic process.\n",
    "  4. There is an increase in the internal energy stored by the system when applied pressure causes a change in volume."
   ]
  },
  {
   "cell_type": "markdown",
   "metadata": {},
   "source": [
    "Q6. Which of the following type of melting best explains the processes in the subducting plate that results  in arc volcanoes? \n",
    "  1. decompression melting \n",
    "  2. <font color='green'>flux melting</font>\n",
    "  3. heat-tranfer melting"
   ]
  },
  {
   "cell_type": "markdown",
   "metadata": {},
   "source": [
    "Q7. On what factor does the texture, or the grain/crystal size distribution, of igneous rocks primarily depend on?\n",
    "  1. Initial magma temperatures \n",
    "  2. <font color='green'>Cooling rate</font>\n",
    "  3. Pressure of magma chamber\n",
    "  4. Magma composition"
   ]
  },
  {
   "cell_type": "markdown",
   "metadata": {},
   "source": [
    "Q8. What type of igneous activity are Columbia River Basalts and Deccan Plateau typical examples of?\n",
    "  1. Hotspot volcanism \n",
    "  2. Volcanic arc \n",
    "  3. <font color='green'>Large Igneous Province</font>\n",
    "  4. Mid-ocean ridge volcanism"
   ]
  }
 ],
 "metadata": {
  "kernelspec": {
   "display_name": "Python 3 (ipykernel)",
   "language": "python",
   "name": "python3"
  },
  "language_info": {
   "codemirror_mode": {
    "name": "ipython",
    "version": 3
   },
   "file_extension": ".py",
   "mimetype": "text/x-python",
   "name": "python",
   "nbconvert_exporter": "python",
   "pygments_lexer": "ipython3",
   "version": "3.9.12"
  }
 },
 "nbformat": 4,
 "nbformat_minor": 4
}

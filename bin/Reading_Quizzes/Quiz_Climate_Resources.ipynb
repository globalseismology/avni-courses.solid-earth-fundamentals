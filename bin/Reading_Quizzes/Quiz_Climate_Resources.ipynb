{
 "cells": [
  {
   "cell_type": "markdown",
   "metadata": {},
   "source": [
    "# Quiz: Climate and Natural Resources\n",
    "\n",
    "IN THE SPACE BELOW, WRITE OUT IN FULL AND THEN SIGN THE HONOR PLEDGE:\n",
    "\n",
    "“I pledge my honor that I have not violated the honor code during this examination.”\n",
    "\n",
    "**PRINT NAME**:\n",
    "\n",
    "By uploading this assignment through Canvas, I sign off on the document below electronically.\n",
    "\n",
    "----"
   ]
  },
  {
   "cell_type": "markdown",
   "metadata": {},
   "source": [
    "## Instructions\n",
    "\n",
    "This is an open book, open notes quiz to be done independently, on your own.  But it is not open Internet - on your honor, you are not permitted to \"Google\" for answers.\n",
    "\n",
    "Unless otherwise indicated the multiple choice questions have only one correct answer. Once started, you have 20 minutes to finish.\n",
    "\n",
    "When done, click **Submit Quiz** at the bottom of the page.  Note that by submitting this quiz, you are acknowledging the following statement:\n",
    "\n",
    "       “I pledge my honor that I have not violated the honor code during this examination.”\n",
    "Please tick your choice(s) from the list of options provided.  Note that <u>several choices may be correct</u>, so tick all choices you think are appropriate.\n",
    "\n",
    "----"
   ]
  },
  {
   "cell_type": "markdown",
   "metadata": {},
   "source": [
    "Q1. Where does the energy stored in fossil fuel come from?\n",
    "  1. photosynthesis \n",
    "  2. <font color='green'>the Sun</font>\n",
    "  3. combustion \n",
    "  4. Earth's internal heat "
   ]
  },
  {
   "cell_type": "markdown",
   "metadata": {},
   "source": [
    "Q2. To be commercially viable, an oil deposit must have which of the following characteristics?  (Check all that apply.)\n",
    "\n",
    "  1. A fracture system connecting the reservoir rock to the surface of the Earth. \n",
    "  2. A high geothermal gradient that heats the oil and gives it buoyancy \n",
    "  3. <font color='green'>A trap that denies the oil passage to the surface</font> \n",
    "  4. Resevoir rock of low permeability \n",
    "  5. <font color='green'>Resevoir rock of high porosity</font> "
   ]
  },
  {
   "cell_type": "markdown",
   "metadata": {},
   "source": [
    "Q3. How does physical weathering affect the process of chemical weathering?\n",
    " \n",
    "  1. Physical weathering includes salt wedging, which provides the salt needed for chemical weathering.\n",
    "  2. Physical weathering provides the water required by chemical weathering.\n",
    "  3. Physical weathering inhibits chemical weathering by making particles too small for chemical weathering to attack.  \n",
    "  4. <font color='green'>Physical weathering produces more surface area for chemical weathering to attack.</font>"
   ]
  },
  {
   "cell_type": "markdown",
   "metadata": {},
   "source": [
    "Q4. How does chemical weathering effect the amount of CO<sub>2</sub> in the atmosphere? Check all that apply.\n",
    "\n",
    "  1. Chemical weathering of surface rocks inhibits the growth of vegetation, increasing the CO<sub>2</sub> concentration in the atmosphere.\n",
    "  2. <font color='green'>Chemical weathering of surface rocks produces ions which end up in the ocean and form limestone, removing CO<sub>2</sub> from the atmosphere.</font>  \n",
    "  3. <font color='green'>Chemical weathering of surface rock consumes CO<sub>2</sub>, decreasing its concentration in the atmosphere.</font>   \n",
    "  4. Chemical weathering of surface rocks releases CO<sub>2</sub> , increasing its concentration in the atmosphere."
   ]
  },
  {
   "cell_type": "markdown",
   "metadata": {},
   "source": [
    "Q5. Which of the following is an example of unidirectional change in an Earth system?  Check all that apply.\n",
    "\n",
    "  1. Supercontinent formation and breakup \n",
    "  2. <font color='green'>Differentiation of Earth into layers</font> \n",
    "  3. Onset of an ice age \n",
    "  4. <font color='green'>Formation of Earth's atmosphere</font>\n",
    "  5. Exchange of chemicals between landmasses and the oceans "
   ]
  },
  {
   "cell_type": "markdown",
   "metadata": {},
   "source": [
    "Q6. What is the primary reason Venus is so much hotter than Earth?\n",
    "\n",
    "  1. Venus is closer to the Sun.\n",
    "  2. Venus has no oceans, which would reflect a significant portion of the Sun's energy back into space\n",
    "  3. <font color='green'>Venus' thick atmosphere traps more infrared radiation.</font>\n",
    "  4. Venus' thick atmosphere absorbs more solar radiation."
   ]
  },
  {
   "cell_type": "markdown",
   "metadata": {},
   "source": [
    "Q7. How do greenhouse gasses increase Earth's temperature?\n",
    "  1. <font color='green'>They inhibit escape of long wavelength (infrared) radiation emitted from the earth.</font>  \n",
    "  2. They inhibit escape of long wavelength (infrared) radiation from the Sun. \n",
    "  3. They are preferentially absorbed by the atmosphere, and directly warms it. \n",
    "  4. They are preferentially absorbed by the oceans, which then warms the atmosphere. "
   ]
  },
  {
   "cell_type": "markdown",
   "metadata": {},
   "source": [
    "Q8. Which of the following are drivers of climate change (climate forcers), which are climate responses, and which are neither?  Use the drop down menus to select.\n",
    "\n",
    " - Changes in the amount of glacial ice <font color='green'>Climate response</font>\n",
    " - Changes in plate tectonics <font color='green'>Climate forcer</font>\n",
    " - Changes in convection of Earth's core <font color='green'>Neither</font>\n",
    " - Changes in the strength of the Sun <font color='green'>Climate forcer</font>\n",
    " - Changes in orbital parameters <font color='green'>Climate forcer</font>\n",
    " - Changes in the rate of micro-meteorite impact <font color='green'>Neither</font>\n",
    " - Changes in ocean temperature <font color='green'>Climate response</font>\n",
    " - Changes in atmospheric temperature <font color='green'>Climate response</font>"
   ]
  },
  {
   "cell_type": "markdown",
   "metadata": {},
   "source": [
    "Q9. Using the dropdown menus, indicate whether each of the following is a positive or negative feedback on climate.\n",
    "\n",
    " - Increasing temperature, causing decreased snow and ice cover, causing more absorption of solar radiation. <font color='green'>Positive</font>\n",
    " - Decreasing temperature, causing increased snow and ice cover, causing less absorption of solar radiation. <font color='green'>Positive</font>\n",
    " - Increasing CO2 in the atmosphere, leading to increased vegetation growth and storing of CO2. <font color='green'>Negative</font>\n",
    " - Increased temperature leading to humans developing technology to remove CO2 from the atmosphere. <font color='green'>Negative</font>"
   ]
  },
  {
   "cell_type": "markdown",
   "metadata": {},
   "source": [
    "Q10. In your own words, use a few sentences or short paragraph to describe a way in which plate tectonics can affect climate.  You may choose to focus on one particular aspect of plate tectonics and/or a particular part of the climate system."
   ]
  }
 ],
 "metadata": {
  "kernelspec": {
   "display_name": "Python 3 (ipykernel)",
   "language": "python",
   "name": "python3"
  },
  "language_info": {
   "codemirror_mode": {
    "name": "ipython",
    "version": 3
   },
   "file_extension": ".py",
   "mimetype": "text/x-python",
   "name": "python",
   "nbconvert_exporter": "python",
   "pygments_lexer": "ipython3",
   "version": "3.9.12"
  }
 },
 "nbformat": 4,
 "nbformat_minor": 4
}

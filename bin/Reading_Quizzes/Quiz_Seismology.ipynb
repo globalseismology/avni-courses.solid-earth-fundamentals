{
 "cells": [
  {
   "cell_type": "markdown",
   "metadata": {},
   "source": [
    "# Quiz: Seismology\n",
    "\n",
    "IN THE SPACE BELOW, WRITE OUT IN FULL AND THEN SIGN THE HONOR PLEDGE:\n",
    "\n",
    "“I pledge my honor that I have not violated the honor code during this examination.”\n",
    "\n",
    "**PRINT NAME**:\n",
    "\n",
    "By uploading this assignment through Canvas, I sign off on the document below electronically.\n",
    "\n",
    "----"
   ]
  },
  {
   "cell_type": "markdown",
   "metadata": {},
   "source": [
    "## Instructions\n",
    "\n",
    "This is an open book, open notes quiz to be done independently, on your own.  But it is not open Internet - on your honor, you are not permitted to \"Google\" for answers.\n",
    "\n",
    "Unless otherwise indicated the multiple choice questions have only one correct answer. Once started, you have 20 minutes to finish.\n",
    "\n",
    "When done, click **Submit Quiz** at the bottom of the page.  Note that by submitting this quiz, you are acknowledging the following statement:\n",
    "\n",
    "       “I pledge my honor that I have not violated the honor code during this examination.”\n",
    "Please tick your choice(s) from the list of options provided.  Note that <u>several choices may be correct</u>, so tick all choices you think are appropriate.\n",
    "\n",
    "----"
   ]
  },
  {
   "cell_type": "markdown",
   "metadata": {},
   "source": [
    "Q1. Why does Hooke's law apply for earthquakes?\n",
    "\n",
    "  1. Because earthquakes strain Earth materials beyond their elastic limit \n",
    "Correct Answer\n",
    "  2. <font color='green'>Because of a linear relationship between stress on the fault and the small strains involved</font>\n",
    "  3. Because earthquakes cause permanent strain or deformation around the epicenter \n",
    "  4. Because earthquakes involve inelastic strains and fast strain rates "
   ]
  },
  {
   "cell_type": "markdown",
   "metadata": {},
   "source": [
    "Q2. Which of the following are true about P waves and S-waves (choose all that apply):\n",
    "\n",
    "  1. <font color='green'>P-waves travel faster than S-waves</font>\n",
    "  2. S-waves travel faster than P-waves \n",
    "  3. P-wave particle motion is perpendicular to the wave propagation direction  \n",
    "  4. <font color='green'>P-wave particle motion is parallel to the wave propagation direction</font>  \n",
    "  5. <font color='green'>S-wave particle motion is perpendicular to the wave propagation direction</font>\n",
    "  6. S-wave particle motion is parallel to the wave propagation direction"
   ]
  },
  {
   "cell_type": "markdown",
   "metadata": {},
   "source": [
    "Q3. Which would be more efficient in generating S-waves: an earthquake along a fault or a nuclear bomb blast?  Give your answer and justify it in a sentence or two.\n",
    "\n",
    "*Note*:\n",
    "Tectonic earthquake typically involve shear motion along a fault, in which  the two sides of the fault move sideways against one another.  This is very efficient at generating S-waves which involve motion perpendicular to the wave propagation direction.  Earthquake seismograms typically show weak P-waves and strong S-waves.   Explosions however, involve motion outward/inward from the source in all directions without shear motion.  Explosion seismograms typically show strong P-waves and indistinct S-waves.  See the example below (from the March 2009 issue of Lawrence Livermore Laboratory's Science and Technology Review):\n",
    "\n",
    "<img src=\"images/nuclear_vs_quake.png\" alt=\"drawing\" width=\"75%\"/>"
   ]
  },
  {
   "cell_type": "markdown",
   "metadata": {},
   "source": [
    "Q4. Which of the following directly affects seismic wave velocities? (Check all that apply)\n",
    "\n",
    "  1. Magnitude of the earthquake that produces the eathquake\n",
    "  2. Type of fault that produces the earthquake\n",
    "  3. <font color='green'>Composition of the material the waves travel through</font>   \n",
    "  4. <font color='green'>Temperature of the material that the wave travels through</font>  \n",
    "  5. <font color='green'>Liquid vs. solid nature of the material the wave travels though</font>\n",
    "  6. Whether the earthquake was caused by movement along a fault or an explosion (e.g. nuclear bomb test) "
   ]
  },
  {
   "cell_type": "markdown",
   "metadata": {},
   "source": [
    "Q5. The velocity of body waves can be expressed in terms of the physical properties of the material they are traveling through:\n",
    "\n",
    "density $\\rho$\n",
    "\n",
    "bulk modulus $\\kappa$\n",
    "\n",
    "rigidity (shear) modulus $\\mu$\n",
    "\n",
    "Which of the following is a correct statement of the velocity of P-waves:\n",
    "  1. <font color='green'>$V=\\sqrt{\\frac{(\\kappa+\\frac{4}{3}\\mu)}{\\rho}}$ for P waves, which travel through liquids</font>\n",
    "  2. $V=\\sqrt{\\frac{(\\kappa+\\frac{4}{3}\\mu)}{\\rho}}$ for P waves, which do not travel through liquids\n",
    "  3. $V=\\sqrt{\\frac{\\mu}{\\rho}}$ for P waves, which do travel through liquids\n",
    "  4. $V=\\sqrt{\\frac{\\mu}{\\rho}}$ for P waves, which do not travel through liquids"
   ]
  },
  {
   "cell_type": "markdown",
   "metadata": {},
   "source": [
    "Q6. Why does velocity of seismic waves typically increase with depth?  Check all that apply\n",
    "\n",
    "  1. <font color='green'>Higher pressures increase elastic moduli, and thus materials are stiffer</font>\n",
    "  2. Higher temperatures promote more efficient transfer of seismic energy\n",
    "  3. Higher density leads to higher seismic velocity \n",
    "  4. <font color='green'>Phase changes at depth tend to form stiffer rocks</font>"
   ]
  },
  {
   "cell_type": "markdown",
   "metadata": {},
   "source": [
    "Q7. Why do body waves travel along curved paths through the Earth?\n",
    "  1. Because the Earth’s temperature increases with depth. \n",
    "  2. Because the base of the lithosphere interferes with direct passage of seismic waves through the asthenosphere. \n",
    "  3. <font color='green'>Because of refraction of waves by layers of different seismic wave velocities.</font>   \n",
    "  4. Because of wave reflection at Earth's internal boundaries (crust, mantle, inner core, outer core) "
   ]
  },
  {
   "cell_type": "markdown",
   "metadata": {},
   "source": [
    "Q8. Which choice describes evidence for a liquid outer core, illustrated in the figure below.\n",
    "\n",
    "<img src=\"images/shadow_zone.png\" alt=\"drawing\" width=\"60%\"/>\n",
    "\n",
    "   1. Development of a shadow zone when the P-wave velocity (V1) in the mantle is lower than than in the outer core (V2).\n",
    "   2. <font color='green'>Development of a shadow zone when the P-wave velocity (V1) in the mantle is higher than than in the outer core (V2).</font> \n",
    "   3. Development of a shadow zone when the S-wave velocity (V1) in the mantle is higher than than in the outer core (V2).\n",
    "   4. Development of a shadow zone when the S-wave velocity (V1) in the mantle is lower than than in the outer core (V2)."
   ]
  },
  {
   "cell_type": "markdown",
   "metadata": {},
   "source": [
    "Q9. Which of the following are true about surface waves?  (Check all that apply.)\n",
    "\n",
    "   1. Surface waves are the first waves to arrive at a seismic station after an earthquake  \n",
    "   2. <font color='green'>Surface waves are slower than body waves.</font>   \n",
    "   3. <font color='green'>Surface waves produce most of the damage to buildings during earthquakes</font>  \n",
    "   4. <font color='green'>Surface waves deform material in the upper mantle and are therefore sensitive to properties at these shallow depths</font>   \n",
    "   5. <font color='green'>Because of dispersion, surface waves at various frequencies can be used to image subsurface structure.</font> "
   ]
  }
 ],
 "metadata": {
  "kernelspec": {
   "display_name": "Python 3 (ipykernel)",
   "language": "python",
   "name": "python3"
  },
  "language_info": {
   "codemirror_mode": {
    "name": "ipython",
    "version": 3
   },
   "file_extension": ".py",
   "mimetype": "text/x-python",
   "name": "python",
   "nbconvert_exporter": "python",
   "pygments_lexer": "ipython3",
   "version": "3.9.12"
  }
 },
 "nbformat": 4,
 "nbformat_minor": 4
}

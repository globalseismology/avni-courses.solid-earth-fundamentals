{
 "cells": [
  {
   "cell_type": "markdown",
   "metadata": {},
   "source": [
    "# Quiz: Plate Tectonics\n",
    "\n",
    "IN THE SPACE BELOW, WRITE OUT IN FULL AND THEN SIGN THE HONOR PLEDGE:\n",
    "\n",
    "“I pledge my honor that I have not violated the honor code during this examination.”\n",
    "\n",
    "**PRINT NAME**:\n",
    "\n",
    "By uploading this assignment through Canvas, I sign off on the document below electronically.\n",
    "\n",
    "----"
   ]
  },
  {
   "cell_type": "markdown",
   "metadata": {},
   "source": [
    "## Instructions\n",
    "\n",
    "This is an open book, open notes quiz to be done independently, on your own.  But it is not open Internet - on your honor, you are not permitted to \"Google\" for answers.\n",
    "\n",
    "Unless otherwise indicated the multiple choice questions have only one correct answer. Once started, you have 20 minutes to finish.\n",
    "\n",
    "When done, click **Submit Quiz** at the bottom of the page.  Note that by submitting this quiz, you are acknowledging the following statement:\n",
    "\n",
    "       “I pledge my honor that I have not violated the honor code during this examination.”\n",
    "Please tick your choice(s) from the list of options provided.  Note that <u>several choices may be correct</u>, so tick all choices you think are appropriate.\n",
    "\n",
    "----"
   ]
  },
  {
   "cell_type": "markdown",
   "metadata": {},
   "source": [
    "Q1. Which of the following are true about Earth's tectonic plates?  Check all that apply.\n",
    "\n",
    "1. Oceanic plates are smaller in area than continental plates.\n",
    "2. <font color='green'>Oceanic plates are thinner than oceanic plates.</font>\n",
    "3. <font color='green'>Plates can contain both continental and oceanic lithosphere.</font>\n",
    "4. Oceanic plates move faster than continental plates.\n",
    "5. <font color='green'>Only oceanic plates are subducted.</font>\n",
    "6. The plates are made of lithosphere that move on top of hot, molten asthenosphere.\n",
    "\n",
    "*Notes*:\n",
    "* The lithosphere is not molten; it is not liquid; it is not melted.  It is hot, and deforms/flows plastically (without fracturing) over geologic time scales but is NOT liquid.  Seismology gives us iron-clad evidence of this, as we will see later in the class."
   ]
  },
  {
   "cell_type": "markdown",
   "metadata": {},
   "source": [
    "Q2. The figure below is a map view of the northern portion of the Pacific plate where it meets the North American plate, along the Aleutian Island trend of southwestern Alaska.  The red triangles indicate the locations of volcanoes that have been active over the past 2.5 million years.  The shades of blue reflect the depth of the ocean; the darker the blue, the deeper the water.  The blue line parallel to the Aleutian Island chain indicates the location of an ocean trench.\n",
    "\n",
    "<img src=\"images/ALeutian-1.jpeg\" alt=\"drawing\" width=\"40%\"/>\n",
    "\n",
    "What type of boundary is this?\n",
    "\n",
    "  1. Divergent; lithosphere is being consumed\n",
    "  2. Divergent; lithosphere is being created\n",
    "  3. <font color='green'>Convergent; lithosphere is being consumed</font>\n",
    "  4. Convergent; lithosphere is being created\n",
    "  5. Transform; lithosphere is conserved."
   ]
  },
  {
   "cell_type": "markdown",
   "metadata": {},
   "source": [
    "Q3. In the previous question, which plate is being subducted?\n",
    "  1. <font color='green'>the Pacific plate</font>\n",
    "  2. the North American plate \n",
    "  3. You can't tell from the diagram alone \n",
    "\n",
    "*Notes:*\n",
    "* At a convergent boundary, the linear trend of volcanoes parallel to the boundary are on the overriding plate - remember they are formed by partial melting of the underlying, subducting plate.  So the Pacific plate is subducting underneath the North American plate.\n",
    "\n",
    "* Yes you can tell from the figure - At a convergent boundary, the linear trend of volcanoes parallel to the boundary are on the overriding plate.  Remember they are formed by partial melting of the underlying, subducting plate.  So the Pacific plate is subducting underneath the North American plate.\n"
   ]
  },
  {
   "cell_type": "markdown",
   "metadata": {},
   "source": [
    "Q4. The San Andreas fault in California is part of what type of plate boundary?\n",
    "  1. Convergent\n",
    "  2. Divergent\n",
    "  3. <font color='green'>Transform</font>"
   ]
  },
  {
   "cell_type": "markdown",
   "metadata": {},
   "source": [
    "Q5. Where do the **deepest** earthquakes occur?\n",
    "  1. Along divergent boundaries \n",
    "  2. <font color='green'>Along convergent boundaries</font>  \n",
    "  3. Along transform boundaries\n",
    "  4. In the middle of continental plates\n",
    "  5. In the middle of oceanic plates \n",
    "  \n",
    "*Notes:*\n",
    "* The deepest earthquakes occur at subduction zones - convergent boundaries where oceanic lithosphere dives underneath an overriding plate, bringing relatively cold, brittley deforming lithosphere to depths of up to 800 km."
   ]
  },
  {
   "cell_type": "markdown",
   "metadata": {},
   "source": [
    "Q6. Why do the **largest** earthquakes occur along convergent plate boundaries, and not along divergent plate boundaries?  Check all that apply.\n",
    "  1. The magma rising at divergent boundaries lubricates the plate boundary so if slips more easily.\n",
    "  2. <font color='green'>Rocks rupture more easily under tension than under compression.</font>\n",
    "  3. Convergent boundries are higher in elevation than divergent boundaries. \n",
    "  4. The rock types found at convergent boundares are stronger than those at divergent boundaries.\n",
    "  5. <font color='green'>There is more area to slip along convergent boundary faults.</font>\n",
    "  \n",
    "*Notes:*\n",
    "* Note that engineers/architects are careful to put load-bearing portions of structures under compression, not tension!\n",
    "* At divergent boundaries, the plates are very thin and thus the area available to slip is small so it fails more easily."
   ]
  },
  {
   "cell_type": "markdown",
   "metadata": {},
   "source": [
    "Q7. Why is volcanism along divergent plate boundaries, typically less explosive than those along convergent plate boundaries?  (Check all that apply.)\n",
    "  1. <font color='green'>The magma at divergent boundaries is less viscous than magma at convergent boundaries.</font>\n",
    "  2. The magma at divergent boundaries is more viscous than magma at convergent boundaries.\n",
    "  3. The magma at divergent boundaries contains more dissolved water than magma at convergent boundaries.\n",
    "  4. <font color='green'>The magma at divergent boundaries contains less dissolved water than magma at convergent boundaries.</font>"
   ]
  },
  {
   "cell_type": "markdown",
   "metadata": {},
   "source": [
    "Q8. Where does most of Earth's volcanism occur?\n",
    "  1. Along the Pacfic Ocean's \"Ring of Fire.\" \n",
    "  2. Oceanic \"hot spots\" like Hawaii. \n",
    "  3. <font color='green'>Oceanic spreading centers</font>\n",
    "  4. Transform plate boundaries \n",
    "\n",
    "*Notes*:\n",
    "* While there are many volcanoes along the \"Ring of Fire,\" more than 2/3 of Earth's volcanism occurs underwater, along oceanic spreading centers - those divergent boundaries where ocean crust is created by plates pulling apart.\n",
    "\n",
    "* Most of Earth's volcanism occurs underwater, along oceanic spreading centers - those divergent boundaries where ocean crust is created by plates pulling apart.  Volcanism is rare along transform plate boundaries, even along the transform faults that offset segments of the mid-ocean ridge segments; the volcanism occurs along the segments that are pulling apart, not the transform segments where the plates are sliding past each other,"
   ]
  }
 ],
 "metadata": {
  "kernelspec": {
   "display_name": "Python 3 (ipykernel)",
   "language": "python",
   "name": "python3"
  },
  "language_info": {
   "codemirror_mode": {
    "name": "ipython",
    "version": 3
   },
   "file_extension": ".py",
   "mimetype": "text/x-python",
   "name": "python",
   "nbconvert_exporter": "python",
   "pygments_lexer": "ipython3",
   "version": "3.9.12"
  }
 },
 "nbformat": 4,
 "nbformat_minor": 4
}

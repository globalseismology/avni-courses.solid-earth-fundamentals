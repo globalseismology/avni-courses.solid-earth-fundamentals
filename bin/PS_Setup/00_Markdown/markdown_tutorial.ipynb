{
 "cells": [
  {
   "cell_type": "markdown",
   "metadata": {},
   "source": [
    "# Introduction to Markdown\n",
    "\n",
    "John Gruber developed the Markdown language in 2004 in a collaborative effort with Aaron Swartz, intending to enable people to \"write with easy-to-read and easy-to-write plain text format and potentially convert it to structurally correct XHTML (or HTML).\" Markdown is a lightweight and popular Markup language which is a writing standard for data scientists and analysts."
   ]
  },
  {
   "cell_type": "markdown",
   "metadata": {},
   "source": [
    "![Text](Markdown_Cheat_Sheet.png)"
   ]
  },
  {
   "cell_type": "markdown",
   "metadata": {},
   "source": [
    "## To Do\n",
    "\n",
    "1. Write the list of places you have visited across the world\n",
    "2. Provide a link to your Github.com profile"
   ]
  },
  {
   "cell_type": "code",
   "execution_count": null,
   "metadata": {},
   "outputs": [],
   "source": []
  }
 ],
 "metadata": {
  "kernelspec": {
   "display_name": "Python 3 (ipykernel)",
   "language": "python",
   "name": "conda_fall2022"
  },
  "language_info": {
   "codemirror_mode": {
    "name": "ipython",
    "version": 3
   },
   "file_extension": ".py",
   "mimetype": "text/x-python",
   "name": "python",
   "nbconvert_exporter": "python",
   "pygments_lexer": "ipython3",
   "version": "3.9.12"
  }
 },
 "nbformat": 4,
 "nbformat_minor": 4
}

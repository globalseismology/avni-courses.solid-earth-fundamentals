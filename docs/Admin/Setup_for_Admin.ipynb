{
 "cells": [
  {
   "cell_type": "markdown",
   "id": "67fc9d32-8bd3-4bb8-83a4-0a00c8d6ad4f",
   "metadata": {},
   "source": [
    "## Setting up custom environment for your class\n",
    "\n",
    "Please e-mail [CSES](mailto:cses@princeton.edu) asking them to setup a course environment on Adroit. Once they have done so, you can load the base environment with\n",
    "\n",
    "```module load course/geo203/default```\n",
    "\n",
    "and you now own that directory and all files within. They will also put *GEO203* under the *class* tab on the webpage for starting a new [Jupyter for Classes](https://myadroit.princeton.edu/pun/sys/dashboard/batch_connect/sys/jupyter-classes/session_contexts/new) session on Adroit.\n",
    "\n",
    "The simplest thing\n",
    "would be to try to install all you need within the base install (```conda\n",
    "install pandoc``` .... and whatever else you need), without creating/loading\n",
    "conda environments but up to you.\n",
    "\n",
    "\n",
    "## JupyterLab\n",
    "\n",
    "You can install [Jupyter notebook extensions](https://github.com/ipython-contrib/jupyter_contrib_nbextensions), which can improve your productivity in the notebook environment. Some useful extensions include Table of Contents, Gist-it, Autopep8, Variable Inspector, etc. See [this post](https://towardsdatascience.com/jupyter-notebook-extensions-517fa69d2231) for more information.\n",
    "\n",
    "```conda install jupyter_contrib_nbextensions -c conda-forge```"
   ]
  },
  {
   "cell_type": "markdown",
   "id": "72a31498-c595-4e11-853c-6d10607c29b7",
   "metadata": {},
   "source": [
    "## PDF output from Jupyter notebooks\n",
    "\n",
    "```conda install -c conda-forge texlive-core```"
   ]
  },
  {
   "cell_type": "markdown",
   "id": "af9acba7-e4df-412a-9eed-7f539d8ab5a7",
   "metadata": {},
   "source": [
    "## Instructions for students\n",
    "\n",
    "1. Log-in to [MyAdroit](https://myadroit.princeton.edu/) using your Princeton ID.\n",
    "2. Start a new Jupyter session by selecting \"Interactive Apps\" and then \"Jupyter **for Classes**\"\n",
    "3. Choose the number of hours (the higher number, the longer the wait time). Keep the number of cores to 1. Select \"GEO 203\" for class and \"class\" for partition. DO NOT FORGET to check \"Use JupyterLab instead of Jupyter Notebook?\" option. Then, launch.\n",
    "4. Open the terminal by clicking at the session ID. (The terminal opened by Jupyter does not work properly.)\n",
    "5. For the first time, clone the [repository](https://github.com/PrincetonUniversity/GEO203_Fall2022_PSETS) for the problem sets using the following command \n",
    "\n",
    "`git clone git@github.com:PrincetonUniversity/GEO203_Fall2022_PSETS.git`\n",
    "\n",
    "After the first time, get your local repository updated by pulling from the remote repository `git pull`\n",
    "\n",
    "6. Check the status of your local repository: `git status`\n",
    "7. Launch Jupyter and open one of the Jupyter notebooks\n",
    "8. Edit one of the Markdown cell and run.\n",
    "9. Check the status of your local repository: `git status`. See if there is any change.\n",
    "10. To revert the change on the Jupyter notebook, call `git stash`.\n",
    "11. Duplicate the problem set Jupyter notebook and rename to `[original file name]-[Princeton ID].ipynb`. Only work on the duplicated copy.\n",
    "12. After you make a change on your notebook, add a the file and commit using the following commands.\n",
    "\n",
    "`git add -f [your notebook file name]`\n",
    "\n",
    "`git commit -m \"your message\"`\n",
    "\n",
    "13. To push the commit,\n",
    "\n",
    "`git pull` to avoid merge conflict when you push your commits to the remote repository. If someone also makes changes on the file, merge conflict may occur in your local repository. If the conflict occurs, you need to resolve the merge conflict.\n",
    "\n",
    "`git push`\n",
    "\n",
    "There are cases when merge occurs with out the merge conflict. You will automatically enter a default text-editor (usually Vim) and be prompted to enter a message. You do not need to enter any message. To exit the editor, press `Esc` and then type`:wq!` and press `return`."
   ]
  },
  {
   "cell_type": "markdown",
   "id": "5f25b015-1d0e-48ee-a062-1ade6512868c",
   "metadata": {
    "tags": []
   },
   "source": [
    "----\n",
    "# Visualization\n",
    "\n",
    "## 1. General plotting with Matplotlib \n",
    "\n",
    "## 2. Plotting geographic data with Basemap\n",
    "\n",
    "A common type of visualization in data science is that of geographic data. Matplotlib's main tool for this type of visualization is the Basemap toolkit, which is one of several Matplotlib toolkits which lives under the `mpl_toolkits` namespace. Basemap feels a bit clunky to use, and often even simple visualizations take much longer to render than you might hope. More modern solutions such as leaflet or the Google Maps API may be a better choice for more intensive map visualizations. Still, Basemap is a useful tool for Python users to have in their virtual toolbelts. \n",
    "\n",
    "Installation of Basemap is straightforward; if you're using conda you can type this and the package will be downloaded:\n",
    "\n",
    "```conda install -c conda-forge basemap```\n",
    "\n",
    "You may install some mapping toolboxes (Basemap data) with the following options to add topography at all resolutions: \n",
    "\n",
    "```conda install -c conda-forge basemap-data-hires```\n",
    "\n",
    "Basemap installation may give errors for the PROJ4 library. We have found it useful to specify the location of the library using the following in our shell configuration. \n",
    "\n",
    "| bash / ksh                            | Explanation                                                                                               | tcsh csh                                                                   |\n",
    "|--------------------------------------------|-----------------------------------------------------------------------------------------------------------|--------------------------------------------------------------------------------------|\n",
    "| `export PROJ_LIB=$_CONDA_ROOT/share/proj`                            | Put this in your shell initilization file (e.g. `~/.tcshrc` or `~/.bashrc`)                                               | `setenv PROJ_LIB $_CONDA_ROOT/share/proj`                                                                      |\n",
    "\n",
    "\n",
    "On Adroit, `_CONDA_ROOT` is the location of Anaconda installation, which should be automatically initialized with the value `/opt/export/course/geo203/anaconda3` when you login to Adroit. \n",
    "\n",
    "Your default shell can be found out by displaying the following [environment variable](https://en.wikipedia.org/wiki/Environment_variable) on the command line: ```echo $SHELL``` or with the following magic command on JupyterLab:"
   ]
  },
  {
   "cell_type": "code",
   "execution_count": 6,
   "id": "1b0e2a9b-498e-4e5c-9579-a7268620298a",
   "metadata": {
    "tags": []
   },
   "outputs": [
    {
     "data": {
      "text/plain": [
       "{'CONDA_SHLVL': '1',\n",
       " 'SLURM_MEM_PER_CPU': '3200',\n",
       " 'CONDA_EXE': '/opt/export/course/geo203/anaconda3/bin/conda',\n",
       " 'HOSTTYPE': 'x86_64-linux',\n",
       " 'SLURM_NODEID': '0',\n",
       " 'SLURM_TASK_PID': '827333',\n",
       " 'MODULES_RUN_QUARANTINE': 'LD_LIBRARY_PATH LD_PRELOAD',\n",
       " 'LANG': 'en_US.UTF-8',\n",
       " 'SLURM_SUBMIT_DIR': '/var/www/ood/apps/sys/dashboard',\n",
       " 'HOSTNAME': 'adroit-11',\n",
       " 'OLDPWD': '/home/pm5113/ondemand/data/sys/dashboard/batch_connect/sys/jupyter-classes/output/cd19a609-a8d9-445c-8287-ced48804f952',\n",
       " 'COBBLER_SERVER': '172.21.2.10',\n",
       " 'SLURM_CPUS_PER_TASK': '1',\n",
       " 'ENVIRONMENT': 'BATCH',\n",
       " 'PATH_modshare': '/usr/sbin:1:/opt/export/course/geo203/anaconda3/bin:1:/usr/bin:1:/opt/puppetlabs/bin:1:/opt/dell/srvadmin/bin:1:/usr/local/sbin:1:/usr/share/Modules/bin:1:/usr/local/bin:1',\n",
       " 'LOADEDMODULES_modshare': 'course/geo203/default:1',\n",
       " 'CONDA_PREFIX': '/opt/export/course/geo203/anaconda3',\n",
       " 'SLURM_PROCID': '0',\n",
       " 'SLURM_JOB_GID': '1029',\n",
       " 'VENDOR': 'unknown',\n",
       " 'MACHTYPE': 'x86_64',\n",
       " 'SLURMD_NODENAME': 'adroit-11',\n",
       " 'MODULES_USE_COMPAT_VERSION': '0',\n",
       " '_LOCAL_OLD_PS1': '',\n",
       " '_CONDA_EXE': '/opt/export/course/geo203/anaconda3/bin/conda',\n",
       " 'SLURM_TASKS_PER_NODE': '1',\n",
       " 'NCARG_ROOT': '/usr',\n",
       " '_CE_M': '',\n",
       " 'OSTYPE': 'linux',\n",
       " 'XDG_SESSION_ID': 'c95',\n",
       " 'MODULES_CMD': '/usr/share/Modules/libexec/modulecmd.tcl',\n",
       " 'USER': 'pm5113',\n",
       " 'SLURM_NNODES': '1',\n",
       " 'SLURM_GET_USER_ENV': '1',\n",
       " 'GROUP': 'pustaff',\n",
       " 'PWD': '/home/pm5113',\n",
       " 'NCARG_DATABASE': '/usr/lib64/ncarg/database',\n",
       " 'SLURM_JOB_NODELIST': 'adroit-11',\n",
       " 'HOME': '/home/pm5113',\n",
       " 'SLURM_CLUSTER_NAME': 'adroit',\n",
       " 'CONDA_PYTHON_EXE': '/opt/export/course/geo203/anaconda3/bin/python',\n",
       " 'SLURM_NODELIST': 'adroit-11',\n",
       " 'HOST': 'adroit-11',\n",
       " 'CONFIG_FILE': '/home/pm5113/ondemand/data/sys/dashboard/batch_connect/sys/jupyter-classes/output/cd19a609-a8d9-445c-8287-ced48804f952/config.py',\n",
       " 'JUPYTER_PATH': '/home/pm5113/ondemand/data/sys/dashboard/batch_connect/sys/jupyter-classes/output/cd19a609-a8d9-445c-8287-ced48804f952/share/jupyter',\n",
       " 'SLURM_JOB_CPUS_PER_NODE': '1',\n",
       " 'SLURM_TOPOLOGY_ADDR': 'adroit-11',\n",
       " '_LMFILES__modshare': '/opt/share/Modules/modulefiles/course/geo203/default:1',\n",
       " 'host': 'adroit-11',\n",
       " '_CE_CONDA': '',\n",
       " 'SLURM_WORKING_CLUSTER': 'adroit:adroit-nfs2:6817:9728:109',\n",
       " 'NCARG_LIB': '/usr/lib64/ncarg',\n",
       " 'SLURM_JOB_NAME': 'sys/dashboard/sys/jupyter-classes',\n",
       " 'TMPDIR': '/tmp',\n",
       " 'SLURM_JOBID': '1531785',\n",
       " 'SLURM_CONF': '/etc/slurm/slurm.conf',\n",
       " 'LOADEDMODULES': 'course/geo203/default',\n",
       " 'SLURM_NODE_ALIASES': '(null)',\n",
       " 'SLURM_JOB_QOS': 'medium',\n",
       " 'SLURM_TOPOLOGY_ADDR_PATTERN': 'node',\n",
       " 'CONDA_PROMPT_MODIFIER': '(base) ',\n",
       " 'MAIL': '/var/spool/mail/pm5113',\n",
       " 'SLURM_CPUS_ON_NODE': '1',\n",
       " '_CONDA_ROOT': '/opt/export/course/geo203/anaconda3',\n",
       " 'SLURM_JOB_NUM_NODES': '1',\n",
       " 'SHELL': '/bin/tcsh',\n",
       " 'NCARG_GRAPHCAPS': '/usr/lib64/ncarg/graphcaps',\n",
       " 'SLURM_JOB_UID': '229234',\n",
       " 'SLURM_JOB_PARTITION': 'class',\n",
       " 'port': '48150',\n",
       " 'SLURM_JOB_USER': 'pm5113',\n",
       " 'NOTEBOOK_ROOT': '/home/pm5113',\n",
       " 'SHLVL': '3',\n",
       " 'SLURM_SUBMIT_HOST': 'myadroit.princeton.edu',\n",
       " 'SLURM_JOB_ACCOUNT': 'pustaff',\n",
       " 'MANPATH': ':',\n",
       " 'SLURM_EXPORT_ENV': 'NONE',\n",
       " 'MODULEPATH': '/home/pm5113/Modules/modulefiles:/usr/share/Modules/modulefiles:/etc/modulefiles:/usr/share/modulefiles:/usr/local/share/Modules/modulefiles:/opt/share/Modules/modulefiles:/usr/licensed/Modules/modulefiles',\n",
       " 'SLURM_GTIDS': '0',\n",
       " 'LOGNAME': 'pm5113',\n",
       " 'DBUS_SESSION_BUS_ADDRESS': 'unix:path=/run/user/229234/bus',\n",
       " 'XDG_RUNTIME_DIR': '/tmp',\n",
       " 'MODULEPATH_modshare': '/opt/share/Modules/modulefiles:1:/usr/local/share/Modules/modulefiles:1:/usr/licensed/Modules/modulefiles:1:/usr/share/Modules/modulefiles:1:/etc/modulefiles:1:/usr/share/modulefiles:1',\n",
       " 'PATH': '/opt/export/course/geo203/anaconda3/bin:/usr/share/Modules/bin:/usr/local/bin:/usr/bin:/usr/local/sbin:/usr/sbin:/opt/puppetlabs/bin:/opt/dell/srvadmin/bin',\n",
       " 'SLURM_JOB_ID': '1531785',\n",
       " '_LMFILES_': '/opt/share/Modules/modulefiles/course/geo203/default',\n",
       " 'PS1': '(base) ',\n",
       " 'NCARG_NCARG': '/usr/share/ncarg',\n",
       " 'MODULESHOME': '/usr/share/Modules',\n",
       " 'CONDA_DEFAULT_ENV': 'base',\n",
       " 'NCARG_FONTCAPS': '/usr/lib64/ncarg/fontcaps',\n",
       " 'SLURM_LOCALID': '0',\n",
       " 'LESSOPEN': '||/usr/bin/lesspipe.sh %s',\n",
       " 'BASH_FUNC_create_passwd%%': \"() {  tr -cd 'a-zA-Z0-9' < /dev/urandom 2> /dev/null | head -c${1:-8}\\n}\",\n",
       " 'BASH_FUNC_wait_until_port_used%%': '() {  local port=\"${1}\";\\n local time=\"${2:-30}\";\\n for ((i=1; i<=time*2; i++))\\n do\\n port_used \"${port}\";\\n port_status=$?;\\n if [ \"$port_status\" == \"0\" ]; then\\n return 0;\\n else\\n if [ \"$port_status\" == \"127\" ]; then\\n echo \"commands to find port were either not found or inaccessible.\";\\n echo \"command options are lsof, nc, bash\\'s /dev/tcp, or python (or python3) with socket lib.\";\\n return 127;\\n fi;\\n fi;\\n sleep 0.5;\\n done;\\n return 1\\n}',\n",
       " 'BASH_FUNC_module%%': '() {  unset _mlshdbg;\\n if [ \"${MODULES_SILENT_SHELL_DEBUG:-0}\" = \\'1\\' ]; then\\n case \"$-\" in \\n *v*x*)\\n set +vx;\\n _mlshdbg=\\'vx\\'\\n ;;\\n *v*)\\n set +v;\\n _mlshdbg=\\'v\\'\\n ;;\\n *x*)\\n set +x;\\n _mlshdbg=\\'x\\'\\n ;;\\n *)\\n _mlshdbg=\\'\\'\\n ;;\\n esac;\\n fi;\\n unset _mlre _mlIFS;\\n if [ -n \"${IFS+x}\" ]; then\\n _mlIFS=$IFS;\\n fi;\\n IFS=\\' \\';\\n for _mlv in ${MODULES_RUN_QUARANTINE:-};\\n do\\n if [ \"${_mlv}\" = \"${_mlv##*[!A-Za-z0-9_]}\" -a \"${_mlv}\" = \"${_mlv#[0-9]}\" ]; then\\n if [ -n \"`eval \\'echo ${\\'$_mlv\\'+x}\\'`\" ]; then\\n _mlre=\"${_mlre:-}${_mlv}_modquar=\\'`eval \\'echo ${\\'$_mlv\\'}\\'`\\' \";\\n fi;\\n _mlrv=\"MODULES_RUNENV_${_mlv}\";\\n _mlre=\"${_mlre:-}${_mlv}=\\'`eval \\'echo ${\\'$_mlrv\\':-}\\'`\\' \";\\n fi;\\n done;\\n if [ -n \"${_mlre:-}\" ]; then\\n eval `eval ${_mlre} /usr/bin/tclsh /usr/share/Modules/libexec/modulecmd.tcl bash \\'\"$@\"\\'`;\\n else\\n eval `/usr/bin/tclsh /usr/share/Modules/libexec/modulecmd.tcl bash \"$@\"`;\\n fi;\\n _mlstatus=$?;\\n if [ -n \"${_mlIFS+x}\" ]; then\\n IFS=$_mlIFS;\\n else\\n unset IFS;\\n fi;\\n unset _mlre _mlv _mlrv _mlIFS;\\n if [ -n \"${_mlshdbg:-}\" ]; then\\n set -$_mlshdbg;\\n fi;\\n unset _mlshdbg;\\n return $_mlstatus\\n}',\n",
       " 'BASH_FUNC_find_port%%': '() {  local host=\"${1:-localhost}\";\\n local port=$(random_number \"${2:-2000}\" \"${3:-65535}\");\\n while port_used \"${host}:${port}\"; do\\n port=$(random_number \"${2:-2000}\" \"${3:-65535}\");\\n done;\\n echo \"${port}\"\\n}',\n",
       " 'BASH_FUNC_port_used%%': '() {  local port=\"${1#*:}\";\\n local host=$((expr \"${1}\" : \\'\\\\(.*\\\\):\\' || echo \"localhost\") | awk \\'END{print $NF}\\');\\n local port_strategies=(port_used_nc port_used_lsof port_used_bash port_used_python port_used_python3);\\n for strategy in ${port_strategies[@]};\\n do\\n $strategy $host $port;\\n status=$?;\\n if [[ \"$status\" == \"0\" ]] || [[ \"$status\" == \"1\" ]]; then\\n return $status;\\n fi;\\n done;\\n return 127\\n}',\n",
       " 'BASH_FUNC_switchml%%': '() {  typeset swfound=1;\\n if [ \"${MODULES_USE_COMPAT_VERSION:-0}\" = \\'1\\' ]; then\\n typeset swname=\\'main\\';\\n if [ -e /usr/share/Modules/libexec/modulecmd.tcl ]; then\\n typeset swfound=0;\\n unset MODULES_USE_COMPAT_VERSION;\\n fi;\\n else\\n typeset swname=\\'compatibility\\';\\n if [ -e /usr/share/Modules/libexec/modulecmd-compat ]; then\\n typeset swfound=0;\\n MODULES_USE_COMPAT_VERSION=1;\\n export MODULES_USE_COMPAT_VERSION;\\n fi;\\n fi;\\n if [ $swfound -eq 0 ]; then\\n echo \"Switching to Modules $swname version\";\\n source /usr/share/Modules/init/bash;\\n else\\n echo \"Cannot switch to Modules $swname version, command not found\";\\n return 1;\\n fi\\n}',\n",
       " 'BASH_FUNC_random_number%%': '() {  shuf -i ${1}-${2} -n 1\\n}',\n",
       " 'BASH_FUNC_source_helpers%%': '() {  function random_number () \\n { \\n shuf -i ${1}-${2} -n 1\\n };\\n export -f random_number;\\n function port_used_python () \\n { \\n python -c \"import socket; socket.socket().connect((\\'$1\\',$2))\" > /dev/null 2>&1\\n };\\n function port_used_python3 () \\n { \\n python3 -c \"import socket; socket.socket().connect((\\'$1\\',$2))\" > /dev/null 2>&1\\n };\\n function port_used_nc () \\n { \\n nc -w 2 \"$1\" \"$2\" < /dev/null > /dev/null 2>&1\\n };\\n function port_used_lsof () \\n { \\n lsof -i :\"$2\" > /dev/null 2>&1\\n };\\n function port_used_bash () \\n { \\n local bash_supported=$(strings /bin/bash 2>/dev/null | grep tcp);\\n if [ \"$bash_supported\" == \"/dev/tcp/*/*\" ]; then\\n ( : < /dev/tcp/$1/$2 ) > /dev/null 2>&1;\\n else\\n return 127;\\n fi\\n };\\n function port_used () \\n { \\n local port=\"${1#*:}\";\\n local host=$((expr \"${1}\" : \\'\\\\(.*\\\\):\\' || echo \"localhost\") | awk \\'END{print $NF}\\');\\n local port_strategies=(port_used_nc port_used_lsof port_used_bash port_used_python port_used_python3);\\n for strategy in ${port_strategies[@]};\\n do\\n $strategy $host $port;\\n status=$?;\\n if [[ \"$status\" == \"0\" ]] || [[ \"$status\" == \"1\" ]]; then\\n return $status;\\n fi;\\n done;\\n return 127\\n };\\n export -f port_used;\\n function find_port () \\n { \\n local host=\"${1:-localhost}\";\\n local port=$(random_number \"${2:-2000}\" \"${3:-65535}\");\\n while port_used \"${host}:${port}\"; do\\n port=$(random_number \"${2:-2000}\" \"${3:-65535}\");\\n done;\\n echo \"${port}\"\\n };\\n export -f find_port;\\n function wait_until_port_used () \\n { \\n local port=\"${1}\";\\n local time=\"${2:-30}\";\\n for ((i=1; i<=time*2; i++))\\n do\\n port_used \"${port}\";\\n port_status=$?;\\n if [ \"$port_status\" == \"0\" ]; then\\n return 0;\\n else\\n if [ \"$port_status\" == \"127\" ]; then\\n echo \"commands to find port were either not found or inaccessible.\";\\n echo \"command options are lsof, nc, bash\\'s /dev/tcp, or python (or python3) with socket lib.\";\\n return 127;\\n fi;\\n fi;\\n sleep 0.5;\\n done;\\n return 1\\n };\\n export -f wait_until_port_used;\\n function create_passwd () \\n { \\n tr -cd \\'a-zA-Z0-9\\' < /dev/urandom 2> /dev/null | head -c${1:-8}\\n };\\n export -f create_passwd\\n}',\n",
       " 'BASH_FUNC_ml%%': '() {  module ml \"$@\"\\n}',\n",
       " '_': '/opt/export/course/geo203/anaconda3/bin/jupyter',\n",
       " 'PYDEVD_USE_FRAME_EVAL': 'NO',\n",
       " 'JPY_PARENT_PID': '827456',\n",
       " 'TERM': 'xterm-color',\n",
       " 'CLICOLOR': '1',\n",
       " 'PAGER': 'cat',\n",
       " 'GIT_PAGER': 'cat',\n",
       " 'MPLBACKEND': 'module://matplotlib_inline.backend_inline'}"
      ]
     },
     "execution_count": 6,
     "metadata": {},
     "output_type": "execute_result"
    }
   ],
   "source": [
    "%env"
   ]
  },
  {
   "cell_type": "code",
   "execution_count": 2,
   "id": "5dea4b16-d004-4f4b-a973-00097cfcf4b8",
   "metadata": {},
   "outputs": [],
   "source": [
    "import os\n",
    "os.environ['PROJ_LIB'] = os.path.join(os.environ['CONDA_PREFIX'],'share/proj')"
   ]
  },
  {
   "cell_type": "markdown",
   "id": "447b2717-d442-43aa-80a9-c5c0d46f9338",
   "metadata": {},
   "source": [
    "Now, let us look at some plots"
   ]
  },
  {
   "cell_type": "code",
   "execution_count": 3,
   "id": "cf9fd037-1c52-46d1-9a8b-69337719633e",
   "metadata": {},
   "outputs": [],
   "source": [
    "%matplotlib inline\n",
    "import numpy as np\n",
    "import matplotlib.pyplot as plt\n",
    "from mpl_toolkits.basemap import Basemap"
   ]
  },
  {
   "cell_type": "markdown",
   "id": "31f078c2-e903-43af-8950-f68c5da57f4a",
   "metadata": {
    "tags": []
   },
   "source": [
    "## 3. Plotly for interactive visualization\n",
    "\n",
    "For use in JupyterLab, install the jupyterlab and ipywidgets packages using pip:\n",
    "\n",
    "```conda install \"jupyterlab>=3\" \"ipywidgets>=7.6\"```\n",
    "\n",
    "You'll need jupyter-dash to add widgets such as sliders, dropdowns, and buttons to Plotly charts in JupyterLab. Install jupyter-dash using conda:\n",
    "\n",
    "```conda install -c conda-forge -c plotly jupyter-dash```"
   ]
  },
  {
   "cell_type": "code",
   "execution_count": 16,
   "id": "865c313f-1538-4b1f-b91e-e3c280c3bd29",
   "metadata": {},
   "outputs": [
    {
     "data": {
      "application/vnd.plotly.v1+json": {
       "config": {
        "plotlyServerURL": "https://plot.ly"
       },
       "data": [
        {
         "alignmentgroup": "True",
         "hovertemplate": "x=%{x}<br>y=%{y}<extra></extra>",
         "legendgroup": "",
         "marker": {
          "color": "#636efa",
          "pattern": {
           "shape": ""
          }
         },
         "name": "",
         "offsetgroup": "",
         "orientation": "v",
         "showlegend": false,
         "textposition": "auto",
         "type": "bar",
         "x": [
          "a",
          "b",
          "c"
         ],
         "xaxis": "x",
         "y": [
          1,
          3,
          2
         ],
         "yaxis": "y"
        }
       ],
       "layout": {
        "autosize": true,
        "barmode": "relative",
        "legend": {
         "tracegroupgap": 0
        },
        "margin": {
         "t": 60
        },
        "template": {
         "data": {
          "bar": [
           {
            "error_x": {
             "color": "#2a3f5f"
            },
            "error_y": {
             "color": "#2a3f5f"
            },
            "marker": {
             "line": {
              "color": "#E5ECF6",
              "width": 0.5
             },
             "pattern": {
              "fillmode": "overlay",
              "size": 10,
              "solidity": 0.2
             }
            },
            "type": "bar"
           }
          ],
          "barpolar": [
           {
            "marker": {
             "line": {
              "color": "#E5ECF6",
              "width": 0.5
             },
             "pattern": {
              "fillmode": "overlay",
              "size": 10,
              "solidity": 0.2
             }
            },
            "type": "barpolar"
           }
          ],
          "carpet": [
           {
            "aaxis": {
             "endlinecolor": "#2a3f5f",
             "gridcolor": "white",
             "linecolor": "white",
             "minorgridcolor": "white",
             "startlinecolor": "#2a3f5f"
            },
            "baxis": {
             "endlinecolor": "#2a3f5f",
             "gridcolor": "white",
             "linecolor": "white",
             "minorgridcolor": "white",
             "startlinecolor": "#2a3f5f"
            },
            "type": "carpet"
           }
          ],
          "choropleth": [
           {
            "colorbar": {
             "outlinewidth": 0,
             "ticks": ""
            },
            "type": "choropleth"
           }
          ],
          "contour": [
           {
            "colorbar": {
             "outlinewidth": 0,
             "ticks": ""
            },
            "colorscale": [
             [
              0,
              "#0d0887"
             ],
             [
              0.1111111111111111,
              "#46039f"
             ],
             [
              0.2222222222222222,
              "#7201a8"
             ],
             [
              0.3333333333333333,
              "#9c179e"
             ],
             [
              0.4444444444444444,
              "#bd3786"
             ],
             [
              0.5555555555555556,
              "#d8576b"
             ],
             [
              0.6666666666666666,
              "#ed7953"
             ],
             [
              0.7777777777777778,
              "#fb9f3a"
             ],
             [
              0.8888888888888888,
              "#fdca26"
             ],
             [
              1,
              "#f0f921"
             ]
            ],
            "type": "contour"
           }
          ],
          "contourcarpet": [
           {
            "colorbar": {
             "outlinewidth": 0,
             "ticks": ""
            },
            "type": "contourcarpet"
           }
          ],
          "heatmap": [
           {
            "colorbar": {
             "outlinewidth": 0,
             "ticks": ""
            },
            "colorscale": [
             [
              0,
              "#0d0887"
             ],
             [
              0.1111111111111111,
              "#46039f"
             ],
             [
              0.2222222222222222,
              "#7201a8"
             ],
             [
              0.3333333333333333,
              "#9c179e"
             ],
             [
              0.4444444444444444,
              "#bd3786"
             ],
             [
              0.5555555555555556,
              "#d8576b"
             ],
             [
              0.6666666666666666,
              "#ed7953"
             ],
             [
              0.7777777777777778,
              "#fb9f3a"
             ],
             [
              0.8888888888888888,
              "#fdca26"
             ],
             [
              1,
              "#f0f921"
             ]
            ],
            "type": "heatmap"
           }
          ],
          "heatmapgl": [
           {
            "colorbar": {
             "outlinewidth": 0,
             "ticks": ""
            },
            "colorscale": [
             [
              0,
              "#0d0887"
             ],
             [
              0.1111111111111111,
              "#46039f"
             ],
             [
              0.2222222222222222,
              "#7201a8"
             ],
             [
              0.3333333333333333,
              "#9c179e"
             ],
             [
              0.4444444444444444,
              "#bd3786"
             ],
             [
              0.5555555555555556,
              "#d8576b"
             ],
             [
              0.6666666666666666,
              "#ed7953"
             ],
             [
              0.7777777777777778,
              "#fb9f3a"
             ],
             [
              0.8888888888888888,
              "#fdca26"
             ],
             [
              1,
              "#f0f921"
             ]
            ],
            "type": "heatmapgl"
           }
          ],
          "histogram": [
           {
            "marker": {
             "pattern": {
              "fillmode": "overlay",
              "size": 10,
              "solidity": 0.2
             }
            },
            "type": "histogram"
           }
          ],
          "histogram2d": [
           {
            "colorbar": {
             "outlinewidth": 0,
             "ticks": ""
            },
            "colorscale": [
             [
              0,
              "#0d0887"
             ],
             [
              0.1111111111111111,
              "#46039f"
             ],
             [
              0.2222222222222222,
              "#7201a8"
             ],
             [
              0.3333333333333333,
              "#9c179e"
             ],
             [
              0.4444444444444444,
              "#bd3786"
             ],
             [
              0.5555555555555556,
              "#d8576b"
             ],
             [
              0.6666666666666666,
              "#ed7953"
             ],
             [
              0.7777777777777778,
              "#fb9f3a"
             ],
             [
              0.8888888888888888,
              "#fdca26"
             ],
             [
              1,
              "#f0f921"
             ]
            ],
            "type": "histogram2d"
           }
          ],
          "histogram2dcontour": [
           {
            "colorbar": {
             "outlinewidth": 0,
             "ticks": ""
            },
            "colorscale": [
             [
              0,
              "#0d0887"
             ],
             [
              0.1111111111111111,
              "#46039f"
             ],
             [
              0.2222222222222222,
              "#7201a8"
             ],
             [
              0.3333333333333333,
              "#9c179e"
             ],
             [
              0.4444444444444444,
              "#bd3786"
             ],
             [
              0.5555555555555556,
              "#d8576b"
             ],
             [
              0.6666666666666666,
              "#ed7953"
             ],
             [
              0.7777777777777778,
              "#fb9f3a"
             ],
             [
              0.8888888888888888,
              "#fdca26"
             ],
             [
              1,
              "#f0f921"
             ]
            ],
            "type": "histogram2dcontour"
           }
          ],
          "mesh3d": [
           {
            "colorbar": {
             "outlinewidth": 0,
             "ticks": ""
            },
            "type": "mesh3d"
           }
          ],
          "parcoords": [
           {
            "line": {
             "colorbar": {
              "outlinewidth": 0,
              "ticks": ""
             }
            },
            "type": "parcoords"
           }
          ],
          "pie": [
           {
            "automargin": true,
            "type": "pie"
           }
          ],
          "scatter": [
           {
            "marker": {
             "colorbar": {
              "outlinewidth": 0,
              "ticks": ""
             }
            },
            "type": "scatter"
           }
          ],
          "scatter3d": [
           {
            "line": {
             "colorbar": {
              "outlinewidth": 0,
              "ticks": ""
             }
            },
            "marker": {
             "colorbar": {
              "outlinewidth": 0,
              "ticks": ""
             }
            },
            "type": "scatter3d"
           }
          ],
          "scattercarpet": [
           {
            "marker": {
             "colorbar": {
              "outlinewidth": 0,
              "ticks": ""
             }
            },
            "type": "scattercarpet"
           }
          ],
          "scattergeo": [
           {
            "marker": {
             "colorbar": {
              "outlinewidth": 0,
              "ticks": ""
             }
            },
            "type": "scattergeo"
           }
          ],
          "scattergl": [
           {
            "marker": {
             "colorbar": {
              "outlinewidth": 0,
              "ticks": ""
             }
            },
            "type": "scattergl"
           }
          ],
          "scattermapbox": [
           {
            "marker": {
             "colorbar": {
              "outlinewidth": 0,
              "ticks": ""
             }
            },
            "type": "scattermapbox"
           }
          ],
          "scatterpolar": [
           {
            "marker": {
             "colorbar": {
              "outlinewidth": 0,
              "ticks": ""
             }
            },
            "type": "scatterpolar"
           }
          ],
          "scatterpolargl": [
           {
            "marker": {
             "colorbar": {
              "outlinewidth": 0,
              "ticks": ""
             }
            },
            "type": "scatterpolargl"
           }
          ],
          "scatterternary": [
           {
            "marker": {
             "colorbar": {
              "outlinewidth": 0,
              "ticks": ""
             }
            },
            "type": "scatterternary"
           }
          ],
          "surface": [
           {
            "colorbar": {
             "outlinewidth": 0,
             "ticks": ""
            },
            "colorscale": [
             [
              0,
              "#0d0887"
             ],
             [
              0.1111111111111111,
              "#46039f"
             ],
             [
              0.2222222222222222,
              "#7201a8"
             ],
             [
              0.3333333333333333,
              "#9c179e"
             ],
             [
              0.4444444444444444,
              "#bd3786"
             ],
             [
              0.5555555555555556,
              "#d8576b"
             ],
             [
              0.6666666666666666,
              "#ed7953"
             ],
             [
              0.7777777777777778,
              "#fb9f3a"
             ],
             [
              0.8888888888888888,
              "#fdca26"
             ],
             [
              1,
              "#f0f921"
             ]
            ],
            "type": "surface"
           }
          ],
          "table": [
           {
            "cells": {
             "fill": {
              "color": "#EBF0F8"
             },
             "line": {
              "color": "white"
             }
            },
            "header": {
             "fill": {
              "color": "#C8D4E3"
             },
             "line": {
              "color": "white"
             }
            },
            "type": "table"
           }
          ]
         },
         "layout": {
          "annotationdefaults": {
           "arrowcolor": "#2a3f5f",
           "arrowhead": 0,
           "arrowwidth": 1
          },
          "autotypenumbers": "strict",
          "coloraxis": {
           "colorbar": {
            "outlinewidth": 0,
            "ticks": ""
           }
          },
          "colorscale": {
           "diverging": [
            [
             0,
             "#8e0152"
            ],
            [
             0.1,
             "#c51b7d"
            ],
            [
             0.2,
             "#de77ae"
            ],
            [
             0.3,
             "#f1b6da"
            ],
            [
             0.4,
             "#fde0ef"
            ],
            [
             0.5,
             "#f7f7f7"
            ],
            [
             0.6,
             "#e6f5d0"
            ],
            [
             0.7,
             "#b8e186"
            ],
            [
             0.8,
             "#7fbc41"
            ],
            [
             0.9,
             "#4d9221"
            ],
            [
             1,
             "#276419"
            ]
           ],
           "sequential": [
            [
             0,
             "#0d0887"
            ],
            [
             0.1111111111111111,
             "#46039f"
            ],
            [
             0.2222222222222222,
             "#7201a8"
            ],
            [
             0.3333333333333333,
             "#9c179e"
            ],
            [
             0.4444444444444444,
             "#bd3786"
            ],
            [
             0.5555555555555556,
             "#d8576b"
            ],
            [
             0.6666666666666666,
             "#ed7953"
            ],
            [
             0.7777777777777778,
             "#fb9f3a"
            ],
            [
             0.8888888888888888,
             "#fdca26"
            ],
            [
             1,
             "#f0f921"
            ]
           ],
           "sequentialminus": [
            [
             0,
             "#0d0887"
            ],
            [
             0.1111111111111111,
             "#46039f"
            ],
            [
             0.2222222222222222,
             "#7201a8"
            ],
            [
             0.3333333333333333,
             "#9c179e"
            ],
            [
             0.4444444444444444,
             "#bd3786"
            ],
            [
             0.5555555555555556,
             "#d8576b"
            ],
            [
             0.6666666666666666,
             "#ed7953"
            ],
            [
             0.7777777777777778,
             "#fb9f3a"
            ],
            [
             0.8888888888888888,
             "#fdca26"
            ],
            [
             1,
             "#f0f921"
            ]
           ]
          },
          "colorway": [
           "#636efa",
           "#EF553B",
           "#00cc96",
           "#ab63fa",
           "#FFA15A",
           "#19d3f3",
           "#FF6692",
           "#B6E880",
           "#FF97FF",
           "#FECB52"
          ],
          "font": {
           "color": "#2a3f5f"
          },
          "geo": {
           "bgcolor": "white",
           "lakecolor": "white",
           "landcolor": "#E5ECF6",
           "showlakes": true,
           "showland": true,
           "subunitcolor": "white"
          },
          "hoverlabel": {
           "align": "left"
          },
          "hovermode": "closest",
          "mapbox": {
           "style": "light"
          },
          "paper_bgcolor": "white",
          "plot_bgcolor": "#E5ECF6",
          "polar": {
           "angularaxis": {
            "gridcolor": "white",
            "linecolor": "white",
            "ticks": ""
           },
           "bgcolor": "#E5ECF6",
           "radialaxis": {
            "gridcolor": "white",
            "linecolor": "white",
            "ticks": ""
           }
          },
          "scene": {
           "xaxis": {
            "backgroundcolor": "#E5ECF6",
            "gridcolor": "white",
            "gridwidth": 2,
            "linecolor": "white",
            "showbackground": true,
            "ticks": "",
            "zerolinecolor": "white"
           },
           "yaxis": {
            "backgroundcolor": "#E5ECF6",
            "gridcolor": "white",
            "gridwidth": 2,
            "linecolor": "white",
            "showbackground": true,
            "ticks": "",
            "zerolinecolor": "white"
           },
           "zaxis": {
            "backgroundcolor": "#E5ECF6",
            "gridcolor": "white",
            "gridwidth": 2,
            "linecolor": "white",
            "showbackground": true,
            "ticks": "",
            "zerolinecolor": "white"
           }
          },
          "shapedefaults": {
           "line": {
            "color": "#2a3f5f"
           }
          },
          "ternary": {
           "aaxis": {
            "gridcolor": "white",
            "linecolor": "white",
            "ticks": ""
           },
           "baxis": {
            "gridcolor": "white",
            "linecolor": "white",
            "ticks": ""
           },
           "bgcolor": "#E5ECF6",
           "caxis": {
            "gridcolor": "white",
            "linecolor": "white",
            "ticks": ""
           }
          },
          "title": {
           "x": 0.05
          },
          "xaxis": {
           "automargin": true,
           "gridcolor": "white",
           "linecolor": "white",
           "ticks": "",
           "title": {
            "standoff": 15
           },
           "zerolinecolor": "white",
           "zerolinewidth": 2
          },
          "yaxis": {
           "automargin": true,
           "gridcolor": "white",
           "linecolor": "white",
           "ticks": "",
           "title": {
            "standoff": 15
           },
           "zerolinecolor": "white",
           "zerolinewidth": 2
          }
         }
        },
        "xaxis": {
         "anchor": "y",
         "autorange": true,
         "domain": [
          0,
          1
         ],
         "range": [
          -0.5,
          2.5
         ],
         "title": {
          "text": "x"
         },
         "type": "category"
        },
        "yaxis": {
         "anchor": "x",
         "autorange": true,
         "domain": [
          0,
          1
         ],
         "range": [
          0,
          3.1578947368421053
         ],
         "title": {
          "text": "y"
         },
         "type": "linear"
        }
       }
      },
      "image/png": "[encoded data removed]",
      "text/html": [
       "<div>                            <div id=\"0b5ac354-b1e2-40f6-b40b-d6778c9d18da\" class=\"plotly-graph-div\" style=\"height:525px; width:100%;\"></div>            <script type=\"text/javascript\">                require([\"plotly\"], function(Plotly) {                    window.PLOTLYENV=window.PLOTLYENV || {};                                    if (document.getElementById(\"0b5ac354-b1e2-40f6-b40b-d6778c9d18da\")) {                    Plotly.newPlot(                        \"0b5ac354-b1e2-40f6-b40b-d6778c9d18da\",                        [{\"alignmentgroup\":\"True\",\"hovertemplate\":\"x=%{x}<br>y=%{y}<extra></extra>\",\"legendgroup\":\"\",\"marker\":{\"color\":\"#636efa\",\"pattern\":{\"shape\":\"\"}},\"name\":\"\",\"offsetgroup\":\"\",\"orientation\":\"v\",\"showlegend\":false,\"textposition\":\"auto\",\"x\":[\"a\",\"b\",\"c\"],\"xaxis\":\"x\",\"y\":[1,3,2],\"yaxis\":\"y\",\"type\":\"bar\"}],                        {\"template\":{\"data\":{\"bar\":[{\"error_x\":{\"color\":\"#2a3f5f\"},\"error_y\":{\"color\":\"#2a3f5f\"},\"marker\":{\"line\":{\"color\":\"#E5ECF6\",\"width\":0.5},\"pattern\":{\"fillmode\":\"overlay\",\"size\":10,\"solidity\":0.2}},\"type\":\"bar\"}],\"barpolar\":[{\"marker\":{\"line\":{\"color\":\"#E5ECF6\",\"width\":0.5},\"pattern\":{\"fillmode\":\"overlay\",\"size\":10,\"solidity\":0.2}},\"type\":\"barpolar\"}],\"carpet\":[{\"aaxis\":{\"endlinecolor\":\"#2a3f5f\",\"gridcolor\":\"white\",\"linecolor\":\"white\",\"minorgridcolor\":\"white\",\"startlinecolor\":\"#2a3f5f\"},\"baxis\":{\"endlinecolor\":\"#2a3f5f\",\"gridcolor\":\"white\",\"linecolor\":\"white\",\"minorgridcolor\":\"white\",\"startlinecolor\":\"#2a3f5f\"},\"type\":\"carpet\"}],\"choropleth\":[{\"colorbar\":{\"outlinewidth\":0,\"ticks\":\"\"},\"type\":\"choropleth\"}],\"contour\":[{\"colorbar\":{\"outlinewidth\":0,\"ticks\":\"\"},\"colorscale\":[[0.0,\"#0d0887\"],[0.1111111111111111,\"#46039f\"],[0.2222222222222222,\"#7201a8\"],[0.3333333333333333,\"#9c179e\"],[0.4444444444444444,\"#bd3786\"],[0.5555555555555556,\"#d8576b\"],[0.6666666666666666,\"#ed7953\"],[0.7777777777777778,\"#fb9f3a\"],[0.8888888888888888,\"#fdca26\"],[1.0,\"#f0f921\"]],\"type\":\"contour\"}],\"contourcarpet\":[{\"colorbar\":{\"outlinewidth\":0,\"ticks\":\"\"},\"type\":\"contourcarpet\"}],\"heatmap\":[{\"colorbar\":{\"outlinewidth\":0,\"ticks\":\"\"},\"colorscale\":[[0.0,\"#0d0887\"],[0.1111111111111111,\"#46039f\"],[0.2222222222222222,\"#7201a8\"],[0.3333333333333333,\"#9c179e\"],[0.4444444444444444,\"#bd3786\"],[0.5555555555555556,\"#d8576b\"],[0.6666666666666666,\"#ed7953\"],[0.7777777777777778,\"#fb9f3a\"],[0.8888888888888888,\"#fdca26\"],[1.0,\"#f0f921\"]],\"type\":\"heatmap\"}],\"heatmapgl\":[{\"colorbar\":{\"outlinewidth\":0,\"ticks\":\"\"},\"colorscale\":[[0.0,\"#0d0887\"],[0.1111111111111111,\"#46039f\"],[0.2222222222222222,\"#7201a8\"],[0.3333333333333333,\"#9c179e\"],[0.4444444444444444,\"#bd3786\"],[0.5555555555555556,\"#d8576b\"],[0.6666666666666666,\"#ed7953\"],[0.7777777777777778,\"#fb9f3a\"],[0.8888888888888888,\"#fdca26\"],[1.0,\"#f0f921\"]],\"type\":\"heatmapgl\"}],\"histogram\":[{\"marker\":{\"pattern\":{\"fillmode\":\"overlay\",\"size\":10,\"solidity\":0.2}},\"type\":\"histogram\"}],\"histogram2d\":[{\"colorbar\":{\"outlinewidth\":0,\"ticks\":\"\"},\"colorscale\":[[0.0,\"#0d0887\"],[0.1111111111111111,\"#46039f\"],[0.2222222222222222,\"#7201a8\"],[0.3333333333333333,\"#9c179e\"],[0.4444444444444444,\"#bd3786\"],[0.5555555555555556,\"#d8576b\"],[0.6666666666666666,\"#ed7953\"],[0.7777777777777778,\"#fb9f3a\"],[0.8888888888888888,\"#fdca26\"],[1.0,\"#f0f921\"]],\"type\":\"histogram2d\"}],\"histogram2dcontour\":[{\"colorbar\":{\"outlinewidth\":0,\"ticks\":\"\"},\"colorscale\":[[0.0,\"#0d0887\"],[0.1111111111111111,\"#46039f\"],[0.2222222222222222,\"#7201a8\"],[0.3333333333333333,\"#9c179e\"],[0.4444444444444444,\"#bd3786\"],[0.5555555555555556,\"#d8576b\"],[0.6666666666666666,\"#ed7953\"],[0.7777777777777778,\"#fb9f3a\"],[0.8888888888888888,\"#fdca26\"],[1.0,\"#f0f921\"]],\"type\":\"histogram2dcontour\"}],\"mesh3d\":[{\"colorbar\":{\"outlinewidth\":0,\"ticks\":\"\"},\"type\":\"mesh3d\"}],\"parcoords\":[{\"line\":{\"colorbar\":{\"outlinewidth\":0,\"ticks\":\"\"}},\"type\":\"parcoords\"}],\"pie\":[{\"automargin\":true,\"type\":\"pie\"}],\"scatter\":[{\"marker\":{\"colorbar\":{\"outlinewidth\":0,\"ticks\":\"\"}},\"type\":\"scatter\"}],\"scatter3d\":[{\"line\":{\"colorbar\":{\"outlinewidth\":0,\"ticks\":\"\"}},\"marker\":{\"colorbar\":{\"outlinewidth\":0,\"ticks\":\"\"}},\"type\":\"scatter3d\"}],\"scattercarpet\":[{\"marker\":{\"colorbar\":{\"outlinewidth\":0,\"ticks\":\"\"}},\"type\":\"scattercarpet\"}],\"scattergeo\":[{\"marker\":{\"colorbar\":{\"outlinewidth\":0,\"ticks\":\"\"}},\"type\":\"scattergeo\"}],\"scattergl\":[{\"marker\":{\"colorbar\":{\"outlinewidth\":0,\"ticks\":\"\"}},\"type\":\"scattergl\"}],\"scattermapbox\":[{\"marker\":{\"colorbar\":{\"outlinewidth\":0,\"ticks\":\"\"}},\"type\":\"scattermapbox\"}],\"scatterpolar\":[{\"marker\":{\"colorbar\":{\"outlinewidth\":0,\"ticks\":\"\"}},\"type\":\"scatterpolar\"}],\"scatterpolargl\":[{\"marker\":{\"colorbar\":{\"outlinewidth\":0,\"ticks\":\"\"}},\"type\":\"scatterpolargl\"}],\"scatterternary\":[{\"marker\":{\"colorbar\":{\"outlinewidth\":0,\"ticks\":\"\"}},\"type\":\"scatterternary\"}],\"surface\":[{\"colorbar\":{\"outlinewidth\":0,\"ticks\":\"\"},\"colorscale\":[[0.0,\"#0d0887\"],[0.1111111111111111,\"#46039f\"],[0.2222222222222222,\"#7201a8\"],[0.3333333333333333,\"#9c179e\"],[0.4444444444444444,\"#bd3786\"],[0.5555555555555556,\"#d8576b\"],[0.6666666666666666,\"#ed7953\"],[0.7777777777777778,\"#fb9f3a\"],[0.8888888888888888,\"#fdca26\"],[1.0,\"#f0f921\"]],\"type\":\"surface\"}],\"table\":[{\"cells\":{\"fill\":{\"color\":\"#EBF0F8\"},\"line\":{\"color\":\"white\"}},\"header\":{\"fill\":{\"color\":\"#C8D4E3\"},\"line\":{\"color\":\"white\"}},\"type\":\"table\"}]},\"layout\":{\"annotationdefaults\":{\"arrowcolor\":\"#2a3f5f\",\"arrowhead\":0,\"arrowwidth\":1},\"autotypenumbers\":\"strict\",\"coloraxis\":{\"colorbar\":{\"outlinewidth\":0,\"ticks\":\"\"}},\"colorscale\":{\"diverging\":[[0,\"#8e0152\"],[0.1,\"#c51b7d\"],[0.2,\"#de77ae\"],[0.3,\"#f1b6da\"],[0.4,\"#fde0ef\"],[0.5,\"#f7f7f7\"],[0.6,\"#e6f5d0\"],[0.7,\"#b8e186\"],[0.8,\"#7fbc41\"],[0.9,\"#4d9221\"],[1,\"#276419\"]],\"sequential\":[[0.0,\"#0d0887\"],[0.1111111111111111,\"#46039f\"],[0.2222222222222222,\"#7201a8\"],[0.3333333333333333,\"#9c179e\"],[0.4444444444444444,\"#bd3786\"],[0.5555555555555556,\"#d8576b\"],[0.6666666666666666,\"#ed7953\"],[0.7777777777777778,\"#fb9f3a\"],[0.8888888888888888,\"#fdca26\"],[1.0,\"#f0f921\"]],\"sequentialminus\":[[0.0,\"#0d0887\"],[0.1111111111111111,\"#46039f\"],[0.2222222222222222,\"#7201a8\"],[0.3333333333333333,\"#9c179e\"],[0.4444444444444444,\"#bd3786\"],[0.5555555555555556,\"#d8576b\"],[0.6666666666666666,\"#ed7953\"],[0.7777777777777778,\"#fb9f3a\"],[0.8888888888888888,\"#fdca26\"],[1.0,\"#f0f921\"]]},\"colorway\":[\"#636efa\",\"#EF553B\",\"#00cc96\",\"#ab63fa\",\"#FFA15A\",\"#19d3f3\",\"#FF6692\",\"#B6E880\",\"#FF97FF\",\"#FECB52\"],\"font\":{\"color\":\"#2a3f5f\"},\"geo\":{\"bgcolor\":\"white\",\"lakecolor\":\"white\",\"landcolor\":\"#E5ECF6\",\"showlakes\":true,\"showland\":true,\"subunitcolor\":\"white\"},\"hoverlabel\":{\"align\":\"left\"},\"hovermode\":\"closest\",\"mapbox\":{\"style\":\"light\"},\"paper_bgcolor\":\"white\",\"plot_bgcolor\":\"#E5ECF6\",\"polar\":{\"angularaxis\":{\"gridcolor\":\"white\",\"linecolor\":\"white\",\"ticks\":\"\"},\"bgcolor\":\"#E5ECF6\",\"radialaxis\":{\"gridcolor\":\"white\",\"linecolor\":\"white\",\"ticks\":\"\"}},\"scene\":{\"xaxis\":{\"backgroundcolor\":\"#E5ECF6\",\"gridcolor\":\"white\",\"gridwidth\":2,\"linecolor\":\"white\",\"showbackground\":true,\"ticks\":\"\",\"zerolinecolor\":\"white\"},\"yaxis\":{\"backgroundcolor\":\"#E5ECF6\",\"gridcolor\":\"white\",\"gridwidth\":2,\"linecolor\":\"white\",\"showbackground\":true,\"ticks\":\"\",\"zerolinecolor\":\"white\"},\"zaxis\":{\"backgroundcolor\":\"#E5ECF6\",\"gridcolor\":\"white\",\"gridwidth\":2,\"linecolor\":\"white\",\"showbackground\":true,\"ticks\":\"\",\"zerolinecolor\":\"white\"}},\"shapedefaults\":{\"line\":{\"color\":\"#2a3f5f\"}},\"ternary\":{\"aaxis\":{\"gridcolor\":\"white\",\"linecolor\":\"white\",\"ticks\":\"\"},\"baxis\":{\"gridcolor\":\"white\",\"linecolor\":\"white\",\"ticks\":\"\"},\"bgcolor\":\"#E5ECF6\",\"caxis\":{\"gridcolor\":\"white\",\"linecolor\":\"white\",\"ticks\":\"\"}},\"title\":{\"x\":0.05},\"xaxis\":{\"automargin\":true,\"gridcolor\":\"white\",\"linecolor\":\"white\",\"ticks\":\"\",\"title\":{\"standoff\":15},\"zerolinecolor\":\"white\",\"zerolinewidth\":2},\"yaxis\":{\"automargin\":true,\"gridcolor\":\"white\",\"linecolor\":\"white\",\"ticks\":\"\",\"title\":{\"standoff\":15},\"zerolinecolor\":\"white\",\"zerolinewidth\":2}}},\"xaxis\":{\"anchor\":\"y\",\"domain\":[0.0,1.0],\"title\":{\"text\":\"x\"}},\"yaxis\":{\"anchor\":\"x\",\"domain\":[0.0,1.0],\"title\":{\"text\":\"y\"}},\"legend\":{\"tracegroupgap\":0},\"margin\":{\"t\":60},\"barmode\":\"relative\"},                        {\"responsive\": true}                    ).then(function(){\n",
       "                            \n",
       "var gd = document.getElementById('0b5ac354-b1e2-40f6-b40b-d6778c9d18da');\n",
       "var x = new MutationObserver(function (mutations, observer) {{\n",
       "        var display = window.getComputedStyle(gd).display;\n",
       "        if (!display || display === 'none') {{\n",
       "            console.log([gd, 'removed!']);\n",
       "            Plotly.purge(gd);\n",
       "            observer.disconnect();\n",
       "        }}\n",
       "}});\n",
       "\n",
       "// Listen for the removal of the full notebook cells\n",
       "var notebookContainer = gd.closest('#notebook-container');\n",
       "if (notebookContainer) {{\n",
       "    x.observe(notebookContainer, {childList: true});\n",
       "}}\n",
       "\n",
       "// Listen for the clearing of the current output cell\n",
       "var outputEl = gd.closest('.output');\n",
       "if (outputEl) {{\n",
       "    x.observe(outputEl, {childList: true});\n",
       "}}\n",
       "\n",
       "                        })                };                });            </script>        </div>"
      ]
     },
     "metadata": {},
     "output_type": "display_data"
    }
   ],
   "source": [
    "import plotly.express as px\n",
    "fig = px.bar(x=[\"a\", \"b\", \"c\"], y=[1, 3, 2])\n",
    "fig.show()"
   ]
  },
  {
   "cell_type": "markdown",
   "id": "3ac2a4e5-3861-4fd9-ae37-af74ffeecf4f",
   "metadata": {},
   "source": [
    "Some plotly features rely on fairly large geographic shape files. The county choropleth figure factory is one such example. These shape files are distributed as a separate plotly-geo package. \n",
    "\n",
    "```conda install -c plotly plotly-geo=1.0.0```"
   ]
  },
  {
   "cell_type": "markdown",
   "id": "2a910fd9-d95a-4639-a675-a9681daf9b6d",
   "metadata": {},
   "source": []
  }
 ],
 "metadata": {
  "kernelspec": {
   "display_name": "Python 3 (ipykernel)",
   "language": "python",
   "name": "python3"
  },
  "language_info": {
   "codemirror_mode": {
    "name": "ipython",
    "version": 3
   },
   "file_extension": ".py",
   "mimetype": "text/x-python",
   "name": "python",
   "nbconvert_exporter": "python",
   "pygments_lexer": "ipython3",
   "version": "3.9.12"
  }
 },
 "nbformat": 4,
 "nbformat_minor": 5
}

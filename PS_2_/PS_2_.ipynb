{
 "cells": [
  {
   "cell_type": "markdown",
   "id": "c3d717cc-3339-426d-a436-bea380178b5e",
   "metadata": {},
   "source": [
    "# PS_2\n",
    "\n",
    "    \n",
    "     "
   ]
  },
  {
   "cell_type": "code",
   "execution_count": null,
   "id": "87aabb61-3eec-411b-a2b7-c9fc88fa6347",
   "metadata": {},
   "outputs": [],
   "source": [
    "Testing "
   ]
  }
 ],
 "metadata": {
  "kernelspec": {
   "display_name": "Python 3 (ipykernel)",
   "language": "python",
   "name": "python3"
  },
  "language_info": {
   "codemirror_mode": {
    "name": "ipython",
    "version": 3
   },
   "file_extension": ".py",
   "mimetype": "text/x-python",
   "name": "python",
   "nbconvert_exporter": "python",
   "pygments_lexer": "ipython3",
   "version": "3.9.12"
  }
 },
 "nbformat": 4,
 "nbformat_minor": 5
}

{
 "cells": [
  {
   "cell_type": "markdown",
   "id": "36890c27-0ddb-426e-9d4c-69dd2f5e2100",
   "metadata": {
    "tags": []
   },
   "source": [
    "# Seismology and Isostasy\n",
    "\n",
    "IN THE SPACE BELOW, WRITE OUT IN FULL AND THEN SIGN THE HONOR PLEDGE:\n",
    "\n",
    "“I pledge my honor that I have not violated the honor code during this examination.”\n",
    "\n",
    "**PRINT NAME**: \n",
    "\n",
    "If a fellow student has contributed significantly to this work, please acknowledge them here:\n",
    "\n",
    "**Peer(s)**:                          \n",
    "\n",
    "*Contribution:*\n",
    "\n",
    "\n",
    "By uploading this assignment through Canvas, I sign off on the document below electronically.\n",
    "\n",
    "----"
   ]
  },
  {
   "cell_type": "markdown",
   "id": "921a58c7-6ece-4b39-909b-d04f8fe4e220",
   "metadata": {},
   "source": [
    "## Part I: Mountain building and isostasy\n",
    "\n",
    "Relief is ..."
   ]
  },
  {
   "cell_type": "markdown",
   "id": "f1a8c760-f1d4-4c2e-87d6-a2c1a7fc34f2",
   "metadata": {},
   "source": [
    "**Question 1** Make a tran-section of the Himalayas and the Andes. What is the maximum relief?"
   ]
  },
  {
   "cell_type": "markdown",
   "id": "b19d91c4-6198-4884-b8a6-0d24e6ad6392",
   "metadata": {},
   "source": [
    "Give them a figure of Denudation rate as a funtion of relief and a table of denudation rates around the worl from Ahnert (1970). Add an equation for denudation"
   ]
  },
  {
   "cell_type": "markdown",
   "id": "e3d34f75-f2f6-4f81-9bcb-207a22b3c0a2",
   "metadata": {},
   "source": [
    "**Question 2** How does the denudation rate vary with tectonic settings? Do you expect rates to vary depending on rock type?"
   ]
  },
  {
   "cell_type": "markdown",
   "id": "2ed50f71-1636-4429-85c2-b7e17e08d35a",
   "metadata": {},
   "source": [
    "**Question 3** Based on values provided for two tectonic settings, calculate $\\alpha$."
   ]
  },
  {
   "cell_type": "markdown",
   "id": "c5bd29d9-f64c-49c3-bcf3-a56a488d46eb",
   "metadata": {},
   "source": [
    "Add a figure of isostasy. Give an equation of h+ and h-"
   ]
  },
  {
   "cell_type": "markdown",
   "id": "58f1f817-ae05-4614-a25e-956e8bf345b1",
   "metadata": {},
   "source": [
    "**Question 4** Modify the equation for denudation rate versus relief to account for isostasy. Make a figure of percentage of initial relief as a function of time."
   ]
  },
  {
   "cell_type": "markdown",
   "id": "55c112b7-696a-4f37-b0d9-115aac50620b",
   "metadata": {},
   "source": [
    "**Answer**\n",
    "\n",
    "Let $h_a$ and $h_b$ is the thickness of the lithosphere above and below the mean sea level, respectively. Then, the total thickness $h$ is the sum of $h_a$ and $h_b$. In this case, $h_a$ refers to the relief.\n",
    "\n",
    "<u> Isostasy </u>\n",
    "\n",
    "The pressure at the bottom of the lithosphere can be determined by two ways: 1. a column of lithosphere of a thickness of $h$ and 2. a column of mantle of a thickness of $h_b$. Both ways have to yield the same pressure. Otherwise, the pressure difference will adjust the elevation of the lithosphere until it reach the equillibrium.\n",
    "    \n",
    "\\begin{align}\n",
    "    \\rho_c g h =& \\rho_m g h_b \\\\\n",
    "    \\rho_c g h =& \\rho_m g (h - h_a) \\\\\n",
    "    h          =& \\frac{\\rho_m}{\\rho_m - \\rho_c} h_a\n",
    "\\end{align}\n",
    "\n",
    "<u> Denudation </u>\n",
    "\n",
    "From the original equation,\n",
    "$$ \\frac{dh_a}{dt} = -\\alpha h_a $$\n",
    "\n",
    "Since the lithosphere can immediately adjust its position to remain in isostatic equillibrium under the denudation, the change of the relief $h_a$ has to include the effect from isostatic adjustment. However, we can view denudation as a change in total thickness of the lithosphere instead:\n",
    "\n",
    "$$ \\frac{dh}{dt} = -\\alpha h_a $$\n",
    "\n",
    "<div style='color:green'>\n",
    "If you are not satisfied with the explanation, we can introduce a term $R(t)$ to represent the relief change due to isostatic adjustment:\n",
    "\n",
    "$$ \\frac{dh_a}{dt} = -\\alpha h_a + R(t) $$\n",
    "\n",
    "Then, the change of the lithosphere's thickness below the mean sea level must be $-R(t)$, because there is not any mechanism that creates or removes this section of the lithosphere beside the isostatic adjustment:\n",
    "\n",
    "$$ \\frac{dh_b}{dt} = -R(t) $$\n",
    "\n",
    "Combining the above two equation yield the change of the total thickness of the lithosphere.\n",
    "</div>\n",
    "\n",
    "Then, apply the relationship from isostasy:\n",
    "\n",
    "\\begin{align}\n",
    "    \\frac{d}{dt} \\left(\\frac{\\rho_m}{\\rho_m - \\rho_c} h_a \\right) =& -\\alpha h_a \\\\\n",
    "    \\left(\\frac{\\rho_m}{\\rho_m - \\rho_c} \\right) \\frac{dh_a}{dt}  =& -\\alpha h_a \\\\\n",
    "    \\frac{dh_a}{dt} &= - \\frac{\\alpha (\\rho_m - \\rho_c)}{\\rho_m} h_a\n",
    "\\end{align}\n",
    "\n",
    "Integrate the equation to obtain\n",
    "\n",
    "$$ h_a(t) = h_a(0) e^{-\\frac{\\rho_m - \\rho_c}{\\rho_m} \\alpha t} $$\n",
    "\n",
    "Note that if $\\rho_m >> \\rho_c$, the litosphere is completely above the mantle. As a consequence, the lithosphere is not subjected to isostatic adjustment, and the above equation can be approximated to\n",
    "\n",
    "$$ h_a(t) = h_a(0) e^{-\\frac{\\rho_m}{\\rho_m} \\alpha t} = h_a(0) e^{-\\alpha t} $$\n",
    "\n",
    "as expected."
   ]
  },
  {
   "cell_type": "markdown",
   "id": "0929687b-ca0a-48d3-a860-f0d1c1dd6361",
   "metadata": {},
   "source": [
    "**Question 5** Under these conditions, how much time is required to denude a mountain belt from 1 km relief to 100 m relief for the two settings in Question 3?"
   ]
  },
  {
   "cell_type": "markdown",
   "id": "3b4143d0-fb82-4ddf-b44e-3daf4d345008",
   "metadata": {},
   "source": [
    "**Question 6** Given these mountain belts still exist, speculate on what factors prevent them from being denuded away by surface processes?"
   ]
  },
  {
   "cell_type": "code",
   "execution_count": null,
   "id": "f9d58669-fb2f-4c5e-aea7-d18e2efd6afc",
   "metadata": {},
   "outputs": [],
   "source": []
  }
 ],
 "metadata": {
  "kernelspec": {
   "display_name": "fall2022 [~/opt/export/course/geo203/anaconda3/envs/fall2022/]",
   "language": "python",
   "name": "python3"
  },
  "language_info": {
   "codemirror_mode": {
    "name": "ipython",
    "version": 3
   },
   "file_extension": ".py",
   "mimetype": "text/x-python",
   "name": "python",
   "nbconvert_exporter": "python",
   "pygments_lexer": "ipython3",
   "version": "3.9.12"
  }
 },
 "nbformat": 4,
 "nbformat_minor": 5
}

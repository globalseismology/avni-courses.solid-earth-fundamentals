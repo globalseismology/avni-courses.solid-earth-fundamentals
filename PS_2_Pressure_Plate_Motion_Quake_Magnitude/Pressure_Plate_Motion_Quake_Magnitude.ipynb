{
 "cells": [
  {
   "cell_type": "markdown",
   "id": "b52ecaf6-14d5-4547-9fe2-cdad76e347b3",
   "metadata": {},
   "source": [
    "----\n",
    "# Part I: Pressure\n",
    "\n",
    "We have demonstrated how to calculate the pressure inside a planet $P(r)$ from the planet's mass density $\\rho = \\rho(r)$ and the pressure at the planet's surface $P(R)$.\n",
    "\n",
    "\\begin{equation}\n",
    "P(r) = P(R) + \\int_r^R \\rho(a) g(a) da\n",
    "\\end{equation}\n",
    "\n",
    " The gravitational acceration $g(r)$ inside a planet can be determined using Newton's law of gravitation with mass inside the sphere of radius $r$:\n",
    "\n",
    "\\begin{equation}\n",
    "g(r) = \\frac{GM_{\\text{inside}}}{r^2} = \\frac{G}{r^2} \\int_0^r 4\\pi a^2 \\rho(a) da\n",
    "\\end{equation}"
   ]
  },
  {
   "cell_type": "markdown",
   "id": "5e4d9a3a-828f-4c2e-8465-9ff052b82ce7",
   "metadata": {},
   "source": [
    "Note that the density must satisfy the equation\n",
    "\n",
    "\\begin{equation}\n",
    "M = \\int_0^R 4\\pi r^2 \\rho(r) dr\n",
    "\\end{equation}\n",
    "\n",
    "where $M$ is the planet's mass and $R$ is the planet radius. If you wonder about this equation, it is essentially $\\text{mass} = \\text{density} \\times \\text{volume}$ with density and volume as radius independent.\n",
    "\n",
    "<h3 style=\"color:coral\"> Say something about PREM </h3>"
   ]
  },
  {
   "cell_type": "code",
   "execution_count": 27,
   "id": "0932a449-d7d2-4cd8-a97f-2c6730a0564a",
   "metadata": {},
   "outputs": [],
   "source": [
    "import pint\n",
    "import pandas as pd\n",
    "import pint_pandas\n",
    "\n",
    "def read_mineos_cards(file,header = 3, R = None):\n",
    "    \"\"\"\n",
    "    Read a card deck file of physical properties in mineos format\n",
    "    \n",
    "    Input Parameters:\n",
    "    ----------------\n",
    "    \n",
    "    file: mineos card file containing columns with various properties\n",
    "    \n",
    "    header: number of lines in the header\n",
    "    \n",
    "    R: Mean radius of the planet\n",
    "    \"\"\"\n",
    "\n",
    "    # Get the default unit registry e.g. MKS units\n",
    "    ureg = pint.get_application_registry()\n",
    "        \n",
    "    # set default radius as Earth\n",
    "    if R is None: R = 6371000.0 * ureg.meter\n",
    "\n",
    "    names=['radius','rho','vpv','vsv','qkappa','qmu','vph','vsh','eta']\n",
    "    units =['m','kg/m^3','m/s','m/s','dimensionless','dimensionless','m/s','m/s','dimensionless']\n",
    "    fields=list(zip(names,units))\n",
    "    #formats=[np.float for ii in range(len(fields))]\n",
    "    # modelarr = np.genfromtxt(file,dtype=None,comments='#',skip_header=3,names=fields)\n",
    "    modelarr = pd.read_csv(file,skiprows=header,comment='#',sep='\\s+',names=fields)\n",
    "\n",
    "    # read the units from last header\n",
    "    modelarr_ = modelarr.pint.quantify(level=-1)\n",
    "    \n",
    "    # Get the depths based on subtracting radius from R\n",
    "    modelarr_['depth'] = R - modelarr_['radius'].pint.to(R.units)\n",
    "                            \n",
    "    return modelarr_"
   ]
  },
  {
   "cell_type": "code",
   "execution_count": 28,
   "id": "ff6f23f1-a90d-4606-a459-3afae58f91b3",
   "metadata": {},
   "outputs": [
    {
     "name": "stderr",
     "output_type": "stream",
     "text": [
      "/opt/export/course/geo203/anaconda3/lib/python3.9/site-packages/pint_pandas/pint_array.py:648: UnitStrippedWarning: The unit of the quantity is stripped when downcasting to ndarray.\n",
      "  return np.array(qtys, dtype=\"object\", copy=copy)\n",
      "/opt/export/course/geo203/anaconda3/lib/python3.9/site-packages/pint_pandas/pint_array.py:648: UnitStrippedWarning: The unit of the quantity is stripped when downcasting to ndarray.\n",
      "  return np.array(qtys, dtype=\"object\", copy=copy)\n"
     ]
    },
    {
     "data": {
      "text/html": [
       "<div>\n",
       "<style scoped>\n",
       "    .dataframe tbody tr th:only-of-type {\n",
       "        vertical-align: middle;\n",
       "    }\n",
       "\n",
       "    .dataframe tbody tr th {\n",
       "        vertical-align: top;\n",
       "    }\n",
       "\n",
       "    .dataframe thead th {\n",
       "        text-align: right;\n",
       "    }\n",
       "</style>\n",
       "<table border=\"1\" class=\"dataframe\">\n",
       "  <thead>\n",
       "    <tr style=\"text-align: right;\">\n",
       "      <th></th>\n",
       "      <th>radius</th>\n",
       "      <th>rho</th>\n",
       "      <th>vpv</th>\n",
       "      <th>vsv</th>\n",
       "      <th>qkappa</th>\n",
       "      <th>qmu</th>\n",
       "      <th>vph</th>\n",
       "      <th>vsh</th>\n",
       "      <th>eta</th>\n",
       "      <th>depth</th>\n",
       "    </tr>\n",
       "  </thead>\n",
       "  <tbody>\n",
       "    <tr>\n",
       "      <th>0</th>\n",
       "      <td>0.0</td>\n",
       "      <td>13088.48</td>\n",
       "      <td>11262.21</td>\n",
       "      <td>3667.8</td>\n",
       "      <td>1327.6</td>\n",
       "      <td>84.6</td>\n",
       "      <td>11262.21</td>\n",
       "      <td>3667.8</td>\n",
       "      <td>1.0</td>\n",
       "      <td>6371000.0</td>\n",
       "    </tr>\n",
       "    <tr>\n",
       "      <th>1</th>\n",
       "      <td>6824.0</td>\n",
       "      <td>13088.47</td>\n",
       "      <td>11262.2</td>\n",
       "      <td>3667.79</td>\n",
       "      <td>1327.6</td>\n",
       "      <td>84.6</td>\n",
       "      <td>11262.2</td>\n",
       "      <td>3667.79</td>\n",
       "      <td>1.0</td>\n",
       "      <td>6364176.0</td>\n",
       "    </tr>\n",
       "    <tr>\n",
       "      <th>2</th>\n",
       "      <td>13648.0</td>\n",
       "      <td>13088.44</td>\n",
       "      <td>11262.18</td>\n",
       "      <td>3667.78</td>\n",
       "      <td>1327.6</td>\n",
       "      <td>84.6</td>\n",
       "      <td>11262.18</td>\n",
       "      <td>3667.78</td>\n",
       "      <td>1.0</td>\n",
       "      <td>6357352.0</td>\n",
       "    </tr>\n",
       "    <tr>\n",
       "      <th>3</th>\n",
       "      <td>20472.0</td>\n",
       "      <td>13088.39</td>\n",
       "      <td>11262.14</td>\n",
       "      <td>3667.75</td>\n",
       "      <td>1327.6</td>\n",
       "      <td>84.6</td>\n",
       "      <td>11262.14</td>\n",
       "      <td>3667.75</td>\n",
       "      <td>1.0</td>\n",
       "      <td>6350528.0</td>\n",
       "    </tr>\n",
       "    <tr>\n",
       "      <th>4</th>\n",
       "      <td>27296.0</td>\n",
       "      <td>13088.32</td>\n",
       "      <td>11262.09</td>\n",
       "      <td>3667.72</td>\n",
       "      <td>1327.6</td>\n",
       "      <td>84.6</td>\n",
       "      <td>11262.09</td>\n",
       "      <td>3667.72</td>\n",
       "      <td>1.0</td>\n",
       "      <td>6343704.0</td>\n",
       "    </tr>\n",
       "    <tr>\n",
       "      <th>...</th>\n",
       "      <td>...</td>\n",
       "      <td>...</td>\n",
       "      <td>...</td>\n",
       "      <td>...</td>\n",
       "      <td>...</td>\n",
       "      <td>...</td>\n",
       "      <td>...</td>\n",
       "      <td>...</td>\n",
       "      <td>...</td>\n",
       "      <td>...</td>\n",
       "    </tr>\n",
       "    <tr>\n",
       "      <th>745</th>\n",
       "      <td>6369800.0</td>\n",
       "      <td>1020.0</td>\n",
       "      <td>1450.0</td>\n",
       "      <td>0.0</td>\n",
       "      <td>57822.5</td>\n",
       "      <td>0.0</td>\n",
       "      <td>1450.0</td>\n",
       "      <td>0.0</td>\n",
       "      <td>1.0</td>\n",
       "      <td>1200.0</td>\n",
       "    </tr>\n",
       "    <tr>\n",
       "      <th>746</th>\n",
       "      <td>6370100.0</td>\n",
       "      <td>1020.0</td>\n",
       "      <td>1450.0</td>\n",
       "      <td>0.0</td>\n",
       "      <td>57822.5</td>\n",
       "      <td>0.0</td>\n",
       "      <td>1450.0</td>\n",
       "      <td>0.0</td>\n",
       "      <td>1.0</td>\n",
       "      <td>900.0</td>\n",
       "    </tr>\n",
       "    <tr>\n",
       "      <th>747</th>\n",
       "      <td>6370400.0</td>\n",
       "      <td>1020.0</td>\n",
       "      <td>1450.0</td>\n",
       "      <td>0.0</td>\n",
       "      <td>57822.5</td>\n",
       "      <td>0.0</td>\n",
       "      <td>1450.0</td>\n",
       "      <td>0.0</td>\n",
       "      <td>1.0</td>\n",
       "      <td>600.0</td>\n",
       "    </tr>\n",
       "    <tr>\n",
       "      <th>748</th>\n",
       "      <td>6370700.0</td>\n",
       "      <td>1020.0</td>\n",
       "      <td>1450.0</td>\n",
       "      <td>0.0</td>\n",
       "      <td>57822.5</td>\n",
       "      <td>0.0</td>\n",
       "      <td>1450.0</td>\n",
       "      <td>0.0</td>\n",
       "      <td>1.0</td>\n",
       "      <td>300.0</td>\n",
       "    </tr>\n",
       "    <tr>\n",
       "      <th>749</th>\n",
       "      <td>6371000.0</td>\n",
       "      <td>1020.0</td>\n",
       "      <td>1450.0</td>\n",
       "      <td>0.0</td>\n",
       "      <td>57822.5</td>\n",
       "      <td>0.0</td>\n",
       "      <td>1450.0</td>\n",
       "      <td>0.0</td>\n",
       "      <td>1.0</td>\n",
       "      <td>0.0</td>\n",
       "    </tr>\n",
       "  </tbody>\n",
       "</table>\n",
       "<p>750 rows × 10 columns</p>\n",
       "</div>"
      ],
      "text/plain": [
       "        radius       rho       vpv      vsv   qkappa   qmu       vph      vsh  \\\n",
       "0          0.0  13088.48  11262.21   3667.8   1327.6  84.6  11262.21   3667.8   \n",
       "1       6824.0  13088.47   11262.2  3667.79   1327.6  84.6   11262.2  3667.79   \n",
       "2      13648.0  13088.44  11262.18  3667.78   1327.6  84.6  11262.18  3667.78   \n",
       "3      20472.0  13088.39  11262.14  3667.75   1327.6  84.6  11262.14  3667.75   \n",
       "4      27296.0  13088.32  11262.09  3667.72   1327.6  84.6  11262.09  3667.72   \n",
       "..         ...       ...       ...      ...      ...   ...       ...      ...   \n",
       "745  6369800.0    1020.0    1450.0      0.0  57822.5   0.0    1450.0      0.0   \n",
       "746  6370100.0    1020.0    1450.0      0.0  57822.5   0.0    1450.0      0.0   \n",
       "747  6370400.0    1020.0    1450.0      0.0  57822.5   0.0    1450.0      0.0   \n",
       "748  6370700.0    1020.0    1450.0      0.0  57822.5   0.0    1450.0      0.0   \n",
       "749  6371000.0    1020.0    1450.0      0.0  57822.5   0.0    1450.0      0.0   \n",
       "\n",
       "     eta      depth  \n",
       "0    1.0  6371000.0  \n",
       "1    1.0  6364176.0  \n",
       "2    1.0  6357352.0  \n",
       "3    1.0  6350528.0  \n",
       "4    1.0  6343704.0  \n",
       "..   ...        ...  \n",
       "745  1.0     1200.0  \n",
       "746  1.0      900.0  \n",
       "747  1.0      600.0  \n",
       "748  1.0      300.0  \n",
       "749  1.0        0.0  \n",
       "\n",
       "[750 rows x 10 columns]"
      ]
     },
     "execution_count": 28,
     "metadata": {},
     "output_type": "execute_result"
    }
   ],
   "source": [
    "PREM = read_mineos_cards('PREM750_CARDS')\n",
    "\n",
    "PREM"
   ]
  },
  {
   "cell_type": "code",
   "execution_count": 29,
   "id": "6e645e50-1f86-4b69-b31f-095819e55355",
   "metadata": {},
   "outputs": [
    {
     "data": {
      "text/plain": [
       "0      13088.48\n",
       "1      13088.47\n",
       "2      13088.44\n",
       "3      13088.39\n",
       "4      13088.32\n",
       "         ...   \n",
       "745      1020.0\n",
       "746      1020.0\n",
       "747      1020.0\n",
       "748      1020.0\n",
       "749      1020.0\n",
       "Name: rho, Length: 750, dtype: pint[kilogram / meter ** 3]"
      ]
     },
     "execution_count": 29,
     "metadata": {},
     "output_type": "execute_result"
    }
   ],
   "source": [
    "PREM.rho"
   ]
  },
  {
   "cell_type": "code",
   "execution_count": 30,
   "id": "ffa56537-d32e-4b1a-98d8-cddab8e81ba7",
   "metadata": {},
   "outputs": [
    {
     "data": {
      "text/plain": [
       "0      13.088480000000002\n",
       "1      13.088470000000003\n",
       "2      13.088440000000004\n",
       "3      13.088390000000002\n",
       "4      13.088320000000003\n",
       "              ...        \n",
       "745    1.0200000000000002\n",
       "746    1.0200000000000002\n",
       "747    1.0200000000000002\n",
       "748    1.0200000000000002\n",
       "749    1.0200000000000002\n",
       "Name: rho, Length: 750, dtype: pint[gram / cubic_centimeter]"
      ]
     },
     "execution_count": 30,
     "metadata": {},
     "output_type": "execute_result"
    }
   ],
   "source": [
    "PREM.rho.pint.to('g/cc')"
   ]
  },
  {
   "cell_type": "code",
   "execution_count": 31,
   "id": "ca170c60-63ca-4735-bd47-558be4789da0",
   "metadata": {},
   "outputs": [
    {
     "data": {
      "text/plain": [
       "array([13.08848, 13.08847, 13.08844, 13.08839, 13.08832, 13.08822,\n",
       "       13.08811, 13.08798, 13.08783, 13.08766, 13.08746, 13.08725,\n",
       "       13.08702, 13.08676, 13.08649, 13.0862 , 13.08588, 13.08555,\n",
       "       13.08519, 13.08482, 13.08442, 13.08401, 13.08357, 13.08311,\n",
       "       13.08264, 13.08214, 13.08162, 13.08109, 13.08053, 13.07995,\n",
       "       13.07935, 13.07873, 13.07809, 13.07744, 13.07676, 13.07606,\n",
       "       13.07534, 13.0746 , 13.07384, 13.07306, 13.07225, 13.07143,\n",
       "       13.07059, 13.06973, 13.06885, 13.06795, 13.06702, 13.06608,\n",
       "       13.06512, 13.06413, 13.06313, 13.0621 , 13.06106, 13.06   ,\n",
       "       13.05891, 13.05781, 13.05668, 13.05553, 13.05437, 13.05318,\n",
       "       13.05198, 13.05075, 13.0495 , 13.04823, 13.04695, 13.04564,\n",
       "       13.04431, 13.04296, 13.04159, 13.0402 , 13.03879, 13.03736,\n",
       "       13.03591, 13.03444, 13.03295, 13.03144, 13.02991, 13.02836,\n",
       "       13.02679, 13.0252 , 13.02358, 13.02195, 13.0203 , 13.01863,\n",
       "       13.01693, 13.01522, 13.01349, 13.01173, 13.00996, 13.00816,\n",
       "       13.00635, 13.00451, 13.00266, 13.00078, 12.99888, 12.99697,\n",
       "       12.99503, 12.99307, 12.9911 , 12.9891 , 12.98708, 12.98504,\n",
       "       12.98299, 12.98091, 12.97881, 12.97669, 12.97455, 12.97239,\n",
       "       12.97021, 12.96801, 12.96579, 12.96355, 12.96129, 12.95901,\n",
       "       12.9567 , 12.95438, 12.95204, 12.94968, 12.94729, 12.94489,\n",
       "       12.94247, 12.94002, 12.93756, 12.93508, 12.93257, 12.93005,\n",
       "       12.9275 , 12.92494, 12.92235, 12.91975, 12.91712, 12.91447,\n",
       "       12.91181, 12.90912, 12.90641, 12.90368, 12.90094, 12.89817,\n",
       "       12.89538, 12.89257, 12.88974, 12.88689, 12.88402, 12.88113,\n",
       "       12.87822, 12.87529, 12.87234, 12.86937, 12.86638, 12.86337,\n",
       "       12.86034, 12.85729, 12.85421, 12.85112, 12.84801, 12.84488,\n",
       "       12.84172, 12.83855, 12.83535, 12.83214, 12.82891, 12.82565,\n",
       "       12.82238, 12.81908, 12.81576, 12.81243, 12.80907, 12.8057 ,\n",
       "       12.8023 , 12.79888, 12.79545, 12.79199, 12.78851, 12.78501,\n",
       "       12.78149, 12.77795, 12.7744 , 12.77082, 12.76722, 12.7636 ,\n",
       "       12.16635, 12.15977, 12.15314, 12.14645, 12.13971, 12.13291,\n",
       "       12.12605, 12.11914, 12.11218, 12.10515, 12.09807, 12.09093,\n",
       "       12.08373, 12.07648, 12.06917, 12.06179, 12.05437, 12.04688,\n",
       "       12.03933, 12.03172, 12.02405, 12.01633, 12.00854, 12.00069,\n",
       "       11.99278, 11.98481, 11.97678, 11.96868, 11.96053, 11.95231,\n",
       "       11.94403, 11.93569, 11.92728, 11.91881, 11.91028, 11.90168,\n",
       "       11.89302, 11.8843 , 11.87551, 11.86666, 11.85774, 11.84875,\n",
       "       11.8397 , 11.83058, 11.8214 , 11.81215, 11.80284, 11.79346,\n",
       "       11.784  , 11.77449, 11.7649 , 11.75525, 11.74553, 11.73574,\n",
       "       11.72588, 11.71595, 11.70595, 11.69589, 11.68575, 11.67554,\n",
       "       11.66526, 11.65492, 11.6445 , 11.634  , 11.62344, 11.61281,\n",
       "       11.6021 , 11.59132, 11.58047, 11.56955, 11.55855, 11.54748,\n",
       "       11.53634, 11.52512, 11.51383, 11.50246, 11.49102, 11.4795 ,\n",
       "       11.46791, 11.45625, 11.4445 , 11.43269, 11.42079, 11.40882,\n",
       "       11.39677, 11.38464, 11.37244, 11.36016, 11.3478 , 11.33537,\n",
       "       11.32285, 11.31026, 11.29758, 11.28483, 11.272  , 11.25909,\n",
       "       11.2461 , 11.23303, 11.21987, 11.20664, 11.19333, 11.17993,\n",
       "       11.16645, 11.15289, 11.13925, 11.12553, 11.11172, 11.09783,\n",
       "       11.08386, 11.0698 , 11.05566, 11.04144, 11.02713, 11.01274,\n",
       "       10.99826, 10.9837 , 10.96905, 10.95432, 10.9395 , 10.92459,\n",
       "       10.9096 , 10.89452, 10.87935, 10.8641 , 10.84876, 10.83333,\n",
       "       10.81781, 10.80221, 10.78651, 10.77073, 10.75486, 10.7389 ,\n",
       "       10.72285, 10.70671, 10.69048, 10.67416, 10.65775, 10.64124,\n",
       "       10.62465, 10.60796, 10.59119, 10.57432, 10.55736, 10.5403 ,\n",
       "       10.52316, 10.50592, 10.48858, 10.47116, 10.45363, 10.43602,\n",
       "       10.41831, 10.40051, 10.38261, 10.36461, 10.34652, 10.32834,\n",
       "       10.31005, 10.29168, 10.2732 , 10.25463, 10.23596, 10.2172 ,\n",
       "       10.19833, 10.17937, 10.16031, 10.14115, 10.1219 , 10.10254,\n",
       "       10.08309, 10.06353, 10.04388, 10.02412, 10.00427,  9.98432,\n",
       "        9.96426,  9.9441 ,  9.92384,  9.90348,  5.56645,  5.56175,\n",
       "        5.55705,  5.55236,  5.54766,  5.54297,  5.53828,  5.53359,\n",
       "        5.5289 ,  5.52421,  5.51953,  5.51485,  5.51016,  5.50548,\n",
       "        5.50081,  5.49613,  5.49145,  5.49145,  5.48673,  5.48201,\n",
       "        5.47729,  5.47257,  5.46785,  5.46313,  5.45842,  5.4537 ,\n",
       "        5.44899,  5.44427,  5.43956,  5.43485,  5.43013,  5.42542,\n",
       "        5.42071,  5.416  ,  5.41129,  5.40657,  5.40186,  5.39715,\n",
       "        5.39244,  5.38773,  5.38302,  5.3783 ,  5.37359,  5.36888,\n",
       "        5.36417,  5.35945,  5.35474,  5.35002,  5.34531,  5.34059,\n",
       "        5.33587,  5.33116,  5.32644,  5.32172,  5.317  ,  5.31228,\n",
       "        5.30755,  5.30283,  5.2981 ,  5.29338,  5.28865,  5.28392,\n",
       "        5.27919,  5.27446,  5.26972,  5.26498,  5.26025,  5.25551,\n",
       "        5.25077,  5.24602,  5.24128,  5.23653,  5.23178,  5.22703,\n",
       "        5.22227,  5.21752,  5.21276,  5.208  ,  5.20323,  5.19847,\n",
       "        5.1937 ,  5.18893,  5.18415,  5.17938,  5.1746 ,  5.16982,\n",
       "        5.16503,  5.16024,  5.15545,  5.15065,  5.14586,  5.14106,\n",
       "        5.13625,  5.13144,  5.12663,  5.12182,  5.117  ,  5.11217,\n",
       "        5.10735,  5.10252,  5.09769,  5.09285,  5.08801,  5.08316,\n",
       "        5.07831,  5.07346,  5.0686 ,  5.06374,  5.05887,  5.054  ,\n",
       "        5.04913,  5.04425,  5.03936,  5.03447,  5.02958,  5.02468,\n",
       "        5.01978,  5.01487,  5.00996,  5.00504,  5.00012,  4.99519,\n",
       "        4.99026,  4.98532,  4.98038,  4.97543,  4.97047,  4.96551,\n",
       "        4.96055,  4.95558,  4.9506 ,  4.94562,  4.94063,  4.93564,\n",
       "        4.93064,  4.92563,  4.92062,  4.9156 ,  4.91058,  4.90555,\n",
       "        4.90051,  4.89547,  4.89042,  4.88537,  4.88031,  4.87524,\n",
       "        4.87016,  4.86508,  4.85999,  4.8549 ,  4.8498 ,  4.84469,\n",
       "        4.83957,  4.83445,  4.82932,  4.82418,  4.81904,  4.81388,\n",
       "        4.80873,  4.80356,  4.79839,  4.7932 ,  4.78802,  4.78282,\n",
       "        4.77761,  4.7724 ,  4.76718,  4.76195,  4.75672,  4.75148,\n",
       "        4.74622,  4.74096,  4.73569,  4.73042,  4.72513,  4.71984,\n",
       "        4.71454,  4.70923,  4.70391,  4.69858,  4.69325,  4.6879 ,\n",
       "        4.68255,  4.67719,  4.67182,  4.66644,  4.66105,  4.65565,\n",
       "        4.65024,  4.64482,  4.6394 ,  4.63396,  4.62852,  4.62306,\n",
       "        4.6176 ,  4.61213,  4.60664,  4.60115,  4.59565,  4.59014,\n",
       "        4.58461,  4.57908,  4.57354,  4.56799,  4.56242,  4.55685,\n",
       "        4.55127,  4.54568,  4.54007,  4.53446,  4.52883,  4.5232 ,\n",
       "        4.51755,  4.5119 ,  4.50623,  4.50055,  4.49486,  4.48916,\n",
       "        4.48345,  4.47773,  4.472  ,  4.46625,  4.4605 ,  4.45473,\n",
       "        4.44895,  4.44317,  4.44317,  4.4393 ,  4.43543,  4.43156,\n",
       "        4.42767,  4.42379,  4.4199 ,  4.416  ,  4.4121 ,  4.4082 ,\n",
       "        4.40428,  4.40037,  4.39644,  4.39252,  4.38858,  4.38465,\n",
       "        4.3807 ,  3.99214,  3.99097,  3.98981,  3.98864,  3.98748,\n",
       "        3.98632,  3.98515,  3.98399,  3.98282,  3.98166,  3.98049,\n",
       "        3.97933,  3.97817,  3.977  ,  3.97584,  3.97584,  3.96744,\n",
       "        3.95903,  3.95063,  3.94223,  3.93383,  3.92542,  3.91702,\n",
       "        3.90862,  3.90022,  3.89181,  3.88341,  3.87501,  3.86661,\n",
       "        3.8582 ,  3.8498 ,  3.8414 ,  3.833  ,  3.82459,  3.81619,\n",
       "        3.80779,  3.79939,  3.79098,  3.78258,  3.77418,  3.76578,\n",
       "        3.75737,  3.74897,  3.74057,  3.73217,  3.72376,  3.54326,\n",
       "        3.53968,  3.53609,  3.53251,  3.52893,  3.52534,  3.52176,\n",
       "        3.51818,  3.51459,  3.51101,  3.50743,  3.50385,  3.50026,\n",
       "        3.49668,  3.4931 ,  3.48951,  3.48593,  3.48235,  3.47877,\n",
       "        3.47518,  3.4716 ,  3.46802,  3.46443,  3.46085,  3.45727,\n",
       "        3.45368,  3.4501 ,  3.44652,  3.44294,  3.43935,  3.43577,\n",
       "        3.35949,  3.36016,  3.36082,  3.36148,  3.36214,  3.3628 ,\n",
       "        3.36346,  3.36413,  3.36479,  3.36545,  3.36611,  3.36677,\n",
       "        3.36743,  3.36809,  3.36876,  3.36942,  3.37008,  3.37074,\n",
       "        3.3714 ,  3.37206,  3.37273,  3.37339,  3.37405,  3.37471,\n",
       "        3.37471,  3.37514,  3.37557,  3.37601,  3.37644,  3.37687,\n",
       "        3.3773 ,  3.37773,  3.37817,  3.3786 ,  3.37903,  3.37946,\n",
       "        3.37989,  3.38032,  3.38076,  2.9    ,  2.9    ,  2.9    ,\n",
       "        2.9    ,  2.9    ,  2.9    ,  2.9    ,  2.9    ,  2.9    ,\n",
       "        2.9    ,  2.9    ,  2.6    ,  2.6    ,  2.6    ,  2.6    ,\n",
       "        2.6    ,  2.6    ,  2.6    ,  2.6    ,  2.6    ,  2.6    ,\n",
       "        2.6    ,  1.02   ,  1.02   ,  1.02   ,  1.02   ,  1.02   ,\n",
       "        1.02   ,  1.02   ,  1.02   ,  1.02   ,  1.02   ,  1.02   ])"
      ]
     },
     "execution_count": 31,
     "metadata": {},
     "output_type": "execute_result"
    }
   ],
   "source": [
    "PREM.rho.pint.to('g/cc').values.data"
   ]
  },
  {
   "cell_type": "markdown",
   "id": "2eb5ee2b-5c97-43dd-ac95-6359de6c9e58",
   "metadata": {
    "tags": []
   },
   "source": [
    "### Mini-tutorial\n",
    "\n",
    "- **Integration with scipy**\n",
    "\n",
    "We will compute a definite integral of $y = f(x) = x^2$ from $x=0$ to $x=3$. This integral should be compute easily the value by hand:\n",
    "\\begin{equation}\n",
    "\\int_0^3 x^2 dx = \\frac{x^3}{3} \\Big|_{x=0}^{x=3} = 9\n",
    "\\end{equation}\n",
    "\n",
    "We will use `scipy.integrate.trapezoid` to integrate the function with given (x,y) using Trapezoidal rule."
   ]
  },
  {
   "cell_type": "code",
   "execution_count": 19,
   "id": "4141ed2f-bc51-41b2-b1cd-1c2f4f6d8c6d",
   "metadata": {},
   "outputs": [],
   "source": [
    "import numpy as np\n",
    "from scipy import integrate\n",
    "import matplotlib.pyplot as plt"
   ]
  },
  {
   "cell_type": "code",
   "execution_count": 14,
   "id": "b00e1ed0-04d2-4380-b711-cee10ce324aa",
   "metadata": {},
   "outputs": [],
   "source": [
    "x = np.linspace(0,3,100)\n",
    "y = x ** 2"
   ]
  },
  {
   "cell_type": "code",
   "execution_count": 15,
   "id": "ed14a8d3-47b1-4e76-b2ea-c4844f3d5ece",
   "metadata": {},
   "outputs": [],
   "source": [
    "# integrate y = f(x) from x=0 to x=3\n",
    "integral = integrate.trapezoid(y, x)"
   ]
  },
  {
   "cell_type": "markdown",
   "id": "8c64d999-80e2-4725-8ac2-cc59b0f7b24f",
   "metadata": {},
   "source": [
    "The different between the numerical answer and the analytical answer is about the precision of very small."
   ]
  },
  {
   "cell_type": "code",
   "execution_count": 16,
   "id": "1e115a35-02a7-4de8-ab4a-5a9d62371c94",
   "metadata": {},
   "outputs": [
    {
     "data": {
      "text/plain": [
       "0.00045913682277465284"
      ]
     },
     "execution_count": 16,
     "metadata": {},
     "output_type": "execute_result"
    }
   ],
   "source": [
    "# compare the computed values with the analytical answer\n",
    "integral - 9"
   ]
  },
  {
   "cell_type": "code",
   "execution_count": 26,
   "id": "09ceb362-dc21-4e6b-b930-ae11386e52ab",
   "metadata": {},
   "outputs": [
    {
     "data": {
      "text/plain": [
       "Text(0, 0.5, 'Absolute error')"
      ]
     },
     "execution_count": 26,
     "metadata": {},
     "output_type": "execute_result"
    },
    {
     "data": {
      "image/png": "[encoded data removed]",
      "text/plain": [
       "<Figure size 432x288 with 1 Axes>"
      ]
     },
     "metadata": {
      "needs_background": "light"
     },
     "output_type": "display_data"
    }
   ],
   "source": [
    "N = np.array([2, 5, 10, 20, 50, 100, 200, 500, 1000, 2000, 5000, 10000])\n",
    "err = np.zeros(shape=np.shape(N))\n",
    "\n",
    "for ii, n in enumerate(N):\n",
    "    x = np.linspace(0,3,n)\n",
    "    y = x ** 2\n",
    "    err[ii] = integrate.trapezoid(y, x) - 9\n",
    "    \n",
    "plt.loglog(N-1,diff)\n",
    "plt.grid()\n",
    "plt.xlabel('Number of trapezoid(s)', fontsize=12)\n",
    "plt.ylabel('Absolute error', fontsize=12)"
   ]
  },
  {
   "cell_type": "markdown",
   "id": "42fe1530-470c-4434-ae69-e37ea316fc76",
   "metadata": {},
   "source": [
    "## To do\n",
    "\n",
    "**Q1** Compute the gravity and pressure at any given radius"
   ]
  },
  {
   "cell_type": "markdown",
   "id": "c0c073eb-3203-4052-b57d-c1ac255bfebe",
   "metadata": {},
   "source": [
    "**Answer**"
   ]
  },
  {
   "cell_type": "code",
   "execution_count": 50,
   "id": "98ebf63b-0f5d-4447-b036-48c2e2c1692c",
   "metadata": {},
   "outputs": [],
   "source": [
    "import matplotlib.pyplot as plt"
   ]
  },
  {
   "cell_type": "code",
   "execution_count": 77,
   "id": "b0a596ee-ef6e-4e08-adb2-a365927e9529",
   "metadata": {},
   "outputs": [
    {
     "name": "stderr",
     "output_type": "stream",
     "text": [
      "/tmp/ipykernel_2114434/988350095.py:10: RuntimeWarning: divide by zero encountered in double_scalars\n",
      "  gravity[ii] = G / (r[ii] ** 2) * integrate.trapezoid(4*np.pi*(r[:ii+1]**2)*rho[:ii+1], r[:ii+1])\n",
      "/tmp/ipykernel_2114434/988350095.py:10: RuntimeWarning: invalid value encountered in double_scalars\n",
      "  gravity[ii] = G / (r[ii] ** 2) * integrate.trapezoid(4*np.pi*(r[:ii+1]**2)*rho[:ii+1], r[:ii+1])\n"
     ]
    },
    {
     "data": {
      "image/png": "[encoded data removed]",
      "text/plain": [
       "<Figure size 432x288 with 1 Axes>"
      ]
     },
     "metadata": {
      "needs_background": "light"
     },
     "output_type": "display_data"
    }
   ],
   "source": [
    "# integrate for gravity\n",
    "# g(r) = G/r^2 \\int_0^r 4\\pi a^2 \\rho(a) da\n",
    "G = 6.674e-11      # m^3 kg^-1 s^-2      Gravitational constant\n",
    "\n",
    "gravity = np.empty(shape = np.shape(PREM.radius.values.data))\n",
    "rho = PREM.rho.values.data\n",
    "r = PREM.radius.values.data\n",
    "\n",
    "for ii in range(len(gravity)):\n",
    "    gravity[ii] = G / (r[ii] ** 2) * integrate.trapezoid(4*np.pi*(r[:ii+1]**2)*rho[:ii+1], r[:ii+1])\n",
    "    \n",
    "plt.plot(r / 1000, gravity)\n",
    "plt.xlabel('radius (km)')\n",
    "plt.ylabel(r'gravitational acceleration (m/s$^2$)')\n",
    "plt.grid()\n",
    "plt.show()"
   ]
  },
  {
   "cell_type": "code",
   "execution_count": 90,
   "id": "8f74dc45-8c89-4455-8d4f-6b52dca63500",
   "metadata": {},
   "outputs": [
    {
     "data": {
      "image/png": "[encoded data removed]",
      "text/plain": [
       "<Figure size 432x288 with 1 Axes>"
      ]
     },
     "metadata": {
      "needs_background": "light"
     },
     "output_type": "display_data"
    },
    {
     "data": {
      "image/png": "[encoded data removed]",
      "text/plain": [
       "<Figure size 432x288 with 1 Axes>"
      ]
     },
     "metadata": {
      "needs_background": "light"
     },
     "output_type": "display_data"
    }
   ],
   "source": [
    "pressure = np.empty(shape = np.shape(PREM.radius.values.data))\n",
    "\n",
    "for ii in range(len(pressure)):\n",
    "    pressure[ii] = integrate.trapezoid(gravity[ii:] * rho[ii:], r[ii:])\n",
    "    \n",
    "plt.plot(r / 1000, pressure)\n",
    "plt.xlabel('radius (km)')\n",
    "plt.ylabel(r'pressure (kg m/s$^{-1}$)')\n",
    "plt.grid()\n",
    "plt.show()\n",
    "\n",
    "plt.plot(r / 1000, pressure/1e9)\n",
    "plt.xlabel('radius (km)')\n",
    "plt.ylabel('pressure (GPa)')\n",
    "plt.grid()\n",
    "plt.show()"
   ]
  },
  {
   "cell_type": "code",
   "execution_count": null,
   "id": "8e76023d-d83e-46ec-9399-c9bf8d5519a5",
   "metadata": {},
   "outputs": [],
   "source": [
    "gravity = # a numpy array\n",
    "pressure =  # a numpy array\n",
    "\n",
    "# Create a default array to add to existing Pandas Dataframe\n",
    "PA_ = pint_pandas.PintArray\n",
    "\n",
    "PREM['gravity'] = PA_(gravity, dtype=\"pint[m/s^2]\")\n",
    "PREM['pressure'] = PA_(pressure, dtype=\"pint[N/m^2]\")"
   ]
  },
  {
   "cell_type": "code",
   "execution_count": null,
   "id": "d352e981-488d-4e02-b2bc-e67693b8fbdb",
   "metadata": {},
   "outputs": [],
   "source": [
    "PREM['pressure']"
   ]
  },
  {
   "cell_type": "markdown",
   "id": "14ceeb1a-0b3c-4e77-9db8-50f1d9eb8ff7",
   "metadata": {},
   "source": [
    "----\n",
    "## Part II: Plate Motion\n",
    "\n",
    "Below is a sketch that shows the (simplified) geometry of the lithospheric plates near the coast of Oregon and Washington. Three plates are present: the North America plate, the Pacific plate, and the Juan de Fuca plate.\n",
    "\n",
    "![Three plates](Three_plates.png)\n",
    "\n",
    "Assume (1) that the spreading of the Juan de Fuca plate and Pacific plate is perpendicular to the\n",
    "ridge as drawn, and is 40 mm/yr, and (2) that the strike-slip motion between the North America\n",
    "plate and the Pacific plate is parallel to the North America—Pacific plate boundary and is 56 mm/yr.\n",
    "The orientation of the ridge is 10$^{\\circ}$ East of North. The orientation of the North America—Pacific\n",
    "plate boundary is 35$^{\\circ}$ West of North."
   ]
  },
  {
   "cell_type": "markdown",
   "id": "0a350809-ed1b-4181-8e90-493a790d2c6a",
   "metadata": {},
   "source": [
    "## To do\n",
    "\n",
    "**Q2** What is the motion (the direction with respect to North in degrees, and the magnitude in mm/yr) of the Juan de Fuca plate with respect to the North America plate? Draw an arrow showing this direction on the map. \n",
    "\n",
    "**Hint**: Because the Juan de Fuca plate is small, you can consider this a ‘flat Earth’ problem. Also, recall that if three plates interact, and the velocity vector of plate $A$ with respect to plate $B$ is $_B\\textbf{V}_A$, and that of plate $B$ with respect to plate $C$ is $_C\\textbf{V}_B$, then $_C\\textbf{V}_A= _B\\textbf{V}_A+ _C\\textbf{V}_B$"
   ]
  },
  {
   "cell_type": "markdown",
   "id": "832e7bec-5e77-4b1d-b6af-0f81ca8cfb15",
   "metadata": {},
   "source": [
    "**Answer**"
   ]
  },
  {
   "cell_type": "markdown",
   "id": "5b2eedbb-aa8a-4f76-be3f-dbc726ac8143",
   "metadata": {},
   "source": [
    "**Q3** Based on the relative plate motion, what type of plate boundary is this? (Reminder: there are three types of plate boundaries: convergent or collision boundaries, divergent or spreading boundaries, and transform boundaries.)"
   ]
  },
  {
   "cell_type": "markdown",
   "id": "183a7bbe-fd4d-457d-8d4a-f744b37dae1a",
   "metadata": {},
   "source": [
    "**Answer**"
   ]
  },
  {
   "cell_type": "markdown",
   "id": "f53dac7f-9f78-4486-aa41-7b65c3a94e4a",
   "metadata": {},
   "source": [
    "----\n",
    "## Part III: Quake Magnitude"
   ]
  },
  {
   "cell_type": "markdown",
   "id": "6b93ba28-9de3-4629-990b-287e5a03af77",
   "metadata": {},
   "source": [
    "Seismologists were for a long time content to use the intensity scale and the magnitude scale to measure and compare the sizes of earthquakes. Both of these scales are empirical, even though determining a magnitude involves making a measurement on a seismogram. Neither measure depends directly on the size of the earthquake fault or the amount of slip that occurred on it. These scales can be contrasted against the seismic moment (or scalar moment), usually denoted by $M_0$. This quantity can be routinely and accurately determined from seismograms. To do so is more complicated than measuring a magnitude, but the advantage of the seismic moment is that it is directly related to physical quantities. The seismic moment is\n",
    "\n",
    "$$ M_0 =\\mu \\times A \\times u, $$\n",
    "\n",
    "where $A$ is the area of the fault that slipped, $u$ is the average amount of slip on the fault, and $\\mu$ is the shear modulus, which is a property of the rocks surrounding the fault. The shear modulus describes how much force is necessary to elastically bend the rock – a typical value for rocks in the Earth’s crust is $\\mu= 3.3 \\times 10^{10} \\text{N}/\\text{m}^2$.\n",
    "\n",
    "We can calculate the seismic moment of the greatest known earthquake, the 1960 Chile earthquake, by using estimates of the fault dimensions and slip: the length of the fault $L∼1000$ km, the width $W∼200$ km and the total slip $u∼20$ meters: $M_0 = 1000 \\times 10^3 \\times 200 \\times 10^3 \\times 20 \\times 3 \\times 10^{10} = 1.2 \\times 10^{23} \\text{Nm}$ (newton $\\times$ meter). Physically this is not an *energy* but a *moment*, i.e. a force times a length of lever arm."
   ]
  },
  {
   "cell_type": "markdown",
   "id": "77945ecb-cd7f-4971-a6df-ce25c828f376",
   "metadata": {},
   "source": [
    "## To do\n",
    "\n",
    "**Q4** The seismic moment of the 1994 Northridge (L.A.) earthquake was $2 \\times 10^{19}$ Nm. The slip appears to have been 1.3 meters. How big was the fault area that slipped?"
   ]
  },
  {
   "cell_type": "markdown",
   "id": "828cecce-d1b4-444b-8669-dfb141dbb306",
   "metadata": {},
   "source": [
    "**Answer**"
   ]
  },
  {
   "cell_type": "markdown",
   "id": "16c456ab-39b7-4b20-85cc-8391aaba19d3",
   "metadata": {},
   "source": [
    "**Q5** If the 20 meters of slip that occurred in the 1960 Chile earthquake corresponded to the accumulated plate motions between the Nazca and South America plates since the previous great earthquake in this region — when would that earthquake have occurred? [**Useful fact**: Approximately 8 km of the Nazca plate has subducted beneath South America in the last 100,000 years.]"
   ]
  },
  {
   "cell_type": "markdown",
   "id": "8e8bc65e-9fa9-4579-b830-9b358de1d7bb",
   "metadata": {},
   "source": [
    "**Answer**"
   ]
  },
  {
   "cell_type": "markdown",
   "id": "4a24a859-3a63-4783-909b-3e91c07d6ba5",
   "metadata": {},
   "source": [
    "When an earthquake happens, the energy stored in the elastically deformed plates is converted into other energy forms, primarily frictional heat and elastic wave energy (most of which turns into heat, too). It turns out that it is very difficult to measure the amount of energy $E$ released in an earthquake accurately but, to within a factor of 5, it appears to be proportional to the seismic moment. A relationship which seems to be on average correct is $E= M_0 \\times 5 \\times 10^{-5}$. The energy $E$ is measured in newton-meters (Nm) or joules (J)"
   ]
  },
  {
   "cell_type": "markdown",
   "id": "dfbe2f14-5791-420d-8265-4e5f797eee1f",
   "metadata": {},
   "source": [
    "**Q6** Estimate the energy released in the 1994 Northridge (L.A.) earthquake. Compare the value you get with U.S. total daily energy consumption ($~5 \\times 10^{17}$ J)."
   ]
  },
  {
   "cell_type": "markdown",
   "id": "37214bb9-81ca-4a0e-9867-262093c9a296",
   "metadata": {},
   "source": [
    "**Answer**"
   ]
  },
  {
   "cell_type": "markdown",
   "id": "6c8b15e2-f1ef-4de4-8e25-b6a2b5be8679",
   "metadata": {},
   "source": [
    "Instead of getting rid of the magnitude scale, seismologists decided to create a new magnitude based on the seismic moment. This was done so as not to confuse the public (and themselves), to avoid dealing with very large numbers like $10^{20}$, and to be able to compare old magnitude estimates with modern seismic moments, and so on. From the seismic moment (measured in Nm) one can calculate a magnitude $M_W$ called the moment magnitude using the equation\n",
    "\n",
    "$$ M_W = \\frac{2}{3} (\\log_{10}M_0 - 9.05) $$\n",
    "\n",
    "The constants in this equation were chosen so that the new scale coincides with Richter’s traditional magnitude scale. That is, an earthquake that is measured with traditional means to have a Richter magnitude of 6.5 will typically also have a seismic moment that corresponds to a moment magnitude of 6.5. However, for an individual earthquake, it is not uncommon for the the traditional magnitude to be wrong by half a magnitude unit. It is particularly difficult to measure the magnitudes of very large earthquakes using the ‘old-fashioned’ approach."
   ]
  },
  {
   "cell_type": "markdown",
   "id": "1e6b01b4-50d8-4a08-9f5f-8ad0b785ec05",
   "metadata": {},
   "source": [
    "**Q7** What is the moment magnitude of the 1960 Chile earthquake?"
   ]
  },
  {
   "cell_type": "markdown",
   "id": "9f69ec22-bf50-483f-bcc6-575ed3f697a1",
   "metadata": {},
   "source": [
    "**Answer**"
   ]
  },
  {
   "cell_type": "markdown",
   "id": "4853cea8-66c6-42e6-842a-ce7bf1a87df6",
   "metadata": {},
   "source": [
    "**Q8** From these relationships, calculate how much more energy is released in a $M_W=7$ than in a $M_W=6$ earthquake."
   ]
  },
  {
   "cell_type": "markdown",
   "id": "2accad41-afac-48bd-832e-76283e87c66c",
   "metadata": {},
   "source": [
    "**Answer**"
   ]
  }
 ],
 "metadata": {
  "kernelspec": {
   "display_name": "Python 3 (ipykernel)",
   "language": "python",
   "name": "python3"
  },
  "language_info": {
   "codemirror_mode": {
    "name": "ipython",
    "version": 3
   },
   "file_extension": ".py",
   "mimetype": "text/x-python",
   "name": "python",
   "nbconvert_exporter": "python",
   "pygments_lexer": "ipython3",
   "version": "3.9.12"
  }
 },
 "nbformat": 4,
 "nbformat_minor": 5
}

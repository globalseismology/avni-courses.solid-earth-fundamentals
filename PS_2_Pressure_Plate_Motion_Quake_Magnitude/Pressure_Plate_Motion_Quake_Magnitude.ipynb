{
 "cells": [
  {
   "cell_type": "markdown",
   "id": "737d9695-0324-4212-8e87-c7d068dcf809",
   "metadata": {
    "tags": []
   },
   "source": [
    "# GEO 203: Fundamentals of Solid Earth Science\n",
    "\n",
    "## Problem Sheet \\# 2 Pressure, Plate Motion, and Earthquake Size\n",
    "\n",
    "*Due 11:59pm Tuesday, September 27 via Gradescope upload (see Canvas link)*\n",
    "\n",
    "IN THE SPACE BELOW, WRITE OUT IN FULL AND THEN SIGN THE HONOR PLEDGE:\n",
    "\n",
    "“I pledge my honor that I have not violated the honor code during this examination.”\n",
    "\n",
    "**PRINT NAME**:\n",
    "\n",
    "By uploading this assignment through Canvas, I sign off on the document below electronically.\n",
    "\n",
    "----"
   ]
  },
  {
   "cell_type": "markdown",
   "id": "53d8d511-68fa-4cf2-9541-b315aac79213",
   "metadata": {},
   "source": [
    "# Part I: Pressure variations on and within a terrestrial planet\n",
    "\n",
    "Pressure, or force per unit area, plays an important role in creating and maintaining a habitable planet. Atmospheric pressure controls the living condition on the planet's surface while the pressure deep inside the planet's interior dictate the materials (i.e. minerals and their rock assemblages) that may exist in the planet. We study the pressure variations in Earth and other terrestrial planets to understand the wide variety of pressure conditions.\n",
    "\n",
    "## Section A: pressure at the surface\n",
    "\n",
    "Pressure at the surface mostly comes from the atmosphere, a usually thin veneer that lies on top of the rocky planet. The surface pressure dictates whether liquid water could exist on the planet's surface. The variation of pressure in space and time causes the circulation of air which in turn dictates weather patterns.\n",
    "\n",
    "The air pressure at the Earth’s surface is $1.013 \\times 10^5 \\text{ N/m}^2$. This pressure supports the weight of the Earth’s\n",
    "atmosphere. (Weight is the gravitational force: $\\text{weight} = m \\times g$.)\n",
    "\n",
    "**Q1** What is the mass of Earth's atmosphere? The radius of the Earth: $6371 \\text{ km}$. The gravitational acceleration $g: 9.8 \\text{ m/s}^2$. You can assume that the weight of the Earth's atmosphere acts equally on the Earth's surface."
   ]
  },
  {
   "cell_type": "markdown",
   "id": "d74b36fd-e51c-46ad-ba8d-ecb07c436e47",
   "metadata": {},
   "source": [
    "**Answer**"
   ]
  },
  {
   "cell_type": "markdown",
   "id": "68336a46-79c9-4598-9fde-a3d8f993b92f",
   "metadata": {},
   "source": [
    "**Q2** The planets closest to us, Mars and Venus, are in many ways similar to Earth, but their atmospheres are quite different.\n",
    "\n",
    "| Planet                       | Venus                   | Mars                    |\n",
    "| ---------------------------- | ----------------------- | ----------------------- |\n",
    "| Radius                       | 6052 km                 | 3397 km                 |\n",
    "| Gravitational acceleration   | 9.1 m/s$^2$             | 3.8 m/s$^2$             |\n",
    "| Mass of atmosphere           | 4.5 x 10$^{20}$ kg      | 2.2 x 10$^{16}$ kg      |\n",
    "\n",
    "What is the atmospheric pressure on the surface of Mars and Venus?"
   ]
  },
  {
   "cell_type": "markdown",
   "id": "255304d7-8593-481a-bffd-adcedb1c595a",
   "metadata": {},
   "source": [
    "**Answer**"
   ]
  },
  {
   "cell_type": "markdown",
   "id": "07bbde1c-3aa4-4edc-ad42-2bb2f311f0fd",
   "metadata": {},
   "source": [
    "## Section B: pressure inside the rocky interior\n",
    "\n",
    "While measuring the average pressure on the surface is relatively easy, measuring pressure deep inside the planet's interior is challengin. There is no direct way to measure the pressure variation with a satellite probe so geophysical methods that help derive pressure variations is needed. Pressure is calculated from other physical properties such as the planet's density variations, which are determined from seismological and astronomical observations. \n",
    "\n",
    "Dziewonski and Anderson (PEPI, 1981) created the Preliminary Reference Earth Model (PREM) from normal mode observations (mode of the Earth's vibrations), travel time observations for seismic waves and astronomic and geodetic data. \n",
    "\n",
    "![PREM_page](PREM_1981_First_Page.png)\n",
    "\n",
    "PREM describes physical properties such as density, seismic wave velocities, and other elastic properties at specific radii (or depths), including major boundaries where properties change abruptly (Why? Wait till you learn about minerology). These internal boundaries include the Mohorovičić discontinuity (depth = 24.4 km) and the core-mantle boundary (depth = 2891 km). "
   ]
  },
  {
   "cell_type": "markdown",
   "id": "52db6e9f-f8e9-42c7-b192-46f05cc0fd56",
   "metadata": {},
   "source": [
    "<div class=\"admonition pythonreview\" name=\"html-admonition\" style=\"background: lightgreen; padding: 10px\">\n",
    "<p class=\"title\">Note about PREM</p>\n",
    "<p>PREM is a radial model where properties vary only as function of radius. It treats the Earth as a set of concentric shells and provides the average physical properties of each shell. This is an approximation since there are lateral variations in properties (e.g. ridges versus continents).</p>\n",
    "</div>"
   ]
  },
  {
   "cell_type": "markdown",
   "id": "52d6ae32-ec6a-4f96-9946-67f16e2e42c0",
   "metadata": {},
   "source": [
    "![PREM](PREM_vp_vs_rho.png)\n",
    "\n",
    "**Image**: Seismic velocities (compressional wave $\\alpha$ and shear wave $\\beta$) and density ($\\rho$) from the Preliminary Reference Earth Model (PREM). Only $\\rho$ is relevant for this problam set.\n",
    "\n",
    "In this problem set, we will use the PREM model to calculate the total mass of the Earth and depth variations in pressure and gravitational acceleration. We have demonstrated how to calculate the pressure inside a planet $P(r)$ from the planet's mass density $\\rho = \\rho(r)$. We treat the Earth as a set of concentric shells with infinitely thin radius $da$, so that we can calculate properties that require integration of physical properties (e.g. Pressure)\n",
    "\n",
    "If the atmospheric pressure at the planet's surface (radius = $R$) is $P_{atm}(R)$, the total pressure on the material at any internal radius $r$ is\n",
    "\n",
    "\\begin{equation}\n",
    "P(r) = P_{atm}(R) + \\int_r^R \\rho(a) g(a) da,\n",
    "\\end{equation}\n",
    "where the integration takes only the material above the point of interest into account $a$=[$r$,$R$]. \n",
    "\n",
    "The gravitational acceration $g(r)$ inside a planet can be determined using Newton's law of gravitation from mass inside the sphere of radius $r$:\n",
    "\n",
    "\\begin{equation}\n",
    "g(r) = \\frac{GM_{\\text{inside}}}{r^2} = \\frac{G}{r^2} \\int_0^r 4\\pi a^2 \\rho(a) da,\n",
    "\\end{equation}\n",
    "where $G$ is the gravitational constant."
   ]
  },
  {
   "cell_type": "markdown",
   "id": "5e4d9a3a-828f-4c2e-8465-9ff052b82ce7",
   "metadata": {},
   "source": [
    "Note that the density variations must satisfy the equation\n",
    "\n",
    "\\begin{equation}\n",
    "M_E = \\int_0^R 4\\pi r^2 \\rho(a) da\n",
    "\\end{equation}\n",
    "\n",
    "where $M_E$ is the planet's mass and $R$ is the planet radius, which may be determined based on the orbits of satellites. This is essentially $\\text{mass} = \\text{density} \\times \\text{volume}$ integrated over the entire sphere."
   ]
  },
  {
   "cell_type": "code",
   "execution_count": 1,
   "id": "0932a449-d7d2-4cd8-a97f-2c6730a0564a",
   "metadata": {},
   "outputs": [
    {
     "ename": "ModuleNotFoundError",
     "evalue": "No module named 'pint'",
     "output_type": "error",
     "traceback": [
      "\u001b[0;31m---------------------------------------------------------------------------\u001b[0m",
      "\u001b[0;31mModuleNotFoundError\u001b[0m                       Traceback (most recent call last)",
      "Input \u001b[0;32mIn [1]\u001b[0m, in \u001b[0;36m<cell line: 1>\u001b[0;34m()\u001b[0m\n\u001b[0;32m----> 1\u001b[0m \u001b[38;5;28;01mimport\u001b[39;00m \u001b[38;5;21;01mpint\u001b[39;00m\n\u001b[1;32m      2\u001b[0m \u001b[38;5;28;01mimport\u001b[39;00m \u001b[38;5;21;01mpandas\u001b[39;00m \u001b[38;5;28;01mas\u001b[39;00m \u001b[38;5;21;01mpd\u001b[39;00m\n\u001b[1;32m      3\u001b[0m \u001b[38;5;28;01mimport\u001b[39;00m \u001b[38;5;21;01mpint_pandas\u001b[39;00m\n",
      "\u001b[0;31mModuleNotFoundError\u001b[0m: No module named 'pint'"
     ]
    }
   ],
   "source": [
    "import pint\n",
    "import pandas as pd\n",
    "import pint_pandas\n",
    "\n",
    "def read_mineos_cards(file,header = 3, R = None):\n",
    "    \"\"\"\n",
    "    Read a card deck file of physical properties in mineos format\n",
    "    \n",
    "    Input Parameters:\n",
    "    ----------------\n",
    "    \n",
    "    file: mineos card file containing columns with various properties\n",
    "    \n",
    "    header: number of lines in the header\n",
    "    \n",
    "    R: Mean radius of the planet\n",
    "    \"\"\"\n",
    "\n",
    "    # Get the default unit registry e.g. MKS units\n",
    "    ureg = pint.get_application_registry()\n",
    "        \n",
    "    # set default radius as Earth\n",
    "    if R is None: R = 6371000.0 * ureg.meter\n",
    "\n",
    "    names=['radius','rho','vpv','vsv','qkappa','qmu','vph','vsh','eta']\n",
    "    units =['m','kg/m^3','m/s','m/s','dimensionless','dimensionless','m/s','m/s','dimensionless']\n",
    "    fields=list(zip(names,units))\n",
    "    #formats=[np.float for ii in range(len(fields))]\n",
    "    # modelarr = np.genfromtxt(file,dtype=None,comments='#',skip_header=3,names=fields)\n",
    "    modelarr = pd.read_csv(file,skiprows=header,comment='#',sep='\\s+',names=fields)\n",
    "\n",
    "    # read the units from last header\n",
    "    modelarr_ = modelarr.pint.quantify(level=-1)\n",
    "    \n",
    "    # Get the depths based on subtracting radius from R\n",
    "    modelarr_['depth'] = R - modelarr_['radius'].pint.to(R.units)\n",
    "                            \n",
    "    return modelarr_"
   ]
  },
  {
   "cell_type": "code",
   "execution_count": null,
   "id": "ff6f23f1-a90d-4606-a459-3afae58f91b3",
   "metadata": {},
   "outputs": [],
   "source": [
    "# Read the card file contining 750 layers within Earth\n",
    "PREM = read_mineos_cards('PREM750_CARDS')\n",
    "\n",
    "# Check what the pandas dataframe looks like\n",
    "PREM"
   ]
  },
  {
   "cell_type": "code",
   "execution_count": null,
   "id": "ffa56537-d32e-4b1a-98d8-cddab8e81ba7",
   "metadata": {},
   "outputs": [],
   "source": [
    "# grabbing values in 'g/cc' as a pandas series\n",
    "PREM.rho.pint.to('g/cc')"
   ]
  },
  {
   "cell_type": "code",
   "execution_count": null,
   "id": "ca170c60-63ca-4735-bd47-558be4789da0",
   "metadata": {
    "scrolled": true,
    "tags": []
   },
   "outputs": [],
   "source": [
    "# grabbing value in 'g/cc' as a numpy array\n",
    "PREM.rho.pint.to('g/cc').values.data"
   ]
  },
  {
   "cell_type": "markdown",
   "id": "2eb5ee2b-5c97-43dd-ac95-6359de6c9e58",
   "metadata": {
    "tags": []
   },
   "source": [
    "### Mini-tutorial\n",
    "\n",
    "- **Integration with scipy**\n",
    "\n",
    "[SciPy](https://docs.scipy.org/doc/scipy/tutorial/general.html) is a collection of mathematical algorithms and convenience functions built on the [NumPy](https://numpy.org/doc/stable/user/whatisnumpy.html) extension of Python. SciPy allows us to optimize functions, find roots of functions, interpolate, and integrate. It also provides some mathematical and physical constants.\n",
    "\n",
    "Since PREM provides the density at specific radii (or depths), and we do not know the analytical form of density (i.e. in terms of some functions like polynomial, atleast not yet in this course!), we will use the trapezoidal rule to integrate these functions.\n",
    "\n",
    "In this mini-tutorial, we will compute a definite integral of $y = f(x) = x^2$ from $x=0$ to $x=3$. This integral can be evaluated easily the value by hand:\n",
    "\\begin{equation}\n",
    "\\int_{-3}^3 (10 - x^2) dx = \\left(10x - \\frac{x^3}{3}\\right) \\Big|_{x=-3}^{x=3} = 42\n",
    "\\end{equation}\n",
    "\n",
    "We will use `scipy.integrate.trapezoid` to integrate the function with given (x,y) using Trapezoidal rule.\n",
    "\n",
    "Focus on the following lines:\n",
    "\n",
    "`from scipy import integrate`\n",
    "\n",
    "`integral = integrate.trapezoid(y_trap, x_trap)`\n",
    "\n",
    "Run the next two cells below and then adjust the slider on the figure. Notice the area approaches 42 when the number of trapezoids increase."
   ]
  },
  {
   "cell_type": "code",
   "execution_count": null,
   "id": "8c3e7b9c-7402-4f2a-9f5f-d8abdca57aee",
   "metadata": {
    "tags": []
   },
   "outputs": [],
   "source": [
    "import numpy as np\n",
    "from scipy import integrate\n",
    "\n",
    "import plotly.graph_objects as go\n",
    "from plotly.offline import init_notebook_mode, iplot\n",
    "init_notebook_mode()"
   ]
  },
  {
   "cell_type": "code",
   "execution_count": null,
   "id": "25981545-8ab6-4cf6-9514-5df9f630b83f",
   "metadata": {},
   "outputs": [],
   "source": [
    "# Create figure\n",
    "fig = go.Figure()\n",
    "\n",
    "# actual curve\n",
    "x_true = np.linspace(-4,4,801)\n",
    "y_true = 10 - x_true ** 2\n",
    "\n",
    "num_steps = 21\n",
    "\n",
    "# True_curve\n",
    "trace_list1 = []\n",
    "\n",
    "# Outline of Trapezoids + shades\n",
    "trace_list2 = []\n",
    "\n",
    "# divides of Trapezoids\n",
    "trace_list3 = []\n",
    "\n",
    "# Add traces, one for each slider step\n",
    "for number_of_trapezoids in range(1,1+num_steps):\n",
    "    trace_list1 += [go.Scatter(x=x_true, y=y_true, \n",
    "                               visible=True,\n",
    "                               line=dict(color=\"#000000\", width=2),\n",
    "                               mode=\"lines\",\n",
    "                               name=r\"$y = 10 - x^2$\")]\n",
    "    \n",
    "    # integrate y = f(x) from x=0 to x=3\n",
    "    x_trap = np.linspace(-3,3,number_of_trapezoids+1)\n",
    "    y_trap = 10 - x_trap ** 2\n",
    "\n",
    "    # integration takes place here\n",
    "    integral = integrate.trapezoid(y_trap, x_trap)\\\n",
    "\n",
    "    trace_list2 += [go.Scatter(\n",
    "            visible=False,\n",
    "            line=dict(color=\"#E00000\", width=2),\n",
    "            name=str(number_of_trapezoids) + \" trapezoids\",\n",
    "            fill='tozeroy',\n",
    "            x=x_trap,\n",
    "            y=y_trap)]\n",
    "    \n",
    "    x_plot = x_trap\n",
    "    y_plot = 0 * y_trap\n",
    "    \n",
    "    for jj in range(number_of_trapezoids+1):\n",
    "        x_plot = np.concatenate((x_plot, [np.nan], [x_trap[jj], x_trap[jj]]))\n",
    "        y_plot = np.concatenate((y_plot, [np.nan], [0, y_trap[jj]]))\n",
    "    \n",
    "    trace_list3 += [go.Scatter(\n",
    "            visible=False,\n",
    "            line=dict(color=\"#E00000\", width=2),\n",
    "            name=\"area = %.3f\"%integral,\n",
    "            x=x_plot,\n",
    "            y=y_plot)]\n",
    "    \n",
    "\n",
    "fig = go.Figure(data=trace_list1+trace_list2+trace_list3)\n",
    "\n",
    "# Make 10th trace visible\n",
    "fig.data[10-1].visible = True\n",
    "fig.data[10-1+num_steps].visible = True\n",
    "fig.data[10-1+2*num_steps].visible = True\n",
    "\n",
    "steps = []\n",
    "for i in range(num_steps):\n",
    "    # Hide all traces\n",
    "    step = dict(\n",
    "        method = 'restyle',\n",
    "        args = ['visible', [False] * len(fig.data)],\n",
    "        label = str(i + 1)\n",
    "    )\n",
    "    # Enable the two traces we want to see\n",
    "    step['args'][1][i] = True\n",
    "    step['args'][1][i+num_steps] = True\n",
    "    step['args'][1][i+2*num_steps] = True\n",
    "    \n",
    "    # Add step to step list\n",
    "    steps.append(step)\n",
    "\n",
    "sliders = [dict(\n",
    "    active=9,\n",
    "    steps = steps,\n",
    "    currentvalue={\"prefix\": \"Number of trapezoids: \"}\n",
    ")]\n",
    "\n",
    "fig.layout.sliders = sliders\n",
    "\n",
    "iplot(fig, show_link=False)"
   ]
  },
  {
   "cell_type": "markdown",
   "id": "42fe1530-470c-4434-ae69-e37ea316fc76",
   "metadata": {},
   "source": [
    "## To do\n",
    "\n",
    "**Q3** Plot the density profile. Include the location of the inner core boundary (radius = 1221.5 km) and the core-mantle boundary (radius = 3480 km). Comment on relative distribution of lighter versus heavier material inside the Earth between the regions - mantle, inner and outer core. Calculate the total mass of the Earth by integration. Does your calculated value of the entire Earth's mass match the actual Earth mass?"
   ]
  },
  {
   "cell_type": "markdown",
   "id": "c0c073eb-3203-4052-b57d-c1ac255bfebe",
   "metadata": {},
   "source": [
    "**Answer**"
   ]
  },
  {
   "cell_type": "markdown",
   "id": "a7692fa9-c60c-4975-8881-d3891c7786a8",
   "metadata": {},
   "source": [
    "**Q4** Compute the gravitational acceleration at any radii shown in PREM. Where inside the Earth is the gravitational acceleration maximum? Please explain the factors that might lead to this observation."
   ]
  },
  {
   "cell_type": "markdown",
   "id": "84efbd3f-96c4-4a92-a0f4-6bc40bb72a60",
   "metadata": {},
   "source": [
    "**Answer**"
   ]
  },
  {
   "cell_type": "markdown",
   "id": "cd51b606-f88c-4780-b549-aaabba5ff438",
   "metadata": {},
   "source": [
    "**Q5** Compute the pressure based on the density profile of PREM. What are the pressures at the core-mantle boundary and the center of the Earth? How do these values compare to the atmospheric pressure on the Earth's surface?"
   ]
  },
  {
   "cell_type": "markdown",
   "id": "abfe31aa-bf22-4d9a-ab51-4392b02929d9",
   "metadata": {},
   "source": [
    "**Answer**"
   ]
  },
  {
   "cell_type": "markdown",
   "id": "14ceeb1a-0b3c-4e77-9db8-50f1d9eb8ff7",
   "metadata": {},
   "source": [
    "----\n",
    "## Part II: Plate Motion\n",
    "\n",
    "Below is a sketch that shows the (simplified) geometry of the lithospheric plates near the coast of Oregon and Washington. Three plates are present: the North America plate, the Pacific plate, and the Juan de Fuca plate.\n",
    "\n",
    "![Three plates](Three_plates.png)\n",
    "\n",
    "Assume (1) that the spreading of the Juan de Fuca plate and Pacific plate is perpendicular to the\n",
    "ridge as drawn, and is 40 mm/yr, and (2) that the strike-slip motion between the North America\n",
    "plate and the Pacific plate is parallel to the North America—Pacific plate boundary and is 56 mm/yr.\n",
    "The orientation of the ridge is 10$^{\\circ}$ East of North. The orientation of the North America—Pacific\n",
    "plate boundary is 35$^{\\circ}$ West of North."
   ]
  },
  {
   "cell_type": "code",
   "execution_count": null,
   "id": "0fc7837c-40a1-40c8-8e2b-ee4960db12d7",
   "metadata": {},
   "outputs": [],
   "source": [
    "import pandas as pd\n",
    "import json\n",
    "import numpy as np\n",
    "import plotly.express as px\n",
    "import plotly.graph_objects as go"
   ]
  },
  {
   "cell_type": "code",
   "execution_count": null,
   "id": "9e8ceb7b-5da9-451e-9917-13d37419b6b5",
   "metadata": {},
   "outputs": [],
   "source": [
    "def cutoff_track(lon, lat, cutoff_lon):\n",
    "    \"\"\"\n",
    "    Insert nan between two points that cross the cutoff lontitude. \n",
    "    Avoid horizontal line when plot the track\n",
    "    \n",
    "    Input Parameters:\n",
    "    ----------------\n",
    "    \n",
    "    lon: longitude array\n",
    "    lat: latitude array\n",
    "    cutoff_lon: divide the curve at this cutoff longitude\n",
    "    \n",
    "    Return:\n",
    "    ------\n",
    "    \n",
    "    lon, lat: updated arrays\n",
    "    \"\"\"\n",
    "    xtrk = np.mod(lon - cutoff_lon, 360)\n",
    "    is_cross = np.where(np.abs(xtrk[1:-1]-xtrk[0:-2]) > 90)[0]\n",
    "    nans = np.empty(np.size(is_cross))\n",
    "    nans[:] = np.nan\n",
    "    lon = np.insert(lon, is_cross+1, nans)\n",
    "    lat = np.insert(lat, is_cross+1, nans)\n",
    "    return lon, lat\n",
    "\n",
    "def load_plate_boundaries(filename):\n",
    "    \"\"\"\n",
    "    Input Parameters:\n",
    "    ----------------\n",
    "    \n",
    "    filename: input JSON file name containing the curve locations\n",
    "    \"\"\"    \n",
    "\n",
    "    # Opening JSON file\n",
    "    f = open(filename)\n",
    "\n",
    "    # returns JSON object as a dictionary\n",
    "    boundary = json.load(f)\n",
    "    \n",
    "    f.close()\n",
    "\n",
    "    boundary = np.array(boundary[1])\n",
    "    lons = boundary[:,0]\n",
    "    lats = boundary[:,1]\n",
    "\n",
    "    lons, lats = cutoff_track(lons, lats, 180)\n",
    "    \n",
    "    return lons, lats\n",
    "\n",
    "def add_arrow(fig, p0, p1, label_txt=\"\", c=\"black\"):\n",
    "    \"\"\"\n",
    "    Draw an arrow starting from p0 pointing at p1\n",
    "    \n",
    "    Input Parameters:\n",
    "    -----------------\n",
    "    \n",
    "    fig:       target figure object\n",
    "    p0:        [lon, lat] where the arrow starts\n",
    "    p1:        [lon, lat] where the arrow heads\n",
    "    label_txt: label text     [default: \"\"]\n",
    "    c:         arrow color    [default: \"black\"]\n",
    "    \"\"\"\n",
    "    # vector of the arrow\n",
    "    v = p1-p0\n",
    "    # normalized vector\n",
    "    w = v/np.linalg.norm(v)\n",
    "    # orthogonal on v\n",
    "    u  =np.array([-v[1], v[0]])\n",
    "\n",
    "    widh = 0.15\n",
    "    l = 0.75\n",
    "\n",
    "    P = p1-l*w\n",
    "    S = P - widh*u\n",
    "    T = P + widh*u\n",
    "    fig.add_trace(\n",
    "        go.Scattergeo(\n",
    "            lon=[p0[0], p1[0], S[0], np.nan, p1[0], T[0]], \n",
    "            lat=[p0[1], p1[1], S[1], np.nan, p1[1], T[1]],\n",
    "            mode='lines',\n",
    "            line_color=c,\n",
    "            line_width=2,\n",
    "            showlegend=False,\n",
    "            text=label_txt\n",
    "        )\n",
    "    )\n",
    "    \n",
    "def add_oval(fig, center, a, b, rot_angle, label_txt=\"\", c=\"black\"):\n",
    "    \"\"\"\n",
    "    Draw an oval\n",
    "    \n",
    "    Input Parameters:\n",
    "    -----------------\n",
    "    \n",
    "    fig:       target figure object\n",
    "    center:    [lon, lat] of the oval's center\n",
    "    a:         semi-major axis\n",
    "    b:         semi-minor axis\n",
    "    rot_angle: rotation angle counter clockwise from horizontal position (in degrees)\n",
    "    label_txt: label text     [default: \"\"]\n",
    "    c:         arrow color    [default: \"black\"]\n",
    "    \"\"\"\n",
    "    rot_angle = rot_angle * np.pi / 180\n",
    "    \n",
    "    theta = np.linspace(0, 2*np.pi, 101)\n",
    "\n",
    "    x_oval_horizontal = a * np.cos(theta)\n",
    "    y_oval_horizontal = b * np.sin(theta)\n",
    "\n",
    "    # rotation\n",
    "    lon_oval = center[0] + x_oval_horizontal * np.cos(rot_angle) - y_oval_horizontal * np.sin(rot_angle)\n",
    "    lat_oval = center[1] + x_oval_horizontal * np.sin(rot_angle) + y_oval_horizontal * np.cos(rot_angle)\n",
    "    \n",
    "    fig.add_trace(\n",
    "        go.Scattergeo(\n",
    "            lon=lon_oval, \n",
    "            lat=lat_oval,\n",
    "            mode='lines',\n",
    "            line_color=c,\n",
    "            line_width=4,\n",
    "            showlegend=False,\n",
    "            text=label_txt\n",
    "        )\n",
    "    )\n",
    "\n",
    "\n",
    "def plot_earthquake_map(catalog):\n",
    "    \"\"\"\n",
    "    Input Parameters:\n",
    "    ----------------\n",
    "    \n",
    "    catalog: dataframe containing earthquakes\n",
    "    \"\"\"   \n",
    "    \n",
    "    rlons, rlats = load_plate_boundaries('../PS_1_Age_of_Earth_and_Plate_Tectonics/ridge.json')\n",
    "    tlons, tlats = load_plate_boundaries('../PS_1_Age_of_Earth_and_Plate_Tectonics/transform.json')\n",
    "    hlons, hlats = load_plate_boundaries('../PS_1_Age_of_Earth_and_Plate_Tectonics/trench.json')\n",
    "\n",
    "    fig1a = px.line_geo(lon=rlons, lat=rlats, width=1200, height=600)\n",
    "    fig1a.update_traces(line={'color':'skyblue', 'width':3})\n",
    "    \n",
    "    fig1b = px.line_geo(lon=tlons, lat=tlats, width=1200, height=600)\n",
    "    fig1b.update_traces(line={'color':'skyblue', 'width':3})\n",
    "    \n",
    "    fig1c = px.line_geo(lon=hlons, lat=hlats, width=1200, height=600)\n",
    "    fig1c.update_traces(line={'color':'skyblue', 'width':3})\n",
    "    \n",
    "    fig2 = px.scatter_geo(catalog, lon=\"ep.lon\", lat=\"ep.lat\", size=\"centroid.MW\", color=\"ep.depth\", width=600, height=600, \n",
    "                     labels={\"ep.lon\":\"longitude (degrees)\", \"ep.lat\":\"latitude (degrees)\", \"centroid.MW\":\"Moment Magnitude\",\n",
    "                             \"ep.depth\":\"depth (km)\", \"ep.timestamp\":\"origin time\"}, \n",
    "                     hover_data=['ep.timestamp'], \n",
    "                     title=\" \")\n",
    "    \n",
    "    fig = go.Figure(data=fig2.data + fig1a.data + fig1b.data + fig1c.data, layout = fig2.layout)\n",
    "    fig.update_geos(lataxis_showgrid=True, lonaxis_showgrid=True)\n",
    "    fig.update_layout(\n",
    "        geo = dict(\n",
    "            lonaxis = dict(\n",
    "                showgrid = True,\n",
    "                gridwidth = 0.5,\n",
    "                range= [ -138.0, -118.0 ],\n",
    "                dtick = 5\n",
    "            ),\n",
    "            lataxis = dict (\n",
    "                showgrid = True,\n",
    "                gridwidth = 0.5,\n",
    "                range= [ 37.0, 57.0 ],\n",
    "                dtick = 5\n",
    "            )\n",
    "        )\n",
    "    )\n",
    "    \n",
    "    # Adds arrows\n",
    "    length_scale = 25\n",
    "    \n",
    "    # Juan de Fuca ridge: Juan de Fucca arrow\n",
    "    p0 = np.array([-129.5, 46.4])\n",
    "    length = 40 / length_scale\n",
    "    direction = 100 * np.pi/180\n",
    "    p1 = p0 + length * np.array([np.sin(direction), np.cos(direction)])\n",
    "    add_arrow(fig, p0, p1, \"40 mm/yr\")\n",
    "    \n",
    "    # Juan de Fuca ridge: Pacific plate arrow\n",
    "    p0 = np.array([-130.5, 46.6])\n",
    "    length = 40 / length_scale\n",
    "    direction = 280 * np.pi/180\n",
    "    p1 = p0 + length * np.array([np.sin(direction), np.cos(direction)])\n",
    "    add_arrow(fig, p0, p1, \"40 mm/yr\")\n",
    "    \n",
    "    # North American plate arrow\n",
    "    p0 = np.array([-134, 57])\n",
    "    length = 56 / length_scale\n",
    "    direction = 145 * np.pi/180\n",
    "    p1 = p0 + length * np.array([np.sin(direction), np.cos(direction)])\n",
    "    add_arrow(fig, p0, p1, \"56 mm/yr\")\n",
    "    \n",
    "    # North American plate arrow\n",
    "    p0 = np.array([-135, 53])\n",
    "    length = 56 / length_scale\n",
    "    direction = 325 * np.pi/180\n",
    "    p1 = p0 + length * np.array([np.sin(direction), np.cos(direction)])\n",
    "    add_arrow(fig, p0, p1, \"56 mm/yr\")\n",
    "    \n",
    "    # Juan de Fuca ridge: Juan de Fuca plate arrow\n",
    "    p0 = np.array([-127, 41.4])\n",
    "    length = 40 / length_scale\n",
    "    direction = 100 * np.pi/180\n",
    "    p1 = p0 + length * np.array([np.sin(direction), np.cos(direction)])\n",
    "    add_arrow(fig, p0, p1, \"40 mm/yr\", \"white\")\n",
    "    \n",
    "    # Juan de Fuca ridge: Pacific plate arrow\n",
    "    p0 = np.array([-128, 41.6])\n",
    "    length = 40 / length_scale\n",
    "    direction = 280 * np.pi/180\n",
    "    p1 = p0 + length * np.array([np.sin(direction), np.cos(direction)])\n",
    "    add_arrow(fig, p0, p1, \"40 mm/yr\")\n",
    "    \n",
    "    # Add oval\n",
    "    add_oval(fig, [-128.7, 43.7], 2.5, 1.2, -20, \"\", \"limegreen\")\n",
    "    fig.add_annotation(x=.25, y=.40,\n",
    "            text=\"???\",\n",
    "            font=dict(\n",
    "                color=\"darkgreen\",\n",
    "                size=20\n",
    "            ),\n",
    "            showarrow=False)\n",
    "    \n",
    "    fig.show()"
   ]
  },
  {
   "cell_type": "code",
   "execution_count": null,
   "id": "7cd93bb3-0062-4253-ab16-a500ab29b9e6",
   "metadata": {},
   "outputs": [],
   "source": [
    "# Read earthquake catalog\n",
    "cmt_cat = pd.read_table(\"../PS_1_Age_of_Earth_and_Plate_Tectonics/Global_CMT_1972_2018.csv\", delimiter=',')\n",
    "cmt_cat = cmt_cat.sort_values(by=['ep.depth', 'centroid.MW'])"
   ]
  },
  {
   "cell_type": "markdown",
   "id": "b92f73fa-6f36-43f0-a481-b3b5b6892c8b",
   "metadata": {},
   "source": [
    "<div class=\"admonition pythonreview\" name=\"html-admonition\" style=\"background: lightgreen; padding: 10px\">\n",
    "<p class=\"title\">Review</p>\n",
    "<p>Feel free to adjust the filter parameters in the cell below to have more or less earthquakes on the map. You may hover the dots to get the information of the earthquakes. The colors of the lines indicate the type of plate boundaries: Red is a Trench, Green is a Transform, and Blue is a Ridge boundary.</p>\n",
    "    </div>"
   ]
  },
  {
   "cell_type": "code",
   "execution_count": null,
   "id": "36c8a668-814d-4f1f-a3fc-7c2d094f9ccf",
   "metadata": {},
   "outputs": [],
   "source": [
    "# Filter to improve readablility\n",
    "Mw_min    = 5                                 # Moment magnitude\n",
    "Mw_max    = 10                                # Moment magnitude\n",
    "depth_min = 0                                 # minimum depth in km\n",
    "depth_max = 6400                              # maximum depth in km\n",
    "datetime_min = '1000-01-01 00:00:00.000000'   # 'yyyy-mm-dd hh:mm:ss.SSSSSS'\n",
    "datetime_max = '2050-01-01 00:00:00.000000'   # 'yyyy-mm-dd hh:mm:ss.SSSSSS'\n",
    "lon_min = -138\n",
    "lon_max = -118\n",
    "lat_min = 37\n",
    "lat_max = 57\n",
    "\n",
    "# Don't change these two statements\n",
    "mask = (cmt_cat['centroid.MW'] >= Mw_min) & (cmt_cat['centroid.MW'] <= Mw_max) & (cmt_cat['ep.depth'] >= depth_min) & (cmt_cat['ep.depth'] <= depth_max) & (cmt_cat['ep.timestamp'] >= datetime_min) & (cmt_cat['ep.timestamp'] <= datetime_max)\n",
    "mask = mask & (cmt_cat['ep.lon'] >= lon_min) & (cmt_cat['ep.lon'] <= lon_max) & (cmt_cat['ep.lat'] >= lat_min) & (cmt_cat['ep.lat'] <= lat_max)\n",
    "plot_earthquake_map(cmt_cat[mask])"
   ]
  },
  {
   "cell_type": "markdown",
   "id": "3f06833f-81e0-4157-ac21-45bba7c6d364",
   "metadata": {},
   "source": [
    "**Image** Remind the color of plate boundary. Why do we have earthquakes here? What are the arrows?"
   ]
  },
  {
   "cell_type": "markdown",
   "id": "6cf3c189-de4d-40b4-b9b9-e55b0652c0d9",
   "metadata": {},
   "source": [
    "## Mini-tutorial\n",
    "\n",
    "    - Scalars and Vectors in Python"
   ]
  },
  {
   "cell_type": "markdown",
   "id": "40b0ddf8-888e-47e5-a12a-044d5e82ceb8",
   "metadata": {},
   "source": [
    "scalars are quantities having only a magnitude (e.g. a temperature of 300 K). It is nonsense to ask for direction of a scalar. On the other hand, vectors are quantities having a magnitude as well as a direction (e.g. a velocity with a magnitude of 10 m/s and a direction of 30$^{\\circ}$ East of North). Vectors can be represent as an array of numbers specifying the quantity for each direction. For example, a velocity with a magnitude of 10 m/s and a direction of 30$^{\\circ}$ East of North can be represented as $v = \\begin{pmatrix} 5 \\\\ 5\\sqrt{3} \\end{pmatrix}$ m/s where the first number is the velocity in the east direction and the second number is the velocity in the north direction. This is similar to \"vector\" object in programming language. In Python, this means you can use `numpy.array` to represent vectors. The conversion of the magnitude and the (azimuthal) direction to the values in east and north direction can be done as follow:"
   ]
  },
  {
   "cell_type": "code",
   "execution_count": null,
   "id": "257d6d07-9417-43b0-98ef-5aa572c52a20",
   "metadata": {},
   "outputs": [],
   "source": [
    "import numpy as np"
   ]
  },
  {
   "cell_type": "code",
   "execution_count": null,
   "id": "e172f5a6-9048-4df1-8526-c2a428bdce4e",
   "metadata": {},
   "outputs": [],
   "source": [
    "magnitude = 10\n",
    "direction = 30 # in degrees\n",
    "\n",
    "direction_radian = direction * np.pi / 180   # convert to radians\n",
    "\n",
    "# vector\n",
    "v_east  = magnitude * np.sin(direction_radian)\n",
    "v_north = magnitude * np.cos(direction_radian)\n",
    "v = np.array([v_east, v_north])\n",
    "\n",
    "# display a vector\n",
    "v"
   ]
  },
  {
   "cell_type": "markdown",
   "id": "8b3617e4-e195-4ae4-ada7-e5479363f5a9",
   "metadata": {},
   "source": [
    "![one vector example](one-vector.png)"
   ]
  },
  {
   "cell_type": "markdown",
   "id": "883770d4-df5e-4377-85f0-45b401b5edc1",
   "metadata": {},
   "source": [
    "You may add two vectors by adding up element-wise from the two vectors. For `numpy.array`, you may simply add two vectors together like `w = u + v` where `u` and `v` are two vectors."
   ]
  },
  {
   "cell_type": "code",
   "execution_count": null,
   "id": "00fefe61-5ec2-4810-adde-1bf2904a5bff",
   "metadata": {},
   "outputs": [],
   "source": [
    "# vector addition\n",
    "u = np.array([3, -2])\n",
    "v = np.array([2,  1])\n",
    "\n",
    "# the result of vector addition\n",
    "w = u + v\n",
    "\n",
    "# display the result vector\n",
    "w"
   ]
  },
  {
   "cell_type": "markdown",
   "id": "a2502890-4735-4cc6-88e7-98f8549ee41b",
   "metadata": {},
   "source": [
    "![vector addition](vector_addition.png)"
   ]
  },
  {
   "cell_type": "markdown",
   "id": "fbb58775-0eb8-45f2-b8d3-35d5d575da99",
   "metadata": {},
   "source": [
    "## To do\n",
    "\n",
    "**Q6** What is the motion (the direction with respect to North in degrees, and the magnitude in mm/yr) of the Juan de Fuca plate with respect to the North America plate? Draw an arrow showing this direction on the map. \n",
    "\n",
    "**Hint**: Because the Juan de Fuca plate is small, you can consider this a ‘flat Earth’ problem. Also, recall that if three plates interact, and the velocity vector of plate $A$ with respect to plate $B$ is $_B\\textbf{V}_A$, and that of plate $B$ with respect to plate $C$ is $_C\\textbf{V}_B$, then $_C\\textbf{V}_A= _B\\textbf{V}_A+ _C\\textbf{V}_B$"
   ]
  },
  {
   "cell_type": "markdown",
   "id": "16dd0b0b-3868-4e30-a5d4-1e326aa9f0a0",
   "metadata": {},
   "source": [
    "**Answer**"
   ]
  },
  {
   "cell_type": "markdown",
   "id": "20db7852-e6b1-4eee-aa86-46ecd3c5d79b",
   "metadata": {},
   "source": [
    "**Q7.1** Based on the relative plate motion, what type of plate boundary is this? (Reminder: there are three types of plate boundaries: convergent or collision boundaries, divergent or spreading boundaries, and transform boundaries.)"
   ]
  },
  {
   "cell_type": "markdown",
   "id": "05c61696-a8e4-43ed-afbd-ac4feb12a7d1",
   "metadata": {},
   "source": [
    "**Answer**"
   ]
  },
  {
   "cell_type": "markdown",
   "id": "80399ddf-b053-4b5d-bca1-4dadcb815af6",
   "metadata": {},
   "source": [
    "**Q7.2** Based on plate motions, figure out what kind of boundary is denoted by the oval in the interactive figure above. What type of fault (strike-slip, normal, or reverse) is giving rise to these earthquakes?"
   ]
  },
  {
   "cell_type": "markdown",
   "id": "a9ac0dfd-e705-4f37-a404-78976f00f26d",
   "metadata": {},
   "source": [
    "**Answer**"
   ]
  },
  {
   "cell_type": "markdown",
   "id": "f53dac7f-9f78-4486-aa41-7b65c3a94e4a",
   "metadata": {},
   "source": [
    "----\n",
    "## Part III: Quake Magnitude"
   ]
  },
  {
   "cell_type": "markdown",
   "id": "6b93ba28-9de3-4629-990b-287e5a03af77",
   "metadata": {},
   "source": [
    "Seismologists were for a long time content to use the intensity scale and the magnitude scale to measure and compare the sizes of earthquakes. Both of these scales are empirical, even though determining a magnitude involves making a measurement on a seismogram. Neither measure depends directly on the size of the earthquake fault or the amount of slip that occurred on it. These scales can be contrasted against the seismic moment (or scalar moment), usually denoted by $M_0$. This quantity can be routinely and accurately determined from seismograms. To do so is more complicated than measuring a magnitude, but the advantage of the seismic moment is that it is directly related to physical quantities. The seismic moment is\n",
    "\n",
    "$$ M_0 =\\mu \\times A \\times u, $$\n",
    "\n",
    "where $A$ is the area of the fault that slipped, $u$ is the average amount of slip on the fault, and $\\mu$ is the shear modulus, which is a property of the rocks surrounding the fault. The shear modulus describes how much force is necessary to elastically bend the rock – a typical value for rocks in the Earth’s crust is $\\mu= 3.3 \\times 10^{10} \\text{N}/\\text{m}^2$.\n",
    "\n",
    "![Moments](Compare_moments.png)\n",
    "\n",
    "**Image** Comparison of moment, magnitudes, fault area, and fault slip for four earthquakes. The rectangles' sizes indicate the areas of the faults that slip. $M_s$ saturates for events with $M_w > 8$ and so is no longer a useful measurement of earthquake size. (Figure 4.6-3 from Stein and Wysession)\n",
    "\n",
    "We can calculate the seismic moment of the greatest known earthquake, the 1960 Chile earthquake, by using estimates of the fault dimensions and slip: the length of the fault $L∼1000$ km, the width $W∼200$ km and the total slip $u∼20$ meters: $M_0 = 1000 \\times 10^3 \\times 200 \\times 10^3 \\times 20 \\times 3 \\times 10^{10} = 1.2 \\times 10^{23} \\text{Nm}$ (newton $\\times$ meter). Physically this is not an *energy* but a *moment*, i.e. a force times a length of lever arm."
   ]
  },
  {
   "cell_type": "markdown",
   "id": "0e955129-fbe0-45a9-997b-af2de7fff19d",
   "metadata": {},
   "source": [
    "![histogram MW](histogram_earthquake_MW.png)\n",
    "![pie chart MW](cumulative_moment_MW.png)\n",
    "![cumulative moment](cumulative_moment_year.png)\n",
    "\n",
    "**Take away message**: Most of earthquakes are small, but moment released is dominated by a small number of large earthquakes. "
   ]
  },
  {
   "cell_type": "markdown",
   "id": "0d737386-5757-4bfb-b8d3-816fd0d185e4",
   "metadata": {
    "tags": []
   },
   "source": [
    "## To do\n",
    "\n",
    "**Q8** The seismic moment of the 1994 Northridge (L.A.) earthquake was $2 \\times 10^{19}$ Nm. The slip appears to have been 1.3 meters. How big was the fault area that slipped?"
   ]
  },
  {
   "cell_type": "markdown",
   "id": "f892fe23-0cf6-46ee-b801-3c54b9e26105",
   "metadata": {},
   "source": [
    "**Answer**"
   ]
  },
  {
   "cell_type": "markdown",
   "id": "1e3cd39d-3ef5-4538-b3bf-e43a0fe5ed6d",
   "metadata": {},
   "source": [
    "**Q9** If the 20 meters of slip that occurred in the 1960 Chile earthquake corresponded to the accumulated plate motions between the Nazca and South America plates since the previous great earthquake in this region — when would that earthquake have occurred? [**Useful fact**: Approximately 8 km of the Nazca plate has subducted beneath South America in the last 100,000 years.]"
   ]
  },
  {
   "cell_type": "markdown",
   "id": "9b7e7fee-7caf-436c-a962-506abf4a3884",
   "metadata": {},
   "source": [
    "**Answer**"
   ]
  },
  {
   "cell_type": "markdown",
   "id": "168c7f3b-bf25-4e5f-a9a6-5ac74e9ca92f",
   "metadata": {},
   "source": [
    "**Q10** When an earthquake happens, the energy stored in the elastically deformed plates is converted into other energy forms, primarily frictional heat and elastic wave energy (most of which turns into heat, too). It turns out that it is very difficult to measure the amount of energy $E$ released in an earthquake accurately but, to within a factor of 5, it appears to be proportional to the seismic moment. A relationship which seems to be on average correct is $E= M_0 \\times 5 \\times 10^{-5}$. The energy $E$ is measured in newton-meters (Nm) or joules (J)"
   ]
  },
  {
   "cell_type": "markdown",
   "id": "0b7f7bde-c511-4a37-b494-624cd52e1364",
   "metadata": {},
   "source": [
    "Estimate the energy released in the 1994 Northridge (L.A.) earthquake. Compare the value you get with U.S. total daily energy consumption ($~5 \\times 10^{17}$ J)."
   ]
  },
  {
   "cell_type": "markdown",
   "id": "30a0dc08-697c-4d54-8439-b766f9d8d495",
   "metadata": {},
   "source": [
    "**Answer**"
   ]
  },
  {
   "cell_type": "markdown",
   "id": "30f6d036-ace6-47f4-b9ff-e68b534f923f",
   "metadata": {},
   "source": [
    "**Q11** Instead of getting rid of the magnitude scale, seismologists decided to create a new magnitude based on the seismic moment. This was done so as not to confuse the public (and themselves), to avoid dealing with very large numbers like $10^{20}$, and to be able to compare old magnitude estimates with modern seismic moments, and so on. From the seismic moment (measured in Nm) one can calculate a magnitude $M_W$ called the moment magnitude using the equation\n",
    "\n",
    "$$ M_W = \\frac{2}{3} (\\log_{10}M_0 - 9.05) $$\n",
    "\n",
    "The constants in this equation were chosen so that the new scale coincides with Richter’s traditional magnitude scale. That is, an earthquake that is measured with traditional means to have a Richter magnitude of 6.5 will typically also have a seismic moment that corresponds to a moment magnitude of 6.5. However, for an individual earthquake, it is not uncommon for the the traditional magnitude to be wrong by half a magnitude unit. It is particularly difficult to measure the magnitudes of very large earthquakes using the ‘old-fashioned’ approach."
   ]
  },
  {
   "cell_type": "markdown",
   "id": "41a798c7-7ad8-4e3c-80cb-5e7e1a5d3007",
   "metadata": {},
   "source": [
    "What is the moment magnitude of the 1960 Chile earthquake?"
   ]
  },
  {
   "cell_type": "markdown",
   "id": "e13d80f4-ad77-48e4-8697-2694e8190c5f",
   "metadata": {},
   "source": [
    "**Answer**"
   ]
  },
  {
   "cell_type": "markdown",
   "id": "7fb10029-cf0d-4688-8414-0467ffd7b17a",
   "metadata": {},
   "source": [
    "**Q12** From these relationships, calculate how much more energy is released in a $M_W=7$ than in a $M_W=6$ earthquake."
   ]
  },
  {
   "cell_type": "markdown",
   "id": "bb8078bb-3562-4cfc-a392-0741f0ab679d",
   "metadata": {},
   "source": [
    "**Answer**"
   ]
  },
  {
   "cell_type": "markdown",
   "id": "78775f17-ac50-4efc-95c0-338a987fbc4a",
   "metadata": {},
   "source": [
    "**Q13** Why do we tend to have large earthquakes ($M_W > 7.5$) in the subduction zones? Think about the factors that contibute to the scalar moment based on the equations above. "
   ]
  },
  {
   "cell_type": "markdown",
   "id": "f09c46fd-5de4-441f-96d5-c7b61e3ed630",
   "metadata": {},
   "source": [
    "**Answer**"
   ]
  }
 ],
 "metadata": {
  "kernelspec": {
   "display_name": "Python 3 (ipykernel)",
   "language": "python",
   "name": "python3"
  },
  "language_info": {
   "codemirror_mode": {
    "name": "ipython",
    "version": 3
   },
   "file_extension": ".py",
   "mimetype": "text/x-python",
   "name": "python",
   "nbconvert_exporter": "python",
   "pygments_lexer": "ipython3",
   "version": "3.9.12"
  }
 },
 "nbformat": 4,
 "nbformat_minor": 5
}

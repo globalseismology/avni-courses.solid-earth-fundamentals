{
 "cells": [
  {
   "cell_type": "markdown",
   "id": "13b03ddb-7988-485d-bc94-cb3c62959fe9",
   "metadata": {
    "jp-MarkdownHeadingCollapsed": true,
    "tags": []
   },
   "source": [
    "# GEO 203: Fundamentals of Solid Earth Science\n",
    "----\n",
    "\n",
    "## Problem Sheet \\# 4 Rocks\n",
    "\n",
    "*Due 11:59 pm Friday, October 14 via Gradescope upload (see Canvas link)*\n",
    "\n",
    "IN THE SPACE BELOW, WRITE OUT IN FULL AND THEN SIGN THE HONOR PLEDGE:\n",
    "\n",
    "“I pledge my honor that I have not violated the honor code during this examination.”\n",
    "\n",
    "**PRINT NAME**: \n",
    "\n",
    "If a fellow student has contributed significantly to this work, please acknowledge them here:\n",
    "\n",
    "**Peer(s)**:                          \n",
    "\n",
    "*Contribution:*\n",
    "\n",
    "\n",
    "By uploading this assignment through Canvas, I sign off on the document below electronically.\n",
    "\n",
    "----"
   ]
  },
  {
   "cell_type": "markdown",
   "id": "4d5ccf43-6375-45a5-9b9a-b56fd2b8b601",
   "metadata": {
    "tags": []
   },
   "source": [
    "# Part I: Rock Identification\n",
    "\n",
    "A rock is a material made up of one or more different minerals. That is why an essential part of rock identification is the ability to correctly recognize the major (or most abundant) minerals within a given rock sample. This is often described as the rock’s mineralogy, or **composition**. Another important component in rock identification is to correctly interpret the rock **texture**. Texture is the size, shape, and grain-to-grain relationships between minerals in a rock. All rocks can be placed into one of three major rock groups based on their texture; igneous, sedimentary or metamorphic rocks. Recognition of both composition and texture allows one to assign an appropriate rock name. \n",
    "\n",
    "### TO DO\n",
    "\n",
    "**Question 1:** Each table has been given a set of rocks that are among the most common in the Earth's crust. Your goal is to identify each rock by assessing its composition and texture. We have provided rock identification flow charts that list common rock types and a set of corresponding compositional and textural properties. \n",
    "\n",
    "![Igneous_Rocks.png](Photos/Igneous_Rocks.png)\n",
    "\n",
    "![Sedimentary_Rocks.png](Photos/Sedimentary_Rocks.png)\n",
    "\n",
    "![Metamorphic_Rocks.png](Photos/Metamorphic_Rocks.png)\n",
    "\n",
    "Once you have identified your rocks, place each of your samples in their proper locations on the flow chart. **Take a photo of it, upload it to Adroit, and link it in your Jupyter notebook below.** \n",
    "\n",
    "**Note**: An extra set of samples and the rock charts will be left outside our precept room if you need more time to look at the samples. Also, if your uploaded image does not get exported to PDF, please append the image to your PDF submission with Adobe Reader or Mac Preview software."
   ]
  },
  {
   "cell_type": "markdown",
   "id": "f955b259-d41f-4c51-a6b7-3b7dbc76e503",
   "metadata": {},
   "source": [
    "**Answer:**"
   ]
  },
  {
   "cell_type": "markdown",
   "id": "c4504be4-e927-4c6e-a8da-06a1f0e13007",
   "metadata": {},
   "source": [
    "----\n",
    "# Part II: Rocks as Building Stones: Princeton University Campus & Beyond"
   ]
  },
  {
   "cell_type": "markdown",
   "id": "11c7fb9f-5e7d-4bc4-b9a0-8757b9775d20",
   "metadata": {},
   "source": [
    "<img src = \"Photos/campus_map.jpg\" width = \"500\" height = \"500\" >"
   ]
  },
  {
   "cell_type": "markdown",
   "id": "ca5dfa67-ec1e-4802-a0ff-7f253fcd9954",
   "metadata": {},
   "source": [
    "Let us now embark on a tour around campus (stops are specified in <font color='red'>**red**</font> above)! **Please carry a quarter (coin) and your camera!**\n",
    "\n",
    "Below is a list of characteristics to consider when choosing a building stone. Note that no one\n",
    "stone will have all of these characteristics; indeed, some are contradictory. For example, a\n",
    "sedimentary rock that breaks along layering will be easier to quarry and shape into slabs, but\n",
    "that layering might also make the rock more susceptible to breaking apart due to freeze-thaw\n",
    "cycles. Or, if the rock you are considering is very beautiful, you might be willing to compromise\n",
    "on other characteristics.\n",
    "\n",
    "1. **Strength**: able to withstand the required load.\n",
    "2. **Cost effective**: abundant, nearby, easy to transport to the building site\n",
    "3. **Aesthetics**: attractive and interesting without polishing or other costly finishing techniques.\n",
    "4. **Resistant to chemical and physical weathering:** marble and limestone, being comprised of calcite, are susceptible to chemical weathering (dissolution) by the mildly acidic nature of rainwater. Quartz-rich rocks would be less so. Rocks most resistant to water infiltration would be fine-grained, crystalline rocks with low porosity and no cracks, no layering or other planes of weakness.\n",
    "5. **Ease of usage**: Rocks comprised of calcite are easily shaped with steel tools, silica-rich rocks would need diamond-embedded saws. If the rock naturally breaks into building block shaped pieces, less shaping needs to be done at the site."
   ]
  },
  {
   "cell_type": "markdown",
   "id": "daa74703-0ecd-41e4-8bc7-bd90f43de503",
   "metadata": {},
   "source": [
    "Guyot Hall and many other buildings on campus are trimmed in Indiana limestone. Most campus gargoyles are also carved out of this rock. Here are some photos of current quarrying operations of Indiana Limestone Co. (headquarters in Oolitic, Indiana):\n",
    "\n",
    " Indiana limestone quarry| Cutting of the Indiana limestone \n",
    "- | - \n",
    "<img src = \"Photos/Indiana_Limestone.jpg\" width = \"500\" height = \"500\" > | <img src = \"Photos/Indiana_Limestone2.jpg\" width = \"300\" height = \"300\" > \n",
    "Images from [here](https://www.stoneworld.com/articles/88570-indiana-limestone-co-aims-to-deliver-premier-quality-and-service)"
   ]
  },
  {
   "cell_type": "markdown",
   "id": "d8cfcc12-fa85-45bf-a33b-9cfa4c48f3b9",
   "metadata": {},
   "source": [
    "Until various additions were built, Guyot Hall was a symmetric building. Walk around the building as best you can given the construction (it is worth going all the way around), looking up toward the roof line and above the various doorways. Note the items depicted by the gargoyles carved out of Indiana limestone.\n",
    "\n",
    "<img src = \"Photos/Guyot.jpg\" width = \"500\" height = \"500\" >"
   ]
  },
  {
   "cell_type": "markdown",
   "id": "b62809c2-5fd7-4683-b52d-5994ed6a8bc1",
   "metadata": {},
   "source": [
    "## TO DO"
   ]
  },
  {
   "cell_type": "markdown",
   "id": "40fa9418-259a-4a28-81e3-c5948d16a2ff",
   "metadata": {},
   "source": [
    "**Question 2:**\n",
    "Make a list of the images depicted on each side of Guyot Hall. How could you describe the differences between the items depicted on the GEO side vs. those depicted on the EEB side?"
   ]
  },
  {
   "cell_type": "markdown",
   "id": "626a24b7-6845-4622-be3f-c686190b5012",
   "metadata": {},
   "source": [
    "**Answer:** "
   ]
  },
  {
   "cell_type": "markdown",
   "id": "5f3156fd-7d85-4670-a54b-c0f5acfce377",
   "metadata": {},
   "source": [
    "**Question 3:**\n",
    "Note that there is a lot of Indiana limestone trim around Guyot, and also some broader walls of Indiana limestone.  However, the limestone is never in direct contact with the ground – instead, there is another rock type in contact with the ground. \n",
    "\n",
    "**3.1** Why isn’t Indiana limestone a good material for the base of a building?\n",
    "\n",
    "**3.2** What IS the rock type in contact with the ground?  Why is this a better choice for this location?"
   ]
  },
  {
   "cell_type": "markdown",
   "id": "f66d8895-67ef-49c6-b967-70b7f10ed3fa",
   "metadata": {},
   "source": [
    "**Answer:** "
   ]
  },
  {
   "cell_type": "markdown",
   "id": "9b0a18a4-280d-4ee0-b635-796c659e20b9",
   "metadata": {
    "tags": []
   },
   "source": [
    "**Question 4:**\n",
    "Now, examine the building blocks of Nassau Hall (not the reddish ones in the arch over the window, but the tan ones making up the rest of the building). This is a sedimentary rock that does not react with HCl. Of the choices on your list of common rock types, what is the most appropriate name for this rock? Justify the name that you choose."
   ]
  },
  {
   "cell_type": "markdown",
   "id": "be8251d5-a0fa-4eed-b1cd-c6b07ad18f50",
   "metadata": {},
   "source": [
    "**Answer:**"
   ]
  },
  {
   "cell_type": "markdown",
   "id": "e0c8ee28-807e-484c-b393-d39c0309ba8b",
   "metadata": {},
   "source": [
    "**Question 5:**\n",
    "This rock is a lousy building stone. Describe/document the evidence for this. Why do you think the rock was used anyway?"
   ]
  },
  {
   "cell_type": "markdown",
   "id": "6ccc6617-45ab-41bb-a8c4-549535ab92f5",
   "metadata": {},
   "source": [
    "**Answer:** "
   ]
  },
  {
   "cell_type": "markdown",
   "id": "9cec81cb-dc56-4624-ae99-c7a91927c6e9",
   "metadata": {},
   "source": [
    "**Question 6:**\n",
    "Examine the building blocks of Firestone Library – it is best to do this on a sunny day! Take your time and look at many blocks. This is a metamorphic rock which does not react with HCl. List and describe any minerals you can identify. Responses should **include a close-up photo with minerals indicated**."
   ]
  },
  {
   "cell_type": "markdown",
   "id": "31dc3a39-219a-4e19-aa33-7bc47f529889",
   "metadata": {},
   "source": [
    "**Answer:** "
   ]
  },
  {
   "cell_type": "markdown",
   "id": "139a5b91-3d1d-4fc3-92f0-45dbd69c7e8f",
   "metadata": {},
   "source": [
    "**Question 7:**\n",
    "Of the choices on your rock flow chart, what is the most appropriate name for this rock? Justify the name that you choose."
   ]
  },
  {
   "cell_type": "markdown",
   "id": "7cd6412e-4d47-4be5-bfbf-812c246da91a",
   "metadata": {},
   "source": [
    "**Answer:** "
   ]
  },
  {
   "cell_type": "markdown",
   "id": "72940dd1-eb9e-4cdb-82b3-d0dfd6061e00",
   "metadata": {},
   "source": [
    "**Question 8:**\n",
    "Examine the marble columns on the porch of Dod Hall opposite the Art Museum construction site. Focus on the left-hand column as you face the porch, and examine both the shaft of the column, as well as the “capital.” And yes, the marble reacts quite vigorously with HCl. Describe the differences between the side of the pillar that faces towards the outside, compared to the side that faces towards the inside of the porch. See image below.\n",
    "\n",
    "<img src = \"Photos/Dob_Hall.jpg\" width = \"500\" height = \"500\" >\n"
   ]
  },
  {
   "cell_type": "markdown",
   "id": "eaae32ef-b0e6-4aa4-8e1a-3ef9bff757f1",
   "metadata": {},
   "source": [
    "**Answer:** "
   ]
  },
  {
   "cell_type": "markdown",
   "id": "ac355005-ebdc-437d-843c-dd2eaf3ce337",
   "metadata": {},
   "source": [
    "**Question 9:**\n",
    "What could account for the difference in the two sides? Explain."
   ]
  },
  {
   "cell_type": "markdown",
   "id": "e010b716-a093-4b7d-964c-912e14e698a3",
   "metadata": {},
   "source": [
    "**Answer:** "
   ]
  },
  {
   "cell_type": "markdown",
   "id": "d35e7ff8-1feb-42bf-85ef-f085f9fb443a",
   "metadata": {
    "tags": []
   },
   "source": [
    "----\n",
    "# Part III: Rocks Characterization using Image Processing"
   ]
  },
  {
   "cell_type": "markdown",
   "id": "5d7c4673-9ac7-483a-bd8e-2830d144cb8d",
   "metadata": {
    "tags": []
   },
   "source": [
    "Image processing is a computational tool that enables the collection and analysis of large amounts of spatial data.  We can use image processing to characterize rocks in detail that may not be feasible with the naked eye during fieldwork. Examples of rock characteristics that we can investigate include the size, shape, composition and spatial distribution of the rock constituents.\n",
    "\n",
    "For the questions below, you will need to visit two sites on campus, and take a photo of each of the specified rocks that will then be used in image processing.  **Be sure to place a quarter (coin) on the rock to include as scale when taking the photo.**  Click a photo of the rock approximately **1 ft x 2 ft in area**, with a quarter for scale. As an example, see this photo of a nice gneiss with a quarter for scale:\n",
    "\n",
    "<img src = \"Photos/example_scale.jpg\" width = \"500\" height = \"500\" >"
   ]
  },
  {
   "cell_type": "markdown",
   "id": "ed9caaf3-7c11-4520-85cf-96e5def5241c",
   "metadata": {
    "tags": []
   },
   "source": [
    "----\n",
    "## Image Processing A: Clasts in Sedimentary Rocks\n",
    "\n",
    "Find the Guyot Glacial Boulder on the north side of Guyot Hall.  It is on a wooden sled so the construction workers can move it around as they work install the new geothermal heating pipework. \n",
    "\n",
    "**NOTE: Take a photo here following the guidelines above. You will need a photo with a quarter (coin) to scale for use in image processing below.**\n",
    "\n",
    "\n",
    "<img src = \"Photos/guyot_glacial_boulder.jpg\" width = \"500\" height = \"500\" >\n",
    "\n",
    "In 1890, this glacial erratic boulder was given to Princeton by Professor Arnold Guyot’s former students at the University of Neuchâtel, Switzerland.  It was originally part of the bedrock of the western Alps, then was plucked out of the Alps during the last Ice Age by the Rhône Glacier and glacially transported to Neuchâtel, deposited by melting ice, and then (much) later collected by Guyot's students, and sent across the Atlantic to Princeton. On campus, the inscribed boulder has graced Marquand Chapel, Nassau Hall and most recently the north side of Guyot Hall. Its next trip will be in a few years to the other side of Washington Road, to the newly constructed Geosciences building."
   ]
  },
  {
   "cell_type": "markdown",
   "id": "80978dba-788a-40af-9a71-012647234bbb",
   "metadata": {},
   "source": [
    "### **TO DO**\n",
    "\n",
    "**Question 10.1** This is a sedimentary rock – give it an appropriate rock name."
   ]
  },
  {
   "cell_type": "markdown",
   "id": "52bce3d4-fbb3-41f6-ad40-b25c1ed3199e",
   "metadata": {},
   "source": [
    "**Answer:**"
   ]
  },
  {
   "cell_type": "markdown",
   "id": "682ecb5f-ff30-430e-a8dd-a55b152c7616",
   "metadata": {},
   "source": [
    "**Question 10.2**  As a sedimentary rock, it should exhibit layering. Describe how this sedimentary layering is manifest in the boulder – look for changes in grain size that would indicate the bedding. Look for boundaries between different areas of the rock in particular and also for directions along which the rock seems to be breaking. Making an annotated sketch or photo would be an efficient way to do this."
   ]
  },
  {
   "cell_type": "markdown",
   "id": "cb600dde-7f4c-4b25-bede-599ee86c2c54",
   "metadata": {},
   "source": [
    "**Answer:**"
   ]
  },
  {
   "cell_type": "markdown",
   "id": "7e48f571-d3a0-4ced-95e5-381b2143a16e",
   "metadata": {},
   "source": [
    "**Question 10.3** What is the orientation of the layering relative to the surface of the ground? E.g., is the layering horizontal (parallel to the ground), vertical (perpendicular to the ground) or at some angle?"
   ]
  },
  {
   "cell_type": "markdown",
   "id": "af9652d5-e3dc-43de-a39f-4479c1b46a98",
   "metadata": {},
   "source": [
    "**Answer:**"
   ]
  },
  {
   "cell_type": "markdown",
   "id": "baf531e9-fb5c-49fa-88e1-cbc5385cda49",
   "metadata": {
    "tags": []
   },
   "source": [
    "### Mini-tutorial\n",
    "\n",
    "- **Image processing for characterizing color distribution in rocks**\n",
    "\n",
    "We will use the Python module [OpenCv](https://opencv.org) for image processing, which is a library of programming functions mainly aimed at real-time computer vision. The code below performs grain size distribution analysis and the dumps results into a comma-separated (csv) file. You can read this file with the pandas module and plot values using the matplotlib module. Refer older problem sets for examples on how to use these modules. The specific steps include:\n",
    "\n",
    "- Step 1: Read image, crop it and define pixel size (if needed to convert results into mm, not pixels)\n",
    "- Step 2: Threshold image to separate grains from boundaries.\n",
    "- Step 3: Clean up image, if needed (erode, etc.) and create a mask for grains\n",
    "- Step 4: Label grains in the masked image\n",
    "- Step 5: Measure the properties of each grain (object)\n",
    "- Step 6: Output results into a csv file\n",
    "- Step 7: Analyze the results"
   ]
  },
  {
   "cell_type": "code",
   "execution_count": null,
   "id": "266a21a6-4b7e-4687-adee-5eb011cec31d",
   "metadata": {},
   "outputs": [],
   "source": [
    "from pathlib import Path\n",
    "import cv2\n",
    "import numpy as np\n",
    "from matplotlib import pyplot as plt\n",
    "from scipy import ndimage\n",
    "from skimage import measure, color, io\n",
    "import plotly.express as px\n",
    "from plotly.subplots import make_subplots\n",
    "import plotly.graph_objects as go"
   ]
  },
  {
   "cell_type": "markdown",
   "id": "be09438e-622e-4178-a83b-f17dbe712ca8",
   "metadata": {
    "tags": []
   },
   "source": [
    "#### STEP # 1 - Read image and define pixel size"
   ]
  },
  {
   "cell_type": "code",
   "execution_count": null,
   "id": "52a015b9-cb61-4416-a5f4-c591d3377dca",
   "metadata": {},
   "outputs": [],
   "source": [
    "image_file = 'Photos/guyot_glacial_boulder.jpg'\n",
    "img = cv2.imread(image_file)\n",
    "\n",
    "# OpenCV by default reads images in BGR format. \n",
    "# You can use the cvtColor(image, flag) and the COLOR_BGR2RGB flag to fix this\n",
    "img = cv2.cvtColor(img, cv2.COLOR_BGR2RGB)\n",
    "\n",
    "# Displaying the image\n",
    "fig = px.imshow(img)\n",
    "fig.show()"
   ]
  },
  {
   "cell_type": "code",
   "execution_count": null,
   "id": "d597ac8b-a275-4204-84b1-26b935b59178",
   "metadata": {
    "tags": []
   },
   "outputs": [],
   "source": [
    "# Create a grayscale image of your file above, if it does not exist already!\n",
    "filepath = Path(image_file)\n",
    "gray_file = Path(filepath.parent,filepath.stem + '_gray' + filepath.suffix)\n",
    "\n",
    "if Path.exists(gray_file):\n",
    "    print(\"NOTE: Already have grayscale image! Reading : \"+str(gray_file))\n",
    "    img_gray = cv2.imread(str(gray_file), cv2.IMREAD_GRAYSCALE)\n",
    "else:\n",
    "    print(\"NOTE: Creating the grayscale image : \"+str(gray_file))\n",
    "    img_gray = cv2.cvtColor(img, cv2.COLOR_RGB2GRAY) # Converting from RGB color to gray\n",
    "    cv2.imwrite(str(gray_file), img_gray) # Saving the grayscale image\n",
    "\n",
    "fig = px.imshow(img_gray, binary_string=True)\n",
    "fig.show()"
   ]
  },
  {
   "cell_type": "markdown",
   "id": "66f75af8-e5f1-4ef7-82cc-c3f6a91c10ea",
   "metadata": {},
   "source": [
    "Find the number of pixels in your scale for the image above. Zoom in and find out!\n",
    "\n",
    "I use a quarter (coin) for scale since its diameter is set as constant (24.26 mm) by the [United State Mint](https://www.usmint.gov/learn/coin-and-medal-programs/coin-specifications)."
   ]
  },
  {
   "cell_type": "code",
   "execution_count": null,
   "id": "155c5d3f-d576-4459-bae3-6aaf3f0cce32",
   "metadata": {},
   "outputs": [],
   "source": [
    "quarter_diameter_in_pixels =  53 # NOTE: This will depend on your image!\n",
    "quarter_diameter_fixed_in_mm = 24.26 # DO NOT CHANGE THIS!\n",
    "pixels_to_mm = quarter_diameter_fixed_in_mm/quarter_diameter_in_pixels\n",
    "print('Note: One pixel in your image equals {0:.4f} mm'.format(pixels_to_mm))"
   ]
  },
  {
   "cell_type": "markdown",
   "id": "0c7fa410-46ff-430d-a4b7-6a0e88867099",
   "metadata": {},
   "source": [
    "Find the margins of the image that you want to focus on. We will crop out the scalebar such as the penny and any unwanted areas such as cracks."
   ]
  },
  {
   "cell_type": "code",
   "execution_count": null,
   "id": "5fff4c2b-be40-49bb-b699-5d6685deeb5b",
   "metadata": {},
   "outputs": [],
   "source": [
    "x_limit = [783,2521] # NOTE: This will depend on your image!\n",
    "y_limit = [295,1273] # NOTE: This will depend on your image!\n",
    "\n",
    "cropped_img = img[y_limit[0]:y_limit[1], x_limit[0]:x_limit[1]]\n",
    "cropped_img_gray = img_gray[y_limit[0]:y_limit[1], x_limit[0]:x_limit[1]]\n",
    "\n",
    "fig = px.imshow(cropped_img_gray, binary_string=True)\n",
    "fig.update_layout(title_text='Cropped area for image processing', title_x=0.5)\n",
    "fig.show()"
   ]
  },
  {
   "cell_type": "markdown",
   "id": "98a1863c-5ebb-4c01-addf-6cc8e3fe29bd",
   "metadata": {
    "tags": []
   },
   "source": [
    "#### STEP # 2 - Thresholding image to get a binary image"
   ]
  },
  {
   "cell_type": "code",
   "execution_count": null,
   "id": "2b6656d8-c2bb-465d-9a4d-e820cb5583a2",
   "metadata": {},
   "outputs": [],
   "source": [
    "#Change the grey image to binary by thresholding. \n",
    "ret, thresh = cv2.threshold(cropped_img_gray, 0, 255, cv2.THRESH_BINARY+cv2.THRESH_OTSU)\n",
    "\n",
    "#View the thresh image. Some boundaries are ambiguous / faint.\n",
    "#Some pixels in the middle. \n",
    "#Need to perform morphological operations to enhance.\n",
    "fig = px.imshow(thresh, binary_string=True)\n",
    "fig.update_layout(title_text='Grey image to binary (0 or 1) by thresholding', title_x=0.5)\n",
    "fig.show()"
   ]
  },
  {
   "cell_type": "markdown",
   "id": "acc50a67-be8a-42d6-ba07-0c114a067bed",
   "metadata": {
    "tags": []
   },
   "source": [
    "#### STEP # 3 - Create mask for grains and remove those touching edges"
   ]
  },
  {
   "cell_type": "code",
   "execution_count": null,
   "id": "854e530f-8146-4eb9-9278-08217c8958c2",
   "metadata": {},
   "outputs": [],
   "source": [
    "#Clean up image, if needed (erode, etc.) and create a mask for grains\n",
    "kernel = np.ones((3,3),np.uint8) \n",
    "eroded = cv2.erode(thresh,kernel,iterations = 1)\n",
    "dilated = cv2.dilate(eroded,kernel,iterations = 1)\n",
    "\n",
    "# Now, we need to apply threshold, meaning convert uint8 image to boolean.\n",
    "mask = dilated == 255  #Sets TRUE for all 255 valued pixels and FALSE for 0\n",
    "\n",
    "from skimage.segmentation import clear_border\n",
    "mask = clear_border(mask)   #Removes edge touching grains. \n",
    "\n",
    "fig = px.imshow(mask, binary_string=True)\n",
    "fig.update_layout(title_text='Removed edge touching grains', title_x=0.5)\n",
    "fig.show()"
   ]
  },
  {
   "cell_type": "markdown",
   "id": "33f417fe-3880-4345-965a-b9f110e44099",
   "metadata": {
    "tags": []
   },
   "source": [
    "#### STEP # 4 - Label clasts in the masked image"
   ]
  },
  {
   "cell_type": "code",
   "execution_count": null,
   "id": "f254ac5f-0970-4943-9cfa-cd9565764c93",
   "metadata": {},
   "outputs": [],
   "source": [
    "#Now we have well separated clasts and background matrix. Each clast is like an object.\n",
    "#The scipy ndimage package has a function 'label' that will number each object with a unique ID.\n",
    "\n",
    "#The 'structure' parameter defines the connectivity for the labeling. \n",
    "#This specifies when to consider a pixel to be connected to another nearby pixel, \n",
    "#i.e. to be part of the same object.\n",
    "\n",
    "#use 8-connectivity, diagonal pixels will be included as part of a structure\n",
    "#this is ImageJ default but we have to specify this for Python, or 4-connectivity will be used\n",
    "# 4 connectivity would be [[0,1,0],[1,1,1],[0,1,0]]\n",
    "s = [[1,1,1],[1,1,1],[1,1,1]]\n",
    "labeled_mask, num_labels = ndimage.label(mask, structure=s)\n",
    "#Now each object had a unique number in the image. \n",
    "\n",
    "#The function outputs a new image that contains a different integer label \n",
    "#for each object, and also the number of objects found.\n",
    "#Let's color the labels to see the effect\n",
    "img2 = color.label2rgb(labeled_mask, bg_label=0)\n",
    "\n",
    "fig = px.imshow(img2)\n",
    "fig.update_layout(title_text='Colored '+str(num_labels)+' Clasts', title_x=0.5)\n",
    "fig.show()"
   ]
  },
  {
   "cell_type": "markdown",
   "id": "bf919eb6-9068-41b3-9c05-19793df8533d",
   "metadata": {
    "tags": []
   },
   "source": [
    "#### STEP # 5 - Measure the properties of each clast (object)"
   ]
  },
  {
   "cell_type": "code",
   "execution_count": null,
   "id": "04ef2b4e-c89e-4792-93c6-af15897be351",
   "metadata": {
    "tags": []
   },
   "outputs": [],
   "source": [
    "# regionprops function in skimage measure module calculates useful parameters for each object.\n",
    "clasts = measure.regionprops(labeled_mask, cropped_img_gray)  #send in original image for Intensity measurements\n",
    "\n",
    "#The output of the function is a list of object properties.\n",
    "\n",
    "#Test a few measurements, convert pixel perimeter to mm\n",
    "print(\"Perimeter of the first clast is \",clasts[0].perimeter*pixels_to_mm,\" mm\")\n",
    "#Can print various parameters for first 10 objects, converting pixel square to mm square\n",
    "print('Areas of the first 10 clasts out of', num_labels,' total detected in the cropped image')\n",
    "for prop in clasts[:10]:\n",
    "    print('Clast: {}'.format(prop.label), 'Area: {0:.2f} mm\\u00b2'.format(prop.area*pixels_to_mm**2))"
   ]
  },
  {
   "cell_type": "markdown",
   "id": "811b896b-3e36-445e-b946-db1a1efff19d",
   "metadata": {
    "tags": []
   },
   "source": [
    "#### STEP # 6 - Output results into a csv file  "
   ]
  },
  {
   "cell_type": "code",
   "execution_count": null,
   "id": "d71d775d-6735-4de9-9ff7-67666e6fcc41",
   "metadata": {},
   "outputs": [],
   "source": [
    "#Best way is to output all properties to a csv file\n",
    "propList = ['Area',\n",
    "            'equivalent_diameter', \n",
    "            'orientation', \n",
    "            'MajorAxisLength',\n",
    "            'MinorAxisLength',\n",
    "            'Perimeter',\n",
    "            'eccentricity',\n",
    "            'MinIntensity',\n",
    "            'MeanIntensity',\n",
    "            'MaxIntensity']    \n",
    "\n",
    "output_file = open('clast_measurements_guyot.csv', 'w')\n",
    "output_file.write(',' + \",\".join(propList) + '\\n') #join strings in array by commas, leave first cell blank\n",
    "#First cell blank to leave room for header (column names)\n",
    "\n",
    "for clast_props in clasts:\n",
    "    #output cluster properties to the excel file\n",
    "    output_file.write(str(clast_props['Label']))\n",
    "    for i,prop in enumerate(propList):\n",
    "        if(prop == 'Area'): \n",
    "            to_print = clast_props[prop]*pixels_to_mm**2   #Convert pixel square to mm square\n",
    "        elif(prop == 'orientation'): \n",
    "            to_print = clast_props[prop]*57.2958  #Convert to degrees from radians\n",
    "        elif(prop.find('Intensity') < 0):          # Any prop without Intensity in its name\n",
    "            to_print = clast_props[prop]*pixels_to_mm\n",
    "        else: \n",
    "            to_print = clast_props[prop]     #Reamining props, basically the ones with Intensity in its name\n",
    "        output_file.write(',' + str(to_print))\n",
    "    output_file.write('\\n')\n",
    "output_file.close()   #Closes the file, otherwise it would be read only. "
   ]
  },
  {
   "cell_type": "markdown",
   "id": "b7e61f0f-0a75-44a4-903c-2752591fe019",
   "metadata": {},
   "source": [
    "#### STEP # 7 - Analyze the results"
   ]
  },
  {
   "cell_type": "code",
   "execution_count": null,
   "id": "a649b54d-9cf3-4973-b876-30db390154fe",
   "metadata": {},
   "outputs": [],
   "source": [
    "import pandas as pd\n",
    "# pandas read_table allows you to read a table of any structure\n",
    "# useful when you are not sure how to read the file\n",
    "table = pd.read_csv(\"clast_measurements_guyot.csv\")"
   ]
  },
  {
   "cell_type": "code",
   "execution_count": null,
   "id": "0c33735a-e05f-44f7-9697-8c156087d10c",
   "metadata": {},
   "outputs": [],
   "source": [
    "n, bins, patches = plt.hist(table['orientation'].values, 50, density=True, facecolor='g', alpha=0.75)\n",
    "plt.xlabel('Angle from vertical')\n",
    "plt.ylabel('Probability')\n",
    "plt.title('Histogram of clast orientations')\n",
    "plt.xlim(-90, 90)\n",
    "plt.grid(True)"
   ]
  },
  {
   "cell_type": "markdown",
   "id": "55293626-b654-4dd2-9b9a-59326831f6e2",
   "metadata": {},
   "source": [
    "### **TO DO**\n",
    "\n",
    "**Question 10.4:** Upload a photo of the rock type approximately 1 ft x 2 ft in area, with a quarter for scale. Proceed with the image processing based on the mini-tutorial above. What does your pixel size correspond to in mm? Plot histograms of orientations, eccentricity and diameter of clast detected in your cropped image. Describe and discuss in a few sentences."
   ]
  },
  {
   "cell_type": "markdown",
   "id": "538ee3bd-ec1d-418c-a809-0141668e5893",
   "metadata": {},
   "source": [
    "**Answer:**"
   ]
  },
  {
   "cell_type": "markdown",
   "id": "20373a37-29b3-45be-8bcc-007cb73f2f13",
   "metadata": {},
   "source": [
    "**Question 10.5:** How do the aspect ratios (measured as eccentricities) of the clasts detected by image processing vary with the clast size (measured as equivalent diameter)? At what threshold clast size do they become dominantly angular (i.e. no rounded clasts)? Note that eccentricity is 0 for a rounded clast and increases with higher aspect ratios. Plot some figures to look at this relationship and discuss the variations in a few sentences."
   ]
  },
  {
   "cell_type": "markdown",
   "id": "66b74d6b-0f07-497c-bdc6-fcbfc362d23d",
   "metadata": {},
   "source": [
    "**Answer:**"
   ]
  },
  {
   "cell_type": "markdown",
   "id": "07d47522-b66f-42bd-ac9b-2f84e5425d88",
   "metadata": {},
   "source": [
    "**Question 10.6:** Focus attention on the most angular clasts (eccentricities > 0.3) that are larger than the threshold clast size from Question 10.5. Is the preferred orientation of these large, angular clasts consistent with the bedding orientation that you described in 10.3? Describe and discuss in a few sentences."
   ]
  },
  {
   "cell_type": "markdown",
   "id": "b6e411e1-b1eb-40c1-858e-1d24d04fc238",
   "metadata": {},
   "source": [
    "**Answer:**"
   ]
  },
  {
   "cell_type": "markdown",
   "id": "e672505b-ca7c-45c3-92ab-095c933ef2c8",
   "metadata": {
    "tags": []
   },
   "source": [
    "----\n",
    "## Image Processing B: Mineral Grains in Igneous Rocks\n",
    "\n",
    "Examine the steps of the parallel stairways at the intersections of Walker, Peyton and Wright Halls. Thin red lines in the image below mark the parallel steps made of coarse-grained granite. Do not look where the red <font color='red'>**X**</font> is. \n",
    "\n",
    "**NOTE: Take a photo here following the guidelines above. You will need a photo with a quarter (coin) to scale for use in image processing below.**\n",
    "\n",
    "<img src = \"Photos/steps_location.png\" width = \"500\" height = \"500\" >"
   ]
  },
  {
   "cell_type": "markdown",
   "id": "63ce2e05-4c1b-46e6-81d7-4999c7f19d97",
   "metadata": {
    "tags": []
   },
   "source": [
    "### **TO DO**\n",
    "\n",
    "**Question 11.1:** What characteristics are consistent with this rock being an igneous rock?  Describe both compositional and textural characteristics. Name the 4 dominant minerals in this rock. "
   ]
  },
  {
   "cell_type": "markdown",
   "id": "1b170182-1e3d-4280-b23f-88f4082461d0",
   "metadata": {},
   "source": [
    "**Answer:**"
   ]
  },
  {
   "cell_type": "markdown",
   "id": "a61c4691-1af4-495b-9dd3-69cf4be153d5",
   "metadata": {
    "tags": []
   },
   "source": [
    "### Mini-tutorial\n",
    "\n",
    "- **Random number generation**\n",
    "- **Writing csv files to your hard disk**"
   ]
  },
  {
   "cell_type": "code",
   "execution_count": null,
   "id": "a8bda9ef-bab5-44c9-856a-283fb975cd46",
   "metadata": {},
   "outputs": [],
   "source": [
    "image_file = 'Photos/granite_steps.jpg'\n",
    "img = cv2.imread(image_file)\n",
    "\n",
    "# OpenCV by default reads images in BGR format. \n",
    "# You can use the cvtColor(image, flag) and the COLOR_BGR2RGB flag to fix this\n",
    "img = cv2.cvtColor(img, cv2.COLOR_BGR2RGB)\n",
    "\n",
    "# Displaying the image\n",
    "fig = px.imshow(img)\n",
    "fig.show()"
   ]
  },
  {
   "cell_type": "markdown",
   "id": "e6f0f90f-634d-409d-be62-e5ff77978e4f",
   "metadata": {},
   "source": [
    "Find the number of pixels in your scale for the image above. Zoom in and find out!\n",
    "\n",
    "I use a quarter (coin) for scale since its diameter is set as constant (24.26 mm) by the [United State Mint](https://www.usmint.gov/learn/coin-and-medal-programs/coin-specifications)."
   ]
  },
  {
   "cell_type": "code",
   "execution_count": null,
   "id": "4b0475cf-3192-4649-9469-dfd1f24691ac",
   "metadata": {},
   "outputs": [],
   "source": [
    "quarter_diameter_in_pixels =  146 # NOTE: This will depend on your image!\n",
    "quarter_diameter_fixed_in_mm = 24.26 # DO NOT CHANGE THIS!\n",
    "pixels_to_mm = quarter_diameter_fixed_in_mm/quarter_diameter_in_pixels\n",
    "print('Note: One pixel in your image equals {0:.4f} mm'.format(pixels_to_mm))"
   ]
  },
  {
   "cell_type": "markdown",
   "id": "cda0cf1d-e2cc-4e5b-9061-205c76e1e4bb",
   "metadata": {},
   "source": [
    "Find the margins of the image that you want to focus on. We will crop out the scalebar such as the penny and any unwanted areas such as cracks."
   ]
  },
  {
   "cell_type": "code",
   "execution_count": null,
   "id": "41e1162b-13da-4bc0-89e3-4748bd3e3585",
   "metadata": {},
   "outputs": [],
   "source": [
    "# crop limits\n",
    "x_limit = [535,3426] # NOTE: This will depend on your image!\n",
    "y_limit = [132,1752] # NOTE: This will depend on your image!\n",
    "cropped_img = img[y_limit[0]:y_limit[1], x_limit[0]:x_limit[1]]\n",
    "\n",
    "#select 50 random points\n",
    "N = 50\n",
    "x_loc = np.random.randint(0,cropped_img.shape[1],size=N)\n",
    "y_loc = np.random.randint(0,cropped_img.shape[0],size=N)\n",
    "\n",
    "fig1 = px.imshow(cropped_img)\n",
    "fig2 = px.scatter(x=x_loc,y=y_loc)\n",
    "fig = go.Figure(data=fig1.data + fig2.data, layout = fig1.layout)\n",
    "fig.update_xaxes(range=[0, cropped_img.shape[1]])\n",
    "fig.update_yaxes(range=[0, cropped_img.shape[0]])\n",
    "\n",
    "fig.update_layout(title_text='Cropped area with random points', title_x=0.5)\n",
    "fig.show()"
   ]
  },
  {
   "cell_type": "code",
   "execution_count": null,
   "id": "287cad75-a58d-4c7f-a913-769b6892d1dc",
   "metadata": {},
   "outputs": [],
   "source": [
    "# Write out the locations of the point counting\n",
    "np.savetxt('point_counting.csv',np.transpose([x_loc,y_loc]),\n",
    "           delimiter=',',fmt='%i,%i',comments='',header='x_loc,y_loc')"
   ]
  },
  {
   "cell_type": "markdown",
   "id": "62513a04-3068-4149-8611-2e2bf524a670",
   "metadata": {},
   "source": [
    "### TO DO\n",
    "\n",
    "**Question 11.2:** Take your own photo and select 50 random points following the mini-tutorial above. What does your pixel size correspond to in mm?  \n",
    "\n",
    "Fill in the identified mineral number (1 to 4) from Question 11.1 as another column *actual* in the file *point_counting.csv* you just created. Calculate the fraction of each mineral and propose an identification for the rock. This procedure is called *point counting* in geology."
   ]
  },
  {
   "cell_type": "markdown",
   "id": "07f4059c-3b9b-4398-a56f-1aa549b80f8f",
   "metadata": {},
   "source": [
    "**Answer:**"
   ]
  },
  {
   "cell_type": "markdown",
   "id": "8eaf98ad-793e-4447-8840-c94f8d4eaf5a",
   "metadata": {},
   "source": [
    "### Mini-tutorial\n",
    "\n",
    "- **Image segmentation using K-means clustering for characterizing mineral distribution in rocks**\n",
    "\n",
    "In computer vision, image segmentation is the process of partitioning an image into multiple segments. The goal of segmenting an image is to change the representation of an image into something that is more meaningful and easier to analyze. It is usually used for locating objects and creating boundaries. For crystalline igneous rocks with overlapping grains, finding the boundaries of individual grains is sometimes not tractable. You can check this by running the mini-tutorial from *Image Processing A* with the rock in *Image Processing B*. See if you get well defined grains!  \n",
    "\n",
    "Another way to partition the image is by characterizing the distribution of individual minerals based on the color. Color is denoted by the tuple (R,G,B) denoting the RGB color model. This additive color model uses red, green, and blue as primary colors of light that are added together in various ways to reproduce a broad array of colors. \n",
    "\n",
    "We will use [cluster analysis](https://en.wikipedia.org/wiki/Cluster_analysis) to identify similar grouping of a set of pixels in such a way that the pixels in the same group (called a cluster) are more similar (in some sense) to each other than to those in other groups (clusters). In an ideal scenario, each of these clusters corresponds to a single mineral in the rock. Overall, applying K-means yields `K` separate clusters of the original `n` data points. Given a `MxN` size image, we have `MxN` pixels, each consisting of three components: Red, Green, and Blue respectively. \n",
    "\n",
    "One caveat of K-means is that we need to specify the number of clusters we want to generate ahead of time (4 minerals in our case). There are algorithms that automatically select the optimal value of K, but these algorithms are outside the scope of this problem set. Let's see how K-means cluster works as it tries to find the most optimal groups of points on a 2-D plane below over several iterations:"
   ]
  },
  {
   "cell_type": "markdown",
   "id": "b891bf3c-8625-4443-b1b4-37b7a5dae8e7",
   "metadata": {},
   "source": [
    "<img src = \"Photos/K-means_convergence.gif\" width = \"300\" height = \"300\" >\n"
   ]
  },
  {
   "cell_type": "markdown",
   "id": "5000561b-b476-46d3-ae0d-734460982c25",
   "metadata": {},
   "source": [
    "We going to use the `cv2.kmeans` function, which takes a 2D array as input, and since our original image is 3D (width, height, and depth of 3 RGB values), we need to flatten the height and width into a single vector of pixels (3 RGB values):"
   ]
  },
  {
   "cell_type": "code",
   "execution_count": null,
   "id": "299c8ddb-cf85-4c42-829b-746ed038b722",
   "metadata": {},
   "outputs": [],
   "source": [
    "# reshape the image to a 2D array of pixels and 3 color values (RGB)\n",
    "pixel_values = cropped_img.reshape((-1, 3))\n",
    "# convert to float\n",
    "pixel_values = np.float32(pixel_values)"
   ]
  },
  {
   "cell_type": "markdown",
   "id": "03e60b76-c1be-4040-9e8c-c5e6d90623d4",
   "metadata": {},
   "source": [
    "If you watched the video that explains the algorithm above, you'd see that after a few iterations, none of the cluster assignments change much. Well, we going to cheat a little bit here since this is a large number of data points, so it'll take a lot of time to process, we are going to stop either when some number of iterations is exceeded (say 1000), or if the clusters move less than some epsilon value (let's pick 0.01 here). The code below defines the stopping criteria in OpenCV."
   ]
  },
  {
   "cell_type": "code",
   "execution_count": null,
   "id": "5be67cb2-9553-4e93-a26d-ce0d34e620ea",
   "metadata": {},
   "outputs": [],
   "source": [
    "# define stopping criteria\n",
    "criteria = (cv2.TERM_CRITERIA_EPS + cv2.TERM_CRITERIA_MAX_ITER, 1000, 0.01)"
   ]
  },
  {
   "cell_type": "markdown",
   "id": "fa6233d3-bd1c-4b90-bd57-0a7af2d8bce5",
   "metadata": {},
   "source": [
    "If you look at the image, there are four primary minerals as identified by you in Question 11.1. As a result, we going to use four (k=4) clusters for this image:"
   ]
  },
  {
   "cell_type": "code",
   "execution_count": null,
   "id": "1b1a5374-fa98-4057-8694-d6b71e6c59cb",
   "metadata": {},
   "outputs": [],
   "source": [
    "# number of clusters (K)\n",
    "k = 4\n",
    "_, labels, (centers) = cv2.kmeans(pixel_values, k, None, criteria, 10, cv2.KMEANS_RANDOM_CENTERS)"
   ]
  },
  {
   "cell_type": "markdown",
   "id": "86aeba41-6c1d-4800-a08e-9db02e0f07e6",
   "metadata": {},
   "source": [
    "`labels` array is the cluster label for each pixel which is either 0, 1, 2 or 3 (since k = 4), `centers` refer to the center points (each centroid's value). The option `cv2.KMEANS_RANDOM_CENTERS` just indicates OpenCV to randomly assign the values of the clusters initially.\n",
    "\n",
    "Let us now look at the cluster label of each point in the image. Compare with the original image above. "
   ]
  },
  {
   "cell_type": "code",
   "execution_count": null,
   "id": "e51869db-c8c4-409b-af12-badb20f48dbd",
   "metadata": {},
   "outputs": [],
   "source": [
    "# show the image\n",
    "cluster_index = (labels+1).reshape(cropped_img.shape[:2]) # add 1 since labels start from 0\n",
    "\n",
    "fig1 = px.imshow(cluster_index)\n",
    "fig2 = px.scatter(x=x_loc,y=y_loc)\n",
    "fig = go.Figure(data=fig1.data + fig2.data, layout = fig1.layout)\n",
    "fig.update_layout(title_text='Locations of 4 Clusters predicted by K-means', title_x=0.5)\n",
    "fig.update_xaxes(range=[0, cluster_index.shape[1]])\n",
    "fig.update_yaxes(range=[0, cluster_index.shape[0]])\n",
    "\n",
    "fig.show()"
   ]
  },
  {
   "cell_type": "markdown",
   "id": "964c9f67-df95-40c7-bfd7-bf475deca3c0",
   "metadata": {},
   "source": [
    "You can find the cluster index for your random points with the following lines. \n",
    "\n",
    "**Warning**: Be careful not to mix your cluster index with the mineral index you used in Questions 11.1 and 11.2. "
   ]
  },
  {
   "cell_type": "code",
   "execution_count": null,
   "id": "6731b850-97c3-4c68-859e-8e749c6cbc7c",
   "metadata": {},
   "outputs": [],
   "source": [
    "# Read the list of random points\n",
    "random_points = pd.read_csv('point_counting.csv')\n",
    "\n",
    "# Create an empty list, iterate through all rows and grab the values at the location\n",
    "prediction = []\n",
    "for index, row in random_points.iterrows():\n",
    "    prediction.append(cluster_index[row['y_loc'],row['x_loc']])\n",
    "# store the grabbed values back in the Pandas dataframe\n",
    "random_points['prediction']=prediction\n",
    "\n",
    "#store it back in the csv file\n",
    "random_points.to_csv('point_counting.csv')"
   ]
  },
  {
   "cell_type": "markdown",
   "id": "efb90b76-f545-4f27-ba21-0d4a1cef3d8d",
   "metadata": {},
   "source": [
    "An estimate of the fraction of the mineral can be estimated based on the number of pixels in each cluster."
   ]
  },
  {
   "cell_type": "code",
   "execution_count": null,
   "id": "853f2977-dc15-48c9-a7a7-3cbe3096e232",
   "metadata": {},
   "outputs": [],
   "source": [
    "print(\"Cluster |  Fraction (%)\")\n",
    "bincount = np.bincount(cluster_index.flatten())\n",
    "for cluster in np.linspace(1,4,4,dtype=int):\n",
    "    fraction = bincount[cluster]/np.sum(bincount)*100.\n",
    "    print(cluster,' | ',np.round(fraction,3))"
   ]
  },
  {
   "cell_type": "markdown",
   "id": "db9f77ca-ba8a-46b6-9eb2-c8a4111516da",
   "metadata": {},
   "source": [
    "Now let's construct the segmented image that has the individual clusters:"
   ]
  },
  {
   "cell_type": "code",
   "execution_count": null,
   "id": "2cc92b47-18a7-4920-922c-bb4216ccfe1f",
   "metadata": {},
   "outputs": [],
   "source": [
    "# convert back to 8 bit values\n",
    "centers = np.uint8(centers)\n",
    "\n",
    "# flatten the labels array\n",
    "labels = labels.flatten()"
   ]
  },
  {
   "cell_type": "code",
   "execution_count": null,
   "id": "7e5be7af-485e-406f-bba2-c1247ef71111",
   "metadata": {},
   "outputs": [],
   "source": [
    "# convert all pixels to the color of the centroids\n",
    "segmented_image = centers[labels.flatten()]"
   ]
  },
  {
   "cell_type": "code",
   "execution_count": null,
   "id": "2dc74767-1c4a-4571-a8d0-6dc0fc4fa470",
   "metadata": {},
   "outputs": [],
   "source": [
    "# reshape back to the original image dimension\n",
    "segmented_image = segmented_image.reshape(cropped_img.shape)\n",
    "# show the image\n",
    "fig = px.imshow(segmented_image)\n",
    "fig.update_layout(title_text='Segmented Image', title_x=0.5)\n",
    "fig.show()"
   ]
  },
  {
   "cell_type": "markdown",
   "id": "a0856fdd-cc73-4e2e-8349-965b767ff34c",
   "metadata": {},
   "source": [
    "Next, let us check if each of the cluster make sense. We will mask all pixel except those belonging to a cluster with a bright color. This will be repeated for all 4 clusters. See if the clusters make sense!"
   ]
  },
  {
   "cell_type": "code",
   "execution_count": null,
   "id": "d79ea9b4-51e3-4f14-a47b-2d9c5b6f239c",
   "metadata": {},
   "outputs": [],
   "source": [
    "for cluster in np.linspace(1,4,4,dtype=int):\n",
    "    # disable only the cluster number 2 (turn the pixel into black)\n",
    "    masked_image = np.copy(cropped_img)\n",
    "    # convert to the shape of a vector of pixel values\n",
    "    masked_image = masked_image.reshape((-1, 3))\n",
    "    # color (i.e cluster) to disable\n",
    "    masked_image[labels != cluster-1] = [204, 255, 153]\n",
    "    # convert back to original shape\n",
    "    masked_image = masked_image.reshape(cropped_img.shape)\n",
    "    # show the image\n",
    "    fig = px.imshow(masked_image)\n",
    "    fig.update_layout(title_text='Green is Masked : Displaying Cluster # '+str(cluster), title_x=0.5)\n",
    "    fig.show()"
   ]
  },
  {
   "cell_type": "markdown",
   "id": "4a74251f-997b-46d8-b912-5843af0057d6",
   "metadata": {},
   "source": [
    "### TO DO\n",
    "\n",
    "**Question 11.3:** Compute the fraction of the 4 minerals based on K-mean clustering in your image. Map the cluster number to a mineral identified in Question 11.1. In the *point_counting.csv* file, add another column called *prediction* that denotes the mineral type based on the K-means cluster. Be careful to have both *actual* from Question 11.3 and *prediction* indices correspond to the same mineral, in order to aid comparisons.\n",
    "\n",
    "**Note:** The easiest way to add a column called *actual* manually into a comma-seperated file is by downloading it first to your local computer (or laptop) from the JupyterLab file browser. The *point_counting.csv* file can then be edited in Microsoft Excel, saved and dragged back to the JupyterLab server to overwrite the file your values. Running the clustering algorithm should add another column called *prediction* to the same file. "
   ]
  },
  {
   "cell_type": "markdown",
   "id": "b500052f-b999-4e92-b3d4-5828bfe5d0db",
   "metadata": {},
   "source": [
    "**Answer:**"
   ]
  },
  {
   "cell_type": "markdown",
   "id": "2017345c-80ca-4f2c-a30d-82d28e872f6a",
   "metadata": {},
   "source": [
    "**Question 11.4:** In the field of machine learning and specifically the problem of statistical classification, a confusion matrix, also known as an error matrix, is a specific table layout that allows visualization of the performance of an algorithm. Create a confusion matrix for the K-mean clustering algorithm in image segmentation for mineral characterization (see example below, all values in number of random locations out of 50, and diagonal values indicate correct predictions). \n",
    "\n",
    "Based on the confusion matrix, which mineral is the clustering algorithm able to identify most easily and where does it gets confused? \n",
    "\n",
    "<img src = \"Photos/confusion_matrix.png\" width = \"300\" height = \"300\" >\n",
    "\n",
    "**Note:** This is the first step in designing a machine learning/artificial intelligence (AI) algorithm trained with your expert supervision."
   ]
  },
  {
   "cell_type": "markdown",
   "id": "3c124e80-0175-4ce1-a114-b0b6ece4367d",
   "metadata": {},
   "source": [
    "**Answer:**"
   ]
  }
 ],
 "metadata": {
  "kernelspec": {
   "display_name": "fall2022 [~/opt/export/course/geo203/anaconda3/envs/fall2022/]",
   "language": "python",
   "name": "conda_fall2022"
  },
  "language_info": {
   "codemirror_mode": {
    "name": "ipython",
    "version": 3
   },
   "file_extension": ".py",
   "mimetype": "text/x-python",
   "name": "python",
   "nbconvert_exporter": "python",
   "pygments_lexer": "ipython3",
   "version": "3.9.12"
  }
 },
 "nbformat": 4,
 "nbformat_minor": 5
}

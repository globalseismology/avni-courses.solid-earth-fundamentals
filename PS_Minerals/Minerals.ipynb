{
 "cells": [
  {
   "cell_type": "markdown",
   "id": "87abe991-1153-442e-a88e-e996b991db74",
   "metadata": {
    "tags": []
   },
   "source": [
    "\n",
    "# Minerals\n",
    "\n",
    "IN THE SPACE BELOW, WRITE OUT IN FULL AND THEN SIGN THE HONOR PLEDGE:\n",
    "\n",
    "“I pledge my honor that I have not violated the honor code during this examination.”\n",
    "\n",
    "**PRINT NAME**: \n",
    "\n",
    "If a fellow student has contributed significantly to this work, please acknowledge them here:\n",
    "\n",
    "**Peer(s)**:                          \n",
    "\n",
    "*Contribution:*\n",
    "\n",
    "\n",
    "By uploading this assignment through Canvas, I sign off on the document below electronically.\n",
    "\n",
    "----"
   ]
  },
  {
   "cell_type": "markdown",
   "id": "b498fa13-5279-4fb6-8c05-07c7741abb5c",
   "metadata": {
    "tags": []
   },
   "source": [
    "## Part I: Mineral Identification in Practice\n",
    "\n",
    "While critical to defining and classifying minerals, the crystal structure of minerals (e.g. unit cell structure) and their chemical composition (e.g. NaCl for Halite) are not always practical parameters for identifying minerals. Instead, geologists rely on physical properties such as density, thermal characteristics (e.g. thermal conductivity, thermal expansion and specific heat), and elastic properties (e.g. shear and bulk modulus). Optical properties include color, polarization and birefringence, factors that are also considered when you buy your sunglasses! Each mineral has a unique set of physical and optical properties that can be utilized to determine its identity. \n",
    "\n",
    "### Mini-tutorial\n",
    "\n",
    " - **Learn about major properties and their ranges**\n",
    " \n",
    "In this tutorial, you will be introduced to some commonly used physical and optical properties in order to identify a set of minerals. We will first learn about some properties and then develop an approach for the identification of minerals based on this knowledge. The properties that we will discuss include color, cleavage, luster, hardness, density, streak, reactivity, magnetism, and mineral fluorescence. Pages 139-142 from the book *Earth: portrait of a planet*, 7<sup>th</sup> Edition, by Marshak is a good introductory reference, while Chapter 6 from *Manual of Mineralogy*, 21<sup>st</sup> Edition by Klein & Hurlbut is meant for advanced reading.\n",
    "\n",
    "In order to correctly identify any mineral, you will need to learn more about each property. We have set up stations around the room which help to illustrate the main aspects of each of these properties. Below we have provided some basic information on each property. Your job is to go to each station, take notes, photos, and measurements, and log this information below. The information you add to this list will be used in the next section of this exercise, and in future problem sets. So please be thorough in your note-taking. You likely will reference these mineral properties many times during this course and beyond. \n",
    "\n",
    "<figure>\n",
    "<img src = \"Photos/Station_1.jpeg\" width = \"48%\" >\n",
    "<img src = \"Photos/Station_2.jpeg\" width = \"48%\" >\n",
    "<img src = \"Photos/Station_3.jpeg\" width = \"48%\" >\n",
    "<img src = \"Photos/Station_4.jpeg\" width = \"48%\" >\n",
    "<img src = \"Photos/Station_5.jpeg\" width = \"48%\" >\n",
    "<img src = \"Photos/Station_6.jpeg\" width = \"48%\" >\n",
    "<img src = \"Photos/Station_7.jpeg\" width = \"48%\" >\n",
    "<img src = \"Photos/Station_8.jpeg\" width = \"48%\" >\n",
    "<img src = \"Photos/Station_9.jpeg\" width = \"48%\" >\n",
    "<img src = \"Photos/Station_10.jpeg\" width = \"48%\" >\n",
    "<figcaption style=\"font-style: italic, text-align: center\"><i>Images: Various stations for students to probe minerals with during the lab.</i></figcaption>\n",
    "</figure>"
   ]
  },
  {
   "cell_type": "markdown",
   "id": "97872a11-5277-465c-9a88-42981a173e4d",
   "metadata": {
    "tags": []
   },
   "source": [
    "### Hardness:\n",
    "\n",
    "Hardness is a measure of how easily a mineral can be scratched. Hardness can be measured by a scratch test using the *Mohs Scale of Hardness*. Minerals are ranked out of 10, with 1 being the softest and 10 being the hardest. We have provided a set of 9 minerals (diamond is ranked at 10, so we have left this mineral out) ranked 1 through 9 on the Mohs Scale. Below we have provided a list of minerals that correspond to different levels of hardness. \n",
    "\n",
    "\n",
    "<figure>\n",
    "<img src = \"Photos/Hard1.png\" width = \"19%\" >\n",
    "<img src = \"Photos/Hard2.png\" width = \"19%\" >\n",
    "<img src = \"Photos/Hard3.png\" width = \"19%\" >\n",
    "<img src = \"Photos/Hard4.png\" width = \"19%\" >\n",
    "<img src = \"Photos/Hard5.png\" width = \"19%\" >\n",
    "<img src = \"Photos/Hard6.png\" width = \"19%\" >\n",
    "<img src = \"Photos/Hard7.png\" width = \"19%\" >\n",
    "<img src = \"Photos/Hard8.png\" width = \"19%\" >\n",
    "<img src = \"Photos/Hard9.png\" width = \"19%\" >\n",
    "<img src = \"Photos/Hard10.png\" width = \"19%\" >\n",
    "<figcaption style=\"font-style: italic, text-align: center\"><i>Images: Various types of hardness found in natural settings (from left to right, and top to bottom - Talc, Gypsum, Calcite, Flurite, Apatite, Feldspar, Quartz, Topaz, Corundum, and Diamond).</i></figcaption>\n",
    "</figure>\n",
    "\n",
    "\n",
    "\n",
    "### Cleavage:\n",
    "\n",
    "Cleavage is one of the trickiest properties to understand. Cleavage is the tendency of crystalline materials to split along definite crystallographic structural planes. If bonds between atoms are weaker in certain directions than in other directions, the crystal will tend to split along the weakly bonded planes. These flat breaks are termed \"cleavage\". Cleavage can come in many forms including Basal (1-cleavage plane), Prismatic (2-cleavage planes), Cubic (3-cleavage planes intersecting at 90 degrees), Rhombohedral (3-cleavage planes intersecting at angles that are **not** 90 degrees), Octahedral (4-cleavage planes), and many others. Below are examples of some of the most common types of cleavage. \n",
    "\n",
    "\n",
    "<figure>\n",
    "<img src = \"Photos/cleavage1.png\" width = \"16%\" >\n",
    "<img src = \"Photos/cleavage2.jpg\" width = \"16%\" >\n",
    "<img src = \"Photos/cleavage3.jpg\" width = \"16%\" >\n",
    "<img src = \"Photos/cleavage4.jpg\" width = \"16%\" >\n",
    "<img src = \"Photos/cleavage6.jpg\" width = \"16%\" >\n",
    "<img src = \"Photos/cleavage5.jpg\" width = \"16%\" >\n",
    "<figcaption style=\"font-style: italic, text-align: center\"><i>Images: Various types of luster found in natural settings (from left to right - no Cleavage | basal, prismatic, rhombohedral, cubic, octahedral).</i></figcaption>\n",
    "</figure>\n",
    "\n",
    "\n",
    "\n",
    "\n",
    "### Color: \n",
    "Color is the easiest property to observe, but only a few minerals can be identified based on color alone. Elemental impurities can contaminate the mineral changing its color. For example, we show below how variable the color of quartz can be. \n",
    "\n",
    "<figure>\n",
    "<img src = \"Photos/quartz1.png\" width = \"13%\" >\n",
    "<img src = \"Photos/quartz2.png\" width = \"13%\" >\n",
    "<img src = \"Photos/quartz3.png\" width = \"13%\" >\n",
    "<img src = \"Photos/quartz4.png\" width = \"13%\" >\n",
    "<img src = \"Photos/quartz5.png\" width = \"13%\" >\n",
    "<img src = \"Photos/quartz6.png\" width = \"13%\" >\n",
    "<img src = \"Photos/quartz7.png\" width = \"13%\" >\n",
    "</figure>\n",
    "\n",
    "### Luster:\n",
    "\n",
    "Luster is the appearance of a mineral surface in terms of its light-reflective qualities. Luster depends upon a mineral’s refractive power, degree of transparency, and structure. Variations in these properties produce different kinds of luster, whereas variations in the quantity of reflected light produce different intensities of the same luster. \n",
    "\n",
    "<figure>\n",
    "<img src = \"Photos/luster1.jpg\" width = \"16%\" >\n",
    "<img src = \"Photos/luster2.jpg\" width = \"16%\" >\n",
    "<img src = \"Photos/luster3.jpg\" width = \"16%\" >\n",
    "<img src = \"Photos/luster4.png\" width = \"16%\" >\n",
    "<img src = \"Photos/luster5.jpg\" width = \"16%\" >\n",
    "<img src = \"Photos/luster6.png\" width = \"16%\" >\n",
    "<figcaption style=\"font-style: italic, text-align: center\"><i>Images: Various types of luster found in natural settings (from left to right - metallic, silky, vitreous, earthy, pearly, adamantine).</i></figcaption>\n",
    "</figure>\n",
    "\n",
    "### Density:\n",
    "\n",
    "Density is a measure of a mineral's mass divided by its volume. We have set up an experiment, similar to the classic Archimedes bathtub experiment, which allows accurate measurements of the density of solids. You will need to measure the dry weight of your sample. Then you need to measure the \"wet\" weight of your sample. Using the following equation you can calculate the density of your mineral sample. \n",
    "\n",
    "*Density = (Weight<sub>dry</sub>)/(Weight<sub>dry</sub> - Weight<sub>wet</sub>)*\n",
    "\n",
    "<figure>\n",
    "<img src = \"Photos/density1.jpg\" width = \"32%\" >\n",
    "<img src = \"Photos/density2.jpg\" width = \"32%\" >\n",
    "<img src = \"Photos/density3.jpg\" width = \"32%\" >\n",
    "<figcaption style=\"font-style: italic, text-align: center\"><i>Images: Dry weight (left), wet weight (middle) and sample (right).</i></figcaption>\n",
    "</figure>"
   ]
  },
  {
   "cell_type": "markdown",
   "id": "55424f95-6bd8-4d07-9828-23cbac3aec3a",
   "metadata": {
    "tags": []
   },
   "source": [
    "<div class=\"admonition pythonreview\" name=\"html-admonition\" style=\"background: lightgreen; padding: 10px\">\n",
    "<p class=\"title\">Archimedes' Principle</p>\n",
    "<p>According to this principle the buoyant force on an object equals the weight of the fluid it displaces. In equation form, Archimedes’ principle is\n",
    "\n",
    "**F<sub>B</sub>**=**w<sub>fl</sub>**,\n",
    "\n",
    "where **F<sub>B</sub>** is the buoyant force and **w<sub>fl</sub>** is the weight of the fluid displaced by the object. It is a tribute to the genius of the Greek mathematician and inventor Archimedes (ca. 287–212 B.C.) that he stated this principle long before concepts of force were well established.</p>\n",
    "</div>"
   ]
  },
  {
   "cell_type": "markdown",
   "id": "c5ede43d-95a3-4128-a9f8-69250afe1f95",
   "metadata": {
    "tags": []
   },
   "source": [
    "### Streak:\n",
    "\n",
    "Streak is the color of a mineral’s powder. Place the streak plate on a table and scratch the mineral across the plate. You may have to scratch hard to see the color. The harder the mineral, the harder you will have to scratch. Often the streak of a mineral is not unique enough to assist in mineral identification. Other times, the streak is very distinctive.\n",
    "\n",
    "<figure>\n",
    "<img src = \"Photos/streak1.jpg\" width = \"24%\" >\n",
    "<img src = \"Photos/streak2.png\" width = \"24%\" >\n",
    "<img src = \"Photos/streak3.jpg\" width = \"24%\" >\n",
    "<img src = \"Photos/streak4.jpg\" width = \"24%\" >\n",
    "<figcaption style=\"font-style: italic, text-align: center\"><i>Image: Various streaks from left to right (gray, red, blue, green).</i></figcaption>\n",
    "</figure>\n",
    "\n",
    "### Reactivity:\n",
    "\n",
    "Reaction to acids, typically dilute hydrochloric acid (~ 0.25 HCl), is a property that can be used to help identify some common minerals. Note that most minerals will not visibly react to dilute hydrochloric acid. The reaction we are looking for gives off appreciable bubbles of carbon dioxide in a relatively short period of time. \n",
    "\n",
    "\n",
    " <img src = \"Photos/acid2.jpg\" width = \"60%\"  > \n",
    "\n",
    "### Magnetism:\n",
    "\n",
    "Several minerals react when placed within a magnetic field. Some minerals are strongly attracted to the magnet (Ferromagnetism), others are weakly attracted (Paramagnetism), and one mineral is actually repelled (Diamagnetism). In most cases, the presence of the element iron (Fe) as a component of the mineral's chemical structure is responsible for its magnetic properties.\n",
    "\n",
    "\n",
    "\n",
    "<img src = \"Photos/magnatite1.jpg\" width = \"60%\" > \n",
    "\n",
    "### Fluorescence:\n",
    "\n",
    "Over 500 minerals have been discovered that exhibit some sort of fluorescence when exposed to ultraviolet light. Fluorescence occurs when a mineral \"glows\" within the visible spectrum when exposed to ultraviolet light. \n",
    "\n",
    "\n",
    "<figure>\n",
    "<img src = \"Photos/fluorescence1.png\" width = \"48%\" >\n",
    "<img src = \"Photos/fluorescence2.png\" width = \"48%\" >\n",
    "<figcaption style=\"font-style: italic, text-align: center\"><i>Image: Calcite under visible light (left) and UV light (right).</i></figcaption>\n",
    "</figure>"
   ]
  },
  {
   "cell_type": "markdown",
   "id": "272541b6-333f-464f-8439-fb79b3084b47",
   "metadata": {
    "tags": []
   },
   "source": [
    "### TO DO"
   ]
  },
  {
   "cell_type": "markdown",
   "id": "29c86412-6410-4c5f-865b-6be3d92cce91",
   "metadata": {
    "tags": []
   },
   "source": [
    "**Question 1:** Each table has been given a set of rocks that are among the most common minerals on Earth. Your goal is to identify each mineral by assessing its physical properties. We have provided a mineral identification flow chart that lists each mineral and a set of corresponding physical properties. \n",
    "\n",
    "<img src = \"Photos/Mineral_ID_less_than_5.5_portrait.jpg\" width = \"80%\" >\n",
    "<img src = \"Photos/Mineral_ID_gtr_than_5.5_portrait.jpg\" width = \"80%\" >\n",
    "\n",
    "\n",
    "Once you have identified your minerals, place each of your samples in their proper locations on the flow chart. **Take a photo of it, upload it to Adroit, and link it in your Jupyter notebook below.**. \n",
    "\n",
    "Note: An extra set of samples and the mineral ID chart will be left outside our precept room if you need more time to look at the samples. Also, if your uploaded image does not get exported to PDF, please append the image to your PDF submission with Adobe Reader or Mac Preview software."
   ]
  },
  {
   "cell_type": "markdown",
   "id": "7a843b5e-2108-483e-8dcd-94345301112b",
   "metadata": {},
   "source": [
    "**Answer:** "
   ]
  },
  {
   "cell_type": "markdown",
   "id": "d66e0201-2b76-48fd-b619-0e848d799fdd",
   "metadata": {},
   "source": [
    "<br/><br/>\n",
    "<br/><br/>\n",
    "<br/><br/>\n",
    "<br/><br/>"
   ]
  },
  {
   "cell_type": "markdown",
   "id": "0ea1feda-99a3-443c-9613-5ac33040d3f4",
   "metadata": {},
   "source": [
    "## Part II: Inferences based on physical properties\n"
   ]
  },
  {
   "cell_type": "markdown",
   "id": "66523a6b-ab7c-45d7-95ab-86bb7e748917",
   "metadata": {},
   "source": [
    "### Section A: Basic inferences\n",
    "\n",
    "#### TO DO\n",
    "**Question 2:** While critical to defining minerals, neither the chemical composition nor crystal structure is directly useful when identifying minerals in a hand sample. Instead, we rely on physical and optical properties. Why?"
   ]
  },
  {
   "cell_type": "markdown",
   "id": "6294390a-9abe-4b1d-a616-f509adc4aa24",
   "metadata": {},
   "source": [
    "**Answer:**"
   ]
  },
  {
   "cell_type": "markdown",
   "id": "171b8dfe-593b-49a4-b049-1666375249dc",
   "metadata": {},
   "source": [
    "<br/><br/>\n",
    "<br/><br/>"
   ]
  },
  {
   "cell_type": "markdown",
   "id": "93b8f28f-3aca-49b2-9d84-36a4d6f7b277",
   "metadata": {},
   "source": [
    "**Question 3:** Which of the following materials are *minerals*? Justify your answers. \n",
    "\n",
    "1. Glass from a foundry\n",
    "2. Obsidian (volcanic glass)\n",
    "3. Cubic zirconia\n",
    "4. Ice in a glacier\n",
    "5. Ice in your freezer\n",
    "6. Coal"
   ]
  },
  {
   "cell_type": "markdown",
   "id": "df2ae6b4-7c0a-4326-bb32-de01a80cfdd5",
   "metadata": {},
   "source": [
    "**Answer:** "
   ]
  },
  {
   "cell_type": "markdown",
   "id": "85928e9f-27f5-4aff-9393-d5fdf9c51f96",
   "metadata": {},
   "source": [
    "<br/><br/>\n",
    "<br/><br/>"
   ]
  },
  {
   "cell_type": "markdown",
   "id": "ff736812-af70-4f8d-89d9-ee49a063cd28",
   "metadata": {},
   "source": [
    "**Question 4:** How is the physical property of cleavage reflective of the crystalline structure of minerals?  Explain in your own words with an example or two."
   ]
  },
  {
   "cell_type": "markdown",
   "id": "0717a057-c917-41b1-a555-360544bd8b07",
   "metadata": {},
   "source": [
    "**Answer:** "
   ]
  },
  {
   "cell_type": "markdown",
   "id": "74432e29-2813-4a18-a347-7c26881cc52a",
   "metadata": {},
   "source": [
    "<br/><br/>\n",
    "<br/><br/>"
   ]
  },
  {
   "cell_type": "markdown",
   "id": "0a8b3039-f25f-4a10-8874-82394e106c04",
   "metadata": {},
   "source": [
    "**Question 5:** How is the physical property of hardness reflective of the crystalline structure of minerals?  Explain in your own words with an example or two."
   ]
  },
  {
   "cell_type": "markdown",
   "id": "75d387ca-21b4-4b00-b09b-5793bc7c2b68",
   "metadata": {},
   "source": [
    "**Answer:** "
   ]
  },
  {
   "cell_type": "markdown",
   "id": "0f566e94-389e-48ba-b001-380836927ed3",
   "metadata": {},
   "source": [
    "<br/><br/>\n",
    "<br/><br/>"
   ]
  },
  {
   "cell_type": "markdown",
   "id": "d7e14045-233f-4f18-a6cf-ccb56cd0fc3f",
   "metadata": {},
   "source": [
    "**Question 6:** How is the specific gravity (density) of a mineral reflective of its crystalline structure?  Explain in your own words with an example or two."
   ]
  },
  {
   "cell_type": "markdown",
   "id": "4a6a20a3-199e-4728-aec3-eee2e7be5d3c",
   "metadata": {},
   "source": [
    "**Answer:**"
   ]
  },
  {
   "cell_type": "markdown",
   "id": "dedfdd35-6cab-473c-830b-93cd44061e1c",
   "metadata": {},
   "source": [
    "<br/><br/>\n",
    "<br/><br/>"
   ]
  },
  {
   "cell_type": "markdown",
   "id": "991ebee2-1c71-43ae-8e4f-3c806fc64f48",
   "metadata": {},
   "source": [
    "**Question 7:** Quartz and feldspars are silicate minerals and are among the most common minerals in the Earth’s crust. They are similar in many physical properties and occur in many different types of rocks, often together. \n",
    "\n",
    "What physical property is most useful for distinguishing between quartz and feldspar in rocks?  Describe what would you look for in order to distinguish between them and/or what test(s) you could perform in the field. Note, in the field, you are equipped with a hand lens (aka loupe), rock hammer, squeeze bottle of dilute HCl, and a small knife (hardness of 5.5)."
   ]
  },
  {
   "cell_type": "markdown",
   "id": "2ee4ea31-c31c-40c1-b7e2-dd8b1a9fdcbe",
   "metadata": {},
   "source": [
    "**Answer:** "
   ]
  },
  {
   "cell_type": "markdown",
   "id": "2b532a9f-35ce-4ae4-85ad-9c2ae4900a0c",
   "metadata": {},
   "source": [
    "<br/><br/>\n",
    "<br/><br/>"
   ]
  },
  {
   "cell_type": "markdown",
   "id": "d72ce13b-2297-4ca6-a2ee-f0e264518f57",
   "metadata": {
    "tags": []
   },
   "source": [
    "### Section B: Inferences on chemical composition from physical properties\n",
    "\n",
    "The composition of a mineral can vary within specific, well-defined limits. For certain applications, we have to go beyond indentifying the minerals based on physical properties and derive the chemical formula as well. As we shall see, obtaining the relative proportions of different elements and (groups of) ions can give us information about the formation history of the mineral under investigation. \n",
    "\n",
    "For this question, let us consider *Peridot*, the gemstone variety of the mineral olivine. Here are some nice polished gems!\n",
    "\n",
    "<img src = \"Photos/peridot.jpg\" width = \"300\" height = \"300\" > \n",
    "\n",
    "Olivine has the chemical formula (Fe,Mg)<sub>2</sub>SiO<sub>4</sub> and forms a continuous *solid solution* from the pure magnesium (Mg) end member forsterite (Mg<sub>2</sub>SiO<sub>4</sub>) to the pure Fe-end member fayalite (Fe<sub>2</sub>SiO<sub>4</sub>). Compositions intermediate to these two end-members of the series are written as Fo<sub>x</sub>Fa<sub>y</sub>, an expression of the ratio of forsterite to fayalite (x:y). For example, a composition made up of 80 percent forsterite and 20 percent fayalite is written Fo<sub>80</sub>Fa<sub>20</sub> and further abbreviated to Fo<sub>80</sub>. Solid Solution is defined as \"a mineral structure in which specific atomic site(s) are occupied in variable proportions by two or more different elements.\" (Klein & Hurlbut, *Manual of Mineralogy*, 21<sup>st</sup> Edition, p.233).\n",
    "\n",
    "\n",
    "<img src = \"Photos/olivine_substitution.jpeg\" width = \"80%\" >\n",
    "\n",
    "\n",
    "There is a complete solid solution series between the endmembers of this series because Fe and Mg have same charge and similar ionic radii. Olivine specimens are similar in other physical properties, but the specific gravity of a particular specimen depends on its chemical composition. The end members have the following specific gravities:\n",
    "\n",
    "|                              | Fayalite                | Fosterite               |\n",
    "| ---------------------------- | ----------------------- | ----------------------- |\n",
    "| Specific gravity             | 4.390                 | 3.275                |\n",
    "\n",
    "\n"
   ]
  },
  {
   "cell_type": "markdown",
   "id": "46361339-e242-471b-ae15-1dd9552b6765",
   "metadata": {},
   "source": [
    "#### TO DO\n",
    "\n",
    "**Question 8:** We have measured a sample of Olivine with an unknown composition. The weight of the sample in air is 0.774g, and the weight of the sample in water was 0.543g. Calculate the specific gravity of this specimen. Be sure to show your work clearly.\n",
    "\n",
    "**Answer:**"
   ]
  },
  {
   "cell_type": "markdown",
   "id": "a009ffe0-2a8c-4009-9212-3875ba0bebc8",
   "metadata": {},
   "source": [
    "<br/><br/>\n",
    "<br/><br/>"
   ]
  },
  {
   "cell_type": "markdown",
   "id": "5ded5c58-4431-4a6b-9b6b-d8cedce9f30a",
   "metadata": {},
   "source": [
    "**Question 9:**  Based on its specific gravity, calculate where along the solid solution this specimen lies."
   ]
  },
  {
   "cell_type": "markdown",
   "id": "d6b84cbe-8e9d-44e3-9a3f-5305e1f8fef9",
   "metadata": {},
   "source": [
    "**Answer:**"
   ]
  },
  {
   "cell_type": "markdown",
   "id": "b15afa79-93fe-49a3-91de-1c7fdfe1d618",
   "metadata": {},
   "source": [
    "<br/><br/>\n",
    "<br/><br/>"
   ]
  },
  {
   "cell_type": "markdown",
   "id": "01797d69-e04e-4733-a936-7f342a6df531",
   "metadata": {},
   "source": [
    "## Part III: Phase Diagrams of Olivine"
   ]
  },
  {
   "cell_type": "markdown",
   "id": "e429e220-1a66-42f4-8bf8-914cd6052c37",
   "metadata": {},
   "source": [
    "The evolution of a olivine mineral under the influence of temperature will vary according the relative composition (i.e. X) of the end members, fayalite and forsterite, in the *solid state* csolution. The melting relation can be expressed as a phase diagram in the temperature-composition space. "
   ]
  },
  {
   "cell_type": "markdown",
   "id": "38784a85-b8ea-4fff-8c8a-d1b1e73ef6f0",
   "metadata": {},
   "source": [
    "<figure>\n",
    "<img src = \"Photos/Olivine_Composition_FaFo_Phase_Diagram.png\" width = \"80%\" >\n",
    "<figcaption style=\"font-style: italic, text-align: center\"><i>Binary Phase diagram of Olivine showing variation with relative composition of Fayalite and Fosterite.</i></figcaption>\n",
    "</figure>"
   ]
  },
  {
   "cell_type": "markdown",
   "id": "afefe68e-fdf7-4cc1-afec-ae18c062fa0a",
   "metadata": {},
   "source": [
    "**Question 10:** What components (solid Fa, Fo, or melt) are found in the grey area above? At what temperature does olivine containing only Fayalite melt? Is this lower or higher than that of Forsterite? "
   ]
  },
  {
   "cell_type": "markdown",
   "id": "68c30f7b-bd64-4e12-afa1-2b63dc57d1bc",
   "metadata": {},
   "source": [
    "**Answer:** "
   ]
  },
  {
   "cell_type": "markdown",
   "id": "08e823d5-5f74-492d-8cc1-e69e81cee879",
   "metadata": {},
   "source": [
    "<br/><br/>\n",
    "<br/><br/>"
   ]
  },
  {
   "cell_type": "markdown",
   "id": "0a353aa7-9282-45e7-a0ab-224d601fe506",
   "metadata": {},
   "source": [
    "**Question 11:** What does the liquidus represent? Why does the liquidus decrease to the right of the plot? If Iron has a higher melting point than Magnesium, please suggest a reason for this trend (i.e. does the trend above conform to the trend of the constituent elements? Why?). \n",
    "\n",
    "**Answer:** "
   ]
  },
  {
   "cell_type": "markdown",
   "id": "77227688-4bd0-43fc-86eb-a4b1d7c1ab30",
   "metadata": {},
   "source": [
    "<br/><br/>\n",
    "<br/><br/>"
   ]
  },
  {
   "cell_type": "markdown",
   "id": "3b1cba2d-59b4-4b3e-a7ad-2fc4323e0d92",
   "metadata": {},
   "source": [
    "**Question 12:** At what temperature does olivine containing 60% forsterite begin to melt? \n",
    "\n",
    "**Answer:**\n"
   ]
  },
  {
   "cell_type": "markdown",
   "id": "27cc13fc-eb7b-466b-9792-21669c558fcd",
   "metadata": {},
   "source": [
    "<br/><br/>\n",
    "<br/><br/>"
   ]
  }
 ],
 "metadata": {
  "kernelspec": {
   "display_name": "Python 3 (ipykernel)",
   "language": "python",
   "name": "python3"
  },
  "language_info": {
   "codemirror_mode": {
    "name": "ipython",
    "version": 3
   },
   "file_extension": ".py",
   "mimetype": "text/x-python",
   "name": "python",
   "nbconvert_exporter": "python",
   "pygments_lexer": "ipython3",
   "version": "3.9.12"
  }
 },
 "nbformat": 4,
 "nbformat_minor": 5
}

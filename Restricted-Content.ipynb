{
 "cells": [
  {
   "cell_type": "markdown",
   "metadata": {},
   "source": [
    "# Restricted Content"
   ]
  },
  {
   "cell_type": "markdown",
   "metadata": {},
   "source": [
    "Access to some of the contents of this book are <span style=\"color:red\">**restricted**</span>. You need to <span style=\"color:blue\">**register**</span> at [portal.globalseismology.org](https://portal.globalseismology.org/user/login) and need to be logged. If you are still being redirected to this page, it means you are not currently authorized to access the content you have requested.\n",
    "\n",
    "<i class=\"fa fa-hourglass\" aria-hidden=\"true\"></i> **Please select a different tab to continue exploring**. Refer to the [FAQs at globalseismology.org](https://globalseismology.princeton.edu/about/faqs), and reach out to [AVNI Administrators](mailto:avni@globalseismology.org) in case of additional questions."
   ]
  }
 ],
 "metadata": {
  "kernelspec": {
   "display_name": "Python 3 (ipykernel)",
   "language": "python",
   "name": "python3"
  },
  "language_info": {
   "codemirror_mode": {
    "name": "ipython",
    "version": 3
   },
   "file_extension": ".py",
   "mimetype": "text/x-python",
   "name": "python",
   "nbconvert_exporter": "python",
   "pygments_lexer": "ipython3",
   "version": "3.9.12"
  }
 },
 "nbformat": 4,
 "nbformat_minor": 4
}

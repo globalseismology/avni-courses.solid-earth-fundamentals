{
 "cells": [
  {
   "cell_type": "markdown",
   "metadata": {},
   "source": [
    "# Restricted Content"
   ]
  },
  {
   "cell_type": "markdown",
   "metadata": {},
   "source": [
    "#### Please click on the <i class=\"fas fa-door-open\" aria-hidden=\"true\"></i> icon on the left header at the top of of this page to unlock restricted content. Once you are done, you may sign out of the session by clicking the <i class=\"fas fa-lock\" aria-hidden=\"true\"></i> icon.\n",
    "\n",
    "\n",
    "Access to some of the contents of this book is <span style=\"color:red\">**restricted**</span>. You need to <span style=\"color:blue\">**register**</span> at [portal.globalseismology.org](https://dwar.princeton.edu:8443/realms/GlobalSeismology/protocol/openid-connect/auth?client_id=web_js&response_type=code&scope=openid&redirect_uri=https%3A%2F%2Fportal.globalseismology.org%2Fcourses%2Fsolid-earth-fundamentals%2Ffall2022%2Fwelcome.html) and be logged in. If you are still being redirected to this page, it means you are not currently authorized to access the content you have requested.\n",
    "\n",
    "<i class=\"fa fa-hourglass\" aria-hidden=\"true\"></i> Please select a different tab to continue exploring. Refer to the [FAQs at globalseismology.org](https://globalseismology.princeton.edu/about/faqs), and reach out to [Raj Moulik](mailto:moulik@princeton.edu?cc=moulik@caa.columbia.edu) or the [AVNI Administrators](mailto:avni@globalseismology.org) in case of additional questions."
   ]
  }
 ],
 "metadata": {
  "kernelspec": {
   "display_name": "Python 3 (ipykernel)",
   "language": "python",
   "name": "python3"
  },
  "language_info": {
   "codemirror_mode": {
    "name": "ipython",
    "version": 3
   },
   "file_extension": ".py",
   "mimetype": "text/x-python",
   "name": "python",
   "nbconvert_exporter": "python",
   "pygments_lexer": "ipython3",
   "version": "3.9.12"
  }
 },
 "nbformat": 4,
 "nbformat_minor": 4
}

{
 "cells": [
  {
   "cell_type": "markdown",
   "id": "34b841a0",
   "metadata": {
    "slideshow": {
     "slide_type": "slide"
    }
   },
   "source": [
    "# GEO 203: Fundamentals of Solid Earth Science\n",
    "\n",
    "## Field Trip \\# 1 Central Park and American Musuem of Natural History\n",
    "\n",
    "*Due 11:59pm Tuesday, October 4 via Gradescope upload (see Canvas link)*\n",
    "\n",
    "IN THE SPACE BELOW, WRITE OUT IN FULL AND THEN SIGN THE HONOR PLEDGE:\n",
    "\n",
    "“I pledge my honor that I have not violated the honor code during this examination.”\n",
    "\n",
    "**PRINT NAME**:\n",
    "\n",
    "By uploading this assignment through Canvas, I sign off on the document below electronically.\n",
    "\n",
    "----"
   ]
  },
  {
   "cell_type": "markdown",
   "id": "194415d9",
   "metadata": {
    "tags": []
   },
   "source": [
    "## Part I: Natural Features of Central Park"
   ]
  },
  {
   "cell_type": "markdown",
   "id": "7ab22c68",
   "metadata": {},
   "source": [
    "Some Description"
   ]
  },
  {
   "cell_type": "markdown",
   "id": "eb66466d",
   "metadata": {},
   "source": [
    "Welcome to Central Park in New York City!\n",
    "\n",
    "If you've ever walked in Central Park, you'll know that it's is studded with rock outcrops.  They belong to a rock unit named the Manhattan Formation. Much of the Manhattan Formation is a metamorphic rock called schist and is quite pretty since it's primarily composed of flakes of mica which reflect sunlight creating a sparkly rock.  The Manhattan schist a highly-deformed rock with much folding."
   ]
  },
  {
   "cell_type": "markdown",
   "id": "efcf4258",
   "metadata": {},
   "source": [
    "## Part II: Exploring the American Musuem of Natural History"
   ]
  },
  {
   "cell_type": "markdown",
   "id": "eedd285e",
   "metadata": {},
   "source": [
    "We will start off by seeing the \"Worlds Beyond Earth\" show at the Hayden Planetarium. This is **Stop 1** on the 3<sup>rd</sup> floor map below. See the link below for a preview and information about the show: https://www.amnh.org/exhibitions/permanent/hayden-planetarium/worlds-beyond-earth. Next, you will proceed downstairs to the 1<sup>st</sup> floor to explore the Gossman Hall of Planet Earth (**Stop 2**), Ross Hall of Meteorites (**Stop 3**), and Mignone Halls of Gems and Minerals (**Stop 4**). You should aim to make it to **Stop 3** and **Stop 4** right after lunch (i.e. latest by 12:30 PM) so that you can spend adequate time exploring the amazing exhibits there!\n",
    "\n",
    "**Note: Only 8 out the 14 questions below are required; note the annotation next to such questions. You need to answer 10 questions including the required ones. If you answer more than 10 questions, we will take your best 2 scores among the optional ones you answered. Skip up to 4 questions so that you find time to wander about!**"
   ]
  },
  {
   "cell_type": "markdown",
   "id": "1f6f4228",
   "metadata": {},
   "source": [
    "![Figure 1. Layout of the Museum and our Various Stops](Images/AMNH_Floors.png)"
   ]
  },
  {
   "cell_type": "markdown",
   "id": "2b194a28",
   "metadata": {},
   "source": [
    "## TO DO"
   ]
  },
  {
   "cell_type": "markdown",
   "id": "e1992aed",
   "metadata": {},
   "source": [
    "### Stop 1: Hayden Planetarium, 3<sup>rd</sup> floor\n",
    "\n",
    "**Question 2.1**. What to you was the most insightful visualization in the show? What did you learn about the Earth and/or the solar system? Did it involve a prediction/simulation, analysis of current observations, or both?  (**required**)"
   ]
  },
  {
   "cell_type": "markdown",
   "id": "5961d176",
   "metadata": {},
   "source": [
    "**Answer:** "
   ]
  },
  {
   "cell_type": "markdown",
   "id": "3f099575",
   "metadata": {},
   "source": [
    "<br/><br/>\n",
    "<br/><br/>"
   ]
  },
  {
   "cell_type": "markdown",
   "id": "7e122ec1",
   "metadata": {
    "tags": []
   },
   "source": [
    "### Stop 2: Gottesman Hall of Planet Earth, 1<sup>st</sup> floor\n",
    "\n",
    "**Question 2.2**. Which is your favorite rock or 'outcrop' in the Hall of Planet Earth? Why is it significant and what does it tell us about the Earth?  (**required**)"
   ]
  },
  {
   "cell_type": "markdown",
   "id": "2f65be4a",
   "metadata": {},
   "source": [
    "**Answer:** "
   ]
  },
  {
   "cell_type": "markdown",
   "id": "8b7ad55c",
   "metadata": {},
   "source": [
    "<br/><br/>\n",
    "<br/><br/>"
   ]
  },
  {
   "cell_type": "markdown",
   "id": "7b829b0b",
   "metadata": {},
   "source": [
    "**Question 2.3**. Take a look at the ice core model. In addition to temperature reconstructions based on oxygen isotopes, what other data can be obtained from ice cores and other samples and how do those data tell us about paleoclimate? Comment quantitatively about the recent increase in temperatures worldwide versus the last century. \n",
    "**Note**: *Choose any set of parameter values and/or their geographic variations around the world to substantiate your point.*   (**required**)"
   ]
  },
  {
   "cell_type": "markdown",
   "id": "aaffa34a",
   "metadata": {},
   "source": [
    "**Answer:** "
   ]
  },
  {
   "cell_type": "markdown",
   "id": "61ff6743",
   "metadata": {},
   "source": [
    "<br/><br/>\n",
    "<br/><br/>"
   ]
  },
  {
   "cell_type": "markdown",
   "id": "08cdae7d",
   "metadata": {
    "tags": []
   },
   "source": [
    "### Stop 3: Ross Hall of Meteorites, 1<sup>st</sup> floor"
   ]
  },
  {
   "cell_type": "markdown",
   "id": "527b5875",
   "metadata": {},
   "source": [
    "**Question 2.4**. How do meteroites form? What are they made of? **Attach a photo** of your favorite meteorite, and describe its nature and story. (**required**)"
   ]
  },
  {
   "cell_type": "markdown",
   "id": "b6e8b5e9",
   "metadata": {},
   "source": [
    "**Answer:** "
   ]
  },
  {
   "cell_type": "markdown",
   "id": "2b112180",
   "metadata": {},
   "source": [
    "<br/><br/>\n",
    "<br/><br/>"
   ]
  },
  {
   "cell_type": "markdown",
   "id": "287d1db9",
   "metadata": {},
   "source": [
    "**Question 2.5**. What are chondrules? Why are they important in studying the Earth's history? (**required**)"
   ]
  },
  {
   "cell_type": "markdown",
   "id": "78f3ef8f",
   "metadata": {},
   "source": [
    "**Answer:** "
   ]
  },
  {
   "cell_type": "markdown",
   "id": "80ec078a",
   "metadata": {},
   "source": [
    "<br/><br/>\n",
    "<br/><br/>"
   ]
  },
  {
   "cell_type": "markdown",
   "id": "ec2fde60",
   "metadata": {},
   "source": [
    "**Question 2.6**. How do we know when a meteorite is sourced from Mars? Why are these types of meteorites particularly important?"
   ]
  },
  {
   "cell_type": "markdown",
   "id": "0ae54ae0",
   "metadata": {},
   "source": [
    "**Answer:** "
   ]
  },
  {
   "cell_type": "markdown",
   "id": "c1ddb8e5",
   "metadata": {},
   "source": [
    "<br/><br/>\n",
    "<br/><br/>"
   ]
  },
  {
   "cell_type": "markdown",
   "id": "3235752f",
   "metadata": {},
   "source": [
    "**Question 2.7**. Can asteroids undergo the process of differentiation like Earth did during its evolution? How can meteorites inform our understanding of this process?"
   ]
  },
  {
   "cell_type": "markdown",
   "id": "118031f0",
   "metadata": {},
   "source": [
    "**Answer:** "
   ]
  },
  {
   "cell_type": "markdown",
   "id": "fdadd322",
   "metadata": {},
   "source": [
    "<br/><br/>\n",
    "<br/><br/>"
   ]
  },
  {
   "cell_type": "markdown",
   "id": "890f5f41",
   "metadata": {
    "tags": []
   },
   "source": [
    "### Stop 4: Mignone Halls of Gems and Minerals, 1<sup>st</sup> floor\n",
    "The recently renovated Mignone Hall of Gems and Minerals feature more than five thousand specimens from ninety-eight countries and a wide range of geologic environments. This is only a fraction of the museum’s overall collection of two hundred thousand specimens.  \n",
    "\n",
    "![Figure 2. Layout of the Hall of Minerals](Images/AMNH_Mineral_Hall.png)"
   ]
  },
  {
   "cell_type": "markdown",
   "id": "0a2cb6e4",
   "metadata": {},
   "source": [
    "**Question 2.8**. List the five important environments for mineral/gem formation.  Give an example of at least one gemstone found in each. (**required**)"
   ]
  },
  {
   "cell_type": "markdown",
   "id": "b4a98cdf",
   "metadata": {},
   "source": [
    "**Answer:** "
   ]
  },
  {
   "cell_type": "markdown",
   "id": "6c1588a0",
   "metadata": {
    "tags": []
   },
   "source": [
    "<br/><br/>\n",
    "<br/><br/>"
   ]
  },
  {
   "cell_type": "markdown",
   "id": "c7dcd44f",
   "metadata": {},
   "source": [
    "**Question 2.9**. Head over to the **Systematic Mineralogy** section of the Hall. *Compare* and *contrast* any **two** of the following groups: Sulfates, Phosphates, Carbonates. (**required**)"
   ]
  },
  {
   "cell_type": "markdown",
   "id": "e2f53d2c",
   "metadata": {},
   "source": [
    "**Answer:** "
   ]
  },
  {
   "cell_type": "markdown",
   "id": "61aeeb1d",
   "metadata": {
    "tags": []
   },
   "source": [
    "<br/><br/>\n",
    "<br/><br/>"
   ]
  },
  {
   "cell_type": "markdown",
   "id": "5d29c600",
   "metadata": {},
   "source": [
    "**Question 2.9**. List as many varieties of quartz as you can find on display. **Attach a photo of your favorite one** and list any relevant details (e.g. where it is from). (**required**)"
   ]
  },
  {
   "cell_type": "markdown",
   "id": "b5452764",
   "metadata": {},
   "source": [
    "**Answer:** "
   ]
  },
  {
   "cell_type": "markdown",
   "id": "8e400623",
   "metadata": {},
   "source": [
    "<br/><br/>\n",
    "<br/><br/>"
   ]
  },
  {
   "cell_type": "markdown",
   "id": "0dcbdd31",
   "metadata": {},
   "source": [
    "**Question 2.10**. List four types of chemical bonds with examples of minerals. How do atomic bonding influence the crystal systems? *Cue*: Head to the **Mineral Properties** section of the Hall."
   ]
  },
  {
   "cell_type": "markdown",
   "id": "9d2222c0",
   "metadata": {},
   "source": [
    "**Answer:** "
   ]
  },
  {
   "cell_type": "markdown",
   "id": "7aae34a7",
   "metadata": {
    "tags": []
   },
   "source": [
    "<br/><br/>\n",
    "<br/><br/>"
   ]
  },
  {
   "cell_type": "markdown",
   "id": "ac5f62ea",
   "metadata": {},
   "source": [
    "**Question 2.11**. What is a solid solution? **Attach the image** of an example and describe its formation, composition and/or potential uses for understanding Earth processes."
   ]
  },
  {
   "cell_type": "markdown",
   "id": "ce4ae436",
   "metadata": {},
   "source": [
    "**Answer:** "
   ]
  },
  {
   "cell_type": "markdown",
   "id": "729ab4f5",
   "metadata": {
    "tags": []
   },
   "source": [
    "<br/><br/>\n",
    "<br/><br/>"
   ]
  },
  {
   "cell_type": "markdown",
   "id": "501de9d0",
   "metadata": {},
   "source": [
    "**Question 2.12**. What gem is found at Gore Mountain in New York? Briefly describe how it is formed."
   ]
  },
  {
   "cell_type": "markdown",
   "id": "7f23f73c",
   "metadata": {},
   "source": [
    "**Answer:** "
   ]
  },
  {
   "cell_type": "markdown",
   "id": "1fe53164",
   "metadata": {},
   "source": [
    "<br/><br/>\n",
    "<br/><br/>"
   ]
  },
  {
   "cell_type": "markdown",
   "id": "c8a1ed11",
   "metadata": {},
   "source": [
    "**Question 2.13**. Locate the 3-meter tall pillar of Madagascar labradorite? What kind of mineral is labradorite? What is responsible for the phenomenon of labradorescence?"
   ]
  },
  {
   "cell_type": "markdown",
   "id": "728ffd22",
   "metadata": {},
   "source": [
    "**Answer:** "
   ]
  },
  {
   "cell_type": "markdown",
   "id": "3fe16d80",
   "metadata": {},
   "source": [
    "<br/><br/>\n",
    "<br/><br/>"
   ]
  },
  {
   "cell_type": "markdown",
   "id": "d4793a69",
   "metadata": {},
   "source": [
    "**Question 2.14**. Locate the pegmatite. Summarize its mineralogy and method of formation. Why can pegmatites produce large crystals?"
   ]
  },
  {
   "cell_type": "markdown",
   "id": "f9418036",
   "metadata": {},
   "source": [
    "**Answer:** "
   ]
  },
  {
   "cell_type": "markdown",
   "id": "29f769fc",
   "metadata": {},
   "source": [
    "<br/><br/>\n",
    "<br/><br/>"
   ]
  },
  {
   "cell_type": "markdown",
   "id": "20c82845",
   "metadata": {},
   "source": [
    "### Optional Things to Check Out in the Museum\n",
    "\n",
    "- **Titanosaur skeleton**, the head of which peers out of the Wallach Orientation Center (guide to the fossil halls).\n",
    "- **The Blue Whale, Milstein Hall of Ocean Life**, a 94-foot fiberglass model, suspended in air.\n",
    "- **Cross section of a Giant Sequoia tree, North American Forests exhibit** - the tree from which it was cut was 331 feet tall and measured 90 feet around the base of the trunk.\n",
    "- **The largest stibnite (Sb<sub>2</sub>S<sub>3</sub>) specimen in the world** - Reminds me of the sword throne in \"Game of Thrones\"\n",
    "- **Largest Topaz in the World**, also the **Star of India** gem, and the **Best Sulfur crystals I have seen**, all in the Hall of Minerals"
   ]
  },
  {
   "cell_type": "code",
   "execution_count": null,
   "id": "a3de6b96",
   "metadata": {},
   "outputs": [],
   "source": []
  }
 ],
 "metadata": {
  "kernelspec": {
   "display_name": "Python 3 (ipykernel)",
   "language": "python",
   "name": "python3"
  },
  "language_info": {
   "codemirror_mode": {
    "name": "ipython",
    "version": 3
   },
   "file_extension": ".py",
   "mimetype": "text/x-python",
   "name": "python",
   "nbconvert_exporter": "python",
   "pygments_lexer": "ipython3",
   "version": "3.9.12"
  }
 },
 "nbformat": 4,
 "nbformat_minor": 5
}

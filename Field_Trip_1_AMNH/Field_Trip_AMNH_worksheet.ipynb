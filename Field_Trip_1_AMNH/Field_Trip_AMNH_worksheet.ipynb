{
 "cells": [
  {
   "cell_type": "markdown",
   "id": "34b841a0",
   "metadata": {
    "slideshow": {
     "slide_type": "slide"
    }
   },
   "source": [
    "# GEO 203: Fundamentals of Solid Earth Science\n",
    "\n",
    "## Field Trip \\# 1: Central Park and American Musuem of Natural History\n",
    "\n",
    "*Due 11:59pm Thursday, October 6 via Gradescope upload (see Canvas link)*\n",
    "\n",
    "IN THE SPACE BELOW, WRITE OUT IN FULL AND THEN SIGN THE HONOR PLEDGE:\n",
    "\n",
    "“I pledge my honor that I have not violated the honor code during this examination.”\n",
    "\n",
    "**PRINT NAME**:\n",
    "\n",
    "By uploading this assignment through Canvas, I sign off on the document below electronically.\n",
    "\n",
    "----"
   ]
  },
  {
   "cell_type": "markdown",
   "id": "194415d9",
   "metadata": {
    "tags": []
   },
   "source": [
    "## Part I: Natural Features of Central Park"
   ]
  },
  {
   "cell_type": "markdown",
   "id": "b0a2b06c-ec26-49eb-99ce-196bb4308a80",
   "metadata": {},
   "source": [
    "Welcome to the *Central Park* in New York City!\n",
    "\n",
    "Central Park was the first landscaped public park in the United States. An irregular terrain of swamps and bluffs, punctuated by rocky outcrops, made the land between Fifth and Eighth avenues and 59<sup>th</sup> and 106<sup>th</sup> streets undesirable for private development. The building of Central Park was one of nineteenth-century New York’s most massive public works projects. Some 20,000 workers reshaped the topography to create the pastoral landscape. The park first opened for public use in the winter of 1859. \n",
    "\n",
    "However, it a widespread and persistent myth that Central Park is entirely artificial. The rocky outcrops in Central Park belong to a rock unit named the Manhattan Formation. Much of the Manhattan Formation is a metamorphic rock called *schist* and is quite pretty since it's primarily composed of flakes of *mica* which reflect sunlight creating a sparkly rock. The durable Manhattan schist that runs down the island's spine got its start about 450 million years ago as soft mud on an ancient seafoor. The sediments, compressed into metamorphic rock, were folded and forced to the surface by collisions of continents. \n",
    "\n",
    "These often hidden rock layers provide a fine foundation for the city's skyscrapers. In fact, it is because the bedrock is so close to the surface in many areas of Manhattan that the city can so easily support and anchor our towering skyscrapers. In other places, it is much more difficult to drill down to the bedrock and anchor the foundation of these huge buildings. Let us go to three stops representing the geological evolution of Manhattan, which laid the groundwork for this center of human civilization! "
   ]
  },
  {
   "cell_type": "markdown",
   "id": "8e62224a-41cf-4b12-9f3f-6799d5dffd49",
   "metadata": {},
   "source": [
    "### Stop 1: Umpire Rock\n",
    "*Coordinates*: (40.7693156$^{\\circ}$ N, 73.9779639$^{\\circ}$ W), *Google Maps*: [Link](https://goo.gl/maps/JoxxsQ3jgbwggvDP8)\n",
    "\n",
    "As you come near to the exposure with the playgrounds to your right, start by inspecting the rocks in front of you (Exposure A). Some veins or intrusions rich in quartz can be seen within the layers. In the roots of the mountain range where these rocks formed, pockets of melt developed which\n",
    "were then squeezed and forced (intruded) into the adjacent solid rock. When the melt cooled, it\n",
    "formed bodies of rock called **intrusions**. Note the sharp contacts of these intrusions with the surrounding rock.\n",
    "\n",
    "**Question 1.1** Name and then classify the rock that forms the bulk of Umpire Rock. Is it an igneous, sedimentary, or metamorphic rock? Explain your reasoning. Name three minerals that you find."
   ]
  },
  {
   "cell_type": "markdown",
   "id": "72088f6a-1064-4932-8159-005c44f02f18",
   "metadata": {},
   "source": [
    "**Answer:**"
   ]
  },
  {
   "cell_type": "markdown",
   "id": "f9b93001-4023-45d2-97f4-8c6ef8d00ced",
   "metadata": {},
   "source": [
    "<br/><br/>\n",
    "<br/><br/>"
   ]
  },
  {
   "cell_type": "markdown",
   "id": "5c75289f-e52c-4ff9-bdae-2c52f6b23484",
   "metadata": {},
   "source": [
    "Exposure A | Vein | Grooves \n",
    "- | - | - \n",
    "<img src = \"Images/Umpire_Rock_1.jpg\" width = \"300\" height = \"300\" > | <img src = \"Images/Umpire_Rock_2.jpg\" width = \"300\" height = \"300\" > | <img src = \"Images/Umpire_Rock_3.jpg\" width = \"300\" height = \"300\" > \n",
    "\n",
    "Go around to the north-western face of the Umpire Rock. Step off rock exposure, stand on the soil or grass, and look at the rock face that slopes gently down towards you. Locate the foot-or-so wide, parallel **grooves** that extend for several yards up the outcrop. The origin of the grooves may be explained in terms of the movement of glaciars. About 15 thousand years ago, a giant body of flowing ice (a glacier) covered this area. Embedded in the ice at the bottom of the glacier were large boulders. As the ice pressed down on these boulders and dragged them over the underlying bedrock, grooves were carved in the bedrock. Smaller particles of rock that were dragged along created smaller grooves called **striations**.\n",
    "\n",
    "**Question 1.2** Count the number of grooves in fron of you. Using a compass, provide the two directions (in degrees from the North) that the parallel grooves orient towards. Standing back from the whole exposure, determine which of these directions has the gentler slope?"
   ]
  },
  {
   "cell_type": "markdown",
   "id": "d67961d9-ec76-4ff0-95f4-081ed76a47b1",
   "metadata": {},
   "source": [
    "**Answer:**"
   ]
  },
  {
   "cell_type": "markdown",
   "id": "6a0e51b1-bc51-4754-9ee6-fc6618d48ece",
   "metadata": {},
   "source": [
    "<br/><br/>\n",
    "<br/><br/>"
   ]
  },
  {
   "cell_type": "markdown",
   "id": "cc75fa2d-f4f7-4105-a53d-1ced1c958b92",
   "metadata": {},
   "source": [
    "### Stop 2: Sheep Meadow\n",
    "\n",
    "*Coordinates*: (40.7706139$^{\\circ}$ N, 73.9745944$^{\\circ}$ W), *Google Maps*: [Link](https://goo.gl/maps/duVFdX1VzjeETK9K9)\n",
    "\n",
    "Enter Sheep Meadow through the small gate and walk toward the large outcrop of rock on your left with many boulders perched on top. Look at the layers in this area (Exposure B). Observe that the rock is layered, and the layers appear folded. Also note the numerous grooves parallel to the layers that exist where some of the layers have been worn (eroded) more deeply than others. \n",
    "\n",
    "**Question 1.3** Are the grooves parallel to the layering in the rock? Could they be due to differential erosion of the layers in the rock? Did the grooves form before or after the folding of the rock layers? \n",
    "\n",
    "**Answer:**"
   ]
  },
  {
   "cell_type": "markdown",
   "id": "e8d945fa-d3f9-4e2c-83f4-9982f3239708",
   "metadata": {},
   "source": [
    "<br/><br/>\n",
    "<br/><br/>"
   ]
  },
  {
   "cell_type": "markdown",
   "id": "3086e216-274e-4233-a883-09df902fbda1",
   "metadata": {},
   "source": [
    "Entrance | Exposure B \n",
    "- | - \n",
    "<img src = \"Images/Sheep_Meadow_1.jpg\" width = \"300\" height = \"300\" > | <img src = \"Images/Sheep_Meadow_2.jpg\" width = \"300\" height = \"300\" > \n",
    "\n",
    "**Question 1.4** Find some striations. What is their orientation with respect to the grooves? Provide the two directions of grooves themselves in this area (in degrees from the North). Are these values similar to those obtained in Stop 1? What does this and the direction of gentler slopes tell you about the flow of glaciers in this area?\n",
    "\n",
    "**Answer:**"
   ]
  },
  {
   "cell_type": "markdown",
   "id": "2cace1f9-f6fd-417b-8188-f134c98c8679",
   "metadata": {},
   "source": [
    "<br/><br/>\n",
    "<br/><br/>"
   ]
  },
  {
   "cell_type": "markdown",
   "id": "4057f5af-4b61-428d-8c7e-11cfd07cbe76",
   "metadata": {},
   "source": [
    "Striations | Erratics\n",
    "- | - \n",
    "<img src = \"Images/Sheep_Meadow_4.jpg\" width = \"300\" height = \"300\" > | <img src = \"Images/Sheep_Meadow_5.jpg\" width = \"300\" height = \"300\" > \n",
    "\n",
    "Checkout the boulders that lie scattered on the surface of the rock exposure. Walk to the large boulder perched on the rock. There was a similarly large boulder precariously perched on top of the ancient glistening bedrock near the carousel on your way from Stop 1. These boulders are called **erratics**.\n",
    "\n",
    "**Question 1.5:** Describe the boulders. What is the general grain size? Name three minerals present in the largest boulder. What rock type is the boulder? Explain how the boulder got to its present position (It was not placed there by people!). Assume that you have just heard from the grapevine that there are rock formations similar to this boulder (but dissimilar to the bedrock!) to the north of Manhattan!\n",
    "\n",
    "**Answer:**"
   ]
  },
  {
   "cell_type": "markdown",
   "id": "41859c5c-f41b-4004-a177-bed493729127",
   "metadata": {},
   "source": [
    "<br/><br/>\n",
    "<br/><br/>"
   ]
  },
  {
   "cell_type": "markdown",
   "id": "99a2bf0b-95cc-454d-854a-ce0ba135b79d",
   "metadata": {
    "tags": []
   },
   "source": [
    "### Stop 3: Road Cut next to the Museum\n",
    "*Coordinates*: (40.7828557$^{\\circ}$ N, 73.9710358$^{\\circ}$ W), *Google Maps*: [Link](https://goo.gl/maps/vN34Luorr3BzGm5UA)\n",
    "\n",
    "Layers | Zoomed In\n",
    "- | - \n",
    "<img src = \"Images/Road_Cut_1.jpg\" width = \"300\" height = \"300\" > | <img src = \"Images/Road_Cut_2.jpg\" width = \"300\" height = \"300\" > \n",
    "\n",
    "**Question 1.6.** Engineers and construction workers often have to blast or drill through layers of rock. This creates opportunities for geoscientists to probe the interior and test their hypotheses. The cross-section of bedrock above on Central Park West shows how the layers of Manhattan schist are tilted. Using a compass, provide the direction towards which the these layers are tilted? How does this direction compare with the direction that glaciers moved based on Stop 2 above? Based on this, can you infer which came first - folding of layers due to continental collisions or movement of glaciers?\n",
    "\n",
    "**Answer:**"
   ]
  },
  {
   "cell_type": "markdown",
   "id": "007f198e-9326-472f-8a4e-a4691131e231",
   "metadata": {},
   "source": [
    "<br/><br/>\n",
    "<br/><br/>"
   ]
  },
  {
   "cell_type": "markdown",
   "id": "efcf4258",
   "metadata": {},
   "source": [
    "## Part II: Exploring the American Musuem of Natural History"
   ]
  },
  {
   "cell_type": "markdown",
   "id": "eedd285e",
   "metadata": {},
   "source": [
    "The American Museum of Natural History (abbreviated as AMNH) is a natural history museum on the Upper West Side of Manhattan in New York City. The museum complex comprises 26 interconnected buildings housing 45 permanent exhibition halls, in addition to a planetarium and a library. AMNH averages about five million visits annually and our visit will only delve into a small portion relevant to a better understanding of the Solid Earth!\n",
    "\n",
    "We will start off by seeing the \"Worlds Beyond Earth\" show at the Hayden Planetarium. This is **Stop 1** on the 3<sup>rd</sup> floor map below. See the link below for a preview and information about the show: https://www.amnh.org/exhibitions/permanent/hayden-planetarium/worlds-beyond-earth. Next, you will proceed downstairs to the 1<sup>st</sup> floor to explore the Gossman Hall of Planet Earth (**Stop 2**), Ross Hall of Meteorites (**Stop 3**), and Mignone Halls of Gems and Minerals (**Stop 4**). You should aim to make it to **Stop 3** and **Stop 4** right after lunch (i.e. latest by 12:30 PM) so that you can spend adequate time exploring the amazing exhibits there!\n",
    "\n",
    "**Note: Only 5 out of the 15 questions below are required; note the annotation next to such questions. You need to answer 10 questions including the 5 required ones. If you answer more than 10 questions, we will take your best scores among the optional ones you answered. Skip up to 5 questions so that you find time to wander about!**"
   ]
  },
  {
   "cell_type": "markdown",
   "id": "1f6f4228",
   "metadata": {},
   "source": [
    "![Figure 1. Layout of the Museum and our Various Stops](Images/AMNH_Floors.png)"
   ]
  },
  {
   "cell_type": "markdown",
   "id": "e1992aed",
   "metadata": {},
   "source": [
    "### Stop 1: Hayden Planetarium, 3<sup>rd</sup> floor\n",
    "\n",
    "**Question 2.1**. What to you was the most insightful visualization in the show? What did you learn about the Earth and/or the solar system? Did it involve a prediction/simulation, analysis of current observations, or both?  (**required**)"
   ]
  },
  {
   "cell_type": "markdown",
   "id": "5961d176",
   "metadata": {},
   "source": [
    "**Answer:** "
   ]
  },
  {
   "cell_type": "markdown",
   "id": "3f099575",
   "metadata": {},
   "source": [
    "<br/><br/>\n",
    "<br/><br/>"
   ]
  },
  {
   "cell_type": "markdown",
   "id": "7e122ec1",
   "metadata": {
    "tags": []
   },
   "source": [
    "### Stop 2: Gottesman Hall of Planet Earth, 1<sup>st</sup> floor\n",
    "\n",
    "**Question 2.2**. Which is your favorite rock or 'outcrop' in the Hall of Planet Earth? Why is it significant and what does it tell us about the Earth?  (**required**)"
   ]
  },
  {
   "cell_type": "markdown",
   "id": "2f65be4a",
   "metadata": {},
   "source": [
    "**Answer:** "
   ]
  },
  {
   "cell_type": "markdown",
   "id": "8b7ad55c",
   "metadata": {},
   "source": [
    "<br/><br/>\n",
    "<br/><br/>"
   ]
  },
  {
   "cell_type": "markdown",
   "id": "7b829b0b",
   "metadata": {},
   "source": [
    "**Question 2.3**. Take a look at the ice core model. In addition to temperature reconstructions based on oxygen isotopes, what other data can be obtained from ice cores and other samples and how do those data tell us about paleoclimate? Comment quantitatively about the recent increase in temperatures worldwide versus the last century. \n",
    "**Note**: *Choose any set of parameters, identify a trend in values over time and/or describe its geographic variations around the world to substantiate your point.*   (**required**)"
   ]
  },
  {
   "cell_type": "markdown",
   "id": "aaffa34a",
   "metadata": {},
   "source": [
    "**Answer:** "
   ]
  },
  {
   "cell_type": "markdown",
   "id": "61ff6743",
   "metadata": {},
   "source": [
    "<br/><br/>\n",
    "<br/><br/>"
   ]
  },
  {
   "cell_type": "markdown",
   "id": "08cdae7d",
   "metadata": {
    "tags": []
   },
   "source": [
    "### Stop 3: Ross Hall of Meteorites, 1<sup>st</sup> floor"
   ]
  },
  {
   "cell_type": "markdown",
   "id": "527b5875",
   "metadata": {},
   "source": [
    "**Question 2.4**. How do meteroites form? What are they made of? **Attach a photo** of your favorite meteorite, and describe its nature and story. (**required**)"
   ]
  },
  {
   "cell_type": "markdown",
   "id": "b6e8b5e9",
   "metadata": {},
   "source": [
    "**Answer:** "
   ]
  },
  {
   "cell_type": "markdown",
   "id": "2b112180",
   "metadata": {},
   "source": [
    "<br/><br/>\n",
    "<br/><br/>"
   ]
  },
  {
   "cell_type": "markdown",
   "id": "287d1db9",
   "metadata": {},
   "source": [
    "**Question 2.5**. What are chondrules? Why are they important in studying the Earth's history?"
   ]
  },
  {
   "cell_type": "markdown",
   "id": "78f3ef8f",
   "metadata": {},
   "source": [
    "**Answer:** "
   ]
  },
  {
   "cell_type": "markdown",
   "id": "80ec078a",
   "metadata": {},
   "source": [
    "<br/><br/>\n",
    "<br/><br/>"
   ]
  },
  {
   "cell_type": "markdown",
   "id": "ec2fde60",
   "metadata": {},
   "source": [
    "**Question 2.6**. How do we know when a meteorite is sourced from Mars? Why are these types of meteorites particularly important?"
   ]
  },
  {
   "cell_type": "markdown",
   "id": "0ae54ae0",
   "metadata": {},
   "source": [
    "**Answer:** "
   ]
  },
  {
   "cell_type": "markdown",
   "id": "c1ddb8e5",
   "metadata": {},
   "source": [
    "<br/><br/>\n",
    "<br/><br/>"
   ]
  },
  {
   "cell_type": "markdown",
   "id": "3235752f",
   "metadata": {},
   "source": [
    "**Question 2.7**. Can asteroids undergo the process of differentiation like Earth did during its evolution? How can meteorites inform our understanding of this process?"
   ]
  },
  {
   "cell_type": "markdown",
   "id": "118031f0",
   "metadata": {},
   "source": [
    "**Answer:** "
   ]
  },
  {
   "cell_type": "markdown",
   "id": "fdadd322",
   "metadata": {},
   "source": [
    "<br/><br/>\n",
    "<br/><br/>"
   ]
  },
  {
   "cell_type": "markdown",
   "id": "890f5f41",
   "metadata": {
    "tags": []
   },
   "source": [
    "### Stop 4: Mignone Halls of Gems and Minerals, 1<sup>st</sup> floor\n",
    "The recently renovated Mignone Hall of Gems and Minerals feature more than five thousand specimens from ninety-eight countries and a wide range of geologic environments. This is only a fraction of the museum’s overall collection of two hundred thousand specimens.  \n",
    "\n",
    "![Figure 2. Layout of the Hall of Minerals](Images/AMNH_Mineral_Hall.png)"
   ]
  },
  {
   "cell_type": "markdown",
   "id": "0a2cb6e4",
   "metadata": {},
   "source": [
    "**Question 2.8**. List the five important environments for mineral/gem formation.  Give an example of at least one gemstone found in each. (**required**)"
   ]
  },
  {
   "cell_type": "markdown",
   "id": "b4a98cdf",
   "metadata": {},
   "source": [
    "**Answer:** "
   ]
  },
  {
   "cell_type": "markdown",
   "id": "6c1588a0",
   "metadata": {
    "tags": []
   },
   "source": [
    "<br/><br/>\n",
    "<br/><br/>"
   ]
  },
  {
   "cell_type": "markdown",
   "id": "c7dcd44f",
   "metadata": {},
   "source": [
    "**Question 2.9**. List as many varieties of quartz as you can find on display. **Attach a photo of your favorite one** and list any relevant details (e.g. where it is from)."
   ]
  },
  {
   "cell_type": "markdown",
   "id": "e2f53d2c",
   "metadata": {},
   "source": [
    "**Answer:** "
   ]
  },
  {
   "cell_type": "markdown",
   "id": "61aeeb1d",
   "metadata": {
    "tags": []
   },
   "source": [
    "<br/><br/>\n",
    "<br/><br/>"
   ]
  },
  {
   "cell_type": "markdown",
   "id": "5d29c600",
   "metadata": {},
   "source": [
    "**Question 2.10**. Head over to the **Systematic Mineralogy** section of the Hall. *Compare* and *contrast* any **two** of the following groups: Sulfates, Phosphates, Carbonates."
   ]
  },
  {
   "cell_type": "markdown",
   "id": "b5452764",
   "metadata": {},
   "source": [
    "**Answer:** "
   ]
  },
  {
   "cell_type": "markdown",
   "id": "8e400623",
   "metadata": {},
   "source": [
    "<br/><br/>\n",
    "<br/><br/>"
   ]
  },
  {
   "cell_type": "markdown",
   "id": "0dcbdd31",
   "metadata": {},
   "source": [
    "**Question 2.11**. List four types of chemical bonds with examples of minerals. How do atomic bonding influence the crystal systems? *Cue*: Head to the **Mineral Properties** section of the Hall."
   ]
  },
  {
   "cell_type": "markdown",
   "id": "9d2222c0",
   "metadata": {},
   "source": [
    "**Answer:** "
   ]
  },
  {
   "cell_type": "markdown",
   "id": "7aae34a7",
   "metadata": {
    "tags": []
   },
   "source": [
    "<br/><br/>\n",
    "<br/><br/>"
   ]
  },
  {
   "cell_type": "markdown",
   "id": "ac5f62ea",
   "metadata": {},
   "source": [
    "**Question 2.12**. What is a solid solution? **Attach the image** of an example and describe its formation, composition and/or potential uses for understanding Earth processes."
   ]
  },
  {
   "cell_type": "markdown",
   "id": "ce4ae436",
   "metadata": {},
   "source": [
    "**Answer:** "
   ]
  },
  {
   "cell_type": "markdown",
   "id": "729ab4f5",
   "metadata": {
    "tags": []
   },
   "source": [
    "<br/><br/>\n",
    "<br/><br/>"
   ]
  },
  {
   "cell_type": "markdown",
   "id": "501de9d0",
   "metadata": {},
   "source": [
    "**Question 2.13**. What gem is found at Gore Mountain in New York? Briefly describe how it is formed."
   ]
  },
  {
   "cell_type": "markdown",
   "id": "7f23f73c",
   "metadata": {},
   "source": [
    "**Answer:** "
   ]
  },
  {
   "cell_type": "markdown",
   "id": "1fe53164",
   "metadata": {},
   "source": [
    "<br/><br/>\n",
    "<br/><br/>"
   ]
  },
  {
   "cell_type": "markdown",
   "id": "c8a1ed11",
   "metadata": {},
   "source": [
    "**Question 2.14**. Locate the 3-meter tall pillar of Madagascar labradorite? What kind of mineral is labradorite? What is responsible for the phenomenon of labradorescence?"
   ]
  },
  {
   "cell_type": "markdown",
   "id": "728ffd22",
   "metadata": {},
   "source": [
    "**Answer:** "
   ]
  },
  {
   "cell_type": "markdown",
   "id": "3fe16d80",
   "metadata": {},
   "source": [
    "<br/><br/>\n",
    "<br/><br/>"
   ]
  },
  {
   "cell_type": "markdown",
   "id": "d4793a69",
   "metadata": {},
   "source": [
    "**Question 2.15**. Locate the pegmatite. Summarize its mineralogy and method of formation. Why can pegmatites produce large crystals?"
   ]
  },
  {
   "cell_type": "markdown",
   "id": "f9418036",
   "metadata": {},
   "source": [
    "**Answer:** "
   ]
  },
  {
   "cell_type": "markdown",
   "id": "29f769fc",
   "metadata": {},
   "source": [
    "<br/><br/>\n",
    "<br/><br/>"
   ]
  },
  {
   "cell_type": "markdown",
   "id": "20c82845",
   "metadata": {},
   "source": [
    "### Optional Things to Check Out in the Museum\n",
    "\n",
    "- **Titanosaur skeleton**, the head of which peers out of the Wallach Orientation Center (guide to the fossil halls).\n",
    "- **The Blue Whale, Milstein Hall of Ocean Life**, a 94-foot fiberglass model, suspended in air.\n",
    "- **Cross section of a Giant Sequoia tree, North American Forests exhibit** - the tree from which it was cut was 331 feet tall and measured 90 feet around the base of the trunk.\n",
    "- **The largest stibnite (Sb<sub>2</sub>S<sub>3</sub>) specimen in the world** - Reminds me of the sword throne in \"Game of Thrones\"\n",
    "- **Largest Topaz in the World**, also the **Star of India** gem, and the **Best Sulfur crystals I have seen**, all in the Hall of Minerals"
   ]
  }
 ],
 "metadata": {
  "kernelspec": {
   "display_name": "Python 3 (ipykernel)",
   "language": "python",
   "name": "python3"
  },
  "language_info": {
   "codemirror_mode": {
    "name": "ipython",
    "version": 3
   },
   "file_extension": ".py",
   "mimetype": "text/x-python",
   "name": "python",
   "nbconvert_exporter": "python",
   "pygments_lexer": "ipython3",
   "version": "3.9.12"
  }
 },
 "nbformat": 4,
 "nbformat_minor": 5
}

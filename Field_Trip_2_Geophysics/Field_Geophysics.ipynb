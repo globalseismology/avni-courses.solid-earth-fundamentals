{
 "cells": [
  {
   "cell_type": "markdown",
   "id": "fcc7e8e6-db93-4384-b8bc-d15e566ac8eb",
   "metadata": {
    "tags": []
   },
   "source": [
    "# Geophysical Field Survey\n",
    "\n",
    "IN THE SPACE BELOW, WRITE OUT IN FULL AND THEN SIGN THE HONOR PLEDGE:\n",
    "\n",
    "“I pledge my honor that I have not violated the honor code during this examination.”\n",
    "\n",
    "**PRINT NAME**: \n",
    "\n",
    "If a fellow student has contributed significantly to this work, please acknowledge them here:\n",
    "\n",
    "**Peer(s)**:                          \n",
    "\n",
    "*Contribution:*\n",
    "\n",
    "\n",
    "By uploading this assignment through Canvas, I sign off on the document below electronically.\n",
    "\n",
    "----"
   ]
  },
  {
   "cell_type": "markdown",
   "id": "6a6428b1-3de9-4ba3-9ecf-8b49f7499c01",
   "metadata": {
    "tags": []
   },
   "source": [
    "## Part I: Geophysical Instruments"
   ]
  },
  {
   "cell_type": "markdown",
   "id": "0794db72-88f4-4334-b069-720cfc6714bd",
   "metadata": {},
   "source": [
    "Drilling not possible. Landers not feasible on all planets. need remote sensing and grond based observtions. \n",
    "\n",
    "## Gravimeter\n",
    "\n",
    "A gravimeter has to be able to measure differences much less than a millionth of the surface gravity, $g$. This can be done in three main ways. One way is to time the fall of an object; though this can be done very accurately in the laboratory it is not convenient for measurements in the field. A second way is to use a pendulum, since its period depends upon the value of $g$ as well as upon its dimensions. This has been used but requires bulky apparatus and takes a considerable time. It has been largely superseded by the third way, which basically uses a spring balance, shown schematically in Figure 8.14a. The pull of gravity on the mass, $m$, extends the spring, so the spring has a slightly greater extension at places where $g$ is larger. (A spring balance measures the *weight* of a body, the pull of gravity upon its mass, $m$, equal to $mg$. In contrast, a pair of scales compares *masses*, and if two masses are equal they will balance everywhere. Thus the mass of m is constant but its weight varies from place to place, as we know from the near-weightlessness of objects in space.) Modern gravity meters or **gravimeters** can detect changes in $g$ as small as a hundredth of a mGal or about 10$^{\\text{–8}} g$, and some extra-sensitive instruments can do considerably better. (Such differences are much smaller than those measured in other branches of geophysics.) To take a reading, the instrument (Fig. 8.14b) is accurately levelled on a firm surface, and if it has a thermostat (to prevent the length of the spring varying due to internal temperature changes), the temperature is checked. Next, the mass is restored to a standard position by means of a screw and the number of turns of the screw is the reading. A practised operator can carry out the whole operation in a few minutes. (Some instruments are fitted with elec- tronic readouts that provide a number that can be fed into a computer, ready for data reduction.)\n",
    "Gravimeters need careful handling and are usually transported inside a protective box.\n",
    "\n",
    "<img src = \"Images/Gravimeter.png\" width = \"500\" height = \"500\" >\n",
    "\n",
    "### LaCoste and Romberg Gravimeter\n",
    "\n",
    "### Superconducting Gravitmeter\n",
    "\n",
    "## Seismometer\n",
    "\n",
    "### Accelerometer\n",
    "\n",
    "### broadband seismoter\n",
    "\n",
    "what is a broadband band\n",
    "\n",
    "## Magnetometer\n",
    "\n",
    "## GPS\n",
    "\n",
    "## Radar\n",
    "\n",
    "|Instrument|  LaCoste and Romberg Gravimeter | Superconducting Gravimeter | Accelerometer | Broadband Seismometer | Magnetometer | GPS | Radar |\n",
    "|----------|--------------|---------------|-------------|--------------|-----|-------|---|\n",
    "| Measure  | gravitational acceleration | gravitational acceleration | acceleration | acceleration | magnetic field intensity | time | |\n",
    "| Equation | | | | | | | |\n",
    "| Frequency range | | | | | | | |\n",
    "\n"
   ]
  },
  {
   "cell_type": "markdown",
   "id": "87840566-1828-4b9f-adf5-403104e2be74",
   "metadata": {},
   "source": [
    "**Question 1** Comment on which instrument(s) would be appropriate for each of these applications.\n",
    "\n",
    "- Prospecting for gold\n",
    "- Finding a skeleton\n",
    "- Exploration of oil and gas\n",
    "- Thickness of a glacier\n",
    "- ...\n",
    "- ..."
   ]
  },
  {
   "cell_type": "markdown",
   "id": "5030d3d8-9469-40ed-bdfd-4fd593cc0cd2",
   "metadata": {},
   "source": [
    "----\n",
    "## Part II: Field Survey Design"
   ]
  },
  {
   "cell_type": "markdown",
   "id": "8896d391-eece-429f-939d-c40d087d2a0f",
   "metadata": {},
   "source": [
    "**Question 2** You are in charge of surveying a 10x10 km area for finding a really strong 10x10 m target anomaly ad a depth of 10-100 m. How will you decide on the sampling of your measurements in space and time to optimize the use of your resources (i.e. time and money)?"
   ]
  },
  {
   "cell_type": "markdown",
   "id": "8435fa12-2543-431c-a22a-9fea235ff92c",
   "metadata": {},
   "source": [
    "----\n",
    "## Part III: Magnetometer Survey near Princeton\n",
    "\n",
    "The exercise will be a magnetometer survey along the footpath that follows the canal (orange line in the figure above). Approximately 100 m north of the Blackwells Mills road a \"target\" exists beneath the footpath. The goal of the survey is to ﬁnd it, to delineate the size, and to subsequently interpret the nature of the anomalous rock formation. The survey will be performed by teams of 4 people, each using a magnetometer. A key challenge of the survey will be in designing the measurement line (i.e. how often to measure, where, etc), and in keeping careful records of locations and values of individual measurements. The latter part is essential for successful modeling of the observed data.\n",
    "\n",
    "Practical considerations:\n",
    "\n",
    "It takes about 25 min to get to the field area. PLEASE come to class on time (10:20). If you cannot come, are running late etc. – please alert your classmates and/or instructors\n",
    "\n",
    "You will work outside for a couple of hours. Please dress accordingly!\n",
    "\n",
    "You will work through the normal lunch hour – bring a sandwich!\n",
    "\n",
    "Equipment:\n",
    "\n",
    "For each team:   Magnetometer, tape measure, flags, a writing pad\n",
    "\n",
    "Data Collection\n",
    "- Operators of magnetometers should leave their cell phones and anything else strongly magnetic in the van.\n",
    "- the magnetometer crew needs to have 3 people: one carries the pole, one holds the measurement device, one records the values on a clipboard.\n",
    "\n",
    "Recommended procedure is as follows:\n",
    "- Upon arrival at the field site carry the magnetometer in its case onto the footpath, and walk with it ~50 m north of the entry gate.\n",
    "- Assemble magnetometer at this location, and leave the box on the ground (we will get some plastic in case it rains)\n",
    "- Mark the position where the survey will begin, either with GPS (e.g. in someone’s phone – but see the note above…) OR simply by finding a good landmark that may be related to the Google Earth image later.\n",
    "- use tape measure and flags (colored sticks) to mark locations where measurements will be done. It may be worth to send a couple of people forward to mark the locations, or else to pre-mark a lot of measurement locations first, and to have the three-person magnetometer crew follow. The footpath is made of gravel, so marking it up with a stick is a passable strategy.\n",
    "- measurements should be done twice at each location, to insure repeatability.\n",
    "- making measurements on a regular interval (e.g. every 10 m) is a good starting strategy.\n",
    "- once you locate the place where the field changes – it may be worth shortening the interval to measure the shape of the anomaly better.\n",
    "\n",
    "-IMPORTANT – once you find the anomaly, make sure you establish its entire shape, but making the measurements further along the path. You should find that the field will eventually return to the value similar to that at the start of the survey (Hint: if you made measurements over a distance > 200 m you should stop)."
   ]
  },
  {
   "cell_type": "code",
   "execution_count": 2,
   "id": "ae5cafed-d9b8-4a25-ad3c-b8aed784b3f3",
   "metadata": {
    "tags": [
     "remove-input"
    ]
   },
   "outputs": [
    {
     "data": {
      "text/html": [
       "\n",
       "        <iframe\n",
       "            width=\"600\"\n",
       "            height=\"450\"\n",
       "            src=\"https://www.google.com/maps/embed?pb=!1m18!1m12!1m3!1d4154.6022170342585!2d-74.57470830890793!3d40.475479371014!2m3!1f0!2f0!3f0!3m2!1i1024!2i768!4f13.1!3m3!1m2!1s0x89c3c2192ba672a5%3A0xec1bb5e7ab26a06d!2sBlackwells%20Mills%20Park%20Parking%20Lot!5e1!3m2!1sen!2sus!4v1666209626677!5m2!1sen!2sus\"\n",
       "            frameborder=\"0\"\n",
       "            allowfullscreen\n",
       "            \n",
       "        ></iframe>\n",
       "        "
      ],
      "text/plain": [
       "<IPython.lib.display.IFrame at 0x7f89cc10efd0>"
      ]
     },
     "execution_count": 2,
     "metadata": {},
     "output_type": "execute_result"
    }
   ],
   "source": [
    "from IPython.display import IFrame\n",
    "IFrame(\"https://www.google.com/maps/embed?pb=!1m18!1m12!1m3!1d4154.6022170342585!2d-74.57470830890793!3d40.475479371014!2m3!1f0!2f0!3f0!3m2!1i1024!2i768!4f13.1!3m3!1m2!1s0x89c3c2192ba672a5%3A0xec1bb5e7ab26a06d!2sBlackwells%20Mills%20Park%20Parking%20Lot!5e1!3m2!1sen!2sus!4v1666209626677!5m2!1sen!2sus\", width=600, height=450)"
   ]
  },
  {
   "cell_type": "code",
   "execution_count": null,
   "id": "da9b7246-8ae7-4305-a32b-e9f8c6111e46",
   "metadata": {},
   "outputs": [],
   "source": []
  }
 ],
 "metadata": {
  "kernelspec": {
   "display_name": "fall2022 [~/opt/export/course/geo203/anaconda3/envs/fall2022/]",
   "language": "python",
   "name": "conda_fall2022"
  },
  "language_info": {
   "codemirror_mode": {
    "name": "ipython",
    "version": 3
   },
   "file_extension": ".py",
   "mimetype": "text/x-python",
   "name": "python",
   "nbconvert_exporter": "python",
   "pygments_lexer": "ipython3",
   "version": "3.9.12"
  }
 },
 "nbformat": 4,
 "nbformat_minor": 5
}

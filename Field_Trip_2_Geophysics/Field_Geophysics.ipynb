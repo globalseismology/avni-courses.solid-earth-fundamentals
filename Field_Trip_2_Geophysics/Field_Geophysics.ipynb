{
 "cells": [
  {
   "cell_type": "markdown",
   "id": "fcc7e8e6-db93-4384-b8bc-d15e566ac8eb",
   "metadata": {
    "tags": []
   },
   "source": [
    "# Geophysical Field Survey\n",
    "\n",
    "IN THE SPACE BELOW, WRITE OUT IN FULL AND THEN SIGN THE HONOR PLEDGE:\n",
    "\n",
    "“I pledge my honor that I have not violated the honor code during this examination.”\n",
    "\n",
    "**PRINT NAME**: \n",
    "\n",
    "If a fellow student has contributed significantly to this work, please acknowledge them here:\n",
    "\n",
    "**Peer(s)**:                          \n",
    "\n",
    "*Contribution:*\n",
    "\n",
    "\n",
    "By uploading this assignment through Canvas, I sign off on the document below electronically.\n",
    "\n",
    "----"
   ]
  },
  {
   "cell_type": "markdown",
   "id": "6a6428b1-3de9-4ba3-9ecf-8b49f7499c01",
   "metadata": {
    "tags": []
   },
   "source": [
    "## Part I: Geophysical Instruments"
   ]
  },
  {
   "cell_type": "markdown",
   "id": "0794db72-88f4-4334-b069-720cfc6714bd",
   "metadata": {},
   "source": [
    "Geophysics is the application of the methods of physics to the study of the Earth. Geophysics 'sees' the Earth in terms of its physical properties, which complement the usual types of geological information. Geophysical survey is a method of collecting geophysical data. Most geophysical measurements are made at or above the Earth’s surface, either to save the expense and time of drilling, or because it is not feasible to access the surface or the interior of the Earth. Geophysical survey is conducted using instruments to probe the physical propertites such as gravimeters to probe gravity, seismometers to probe ground movement, magnetometer to probe magnetic field, and ground penetrating radar to infer the burried structure.\n",
    "\n",
    "### Gravimeter\n",
    "\n",
    "A gravimeter has to be able to measure differences much less than a millionth of the surface gravity, $g$. This can be done in three main ways. One way is to time the fall of an object; though this can be done very accurately in the laboratory it is not convenient for measurements in the field. A second way is to use a pendulum, since its period depends upon the value of $g$ as well as upon its dimensions. This has been used but requires bulky apparatus and takes a considerable time. It has been largely superseded by the third way, which basically uses a spring balance, shown schematically. The pull of gravity on the mass, $m$, extends the spring, so the spring has a slightly greater extension at places where $g$ is larger. (A spring balance measures the *weight* of a body, the pull of gravity upon its mass, $m$, equal to $mg$. In contrast, a pair of scales compares *masses*, and if two masses are equal they will balance everywhere. Thus the mass of m is constant but its weight varies from place to place, as we know from the near-weightlessness of objects in space.) Modern gravity meters or **gravimeters** can detect changes in $g$ as small as a hundredth of a mGal or about 10$^{\\text{–8}} g$, and some extra-sensitive instruments can do considerably better. (Such differences are much smaller than those measured in other branches of geophysics.) To take a reading, the instrument is accurately levelled on a firm surface, and if it has a thermostat (to prevent the length of the spring varying due to internal temperature changes), the temperature is checked. Next, the mass is restored to a standard position by means of a screw and the number of turns of the screw is the reading. A practised operator can carry out the whole operation in a few minutes. (Some instruments are fitted with electronic readouts that provide a number that can be fed into a computer, ready for data reduction.)\n",
    "Gravimeters need careful handling and are usually transported inside a protective box.\n",
    "\n",
    "<img src = \"Images/Gravimeter.png\" width = \"500\" height = \"500\" >\n",
    "\n",
    "Source: Looking Into the Earth: An Introduction to Geological Geophysics\n",
    "\n",
    "#### LaCoste and Romberg Gravimeter\n",
    "\n",
    "LaCoste and Romberg gravimeters rely on a mass, supported by some kind of spring, responding to the pull of the Earth’s gravity. Because the changes to be measured are so small, the spring is arranged to amplify the effect (Figure below). Initially, the beam is at rest in position (i), with the pull of the spring balancing the pull of gravity on the mass. When the gravimeter is moved to where g is larger, the beam rotates to a new balance (ii), where the extra pull of the extended spring balances the extra pull of gravity.\n",
    "\n",
    "<img src = \"Images/LaCoste_Romberg_Simplified.png\" width = \"50%\" >\n",
    "\n",
    "Source: Looking Into the Earth: An Introduction to Geological Geophysics\n",
    "\n",
    "#### Superconducting Gravimeter\n",
    "\n",
    "Other relative gravimeters and seismometers are based on a test mass that is suspended by a spring attached to the instrument support. A change in gravity or motion of the ground moves the test mass and this motion generates a voltage that becomes the output signal (velocity or acceleration). Even in a thermally well-regulated environment the mechanical aspects of a spring suspension causes erratic drift that is difficult to remove by post processing. The superconducting gravimeter solves the drift problem by replacing the mechanical spring with the levitation of a test mass using a magnetic suspension.\n",
    "\n",
    "The levitation force is produced by the interaction between the magnetic field from the coils and the currents induced on the surface of the superconducting sphere. The current in the coils can be precisely adjusted to balance the force of gravity on the sphere at the center of the displacement transducer. As a result, a very small change in gravity (acceleration) gives a large displacement of the test mass. This allows for the instrument to achieve very high sensitivity. Because the levitation is magnetic, changes in the Earth’s magnetic field would seriously degrade its stability. A superconducting shield is used to exclude the earth’s magnetic field from entering the space where the sensor is housed.\n",
    "\n",
    "<img src = \"Images/Superconducting_Gravimeter_Scheme.png\" width = \"500\" height = \"500\" >\n",
    "\n",
    "Source: [Operating Principles of the Superconducting Gravity Meter](https://www.gwrinstruments.com/pdf/principles-of-operation.pdf)\n",
    "\n",
    "### Seismometer\n",
    "\n",
    "Seismometers record ground motions ranging from large high-frequency accelerations near an earthquake to small ultra-long-period normal mode signals. Becaus no single seismograph can do this, different instruments have evolved to handle different *dynamic ranges* (amplitude) and *frequency ranges* of seismic waves.\n",
    "\n",
    "#### Accelerometer\n",
    "\n",
    "An accelerometer is a type of inertial sensor which is configured to detect accelerations down to zero frequency. Unlike a gravimeter, they are typically configured to read peak accelerations on the order of 1 $g$ or larger without clipping and thus must have relatively low sensitivities. They can be used to detect static accelerations, for the purpose of integrating them to obtain position as in an inertial guidance system, or they can be used to detect strong seismic motions. Like a gravimeter they have a flat response to acceleration down to zero frequency, but the upper corner of their low-pass response will be at a much higher frequency.\n",
    "\n",
    "<figure>\n",
    "<img src = \"Images/Accelerometer_chip.jpeg\" width = \"40%\" >\n",
    "<img src = \"Images/Accelerometer_App.png\" width = \"40%\" >\n",
    "<figcaption style=\"font-style: italic, text-align: center\"> Fig - (left) Accelerometer chip (right) Accelerometer App. </figcaption>\n",
    "</figure>\n",
    "    \n",
    "\n",
    "\n",
    "\n",
    "Source: [Adafruit](https://www.adafruit.com/product/163), App Store\n",
    "\n",
    "#### broadband seismometer\n",
    "\n",
    "A broadband seismometer can record a very broad frequency range (0.001-100 Hz) but not down to zero frequency of ground motion: displacement, velocity, or acceleration. It has a higher sensitivity and therefore measure much smaller motions than an accelerometer.\n",
    "\n",
    "<img src = \"Images/Broadband_Seismometer.jpeg\" width = \"250\" height = \"500\" >\n",
    "\n",
    "Source: [Earth Sciences](https://www.essearth.com/product/broadband-seismometer/)\n",
    "\n",
    "### GPS\n",
    "\n",
    "GPS is fully operational and meets the criteria established in the 1960s for an optimum positioning system. The system provides accurate, continuous, world-wide, three-dimensional position and velocity information to users with the appropriate receiving equipment. GPS also disseminates a form of Coordinated Universal Time (UTC). The satellite constellation nominally consists of 24 satellites arranged in 6 orbital planes with 4 satellites per plane. The system utilizes the concept of one-way time of arrival (TOA) ranging. Satellite transmissions are referenced to highly accurate atomic frequency standards onboard the satellites, which are in synchronism with a GPS time base. This technique requires that the user receiver also contain a clock. Utilizing this technique to measure the receiver’s three-dimensional location requires that TOA ranging measurements be made to four satellites. If the receiver clock were synchronized with the satellite clocks, only three range measurements would be required. However, a crystal clock is usually employed in navigation receivers to minimize the cost, complexity, and size of the receiver. Thus, four measurements are required to determine user latitude, longitude, height, and receiver clock offset from internal system time. If either system time or height is accurately known, less than four satellites are required.\n",
    "\n",
    "### Ground Penetrating Radar (GPR)\n",
    "\n",
    "Ground-penetrating radar, GPR, has by far the highest frequency of any electro-magnetic method and displays the wave aspect most clearly. It depends on reflection of pulses of waves, and so resembles seismic reflection.  A pulse of electro-magnetic waves is transmitted downwards, reflects off interfaces, and is received back at the surface and the reflection time (two-way time, TWT) is used as a measure of the distance to the target. The transmitter has an antenna (or aerial), producing an extremely short pulse of waves, lasting only a few nanoseconds (a nanosecond, ns, is a thousandth of a millionth, or 10$^{–9}$, seconds). These pulses contain frequencies in the range 25 to 1000 MHz, and the shorter the pulse the higher its frequency. Such short pulses are needed because electro-magnetic waves travel so fast that the TWTs, for interfaces that may be less than a metre deep, are extremely small.\n",
    "\n",
    "GPR is increasingly used in situations where its high resolution is a great advantage and its limited penetration is sufficient. Uses include hydrogeology (particularly for finding the position of the water table), environmental geophysical surveying (polluted ground), site engineering (faulting, fractures, cavities, and buried metal structures), mineral exploration, and archaeology. It can also be used for mapping Quaternary soils, such as showing the structure of fluvial sediments, or to investigate the detailed structures of oil reservoir rocks, including its use in boreholes.\n",
    "\n",
    "### Magnetometer\n",
    "\n",
    "It is essentially a compass but much much more sensitive!\n",
    "\n",
    "Magnetometers used for magnetic surveying differ from the types used to measure the magnetisation of rock samples in the laboratory because they need to measure the strength of the field rather than the strength of magnetisation of a sample, and they have to be portable. There are two main types. The proton precession magnetometer, usually abbreviated to **proton magnetometer** measures the total strength of the magnetic field but not its direction and so shows a total field anomaly (also called a total intensity anomaly), while the **fluxgate magnetometer** measures the component of the field along the axis of the sensor; for land surveying the sensor is usually aligned vertically for this is easy to do, giving a vertical component anomaly, but in aircraft, ships, and satellites it is kept aligned along the field and so measures the total field and also gives its direction. The sensor of a proton precession magnetometer need not be oriented (except roughly), and its readings do not ‘drift’ with time, in contrast to that of a fluxgate magnetometer, which has to be kept aligned and does drift. However, proton precession magnetometers take a few seconds to make a reading and are best kept stationary while this is being done, whereas fluxgates give a continuous reading, which can result in quicker surveying when read- ings are taken at short intervals. Both types can measure the field to 1 nT or less, which is more than sufficient for most anomalies. In practice, proton magnetometers are used for most ground surveys, except that fluxgates are usually chosen for detailed gradiometer surveys and in boreholes, for a variety of reasons. Both types are used in aerial surveys. A third type, the **caesium vapour magnetometer**, is more expensive but is sometimes used when higher sensitivity is needed.\n",
    "\n",
    "Magnetic surveying can be carried out on the ground, from aircraft, and from ships. Commonly used instruments are the proton (precession) magnetometer, which measures the total field, and the fluxgate magnetometer, which measures a component of the field; for ground surveys this component is usually the vertical one, but in ships and aircraft it is along the field and so effectively measures the total field and its direction. Gradiometers use a pair of sensors, usually fluxgates.\n",
    "\n",
    "<img src = \"Images/G-858_Cesium.png\" width = \"400\" height = \"400\" >\n",
    "\n",
    "Source: [Geometrics](https://www.geometrics.com/wp-content/uploads/2018/10/858Manual_D2.pdf)\n",
    "\n",
    "|Instrument|  LaCoste and Romberg Gravimeter | Superconducting Gravimeter | Accelerometer | Broadband Seismometer | Magnetometer | GPS | Radar |\n",
    "|----------|--------------|---------------|-------------|--------------|-----|-------|---|\n",
    "| Measure  | gravitational acceleration | gravitational acceleration | acceleration | ground motion | magnetic field intensity | position | travel-time |\n",
    "| Governing Equation | Newton law of gravity | Newton law of gravity | Wave equation | Wave equation |  | | |\n",
    "| Frequency range | < 1 Hz | < 1 Hz | 0-100 Hz | 0.001-100 Hz | < 100 Hz | | 25-1000 MHz |\n",
    "\n",
    "<img src = \"Images/Acceleration_Sensitivity.png\" width = \"500\" height = \"500\" >\n",
    "\n",
    "<img src = \"Images/Velocity_Sensitivity.png\" width = \"500\" height = \"500\" >\n",
    "\n",
    "Give a context of the sensitivity i.e. transfer function\n",
    "\n",
    "$$ S(\\omega) = I(\\omega) \\times M(\\omega) $$\n",
    "\n",
    "<img src = \"Images/Convolution.png\" width = \"80%\" >\n",
    "\n",
    "Source: [Principles of Broadband Seismometry, Encyclopedia of Earthquake Engineering](https://www.researchgate.net/profile/Nick_Ackerley/publication/273343086_Principles_of_Broadband_Seismometry/links/54fef5cf0cf2eaf210b4724c.pdf)"
   ]
  },
  {
   "cell_type": "markdown",
   "id": "87840566-1828-4b9f-adf5-403104e2be74",
   "metadata": {},
   "source": [
    "**Question 1** Comment on which instrument(s) would be appropriate for each of these applications. Assume that there is no budgetary limitation.\n",
    "\n",
    "- Prospecting for gold\n",
    "- Finding a skeleton\n",
    "- Exploration of oil and gas\n",
    "- Thickness of a glacier\n",
    "- Monitor volcanic activity\n",
    "- ..."
   ]
  },
  {
   "cell_type": "markdown",
   "id": "5030d3d8-9469-40ed-bdfd-4fd593cc0cd2",
   "metadata": {
    "tags": []
   },
   "source": [
    "----\n",
    "## Part II: Field Survey Design\n",
    "\n",
    "Geophysical \"signals\" exist in a variety of forms. The signals can depend upon time or location, or both. For instance at any location on Earth, the magnetic field changes with time and we want to record this temporal variation. Alternatively, a buried drum or pipe may have a magnetic field which varies with location. Sometimes we have signals that depend upon both time and space. Seismic and ground penetrating radar signals fall into this category.\n",
    "\n",
    "Signals in time or space are continuous. Consider the magnetic field, barometric pressure, ground motion, or wind speed at any location. Each of these quantities varies continually with time. Most instruments are electromechanical devices that produce a continuous waveform as a function of time. If this waveform were recorded directly then we would have an analogue signal. (e.g. a barometric pressure chart, ground motion measured with a pen on a rotating drum). Prior to the age of digital recorders analogue records were the only form of data collection. Today most signals are digitally sampled so they can be stored on computers, processed and plotted. Before looking at sampling we consider the simplest and most fundamental of all signals, sinusoids.\n",
    "\n",
    "### Sinusoids\n",
    "\n",
    "Sinusoids can be written as:\n",
    "\n",
    "$$ \\sin \\omega t, \\cos \\omega t, \\sin (\\omega t + \\phi), \\cos (\\omega t + \\phi) $$\n",
    "\n",
    "These are the harmonic continous waveforms. (Note the symbols assume you have a \"symbols\" font on your computer - likely for Windows machines, unlikely for Unix machines).\n",
    "\n",
    "$\\omega$ is the angular frequency expressed in radians/sec.\n",
    "$\\phi$ is the phase (in radians)\n",
    "$\\omega = 2\\pi f$ where $f$ is the linear frequency measured in Hz (hertz) or cycles per second. So we could write each of the above sinusoids like $\\sin(2\\pi f t)$\n",
    "Any signal can be constructed as a linear combination of sinusoids with each sinusoid having its own frequency, amplitude and phase. The mathematics related to this is \"Fourier analysis\". We will refer to the results but we will not consider the details.\n",
    "\n",
    "### Digital data, Sampling Interval, Nyquist Frequency, Aliasing\n",
    "\n",
    "Analogue data are difficult to work with. Much greater flexibility in processing data is obtained by working with digital data. Effectively, a signal is \"sampled\" at uniform intervals ($\\Delta t$ for a time domain signal, $\\Delta x$ for a spatial signal). Consider the example below. The continuous sinusoid at the top is sampled at 12 equispaced intervals. After sampling, the numbers (0, .5, .9, ...-.5, 0) are the only knowledge that we have of the signal. If we plotted out the points and connected them, we would obtain a reasonable picture of the initial signal. However, as you sample this signal with fewer and fewer points, your ability to recover the information in the original signal will progressively deteriorate. Imagine trying to represent this waveform with a single sample value!\n",
    "\n",
    "This is effectively illustrated in a second example below. The top curve is an analogue signal and the dots represent the sampling points. The sampled time series is shown in the middle, and the reconstructed signal, obtained by joining the dots in (b) is given at the bottom. Notice how much information is lost.\n",
    "\n",
    "In order to retain all of the information that is in the initial signal, it is necessary to sample so that you have at least two samples per cycle for the highest frequency that is present in your data. If you sample a sinusoid with frequency of 50 Hz then your sampling interval must be less than or equal to 0.01 seconds - in other words, a 50 Hz sinusoid must be sampled at least 100 times per second. If you sample a complicated signal made up of many frequencies, say from 50 hz out to 300 hz (like a typical seismic signal), you must sample this signal with at least 600 samples per second in order to recover the signal accurately.\n",
    "\n",
    "If you have a fixed sampling interval (for example, you only took measurements every 5 meters along a line), what is the highest signal frequency you could recover from the data? The question is so important that there is a name for the highest frequency sinusoid that can be recovered: it is called the Nyquist frequency and its formula is\n",
    "\n",
    "$$ f_N =  $$"
   ]
  },
  {
   "cell_type": "code",
   "execution_count": 3,
   "id": "debca49c-5cd0-4281-8c90-cea795904af3",
   "metadata": {},
   "outputs": [
    {
     "ename": "ModuleNotFoundError",
     "evalue": "No module named 'obspy'",
     "output_type": "error",
     "traceback": [
      "\u001b[0;31m---------------------------------------------------------------------------\u001b[0m",
      "\u001b[0;31mModuleNotFoundError\u001b[0m                       Traceback (most recent call last)",
      "Input \u001b[0;32mIn [3]\u001b[0m, in \u001b[0;36m<cell line: 1>\u001b[0;34m()\u001b[0m\n\u001b[0;32m----> 1\u001b[0m \u001b[38;5;28;01mfrom\u001b[39;00m \u001b[38;5;21;01mobspy\u001b[39;00m\u001b[38;5;21;01m.\u001b[39;00m\u001b[38;5;21;01mclients\u001b[39;00m\u001b[38;5;21;01m.\u001b[39;00m\u001b[38;5;21;01mfdsn\u001b[39;00m \u001b[38;5;28;01mimport\u001b[39;00m Client\n\u001b[1;32m      2\u001b[0m \u001b[38;5;28;01mimport\u001b[39;00m \u001b[38;5;21;01mobspy\u001b[39;00m\n\u001b[1;32m      3\u001b[0m \u001b[38;5;66;03m# Create two times which we will later use to download time series data.\u001b[39;00m\n",
      "\u001b[0;31mModuleNotFoundError\u001b[0m: No module named 'obspy'"
     ]
    }
   ],
   "source": [
    "from obspy.clients.fdsn import Client\n",
    "import obspy\n",
    "# Create two times which we will later use to download time series data.\n",
    "starttime = obspy.UTCDateTime(2004, 12, 26, 0, 58, 50)\n",
    "# Create a new time object by adding 10 days to the previous ones. Time\n",
    "# differences are in seconds.\n",
    "endtime = starttime + 86400 * 10\n",
    "client='IRIS'\n",
    "level='response'\n",
    "query ='G-ECH-*-LHZ'\n",
    "c = Client(client)\n",
    "network,station,location,channel=query.split('-')\n",
    "inv = c.get_stations(network=network, station=station, location=location, channel=channel,\n",
    "                     starttime=starttime, endtime=endtime,level=level)\n",
    "print(\"Acceleration\")\n",
    "inv.plot_response(0.001, output=\"ACC\");"
   ]
  },
  {
   "cell_type": "code",
   "execution_count": null,
   "id": "83dc6010-e10e-4ffa-9ebd-1b6c5be08d37",
   "metadata": {},
   "outputs": [],
   "source": []
  },
  {
   "cell_type": "code",
   "execution_count": 6,
   "id": "6b3deb75-33c5-461a-9e4e-e69f87d18007",
   "metadata": {},
   "outputs": [],
   "source": [
    "%matplotlib inline\n",
    "\n",
    "from scipy.fftpack import fft\n",
    "import numpy as np\n",
    "from importlib import reload\n",
    "import os\n",
    "from scipy import signal\n",
    "import matplotlib.pyplot as plt"
   ]
  },
  {
   "cell_type": "markdown",
   "id": "57bf8a48-ae4c-482d-ac68-3ee82c164ab7",
   "metadata": {},
   "source": [
    "## Primer in Fourier transforms\n"
   ]
  },
  {
   "cell_type": "markdown",
   "id": "35169a8c-aea9-47e7-853e-53265f2b619d",
   "metadata": {},
   "source": [
    "### Check normalization of FFT routines in Numpy\n",
    "\n",
    "The Fourier transform takes a signal from the time into the frequency domain. One application of the Fourier transform is that we can recover the amplitudes and frequencies of a sampled signal.\n",
    "We will use the package numpy.fft. The underlying code for these functions is an f2c-translated and\n",
    "modified version of the FFTPACK routines. FFTPACK is a package of Fortran subprograms for the fast\n",
    "Fourier transform of periodic and other symmetric sequences. It includes complex, real, sine, cosine, and quarter-wave transforms.\n",
    "\n",
    "For example, consider the signal 2 · cos(4 · 2πt) + 5 · sin(10 · 2πt) composed of a cosine with amplitude 2, frequency 4, and a sine with amplitude 5 and frequency 10. Using rfft of the package numpy.fft, the script below computes the discrete Fourier transform on the real array of samples via the efficient Fast Fourier Transform algorithm. We recover the amplitudes and corresponding frequencies of the components of our signal. With matplotlib we plot the spectrum."
   ]
  },
  {
   "cell_type": "code",
   "execution_count": 5,
   "id": "b44c08fa-d47d-4eb6-b8e6-f9d3d71d9a65",
   "metadata": {},
   "outputs": [
    {
     "name": "stdout",
     "output_type": "stream",
     "text": [
      "2.0*cos(4*2*pi*t)\n",
      "4.999999999999999*sin(10*2*pi*t)\n"
     ]
    },
    {
     "data": {
      "image/png": "[encoded data removed]",
      "text/plain": [
       "<Figure size 432x288 with 2 Axes>"
      ]
     },
     "metadata": {
      "needs_background": "light"
     },
     "output_type": "display_data"
    }
   ],
   "source": [
    "f = lambda t: 2*np.cos(4*2*np.pi*t) + 5*np.sin(10*2*np.pi*t)\n",
    "n = 256\n",
    "r = np.arange(0.0,1.0,1.0/n)\n",
    "s = f(r)\n",
    "F = np.fft.rfft(s)\n",
    "m = n/2\n",
    "p = lambda z: (abs(np.real(z))/m,abs(np.imag(z))/m)\n",
    "t = p(F)\n",
    "tol = 1.0e-8\n",
    "for i in range(0,len(t[0])):\n",
    "    if(t[0][i] > tol):\n",
    "        print(str(t[0][i]) + '*cos(' + str(i) + '*2*pi*t)')\n",
    "    if(t[1][i] > tol):\n",
    "        print(str(t[1][i]) + '*sin(' + str(i) + '*2*pi*t)')\n",
    "fig = plt.figure()\n",
    "plt.subplot(2, 1, 1)\n",
    "plt.plot(abs(F)/m)\n",
    "plt.subplot(2, 1, 2)\n",
    "plt.plot(np.angle(F,deg=True))\n",
    "plt.show()"
   ]
  },
  {
   "cell_type": "markdown",
   "id": "17af759c-aafc-4656-b478-875b52d28e41",
   "metadata": {
    "jp-MarkdownHeadingCollapsed": true,
    "tags": []
   },
   "source": [
    "### Mini-tutorial: Primer in Fourier transforms\n"
   ]
  },
  {
   "cell_type": "code",
   "execution_count": 1,
   "id": "3c303c3b-1dce-4642-aaff-a1a0708986b3",
   "metadata": {},
   "outputs": [],
   "source": [
    "%matplotlib inline\n",
    "\n",
    "from scipy.fftpack import fft\n",
    "import numpy as np\n",
    "from importlib import reload\n",
    "import os\n",
    "from scipy import signal\n",
    "import matplotlib.pyplot as plt"
   ]
  },
  {
   "cell_type": "markdown",
   "id": "ccc63c5b-4f3d-4129-9744-80be2895056f",
   "metadata": {},
   "source": [
    "#### Check normalization of FFT routines in Numpy\n",
    "\n",
    "The Fourier transform takes a signal from the time into the frequency domain. One application of the Fourier transform is that we can recover the amplitudes and frequencies of a sampled signal.\n",
    "We will use the package numpy.fft. The underlying code for these functions is an f2c-translated and\n",
    "modified version of the FFTPACK routines. FFTPACK is a package of Fortran subprograms for the fast\n",
    "Fourier transform of periodic and other symmetric sequences. It includes complex, real, sine, cosine, and quarter-wave transforms.\n",
    "\n",
    "For example, consider the signal 2 · cos(4 · 2πt) + 5 · sin(10 · 2πt) composed of a cosine with amplitude 2, frequency 4, and a sine with amplitude 5 and frequency 10. Using rfft of the package numpy.fft, the script below computes the discrete Fourier transform on the real array of samples via the efficient Fast Fourier Transform algorithm. We recover the amplitudes and corresponding frequencies of the components of our signal. With matplotlib we plot the spectrum."
   ]
  },
  {
   "cell_type": "code",
   "execution_count": 2,
   "id": "c176f7f7-67b4-43fb-8701-08d86f3ccc07",
   "metadata": {},
   "outputs": [
    {
     "name": "stdout",
     "output_type": "stream",
     "text": [
      "2.0*cos(4*2*pi*t)\n",
      "5.0*sin(10*2*pi*t)\n"
     ]
    },
    {
     "data": {
      "image/png": "[encoded data removed]",
      "text/plain": [
       "<Figure size 432x288 with 2 Axes>"
      ]
     },
     "metadata": {
      "needs_background": "light"
     },
     "output_type": "display_data"
    }
   ],
   "source": [
    "f = lambda t: 2*np.cos(4*2*np.pi*t) + 5*np.sin(10*2*np.pi*t)\n",
    "n = 256\n",
    "r = np.arange(0.0,1.0,1.0/n)\n",
    "s = f(r)\n",
    "F = np.fft.rfft(s)\n",
    "m = n/2\n",
    "p = lambda z: (abs(np.real(z))/m,abs(np.imag(z))/m)\n",
    "t = p(F)\n",
    "tol = 1.0e-8\n",
    "for i in range(0,len(t[0])):\n",
    "    if(t[0][i] > tol):\n",
    "        print(str(t[0][i]) + '*cos(' + str(i) + '*2*pi*t)')\n",
    "    if(t[1][i] > tol):\n",
    "        print(str(t[1][i]) + '*sin(' + str(i) + '*2*pi*t)')\n",
    "fig = plt.figure()\n",
    "plt.subplot(2, 1, 1)\n",
    "plt.plot(abs(F)/m)\n",
    "plt.subplot(2, 1, 2)\n",
    "plt.plot(np.angle(F,deg=True))\n",
    "plt.show()"
   ]
  },
  {
   "cell_type": "markdown",
   "id": "8896d391-eece-429f-939d-c40d087d2a0f",
   "metadata": {},
   "source": [
    "**Question 2** You are in charge of surveying a 10x10 km area for finding a really strong 10x10 m target anomaly ad a depth of 10-100 m. How will you decide on the sampling of your measurements in space and time to optimize the use of your resources (i.e. time and money)?"
   ]
  },
  {
   "cell_type": "markdown",
   "id": "8435fa12-2543-431c-a22a-9fea235ff92c",
   "metadata": {},
   "source": [
    "----\n",
    "## Part III: Magnetometer Survey near Princeton\n",
    "\n",
    "The exercise will be a magnetometer survey along the footpath that follows the canal (orange line in the figure above). Approximately 100 m north of the Blackwells Mills road a \"target\" exists beneath the footpath. The goal of the survey is to ﬁnd it, to delineate the size, and to subsequently interpret the nature of the anomalous rock formation. The survey will be performed by teams of 4 people, each using a magnetometer. A key challenge of the survey will be in designing the measurement line (i.e. how often to measure, where, etc), and in keeping careful records of locations and values of individual measurements. The latter part is essential for successful modeling of the observed data.\n",
    "\n",
    "Practical considerations:\n",
    "\n",
    "It takes about 25 min to get to the field area. PLEASE come to class on time (10:20). If you cannot come, are running late etc. – please alert your classmates and/or instructors\n",
    "\n",
    "You will work outside for a couple of hours. Please dress accordingly!\n",
    "\n",
    "You will work through the normal lunch hour – bring a sandwich!\n",
    "\n",
    "Equipment:\n",
    "\n",
    "For each team:   Magnetometer, tape measure, flags, a writing pad\n",
    "\n",
    "Data Collection\n",
    "- Operators of magnetometers should leave their cell phones and anything else strongly magnetic in the van.\n",
    "- the magnetometer crew needs to have 3 people: one carries the pole, one holds the measurement device, one records the values on a clipboard.\n",
    "\n",
    "Recommended procedure is as follows:\n",
    "- Upon arrival at the field site carry the magnetometer in its case onto the footpath, and walk with it ~50 m north of the entry gate.\n",
    "- Assemble magnetometer at this location, and leave the box on the ground (we will get some plastic in case it rains)\n",
    "- Mark the position where the survey will begin, either with GPS (e.g. in someone’s phone – but see the note above…) OR simply by finding a good landmark that may be related to the Google Earth image later.\n",
    "- use tape measure and flags (colored sticks) to mark locations where measurements will be done. It may be worth to send a couple of people forward to mark the locations, or else to pre-mark a lot of measurement locations first, and to have the three-person magnetometer crew follow. The footpath is made of gravel, so marking it up with a stick is a passable strategy.\n",
    "- measurements should be done twice at each location, to insure repeatability.\n",
    "- making measurements on a regular interval (e.g. every 10 m) is a good starting strategy.\n",
    "- once you locate the place where the field changes – it may be worth shortening the interval to measure the shape of the anomaly better.\n",
    "\n",
    "-IMPORTANT – once you find the anomaly, make sure you establish its entire shape, but making the measurements further along the path. You should find that the field will eventually return to the value similar to that at the start of the survey (Hint: if you made measurements over a distance > 200 m you should stop)."
   ]
  },
  {
   "cell_type": "code",
   "execution_count": 2,
   "id": "ae5cafed-d9b8-4a25-ad3c-b8aed784b3f3",
   "metadata": {
    "tags": [
     "remove-input"
    ]
   },
   "outputs": [
    {
     "data": {
      "text/html": [
       "\n",
       "        <iframe\n",
       "            width=\"600\"\n",
       "            height=\"450\"\n",
       "            src=\"https://www.google.com/maps/embed?pb=!1m18!1m12!1m3!1d4154.6022170342585!2d-74.57470830890793!3d40.475479371014!2m3!1f0!2f0!3f0!3m2!1i1024!2i768!4f13.1!3m3!1m2!1s0x89c3c2192ba672a5%3A0xec1bb5e7ab26a06d!2sBlackwells%20Mills%20Park%20Parking%20Lot!5e1!3m2!1sen!2sus!4v1666209626677!5m2!1sen!2sus\"\n",
       "            frameborder=\"0\"\n",
       "            allowfullscreen\n",
       "            \n",
       "        ></iframe>\n",
       "        "
      ],
      "text/plain": [
       "<IPython.lib.display.IFrame at 0x7f89cc10efd0>"
      ]
     },
     "execution_count": 2,
     "metadata": {},
     "output_type": "execute_result"
    }
   ],
   "source": [
    "from IPython.display import IFrame\n",
    "IFrame(\"https://www.google.com/maps/embed?pb=!1m18!1m12!1m3!1d4154.6022170342585!2d-74.57470830890793!3d40.475479371014!2m3!1f0!2f0!3f0!3m2!1i1024!2i768!4f13.1!3m3!1m2!1s0x89c3c2192ba672a5%3A0xec1bb5e7ab26a06d!2sBlackwells%20Mills%20Park%20Parking%20Lot!5e1!3m2!1sen!2sus!4v1666209626677!5m2!1sen!2sus\", width=600, height=450)"
   ]
  },
  {
   "cell_type": "code",
   "execution_count": null,
   "id": "da9b7246-8ae7-4305-a32b-e9f8c6111e46",
   "metadata": {},
   "outputs": [],
   "source": []
  }
 ],
 "metadata": {
  "kernelspec": {
   "display_name": "fall2022 [~/opt/export/course/geo203/anaconda3/envs/fall2022/]",
   "language": "python",
   "name": "conda_fall2022"
  },
  "language_info": {
   "codemirror_mode": {
    "name": "ipython",
    "version": 3
   },
   "file_extension": ".py",
   "mimetype": "text/x-python",
   "name": "python",
   "nbconvert_exporter": "python",
   "pygments_lexer": "ipython3",
   "version": "3.9.12"
  }
 },
 "nbformat": 4,
 "nbformat_minor": 5
}

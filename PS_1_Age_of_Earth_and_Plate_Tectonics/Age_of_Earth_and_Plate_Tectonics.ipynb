{
 "cells": [
  {
   "cell_type": "markdown",
   "metadata": {},
   "source": [
    "# Problem Sheet \\# 1\n",
    "\n",
    "Due date: XX September 2022\n",
    "\n",
    "Name: [write your name here]"
   ]
  },
  {
   "cell_type": "markdown",
   "metadata": {},
   "source": [
    "\n",
    "## Age of Earth\n",
    "\n",
    "In this question you will be carrying out a famous set of geochronological calculations by Patterson (1956) - the first correct age of the Earth. Read Patterson (1956). The 1956 paper is commonly cited as the first correct determination of the age of the Earth (estimates now are about 4.567 Ga).\n",
    "\n",
    "![A picture of Claire Patterson](CPatterson.jpeg)\n",
    "Image: Claire Patterson (Credit: Caltech Archives)\n",
    "\n",
    "![A thumbnail picture of Patterson 1956 paper](Patterson+56_Thumbnail.png)\n",
    "Image: The first page from Patterson (1956) paper."
   ]
  },
  {
   "cell_type": "markdown",
   "metadata": {},
   "source": [
    "You will need to use Python for problems that require computation and making plots for this class. \n",
    "\n",
    "Here is a walkthrough example for fitting the data and make a plot. We will read a data file, perform linear regression, and make a plot of the data. Most of the time, your code begins with importing libraries such as `numpy` (for vector calulation), `pandas` (for reading table), and `matplotlib.pyplot` (for making plots). If you are not familar with these libraries, feel free to follow examples in the previous precepts or the tutorial online for [numpy](https://www.w3schools.com/python/numpy/default.asp) and [matplotlib](https://matplotlib.org/stable/tutorials/index.html).\n"
   ]
  },
  {
   "cell_type": "code",
   "execution_count": 24,
   "metadata": {},
   "outputs": [],
   "source": [
    "import numpy as np\n",
    "import pandas as pd\n",
    "import matplotlib.pyplot as plt"
   ]
  },
  {
   "cell_type": "code",
   "execution_count": 13,
   "metadata": {},
   "outputs": [
    {
     "data": {
      "text/html": [
       "<div>\n",
       "<style scoped>\n",
       "    .dataframe tbody tr th:only-of-type {\n",
       "        vertical-align: middle;\n",
       "    }\n",
       "\n",
       "    .dataframe tbody tr th {\n",
       "        vertical-align: top;\n",
       "    }\n",
       "\n",
       "    .dataframe thead th {\n",
       "        text-align: right;\n",
       "    }\n",
       "</style>\n",
       "<table border=\"1\" class=\"dataframe\">\n",
       "  <thead>\n",
       "    <tr style=\"text-align: right;\">\n",
       "      <th></th>\n",
       "      <th>206/204</th>\n",
       "      <th>207/204</th>\n",
       "      <th>208/204</th>\n",
       "      <th>Unnamed: 3</th>\n",
       "    </tr>\n",
       "  </thead>\n",
       "  <tbody>\n",
       "    <tr>\n",
       "      <td>0</td>\n",
       "      <td>50.28</td>\n",
       "      <td>34.86</td>\n",
       "      <td>67.97</td>\n",
       "      <td>Mexico</td>\n",
       "    </tr>\n",
       "    <tr>\n",
       "      <td>1</td>\n",
       "      <td>19.27</td>\n",
       "      <td>15.95</td>\n",
       "      <td>39.05</td>\n",
       "      <td>Iowa</td>\n",
       "    </tr>\n",
       "    <tr>\n",
       "      <td>2</td>\n",
       "      <td>19.48</td>\n",
       "      <td>15.76</td>\n",
       "      <td>38.21</td>\n",
       "      <td>Kansas</td>\n",
       "    </tr>\n",
       "    <tr>\n",
       "      <td>3</td>\n",
       "      <td>9.55</td>\n",
       "      <td>10.38</td>\n",
       "      <td>29.54</td>\n",
       "      <td>Australia</td>\n",
       "    </tr>\n",
       "    <tr>\n",
       "      <td>4</td>\n",
       "      <td>9.46</td>\n",
       "      <td>10.34</td>\n",
       "      <td>29.44</td>\n",
       "      <td>Arizona</td>\n",
       "    </tr>\n",
       "  </tbody>\n",
       "</table>\n",
       "</div>"
      ],
      "text/plain": [
       "   206/204  207/204  208/204 Unnamed: 3\n",
       "0    50.28    34.86    67.97     Mexico\n",
       "1    19.27    15.95    39.05       Iowa\n",
       "2    19.48    15.76    38.21     Kansas\n",
       "3     9.55    10.38    29.54  Australia\n",
       "4     9.46    10.34    29.44    Arizona"
      ]
     },
     "execution_count": 13,
     "metadata": {},
     "output_type": "execute_result"
    }
   ],
   "source": [
    "# pandas read_table allows you to read a table of any structure\n",
    "# useful when you are not sure how to read\n",
    "table = pd.read_table(\"PS1-data.txt\")\n",
    "\n",
    "# displays the table we have just read\n",
    "table"
   ]
  },
  {
   "cell_type": "code",
   "execution_count": 63,
   "metadata": {},
   "outputs": [
    {
     "data": {
      "text/plain": [
       "0    50.28\n",
       "1    19.27\n",
       "2    19.48\n",
       "3     9.55\n",
       "4     9.46\n",
       "Name: 206/204, dtype: float64"
      ]
     },
     "execution_count": 63,
     "metadata": {},
     "output_type": "execute_result"
    }
   ],
   "source": [
    "# access a column of the table by using column's header as a key\n",
    "table['206/204']"
   ]
  },
  {
   "cell_type": "code",
   "execution_count": 42,
   "metadata": {},
   "outputs": [],
   "source": [
    "# One example on how to fit a line using numpy polyfit\n",
    "p = np.polyfit(table['206/204'], table['207/204'], 1)\n",
    "x = np.array(table['206/204'])\n",
    "y = p[0] * x + p[1]"
   ]
  },
  {
   "cell_type": "code",
   "execution_count": 72,
   "metadata": {},
   "outputs": [
    {
     "data": {
      "image/png": "[encoded data removed]",
      "text/plain": [
       "<Figure size 432x432 with 1 Axes>"
      ]
     },
     "metadata": {
      "needs_background": "light"
     },
     "output_type": "display_data"
    }
   ],
   "source": [
    "# Basic steps on how to make a plot using matplotlib\n",
    "# See https://matplotlib.org/stable/index.html for documentation and examples\n",
    "\n",
    "# creates a figure\n",
    "fig = plt.figure(figsize=[6,6])\n",
    "\n",
    "# makes a scatter plot\n",
    "plt.scatter(table['206/204'], table['207/204'], label='data')\n",
    "\n",
    "# makes a line plot\n",
    "text = \"fitted line: y = %.3f x + %.3f\"%(p[0], p[1])\n",
    "plt.plot(x, y, 'r', label=text)\n",
    "\n",
    "# labels the axes \n",
    "plt.xlabel(r'$^{206}U/^{204}U$', fontsize=12)\n",
    "plt.ylabel(r'$^{207}U/^{204}U$', fontsize=12)\n",
    "plt.title('The relationship between lead isotopes', fontsize=12)\n",
    "\n",
    "# adds grid lines\n",
    "plt.grid()\n",
    "\n",
    "# adds a legend box\n",
    "plt.legend(fontsize=12)\n",
    "\n",
    "# shows the figure\n",
    "plt.show()"
   ]
  },
  {
   "cell_type": "markdown",
   "metadata": {},
   "source": [
    "\n",
    "### To Do\n",
    "\n",
    "1. Using the data in Table 1 from that paper (this is also saved as the uploaded file PS1-data.txt which can be opened by a basic text editor like notepad) recalculate Patterson’s age of the Earth. You should use the same values as Patterson did for $\\lambda_{238}$, $\\lambda_{235}$, and present day $\\frac{^{238}\\text{U}}{^{235}\\text{U}}$ . You can use whatever linear regression calculation you want (the one geochronologists use now is that of York (1969) - the York Fit). Please hand in a graph showing your fit to the data.\n",
    "2. How does Patterson justify that the age of Earth is the same as the meteorites’ ?\n",
    "3. What are the three assumptions that need to be met in order for an isochron to be meaningful? Do you think this is met for Patterson’s meteorites? (You may answer this qualitatively.)"
   ]
  },
  {
   "cell_type": "markdown",
   "metadata": {},
   "source": [
    "\n",
    "## Plate Tectonics\n",
    "\n",
    "The theory of plate tectonics posits that the Earth’s lithosphere (crust and upper mantle) is broken into a number of jigsaw puzzle-like plates which move relative to one another over a plastically-deforming (but still solid) asthenosphere (mid and lower mantle). The boundaries between plates are narrow zones marked by a variety of topographic and tectonic features, and there is significantly less (but still some) tectonic activity in the interior of plates.\n",
    "\n",
    "You will be exploring some of the evidence on which plate tectonics is based, and which is used to interpret plate tectonic processes. \n",
    " \n",
    "### Topography of the continents and bathymetry of the sea floor \n",
    "\n",
    "We are all relatively familiar with the topography of the Earth’s surface above sea level, but less so with the bathymetry of Earth’s surface below sea level. Before this bathymetry was known, most people assumed that the sea floor was relatively flat and featureless, and personal experience with lakes and rivers suggested that the deepest part would be in the middle.\n",
    "\n",
    "Actual mapping of the sea floor, however, showed some surprises.  Such mapping began in the 1930’s but accelerated during World War II with the advent of submarine warfare. Princeton Geosciences Professor Harry Hess played a pivotal role; as captain of the USS Cape Johnson he used the ship’s echo sounder to “ping” the seafloor and measure depth profiles as the transport ship traversed the Pacific Ocean.   After the war, this data led him to propose the process of seafloor spreading, a hypothesis crucial to the development of the theory of plate tectonics.\n",
    "\n",
    "Modern methods to measure bathymetry include\n",
    "- Multi-beam echo sounders that map a wide swath of seafloor.\n",
    "- Satellite measurement of variations in sea level due to variations in gravitational pull over bathymetric features  – sea level is slightly lower over low spots on the sea floor and slightly higher over high spots.\n",
    "\n"
   ]
  },
  {
   "cell_type": "markdown",
   "metadata": {},
   "source": [
    "1. Examine the Atlantic Ocean between North/South America and Eurasia/Africa. Note that the deepest part is not in the middle; instead there is an underwater mountain range that runs down the middle of the ocean.  This is termed an ocean ridge or spreading ridge (more on spreading later).  Zoom in enough to see that although the ridge is a topographic high, it also has a valley (the “rift valley”) in the middle. Scan around to see the ocean ridges in the Indian, Pacific and Southern Oceans.\n",
    "    1. About how high does the mid-Atlantic ridge rise above the deep part of the Atlantic Ocean floor?\n",
    "    2. A “mid-ocean” ridge isn’t always in the middle of the ocean. Describe/sketch/show the position of the ridge in the Pacific Ocean called the “East Pacific Rise.”\n",
    "    3. Where is the only place where a “mid-ocean” ridge rises above sea level (hint, follow the mid-Atlantic ridge northwards)?"
   ]
  },
  {
   "cell_type": "code",
   "execution_count": null,
   "metadata": {},
   "outputs": [],
   "source": [
    "# Need bathymetry map\n",
    "# GEBCO https://www.gebco.net\n",
    "# Issues:\n",
    "# - large file: 90MB compressed and 4GB uncompressed\n",
    "# - netCDF format\n"
   ]
  },
  {
   "cell_type": "markdown",
   "metadata": {},
   "source": [
    "2. So if the Earth’s lowest spots aren’t in the middle of the ocean, where are they? Focus on the west coast of South America and note the deep linear ocean trench about 100km off shore that runs along the length of the continent.\n",
    "    1. Describe the locations of two other trench systems\n",
    "    2. “Search” and “fly to” Challenger Deep, the lowest point on Earth’s seafloor and Mt.Everest, the highest point on Earth’s land surface.   Use the Status Bar to get the elevation/depth of each. Which is greater, the elevation of Mt. Everest above sea level or the depth of Challenger Depth below sea level.  By how much in absolute and percentage terms?  Does this surprise you?"
   ]
  },
  {
   "cell_type": "markdown",
   "metadata": {},
   "source": [
    "\n",
    "## Seismicity\n",
    "\n",
    "An earthquake is a vibration of Earth caused by the sudden release of energy, usually as an abrupt breaking of rock along planar fractures called faults.  An earthquake initiates at its hypocenter or focus at some depth below the land surface or sea floor. The epicenter of the earthquake is defined as the point on the Earth’s surface above where the earthquake initiated.\n",
    "\n",
    "But only rocks that are relative cold and brittle (the Earth’s lithosphere) can be broken in earthquakes.  Rocks that are hot and ductile (e.g. the Earth’s asthenosphere) will deform without breaking, and thus do not produce earthquakes.  So observing where earthquakes occur, both horizontally and with depth, tells us something about where stress is concentrated, and also about the material properties of the earth."
   ]
  },
  {
   "cell_type": "code",
   "execution_count": 70,
   "metadata": {},
   "outputs": [],
   "source": [
    "# Need earthquakes' epicenters ploted on the map\n",
    "# USGS NEIC Web service would work: https://earthquake.usgs.gov/earthquakes/map\n",
    "# you may specify depth range"
   ]
  },
  {
   "cell_type": "markdown",
   "metadata": {},
   "source": [
    "3. Examine the regions on and around Earth’s ocean ridges and ocean trenches. Both the spatial distribution and the depths of earthquakes associated with each are different.  Describe/illustrate these differences between earthquake associated with ridges and earthquakes associated with trenches.\n",
    "4. Using earthquake depths as evidence, discuss whether the Earth’s lithosphere is thicker at ridges or at trenches.\n",
    "5. Consider the belt of deepest earthquakes parallel to the Andes mountain chain (the 150-800km deep earthquakes colored in blue and red.)  On what plate are these earthquakes?  Explain."
   ]
  },
  {
   "cell_type": "markdown",
   "metadata": {},
   "source": [
    "\n",
    "## Volcanism\n",
    "\n",
    "A volcano is an opening in the Earth’s surface through which melted rock (magma), volcanic ash and/or gases escape from the interior of the Earth. Under Dynamic Earth, compare the Volcanoes of the World layer and the Thirty years of large earthquakes layer, and the Plate Boundary Model layer. Turn on the “Volcanoes of the World” layer, which shows the location of 1500+ volcanoes that have been active over the last 10,000 years.  Most of these are on land, but some are underwater (called “seamounts”).  Clicking on a particular volcano icon brings up an information box about that volcano.\n",
    "\n",
    "<ins>Mid-ocean ridge volcanism:</ins> While the “Volcanoes of the World” layer shows more than 1500 volcanoes, the vast majority of volcanic activity on Earth does not occur on land nor does it build volcanoes; instead it occurs at fissures underwater along the mid-ocean ridge system.  This is not shown on the “Volcanoes of the World” layer.\n",
    "\n",
    "6. You have seen that earthquakes are associated with plate boundaries, and we mention above that volcanism exists along the mid-ocean <u>ridges</u>.  What about volcanism associated with <u>trenches</u>?  Describe the spatial distribution of volcanoes associated with trenches and surrounding features (e.g. coastlines, island arcs, mountain ranges)."
   ]
  },
  {
   "cell_type": "markdown",
   "metadata": {},
   "source": [
    "\n",
    "## Seafloor Age\n",
    "\n",
    "#### Using geologic data to determine plate velocities (direction and magnitude)\n",
    "\n",
    "7. Movement of the Pacific plate   \n",
    "    1. Use data from Seafloor age layer to calculate the rate at which the Pacific plate has been moving away from the East Pacific Rise over the last 100 million years or so.  Use the Ruler tool from the tool bar to measure distance, and give your answer in mm/yr or km/my (note that these will be the same number!)\n",
    "\n",
    "    Now turn off the sea floor age layer and turn on the *Volcanic Chains* layer. This shows the ages of younger volcanic rocks of various oceanic islands and seamounts, formed by eruptions onto older seafloor.\n",
    "\n",
    "    Within the *Volcanic Chains* layer, find the Hawaiian Island/Emperor seamount chain and the Louisville seamount chain (east of New Zealand), both on the Pacific plate.  Zoom in so that the numbers representing the ages of the rocks in the chain (in millions of years) are displayed.  Note the age progression of each chain.\n",
    "\n",
    "    Assume that each of these chains is generated by a plume or “hot spot” underneath the Pacific plate.  The “hot spots” periodically erupt to form volcanic islands atop the older ocean floor. However, once an island is no longer above the hot spot, volcanism shuts off and the volcano is eroded to sea level (getting a flattish top), and final sinks below sea level as the lithosphere cools and contracts. \n",
    "\n",
    "    We can explain the age progression of these island chains by either a plate moving over a stationary hot spot, or a moving hot spot under a stationary plate.  Let’s see which is supported by the data.\n",
    "\n",
    "    2. Using the age progression of the Hawaiian Island/seamount chain, determine the implied velocity (remember that velocity includes both speed and direction) of a moving Pacific plate over the last 46.7 million years.\n",
    "    3. Do the same using data for the Louisville chain in the southern Pacific Ocean (on the Pacific plate east of New Zealand).\n",
    "    4. Compare the two volcanic chain data sets to the Seafloor age data set. Which is the best explanation:  the Pacific plate moving over fixed hot spots or a moving hot spots under a stationary Pacific plate?  Explain.\n",
    "    5. Now compare this data set to the Easter Island chain on the Nazca plate on the other side of the East Pacific Rise.  Does the implied velocity of the Nazca plate fit the plate tectonic model you are developing with the Pacific plate data? Explain.\n",
    "    6. If four independent data sets are good, five are even better, right?  Click on the GPS horizontal vectors layer.  These arrows show the horizontal component of the motion of GPS stations cemented into the ground, over the last decade or so. The length of the arrow is related to the speed (the longer, the faster).  Clicking on an arrow brings up a dialog box with the direction and magnitude of the motion, and a link to the time series from which this horizontal component is derived. Does the GPS data support your conclusions from above?  Explain."
   ]
  },
  {
   "cell_type": "markdown",
   "metadata": {},
   "source": [
    "8. The mid-Atlantic ridge and the Atlantic Ocean basin   \n",
    "    1. With the Seafloor age layer clicked on, and without doing any calculations, is the mid-Atlantic ridge spreading ocean faster or slower than the East Pacific Rise?  Explain.\n",
    "    2. Did the northern Atlantic Ocean basin begin opening at the same time as the southern Atlantic Ocean basin?   How much older or younger is the South \n"
   ]
  }
 ],
 "metadata": {
  "kernelspec": {
   "display_name": "Python 3",
   "language": "python",
   "name": "python3"
  },
  "language_info": {
   "codemirror_mode": {
    "name": "ipython",
    "version": 3
   },
   "file_extension": ".py",
   "mimetype": "text/x-python",
   "name": "python",
   "nbconvert_exporter": "python",
   "pygments_lexer": "ipython3",
   "version": "3.7.4"
  }
 },
 "nbformat": 4,
 "nbformat_minor": 2
}

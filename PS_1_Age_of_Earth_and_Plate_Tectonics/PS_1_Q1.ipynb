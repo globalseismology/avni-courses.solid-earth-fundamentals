{
 "cells": [
  {
   "cell_type": "markdown",
   "id": "f680fc4e-c8a4-4d51-b2fa-f8dedb19e9b9",
   "metadata": {},
   "source": [
    "### TO DO\n",
    "\n",
    "**Q1**. Using the data in Table 1 from that paper (this is also saved as the uploaded file PS1-data.txt), recalculate Patterson’s age of the Earth. You should use the same values as Patterson did for $\\lambda_{238}$, $\\lambda_{235}$ (from Patterson (1956) paper, equation (1)), and present day $\\frac{^{238}\\text{U}}{^{235}\\text{U}}$."
   ]
  },
  {
   "cell_type": "code",
   "execution_count": 70,
   "id": "5d851903-2265-422a-b2a1-1dd14bab919e",
   "metadata": {},
   "outputs": [],
   "source": [
    "# The values Patterson used for the calculation\n",
    "lambda_235 = 9.72e-10      # Decay constant of U-235 in yr^-1\n",
    "lambda_238 = 1.537e-10     # Decay constant of U-238 in yr^-1\n",
    "k = 137.8                  # U-238 / U-235 today"
   ]
  },
  {
   "cell_type": "markdown",
   "id": "f850f2f3-5fa9-43ab-b7dd-b819a788732a",
   "metadata": {},
   "source": [
    "- Choose the appropriate data to make a scatter plot with a fitted line like in the mini-tutorial. If you do not know which data you need to choose, think about what could be the slope in the Equation 1 from the Patterson paper. Report the slope of the fitted line a the variable `fit_slope` below."
   ]
  },
  {
   "cell_type": "markdown",
   "id": "7e2ef638-2070-4111-b1df-8271c19bec30",
   "metadata": {},
   "source": [
    "**Answer**"
   ]
  },
  {
   "cell_type": "code",
   "execution_count": null,
   "id": "400dd6ed-0f19-4891-a1ba-fd80f6ff6226",
   "metadata": {},
   "outputs": [],
   "source": [
    "# Fill slope you have found from the data here\n",
    "fit_slope =    "
   ]
  },
  {
   "cell_type": "markdown",
   "id": "67f0bb53-5015-4ac5-8cd1-8694967774b3",
   "metadata": {},
   "source": [
    "- Once you obtain `fit_slope`, you may use this piece of code below to determine the age of Earth. Here we are finding the age of the Earth where the Equation 1 from the Patterson (1956) is satisfied for the slope you have found from the data."
   ]
  },
  {
   "cell_type": "code",
   "execution_count": 71,
   "id": "1b0d2606-325d-478c-9f1f-61c0cb1fe1bb",
   "metadata": {},
   "outputs": [],
   "source": [
    "from scipy import optimize\n",
    "\n",
    "def get_difference(age, reference_slope):\n",
    "    '''\n",
    "    Compute the difference of the right-hand side and the left-hand side of Equation 1 from Patterson (1956)\n",
    "    \n",
    "    Input Parameters:\n",
    "    ----------------\n",
    "    \n",
    "    age:               age of the Earth in years\n",
    "    reference_slope:   the slope obtained from fitting the data\n",
    "    \n",
    "    Return:\n",
    "    ------\n",
    "    \n",
    "    difference:        difference of the right-hand side and the left-hand side of Equation 1 from Patterson (1956)\n",
    "    \n",
    "    '''\n",
    "    lambda_235 = 9.72e-10     # Decay constant of U-235 in yr^-1\n",
    "    lambda_238 = 1.537e-10    # Decay constant of U-235 in yr^-1\n",
    "    k = 137.8                 # U-238 / U-235 today\n",
    "    difference = (np.exp(lambda_235*age) - 1) / (k * (np.exp(lambda_238*age) - 1)) - reference_slope\n",
    "    return difference"
   ]
  },
  {
   "cell_type": "code",
   "execution_count": null,
   "id": "b4df1b50-a8fb-4863-8193-9f8677345062",
   "metadata": {},
   "outputs": [],
   "source": [
    "# Set these parameter to appropriate values ONLY when the age of the Earth makes no sense (e.g. -5 years)\n",
    "age_lower = 1e1       # The lower bound for the bracket (unit: year)\n",
    "age_upper = 14e9      # The upper bound for the bracket (unit: year)\n",
    "\n",
    "# Determine the age of the Earth\n",
    "sol = optimize.root_scalar(get_difference, args=fit_slope, bracket=[age_lower, age_upper], method='brentq')"
   ]
  },
  {
   "cell_type": "markdown",
   "id": "f2c3269a-a8a8-40c4-9fa7-8bfcbfaf497b",
   "metadata": {},
   "source": [
    "**Answer**:"
   ]
  },
  {
   "cell_type": "code",
   "execution_count": null,
   "id": "e10f6730-c29f-4fc3-af95-24bc5ef0e121",
   "metadata": {
    "tags": []
   },
   "outputs": [],
   "source": [
    "# Display the age of the Earth in years\n",
    "print(\"The Earth is %.4g years old.\"%sol.root)"
   ]
  }
 ],
 "metadata": {
  "kernelspec": {
   "display_name": "Python 3 (ipykernel)",
   "language": "python",
   "name": "python3"
  },
  "language_info": {
   "codemirror_mode": {
    "name": "ipython",
    "version": 3
   },
   "file_extension": ".py",
   "mimetype": "text/x-python",
   "name": "python",
   "nbconvert_exporter": "python",
   "pygments_lexer": "ipython3",
   "version": "3.9.12"
  }
 },
 "nbformat": 4,
 "nbformat_minor": 5
}

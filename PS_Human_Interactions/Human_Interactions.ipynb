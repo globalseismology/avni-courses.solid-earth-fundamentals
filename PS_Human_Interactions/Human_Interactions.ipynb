{
 "cells": [
  {
   "cell_type": "markdown",
   "id": "e0a0c11e-f954-4a25-821e-af48a595a944",
   "metadata": {
    "tags": []
   },
   "source": [
    "# Human Interactions\n",
    "\n",
    "IN THE SPACE BELOW, WRITE OUT IN FULL AND THEN SIGN THE HONOR PLEDGE:\n",
    "\n",
    "“I pledge my honor that I have not violated the honor code during this examination.”\n",
    "\n",
    "**PRINT NAME**: \n",
    "\n",
    "If a fellow student has contributed significantly to this work, please acknowledge them here:\n",
    "\n",
    "**Peer(s)**:                          \n",
    "\n",
    "*Contribution:*\n",
    "\n",
    "\n",
    "By uploading this assignment through Canvas, I sign off on the document below electronically.\n",
    "\n",
    "----"
   ]
  },
  {
   "cell_type": "markdown",
   "id": "1f891def-3a54-40d0-b140-5f3320a03fd1",
   "metadata": {},
   "source": [
    "## Part I: A modified ranking of costly disasters\n",
    "\n",
    "The following table shows some recent natural disasters, and the estimated economic losses in the affected country. (The economic losses are often hard to estimate — these are approximate values.)\n",
    "\n",
    "|Year|Event                    |Country |Economic loss|\n",
    "|----|-------------------------|--------|-------------|\n",
    "|2010|Port-au-Prince Earthquake|Haiti   |  \\$3 billion|\n",
    "|2014|Laudian Earthquake       |China   | \\$10 billion|\n",
    "|2005|Hurricane Katrina        |USA     |\\$150 billion|\n",
    "|2011|M9.1 Earthquake          |Japan   |\\$200 billion|\n",
    "|2012|Hurricane Sandy          |USA     |\\$150 billion|\n",
    "|1998|Hurricane Mitch          |Honduras|  \\$4 billion|"
   ]
  },
  {
   "cell_type": "markdown",
   "id": "f65a64ed-62d9-4461-b194-2916a10bd13b",
   "metadata": {},
   "source": [
    "We will rank the severity of the disasters based on the economic losses compared with the national GDPs. Here is an example on how to read a `.csv` file and access the data using `pandas` dataframe."
   ]
  },
  {
   "cell_type": "code",
   "execution_count": 96,
   "id": "5c8b0710-57f9-457c-a05a-28fae38725ad",
   "metadata": {
    "tags": []
   },
   "outputs": [],
   "source": [
    "# import these packages when you read .csv file\n",
    "import pandas as pd\n",
    "\n",
    "# this one is only for making interactive plots. You do not need to import this.\n",
    "import plotly.express as px"
   ]
  },
  {
   "cell_type": "code",
   "execution_count": 97,
   "id": "fd7a4be2-6237-4eba-b5ac-3bb928c4bfd9",
   "metadata": {
    "tags": []
   },
   "outputs": [
    {
     "data": {
      "text/html": [
       "<div>\n",
       "<style scoped>\n",
       "    .dataframe tbody tr th:only-of-type {\n",
       "        vertical-align: middle;\n",
       "    }\n",
       "\n",
       "    .dataframe tbody tr th {\n",
       "        vertical-align: top;\n",
       "    }\n",
       "\n",
       "    .dataframe thead th {\n",
       "        text-align: right;\n",
       "    }\n",
       "</style>\n",
       "<table border=\"1\" class=\"dataframe\">\n",
       "  <thead>\n",
       "    <tr style=\"text-align: right;\">\n",
       "      <th></th>\n",
       "      <th>Country Name</th>\n",
       "      <th>Country Code</th>\n",
       "      <th>Indicator Name</th>\n",
       "      <th>Indicator Code</th>\n",
       "      <th>1960</th>\n",
       "      <th>1961</th>\n",
       "      <th>1962</th>\n",
       "      <th>1963</th>\n",
       "      <th>1964</th>\n",
       "      <th>1965</th>\n",
       "      <th>...</th>\n",
       "      <th>2012</th>\n",
       "      <th>2013</th>\n",
       "      <th>2014</th>\n",
       "      <th>2015</th>\n",
       "      <th>2016</th>\n",
       "      <th>2017</th>\n",
       "      <th>2018</th>\n",
       "      <th>2019</th>\n",
       "      <th>2020</th>\n",
       "      <th>2021</th>\n",
       "    </tr>\n",
       "  </thead>\n",
       "  <tbody>\n",
       "    <tr>\n",
       "      <th>0</th>\n",
       "      <td>Tuvalu</td>\n",
       "      <td>TUV</td>\n",
       "      <td>GDP (current US$)</td>\n",
       "      <td>NY.GDP.MKTP.CD</td>\n",
       "      <td>NaN</td>\n",
       "      <td>NaN</td>\n",
       "      <td>NaN</td>\n",
       "      <td>NaN</td>\n",
       "      <td>NaN</td>\n",
       "      <td>NaN</td>\n",
       "      <td>...</td>\n",
       "      <td>3.934562e+07</td>\n",
       "      <td>3.861749e+07</td>\n",
       "      <td>3.875969e+07</td>\n",
       "      <td>3.681166e+07</td>\n",
       "      <td>4.162950e+07</td>\n",
       "      <td>4.521766e+07</td>\n",
       "      <td>4.781829e+07</td>\n",
       "      <td>5.422315e+07</td>\n",
       "      <td>5.505471e+07</td>\n",
       "      <td>6.310096e+07</td>\n",
       "    </tr>\n",
       "    <tr>\n",
       "      <th>1</th>\n",
       "      <td>Nauru</td>\n",
       "      <td>NRU</td>\n",
       "      <td>GDP (current US$)</td>\n",
       "      <td>NY.GDP.MKTP.CD</td>\n",
       "      <td>NaN</td>\n",
       "      <td>NaN</td>\n",
       "      <td>NaN</td>\n",
       "      <td>NaN</td>\n",
       "      <td>NaN</td>\n",
       "      <td>NaN</td>\n",
       "      <td>...</td>\n",
       "      <td>9.692720e+07</td>\n",
       "      <td>9.849184e+07</td>\n",
       "      <td>1.046544e+08</td>\n",
       "      <td>8.652966e+07</td>\n",
       "      <td>9.972339e+07</td>\n",
       "      <td>1.093597e+08</td>\n",
       "      <td>1.240214e+08</td>\n",
       "      <td>1.187241e+08</td>\n",
       "      <td>1.146266e+08</td>\n",
       "      <td>1.332189e+08</td>\n",
       "    </tr>\n",
       "    <tr>\n",
       "      <th>2</th>\n",
       "      <td>Kiribati</td>\n",
       "      <td>KIR</td>\n",
       "      <td>GDP (current US$)</td>\n",
       "      <td>NY.GDP.MKTP.CD</td>\n",
       "      <td>NaN</td>\n",
       "      <td>NaN</td>\n",
       "      <td>NaN</td>\n",
       "      <td>NaN</td>\n",
       "      <td>NaN</td>\n",
       "      <td>NaN</td>\n",
       "      <td>...</td>\n",
       "      <td>1.896301e+08</td>\n",
       "      <td>1.845507e+08</td>\n",
       "      <td>1.778623e+08</td>\n",
       "      <td>1.702910e+08</td>\n",
       "      <td>1.785098e+08</td>\n",
       "      <td>1.881921e+08</td>\n",
       "      <td>1.962306e+08</td>\n",
       "      <td>1.779353e+08</td>\n",
       "      <td>1.809118e+08</td>\n",
       "      <td>NaN</td>\n",
       "    </tr>\n",
       "    <tr>\n",
       "      <th>3</th>\n",
       "      <td>Marshall Islands</td>\n",
       "      <td>MHL</td>\n",
       "      <td>GDP (current US$)</td>\n",
       "      <td>NY.GDP.MKTP.CD</td>\n",
       "      <td>NaN</td>\n",
       "      <td>NaN</td>\n",
       "      <td>NaN</td>\n",
       "      <td>NaN</td>\n",
       "      <td>NaN</td>\n",
       "      <td>NaN</td>\n",
       "      <td>...</td>\n",
       "      <td>1.804363e+08</td>\n",
       "      <td>1.848404e+08</td>\n",
       "      <td>1.821428e+08</td>\n",
       "      <td>1.838143e+08</td>\n",
       "      <td>2.015109e+08</td>\n",
       "      <td>2.132041e+08</td>\n",
       "      <td>2.215889e+08</td>\n",
       "      <td>2.394622e+08</td>\n",
       "      <td>2.444624e+08</td>\n",
       "      <td>2.486656e+08</td>\n",
       "    </tr>\n",
       "    <tr>\n",
       "      <th>4</th>\n",
       "      <td>Palau</td>\n",
       "      <td>PLW</td>\n",
       "      <td>GDP (current US$)</td>\n",
       "      <td>NY.GDP.MKTP.CD</td>\n",
       "      <td>NaN</td>\n",
       "      <td>NaN</td>\n",
       "      <td>NaN</td>\n",
       "      <td>NaN</td>\n",
       "      <td>NaN</td>\n",
       "      <td>NaN</td>\n",
       "      <td>...</td>\n",
       "      <td>2.123978e+08</td>\n",
       "      <td>2.211172e+08</td>\n",
       "      <td>2.416698e+08</td>\n",
       "      <td>2.804577e+08</td>\n",
       "      <td>2.983000e+08</td>\n",
       "      <td>2.853000e+08</td>\n",
       "      <td>2.847000e+08</td>\n",
       "      <td>2.742000e+08</td>\n",
       "      <td>2.577000e+08</td>\n",
       "      <td>NaN</td>\n",
       "    </tr>\n",
       "    <tr>\n",
       "      <th>...</th>\n",
       "      <td>...</td>\n",
       "      <td>...</td>\n",
       "      <td>...</td>\n",
       "      <td>...</td>\n",
       "      <td>...</td>\n",
       "      <td>...</td>\n",
       "      <td>...</td>\n",
       "      <td>...</td>\n",
       "      <td>...</td>\n",
       "      <td>...</td>\n",
       "      <td>...</td>\n",
       "      <td>...</td>\n",
       "      <td>...</td>\n",
       "      <td>...</td>\n",
       "      <td>...</td>\n",
       "      <td>...</td>\n",
       "      <td>...</td>\n",
       "      <td>...</td>\n",
       "      <td>...</td>\n",
       "      <td>...</td>\n",
       "      <td>...</td>\n",
       "    </tr>\n",
       "    <tr>\n",
       "      <th>261</th>\n",
       "      <td>Sint Maarten (Dutch part)</td>\n",
       "      <td>SXM</td>\n",
       "      <td>GDP (current US$)</td>\n",
       "      <td>NY.GDP.MKTP.CD</td>\n",
       "      <td>NaN</td>\n",
       "      <td>NaN</td>\n",
       "      <td>NaN</td>\n",
       "      <td>NaN</td>\n",
       "      <td>NaN</td>\n",
       "      <td>NaN</td>\n",
       "      <td>...</td>\n",
       "      <td>9.858659e+08</td>\n",
       "      <td>1.022905e+09</td>\n",
       "      <td>1.245251e+09</td>\n",
       "      <td>1.253073e+09</td>\n",
       "      <td>1.263687e+09</td>\n",
       "      <td>1.191620e+09</td>\n",
       "      <td>1.185475e+09</td>\n",
       "      <td>NaN</td>\n",
       "      <td>NaN</td>\n",
       "      <td>NaN</td>\n",
       "    </tr>\n",
       "    <tr>\n",
       "      <th>262</th>\n",
       "      <td>Syrian Arab Republic</td>\n",
       "      <td>SYR</td>\n",
       "      <td>GDP (current US$)</td>\n",
       "      <td>NY.GDP.MKTP.CD</td>\n",
       "      <td>8.577044e+08</td>\n",
       "      <td>9.452450e+08</td>\n",
       "      <td>1.110566e+09</td>\n",
       "      <td>1.200447e+09</td>\n",
       "      <td>1.339494e+09</td>\n",
       "      <td>1.329842e+09</td>\n",
       "      <td>...</td>\n",
       "      <td>4.411780e+10</td>\n",
       "      <td>2.255247e+10</td>\n",
       "      <td>2.207599e+10</td>\n",
       "      <td>1.762206e+10</td>\n",
       "      <td>1.245346e+10</td>\n",
       "      <td>1.634067e+10</td>\n",
       "      <td>2.144578e+10</td>\n",
       "      <td>NaN</td>\n",
       "      <td>NaN</td>\n",
       "      <td>NaN</td>\n",
       "    </tr>\n",
       "    <tr>\n",
       "      <th>263</th>\n",
       "      <td>Turkmenistan</td>\n",
       "      <td>TKM</td>\n",
       "      <td>GDP (current US$)</td>\n",
       "      <td>NY.GDP.MKTP.CD</td>\n",
       "      <td>NaN</td>\n",
       "      <td>NaN</td>\n",
       "      <td>NaN</td>\n",
       "      <td>NaN</td>\n",
       "      <td>NaN</td>\n",
       "      <td>NaN</td>\n",
       "      <td>...</td>\n",
       "      <td>3.516421e+10</td>\n",
       "      <td>3.919754e+10</td>\n",
       "      <td>4.352421e+10</td>\n",
       "      <td>3.579971e+10</td>\n",
       "      <td>3.616943e+10</td>\n",
       "      <td>3.792629e+10</td>\n",
       "      <td>4.076543e+10</td>\n",
       "      <td>4.523143e+10</td>\n",
       "      <td>NaN</td>\n",
       "      <td>NaN</td>\n",
       "    </tr>\n",
       "    <tr>\n",
       "      <th>264</th>\n",
       "      <td>Venezuela, RB</td>\n",
       "      <td>VEN</td>\n",
       "      <td>GDP (current US$)</td>\n",
       "      <td>NY.GDP.MKTP.CD</td>\n",
       "      <td>7.779091e+09</td>\n",
       "      <td>8.189091e+09</td>\n",
       "      <td>8.946970e+09</td>\n",
       "      <td>9.753333e+09</td>\n",
       "      <td>8.099318e+09</td>\n",
       "      <td>8.427778e+09</td>\n",
       "      <td>...</td>\n",
       "      <td>3.812860e+11</td>\n",
       "      <td>3.710050e+11</td>\n",
       "      <td>4.823590e+11</td>\n",
       "      <td>NaN</td>\n",
       "      <td>NaN</td>\n",
       "      <td>NaN</td>\n",
       "      <td>NaN</td>\n",
       "      <td>NaN</td>\n",
       "      <td>NaN</td>\n",
       "      <td>NaN</td>\n",
       "    </tr>\n",
       "    <tr>\n",
       "      <th>265</th>\n",
       "      <td>British Virgin Islands</td>\n",
       "      <td>VGB</td>\n",
       "      <td>GDP (current US$)</td>\n",
       "      <td>NY.GDP.MKTP.CD</td>\n",
       "      <td>NaN</td>\n",
       "      <td>NaN</td>\n",
       "      <td>NaN</td>\n",
       "      <td>NaN</td>\n",
       "      <td>NaN</td>\n",
       "      <td>NaN</td>\n",
       "      <td>...</td>\n",
       "      <td>NaN</td>\n",
       "      <td>NaN</td>\n",
       "      <td>NaN</td>\n",
       "      <td>NaN</td>\n",
       "      <td>NaN</td>\n",
       "      <td>NaN</td>\n",
       "      <td>NaN</td>\n",
       "      <td>NaN</td>\n",
       "      <td>NaN</td>\n",
       "      <td>NaN</td>\n",
       "    </tr>\n",
       "  </tbody>\n",
       "</table>\n",
       "<p>266 rows × 66 columns</p>\n",
       "</div>"
      ],
      "text/plain": [
       "                  Country Name Country Code     Indicator Name  \\\n",
       "0                       Tuvalu          TUV  GDP (current US$)   \n",
       "1                        Nauru          NRU  GDP (current US$)   \n",
       "2                     Kiribati          KIR  GDP (current US$)   \n",
       "3             Marshall Islands          MHL  GDP (current US$)   \n",
       "4                        Palau          PLW  GDP (current US$)   \n",
       "..                         ...          ...                ...   \n",
       "261  Sint Maarten (Dutch part)          SXM  GDP (current US$)   \n",
       "262       Syrian Arab Republic          SYR  GDP (current US$)   \n",
       "263               Turkmenistan          TKM  GDP (current US$)   \n",
       "264              Venezuela, RB          VEN  GDP (current US$)   \n",
       "265     British Virgin Islands          VGB  GDP (current US$)   \n",
       "\n",
       "     Indicator Code          1960          1961          1962          1963  \\\n",
       "0    NY.GDP.MKTP.CD           NaN           NaN           NaN           NaN   \n",
       "1    NY.GDP.MKTP.CD           NaN           NaN           NaN           NaN   \n",
       "2    NY.GDP.MKTP.CD           NaN           NaN           NaN           NaN   \n",
       "3    NY.GDP.MKTP.CD           NaN           NaN           NaN           NaN   \n",
       "4    NY.GDP.MKTP.CD           NaN           NaN           NaN           NaN   \n",
       "..              ...           ...           ...           ...           ...   \n",
       "261  NY.GDP.MKTP.CD           NaN           NaN           NaN           NaN   \n",
       "262  NY.GDP.MKTP.CD  8.577044e+08  9.452450e+08  1.110566e+09  1.200447e+09   \n",
       "263  NY.GDP.MKTP.CD           NaN           NaN           NaN           NaN   \n",
       "264  NY.GDP.MKTP.CD  7.779091e+09  8.189091e+09  8.946970e+09  9.753333e+09   \n",
       "265  NY.GDP.MKTP.CD           NaN           NaN           NaN           NaN   \n",
       "\n",
       "             1964          1965  ...          2012          2013  \\\n",
       "0             NaN           NaN  ...  3.934562e+07  3.861749e+07   \n",
       "1             NaN           NaN  ...  9.692720e+07  9.849184e+07   \n",
       "2             NaN           NaN  ...  1.896301e+08  1.845507e+08   \n",
       "3             NaN           NaN  ...  1.804363e+08  1.848404e+08   \n",
       "4             NaN           NaN  ...  2.123978e+08  2.211172e+08   \n",
       "..            ...           ...  ...           ...           ...   \n",
       "261           NaN           NaN  ...  9.858659e+08  1.022905e+09   \n",
       "262  1.339494e+09  1.329842e+09  ...  4.411780e+10  2.255247e+10   \n",
       "263           NaN           NaN  ...  3.516421e+10  3.919754e+10   \n",
       "264  8.099318e+09  8.427778e+09  ...  3.812860e+11  3.710050e+11   \n",
       "265           NaN           NaN  ...           NaN           NaN   \n",
       "\n",
       "             2014          2015          2016          2017          2018  \\\n",
       "0    3.875969e+07  3.681166e+07  4.162950e+07  4.521766e+07  4.781829e+07   \n",
       "1    1.046544e+08  8.652966e+07  9.972339e+07  1.093597e+08  1.240214e+08   \n",
       "2    1.778623e+08  1.702910e+08  1.785098e+08  1.881921e+08  1.962306e+08   \n",
       "3    1.821428e+08  1.838143e+08  2.015109e+08  2.132041e+08  2.215889e+08   \n",
       "4    2.416698e+08  2.804577e+08  2.983000e+08  2.853000e+08  2.847000e+08   \n",
       "..            ...           ...           ...           ...           ...   \n",
       "261  1.245251e+09  1.253073e+09  1.263687e+09  1.191620e+09  1.185475e+09   \n",
       "262  2.207599e+10  1.762206e+10  1.245346e+10  1.634067e+10  2.144578e+10   \n",
       "263  4.352421e+10  3.579971e+10  3.616943e+10  3.792629e+10  4.076543e+10   \n",
       "264  4.823590e+11           NaN           NaN           NaN           NaN   \n",
       "265           NaN           NaN           NaN           NaN           NaN   \n",
       "\n",
       "             2019          2020          2021  \n",
       "0    5.422315e+07  5.505471e+07  6.310096e+07  \n",
       "1    1.187241e+08  1.146266e+08  1.332189e+08  \n",
       "2    1.779353e+08  1.809118e+08           NaN  \n",
       "3    2.394622e+08  2.444624e+08  2.486656e+08  \n",
       "4    2.742000e+08  2.577000e+08           NaN  \n",
       "..            ...           ...           ...  \n",
       "261           NaN           NaN           NaN  \n",
       "262           NaN           NaN           NaN  \n",
       "263  4.523143e+10           NaN           NaN  \n",
       "264           NaN           NaN           NaN  \n",
       "265           NaN           NaN           NaN  \n",
       "\n",
       "[266 rows x 66 columns]"
      ]
     },
     "execution_count": 97,
     "metadata": {},
     "output_type": "execute_result"
    }
   ],
   "source": [
    "# Read a the GDP data file\n",
    "data = pd.read_csv('Files/GDP_Data.csv')\n",
    "\n",
    "# Display the content of the dataframe.\n",
    "# Useful to see the column names. Pay attention to the unit of GDP.\n",
    "# alternatively, you can open the .csv file\n",
    "data"
   ]
  },
  {
   "cell_type": "code",
   "execution_count": 110,
   "id": "e3c30139-3618-49d7-8d0e-a4457e795fd4",
   "metadata": {},
   "outputs": [
    {
     "data": {
      "text/plain": [
       "4    284700000.0\n",
       "Name: 2018, dtype: float64"
      ]
     },
     "execution_count": 110,
     "metadata": {},
     "output_type": "execute_result"
    }
   ],
   "source": [
    "# Here is an example on how to obtain Palau's GDP in 2018\n",
    "Palau_2018_GDP = data[data['Country Name'] == 'Palau']['2018']\n",
    "Palau_2018_GDP"
   ]
  },
  {
   "cell_type": "markdown",
   "id": "6ac5d5fd-37e0-427d-8018-0a8e77aee7c4",
   "metadata": {},
   "source": [
    "Note that the value is not just a number but `pandas series`.  Although you can do most arithmatic operations with `pandas series`, there are some certain operations that you need to use the actual number (in float data type). The example below illustrate on how (or how not) to add two countries GDPs."
   ]
  },
  {
   "cell_type": "code",
   "execution_count": 113,
   "id": "391772ae-7d7c-4a67-be0b-c59c8d7d8b5c",
   "metadata": {},
   "outputs": [
    {
     "name": "stdout",
     "output_type": "stream",
     "text": [
      "The total GDP from Palau and Nauru in 2018 is 4.1e+08 US Dollars\n"
     ]
    }
   ],
   "source": [
    "# Here is how to add two countries GDPs\n",
    "\n",
    "# convert to float\n",
    "Palau_2018_GDP = data[data['Country Name'] == 'Palau']['2018'].array[0]\n",
    "Nauru_2018_GDP = data[data['Country Name'] == 'Nauru']['2018'].array[0]\n",
    "\n",
    "sum_2018_GDP = Palau_2018_GDP + Nauru_2018_GDP\n",
    "\n",
    "# display the sum\n",
    "print(\"The total GDP from Palau and Nauru in 2018 is %.2g US Dollars\" % sum_2018_GDP)"
   ]
  },
  {
   "cell_type": "code",
   "execution_count": 114,
   "id": "d947fa56-019b-4895-abd5-c3c91b6b0896",
   "metadata": {},
   "outputs": [],
   "source": [
    "# Now we select a few nations to make a bar chart\n",
    "countries = data['Country Name']\n",
    "\n",
    "wh = ((countries == 'Honduras') | \n",
    "      (countries == 'Haiti') | \n",
    "      (countries == 'United States') | \n",
    "      (countries == 'Japan') | \n",
    "      (countries == 'China'))\n",
    "data_selected = data[wh]"
   ]
  },
  {
   "cell_type": "code",
   "execution_count": 115,
   "id": "1d6d1eb6-39c5-4fbb-bd71-17bd379237cf",
   "metadata": {},
   "outputs": [
    {
     "data": {
      "text/html": [
       "<div>\n",
       "<style scoped>\n",
       "    .dataframe tbody tr th:only-of-type {\n",
       "        vertical-align: middle;\n",
       "    }\n",
       "\n",
       "    .dataframe tbody tr th {\n",
       "        vertical-align: top;\n",
       "    }\n",
       "\n",
       "    .dataframe thead th {\n",
       "        text-align: right;\n",
       "    }\n",
       "</style>\n",
       "<table border=\"1\" class=\"dataframe\">\n",
       "  <thead>\n",
       "    <tr style=\"text-align: right;\">\n",
       "      <th></th>\n",
       "      <th>Country Name</th>\n",
       "      <th>Country Code</th>\n",
       "      <th>Indicator Name</th>\n",
       "      <th>Indicator Code</th>\n",
       "      <th>1960</th>\n",
       "      <th>1961</th>\n",
       "      <th>1962</th>\n",
       "      <th>1963</th>\n",
       "      <th>1964</th>\n",
       "      <th>1965</th>\n",
       "      <th>...</th>\n",
       "      <th>2012</th>\n",
       "      <th>2013</th>\n",
       "      <th>2014</th>\n",
       "      <th>2015</th>\n",
       "      <th>2016</th>\n",
       "      <th>2017</th>\n",
       "      <th>2018</th>\n",
       "      <th>2019</th>\n",
       "      <th>2020</th>\n",
       "      <th>2021</th>\n",
       "    </tr>\n",
       "  </thead>\n",
       "  <tbody>\n",
       "    <tr>\n",
       "      <th>79</th>\n",
       "      <td>Haiti</td>\n",
       "      <td>HTI</td>\n",
       "      <td>GDP (current US$)</td>\n",
       "      <td>NY.GDP.MKTP.CD</td>\n",
       "      <td>2.731872e+08</td>\n",
       "      <td>2.710660e+08</td>\n",
       "      <td>2.818968e+08</td>\n",
       "      <td>2.948834e+08</td>\n",
       "      <td>3.252812e+08</td>\n",
       "      <td>3.532518e+08</td>\n",
       "      <td>...</td>\n",
       "      <td>1.370893e+10</td>\n",
       "      <td>1.490247e+10</td>\n",
       "      <td>1.513926e+10</td>\n",
       "      <td>1.483315e+10</td>\n",
       "      <td>1.398769e+10</td>\n",
       "      <td>1.503556e+10</td>\n",
       "      <td>1.645503e+10</td>\n",
       "      <td>1.478584e+10</td>\n",
       "      <td>1.450822e+10</td>\n",
       "      <td>2.094439e+10</td>\n",
       "    </tr>\n",
       "    <tr>\n",
       "      <th>97</th>\n",
       "      <td>Honduras</td>\n",
       "      <td>HND</td>\n",
       "      <td>GDP (current US$)</td>\n",
       "      <td>NY.GDP.MKTP.CD</td>\n",
       "      <td>3.356500e+08</td>\n",
       "      <td>3.562000e+08</td>\n",
       "      <td>3.877500e+08</td>\n",
       "      <td>4.102000e+08</td>\n",
       "      <td>4.570000e+08</td>\n",
       "      <td>5.086500e+08</td>\n",
       "      <td>...</td>\n",
       "      <td>1.852860e+10</td>\n",
       "      <td>1.849971e+10</td>\n",
       "      <td>1.975649e+10</td>\n",
       "      <td>2.097977e+10</td>\n",
       "      <td>2.171762e+10</td>\n",
       "      <td>2.313623e+10</td>\n",
       "      <td>2.406778e+10</td>\n",
       "      <td>2.508998e+10</td>\n",
       "      <td>2.382784e+10</td>\n",
       "      <td>2.848867e+10</td>\n",
       "    </tr>\n",
       "    <tr>\n",
       "      <th>229</th>\n",
       "      <td>Japan</td>\n",
       "      <td>JPN</td>\n",
       "      <td>GDP (current US$)</td>\n",
       "      <td>NY.GDP.MKTP.CD</td>\n",
       "      <td>4.430734e+10</td>\n",
       "      <td>5.350862e+10</td>\n",
       "      <td>6.072302e+10</td>\n",
       "      <td>6.949813e+10</td>\n",
       "      <td>8.174901e+10</td>\n",
       "      <td>9.095028e+10</td>\n",
       "      <td>...</td>\n",
       "      <td>6.272360e+12</td>\n",
       "      <td>5.212330e+12</td>\n",
       "      <td>4.896990e+12</td>\n",
       "      <td>4.444930e+12</td>\n",
       "      <td>5.003680e+12</td>\n",
       "      <td>4.930840e+12</td>\n",
       "      <td>5.037840e+12</td>\n",
       "      <td>5.123320e+12</td>\n",
       "      <td>5.040110e+12</td>\n",
       "      <td>4.937420e+12</td>\n",
       "    </tr>\n",
       "    <tr>\n",
       "      <th>233</th>\n",
       "      <td>China</td>\n",
       "      <td>CHN</td>\n",
       "      <td>GDP (current US$)</td>\n",
       "      <td>NY.GDP.MKTP.CD</td>\n",
       "      <td>5.971647e+10</td>\n",
       "      <td>5.005687e+10</td>\n",
       "      <td>4.720936e+10</td>\n",
       "      <td>5.070680e+10</td>\n",
       "      <td>5.970834e+10</td>\n",
       "      <td>7.043627e+10</td>\n",
       "      <td>...</td>\n",
       "      <td>8.532230e+12</td>\n",
       "      <td>9.570410e+12</td>\n",
       "      <td>1.047570e+13</td>\n",
       "      <td>1.106160e+13</td>\n",
       "      <td>1.123330e+13</td>\n",
       "      <td>1.231040e+13</td>\n",
       "      <td>1.389480e+13</td>\n",
       "      <td>1.427990e+13</td>\n",
       "      <td>1.468770e+13</td>\n",
       "      <td>1.773410e+13</td>\n",
       "    </tr>\n",
       "    <tr>\n",
       "      <th>237</th>\n",
       "      <td>United States</td>\n",
       "      <td>USA</td>\n",
       "      <td>GDP (current US$)</td>\n",
       "      <td>NY.GDP.MKTP.CD</td>\n",
       "      <td>5.433000e+11</td>\n",
       "      <td>5.633000e+11</td>\n",
       "      <td>6.051000e+11</td>\n",
       "      <td>6.386000e+11</td>\n",
       "      <td>6.858000e+11</td>\n",
       "      <td>7.437000e+11</td>\n",
       "      <td>...</td>\n",
       "      <td>1.625400e+13</td>\n",
       "      <td>1.684320e+13</td>\n",
       "      <td>1.755070e+13</td>\n",
       "      <td>1.820600e+13</td>\n",
       "      <td>1.869510e+13</td>\n",
       "      <td>1.947960e+13</td>\n",
       "      <td>2.052720e+13</td>\n",
       "      <td>2.137260e+13</td>\n",
       "      <td>2.089370e+13</td>\n",
       "      <td>2.299610e+13</td>\n",
       "    </tr>\n",
       "  </tbody>\n",
       "</table>\n",
       "<p>5 rows × 66 columns</p>\n",
       "</div>"
      ],
      "text/plain": [
       "      Country Name Country Code     Indicator Name  Indicator Code  \\\n",
       "79           Haiti          HTI  GDP (current US$)  NY.GDP.MKTP.CD   \n",
       "97        Honduras          HND  GDP (current US$)  NY.GDP.MKTP.CD   \n",
       "229          Japan          JPN  GDP (current US$)  NY.GDP.MKTP.CD   \n",
       "233          China          CHN  GDP (current US$)  NY.GDP.MKTP.CD   \n",
       "237  United States          USA  GDP (current US$)  NY.GDP.MKTP.CD   \n",
       "\n",
       "             1960          1961          1962          1963          1964  \\\n",
       "79   2.731872e+08  2.710660e+08  2.818968e+08  2.948834e+08  3.252812e+08   \n",
       "97   3.356500e+08  3.562000e+08  3.877500e+08  4.102000e+08  4.570000e+08   \n",
       "229  4.430734e+10  5.350862e+10  6.072302e+10  6.949813e+10  8.174901e+10   \n",
       "233  5.971647e+10  5.005687e+10  4.720936e+10  5.070680e+10  5.970834e+10   \n",
       "237  5.433000e+11  5.633000e+11  6.051000e+11  6.386000e+11  6.858000e+11   \n",
       "\n",
       "             1965  ...          2012          2013          2014  \\\n",
       "79   3.532518e+08  ...  1.370893e+10  1.490247e+10  1.513926e+10   \n",
       "97   5.086500e+08  ...  1.852860e+10  1.849971e+10  1.975649e+10   \n",
       "229  9.095028e+10  ...  6.272360e+12  5.212330e+12  4.896990e+12   \n",
       "233  7.043627e+10  ...  8.532230e+12  9.570410e+12  1.047570e+13   \n",
       "237  7.437000e+11  ...  1.625400e+13  1.684320e+13  1.755070e+13   \n",
       "\n",
       "             2015          2016          2017          2018          2019  \\\n",
       "79   1.483315e+10  1.398769e+10  1.503556e+10  1.645503e+10  1.478584e+10   \n",
       "97   2.097977e+10  2.171762e+10  2.313623e+10  2.406778e+10  2.508998e+10   \n",
       "229  4.444930e+12  5.003680e+12  4.930840e+12  5.037840e+12  5.123320e+12   \n",
       "233  1.106160e+13  1.123330e+13  1.231040e+13  1.389480e+13  1.427990e+13   \n",
       "237  1.820600e+13  1.869510e+13  1.947960e+13  2.052720e+13  2.137260e+13   \n",
       "\n",
       "             2020          2021  \n",
       "79   1.450822e+10  2.094439e+10  \n",
       "97   2.382784e+10  2.848867e+10  \n",
       "229  5.040110e+12  4.937420e+12  \n",
       "233  1.468770e+13  1.773410e+13  \n",
       "237  2.089370e+13  2.299610e+13  \n",
       "\n",
       "[5 rows x 66 columns]"
      ]
     },
     "execution_count": 115,
     "metadata": {},
     "output_type": "execute_result"
    }
   ],
   "source": [
    "data_selected"
   ]
  },
  {
   "cell_type": "code",
   "execution_count": 80,
   "id": "bc3bc7d7-15a7-466f-a5a5-e4b2f579b7b6",
   "metadata": {},
   "outputs": [
    {
     "data": {
      "application/vnd.plotly.v1+json": {
       "config": {
        "plotlyServerURL": "https://plot.ly"
       },
       "data": [
        {
         "alignmentgroup": "True",
         "hovertemplate": "Country Name=%{x}<br>2020=%{y}<extra></extra>",
         "legendgroup": "",
         "marker": {
          "color": "#636efa",
          "pattern": {
           "shape": ""
          }
         },
         "name": "",
         "offsetgroup": "",
         "orientation": "v",
         "showlegend": false,
         "textposition": "auto",
         "type": "bar",
         "x": [
          "Haiti",
          "Honduras",
          "Japan",
          "China",
          "United States"
         ],
         "xaxis": "x",
         "y": [
          14508218017,
          23827840810,
          5040110000000,
          14687700000000,
          20893700000000
         ],
         "yaxis": "y"
        }
       ],
       "layout": {
        "autosize": true,
        "barmode": "relative",
        "legend": {
         "tracegroupgap": 0
        },
        "template": {
         "data": {
          "bar": [
           {
            "error_x": {
             "color": "#2a3f5f"
            },
            "error_y": {
             "color": "#2a3f5f"
            },
            "marker": {
             "line": {
              "color": "#E5ECF6",
              "width": 0.5
             },
             "pattern": {
              "fillmode": "overlay",
              "size": 10,
              "solidity": 0.2
             }
            },
            "type": "bar"
           }
          ],
          "barpolar": [
           {
            "marker": {
             "line": {
              "color": "#E5ECF6",
              "width": 0.5
             },
             "pattern": {
              "fillmode": "overlay",
              "size": 10,
              "solidity": 0.2
             }
            },
            "type": "barpolar"
           }
          ],
          "carpet": [
           {
            "aaxis": {
             "endlinecolor": "#2a3f5f",
             "gridcolor": "white",
             "linecolor": "white",
             "minorgridcolor": "white",
             "startlinecolor": "#2a3f5f"
            },
            "baxis": {
             "endlinecolor": "#2a3f5f",
             "gridcolor": "white",
             "linecolor": "white",
             "minorgridcolor": "white",
             "startlinecolor": "#2a3f5f"
            },
            "type": "carpet"
           }
          ],
          "choropleth": [
           {
            "colorbar": {
             "outlinewidth": 0,
             "ticks": ""
            },
            "type": "choropleth"
           }
          ],
          "contour": [
           {
            "colorbar": {
             "outlinewidth": 0,
             "ticks": ""
            },
            "colorscale": [
             [
              0,
              "#0d0887"
             ],
             [
              0.1111111111111111,
              "#46039f"
             ],
             [
              0.2222222222222222,
              "#7201a8"
             ],
             [
              0.3333333333333333,
              "#9c179e"
             ],
             [
              0.4444444444444444,
              "#bd3786"
             ],
             [
              0.5555555555555556,
              "#d8576b"
             ],
             [
              0.6666666666666666,
              "#ed7953"
             ],
             [
              0.7777777777777778,
              "#fb9f3a"
             ],
             [
              0.8888888888888888,
              "#fdca26"
             ],
             [
              1,
              "#f0f921"
             ]
            ],
            "type": "contour"
           }
          ],
          "contourcarpet": [
           {
            "colorbar": {
             "outlinewidth": 0,
             "ticks": ""
            },
            "type": "contourcarpet"
           }
          ],
          "heatmap": [
           {
            "colorbar": {
             "outlinewidth": 0,
             "ticks": ""
            },
            "colorscale": [
             [
              0,
              "#0d0887"
             ],
             [
              0.1111111111111111,
              "#46039f"
             ],
             [
              0.2222222222222222,
              "#7201a8"
             ],
             [
              0.3333333333333333,
              "#9c179e"
             ],
             [
              0.4444444444444444,
              "#bd3786"
             ],
             [
              0.5555555555555556,
              "#d8576b"
             ],
             [
              0.6666666666666666,
              "#ed7953"
             ],
             [
              0.7777777777777778,
              "#fb9f3a"
             ],
             [
              0.8888888888888888,
              "#fdca26"
             ],
             [
              1,
              "#f0f921"
             ]
            ],
            "type": "heatmap"
           }
          ],
          "heatmapgl": [
           {
            "colorbar": {
             "outlinewidth": 0,
             "ticks": ""
            },
            "colorscale": [
             [
              0,
              "#0d0887"
             ],
             [
              0.1111111111111111,
              "#46039f"
             ],
             [
              0.2222222222222222,
              "#7201a8"
             ],
             [
              0.3333333333333333,
              "#9c179e"
             ],
             [
              0.4444444444444444,
              "#bd3786"
             ],
             [
              0.5555555555555556,
              "#d8576b"
             ],
             [
              0.6666666666666666,
              "#ed7953"
             ],
             [
              0.7777777777777778,
              "#fb9f3a"
             ],
             [
              0.8888888888888888,
              "#fdca26"
             ],
             [
              1,
              "#f0f921"
             ]
            ],
            "type": "heatmapgl"
           }
          ],
          "histogram": [
           {
            "marker": {
             "pattern": {
              "fillmode": "overlay",
              "size": 10,
              "solidity": 0.2
             }
            },
            "type": "histogram"
           }
          ],
          "histogram2d": [
           {
            "colorbar": {
             "outlinewidth": 0,
             "ticks": ""
            },
            "colorscale": [
             [
              0,
              "#0d0887"
             ],
             [
              0.1111111111111111,
              "#46039f"
             ],
             [
              0.2222222222222222,
              "#7201a8"
             ],
             [
              0.3333333333333333,
              "#9c179e"
             ],
             [
              0.4444444444444444,
              "#bd3786"
             ],
             [
              0.5555555555555556,
              "#d8576b"
             ],
             [
              0.6666666666666666,
              "#ed7953"
             ],
             [
              0.7777777777777778,
              "#fb9f3a"
             ],
             [
              0.8888888888888888,
              "#fdca26"
             ],
             [
              1,
              "#f0f921"
             ]
            ],
            "type": "histogram2d"
           }
          ],
          "histogram2dcontour": [
           {
            "colorbar": {
             "outlinewidth": 0,
             "ticks": ""
            },
            "colorscale": [
             [
              0,
              "#0d0887"
             ],
             [
              0.1111111111111111,
              "#46039f"
             ],
             [
              0.2222222222222222,
              "#7201a8"
             ],
             [
              0.3333333333333333,
              "#9c179e"
             ],
             [
              0.4444444444444444,
              "#bd3786"
             ],
             [
              0.5555555555555556,
              "#d8576b"
             ],
             [
              0.6666666666666666,
              "#ed7953"
             ],
             [
              0.7777777777777778,
              "#fb9f3a"
             ],
             [
              0.8888888888888888,
              "#fdca26"
             ],
             [
              1,
              "#f0f921"
             ]
            ],
            "type": "histogram2dcontour"
           }
          ],
          "mesh3d": [
           {
            "colorbar": {
             "outlinewidth": 0,
             "ticks": ""
            },
            "type": "mesh3d"
           }
          ],
          "parcoords": [
           {
            "line": {
             "colorbar": {
              "outlinewidth": 0,
              "ticks": ""
             }
            },
            "type": "parcoords"
           }
          ],
          "pie": [
           {
            "automargin": true,
            "type": "pie"
           }
          ],
          "scatter": [
           {
            "marker": {
             "colorbar": {
              "outlinewidth": 0,
              "ticks": ""
             }
            },
            "type": "scatter"
           }
          ],
          "scatter3d": [
           {
            "line": {
             "colorbar": {
              "outlinewidth": 0,
              "ticks": ""
             }
            },
            "marker": {
             "colorbar": {
              "outlinewidth": 0,
              "ticks": ""
             }
            },
            "type": "scatter3d"
           }
          ],
          "scattercarpet": [
           {
            "marker": {
             "colorbar": {
              "outlinewidth": 0,
              "ticks": ""
             }
            },
            "type": "scattercarpet"
           }
          ],
          "scattergeo": [
           {
            "marker": {
             "colorbar": {
              "outlinewidth": 0,
              "ticks": ""
             }
            },
            "type": "scattergeo"
           }
          ],
          "scattergl": [
           {
            "marker": {
             "colorbar": {
              "outlinewidth": 0,
              "ticks": ""
             }
            },
            "type": "scattergl"
           }
          ],
          "scattermapbox": [
           {
            "marker": {
             "colorbar": {
              "outlinewidth": 0,
              "ticks": ""
             }
            },
            "type": "scattermapbox"
           }
          ],
          "scatterpolar": [
           {
            "marker": {
             "colorbar": {
              "outlinewidth": 0,
              "ticks": ""
             }
            },
            "type": "scatterpolar"
           }
          ],
          "scatterpolargl": [
           {
            "marker": {
             "colorbar": {
              "outlinewidth": 0,
              "ticks": ""
             }
            },
            "type": "scatterpolargl"
           }
          ],
          "scatterternary": [
           {
            "marker": {
             "colorbar": {
              "outlinewidth": 0,
              "ticks": ""
             }
            },
            "type": "scatterternary"
           }
          ],
          "surface": [
           {
            "colorbar": {
             "outlinewidth": 0,
             "ticks": ""
            },
            "colorscale": [
             [
              0,
              "#0d0887"
             ],
             [
              0.1111111111111111,
              "#46039f"
             ],
             [
              0.2222222222222222,
              "#7201a8"
             ],
             [
              0.3333333333333333,
              "#9c179e"
             ],
             [
              0.4444444444444444,
              "#bd3786"
             ],
             [
              0.5555555555555556,
              "#d8576b"
             ],
             [
              0.6666666666666666,
              "#ed7953"
             ],
             [
              0.7777777777777778,
              "#fb9f3a"
             ],
             [
              0.8888888888888888,
              "#fdca26"
             ],
             [
              1,
              "#f0f921"
             ]
            ],
            "type": "surface"
           }
          ],
          "table": [
           {
            "cells": {
             "fill": {
              "color": "#EBF0F8"
             },
             "line": {
              "color": "white"
             }
            },
            "header": {
             "fill": {
              "color": "#C8D4E3"
             },
             "line": {
              "color": "white"
             }
            },
            "type": "table"
           }
          ]
         },
         "layout": {
          "annotationdefaults": {
           "arrowcolor": "#2a3f5f",
           "arrowhead": 0,
           "arrowwidth": 1
          },
          "autotypenumbers": "strict",
          "coloraxis": {
           "colorbar": {
            "outlinewidth": 0,
            "ticks": ""
           }
          },
          "colorscale": {
           "diverging": [
            [
             0,
             "#8e0152"
            ],
            [
             0.1,
             "#c51b7d"
            ],
            [
             0.2,
             "#de77ae"
            ],
            [
             0.3,
             "#f1b6da"
            ],
            [
             0.4,
             "#fde0ef"
            ],
            [
             0.5,
             "#f7f7f7"
            ],
            [
             0.6,
             "#e6f5d0"
            ],
            [
             0.7,
             "#b8e186"
            ],
            [
             0.8,
             "#7fbc41"
            ],
            [
             0.9,
             "#4d9221"
            ],
            [
             1,
             "#276419"
            ]
           ],
           "sequential": [
            [
             0,
             "#0d0887"
            ],
            [
             0.1111111111111111,
             "#46039f"
            ],
            [
             0.2222222222222222,
             "#7201a8"
            ],
            [
             0.3333333333333333,
             "#9c179e"
            ],
            [
             0.4444444444444444,
             "#bd3786"
            ],
            [
             0.5555555555555556,
             "#d8576b"
            ],
            [
             0.6666666666666666,
             "#ed7953"
            ],
            [
             0.7777777777777778,
             "#fb9f3a"
            ],
            [
             0.8888888888888888,
             "#fdca26"
            ],
            [
             1,
             "#f0f921"
            ]
           ],
           "sequentialminus": [
            [
             0,
             "#0d0887"
            ],
            [
             0.1111111111111111,
             "#46039f"
            ],
            [
             0.2222222222222222,
             "#7201a8"
            ],
            [
             0.3333333333333333,
             "#9c179e"
            ],
            [
             0.4444444444444444,
             "#bd3786"
            ],
            [
             0.5555555555555556,
             "#d8576b"
            ],
            [
             0.6666666666666666,
             "#ed7953"
            ],
            [
             0.7777777777777778,
             "#fb9f3a"
            ],
            [
             0.8888888888888888,
             "#fdca26"
            ],
            [
             1,
             "#f0f921"
            ]
           ]
          },
          "colorway": [
           "#636efa",
           "#EF553B",
           "#00cc96",
           "#ab63fa",
           "#FFA15A",
           "#19d3f3",
           "#FF6692",
           "#B6E880",
           "#FF97FF",
           "#FECB52"
          ],
          "font": {
           "color": "#2a3f5f"
          },
          "geo": {
           "bgcolor": "white",
           "lakecolor": "white",
           "landcolor": "#E5ECF6",
           "showlakes": true,
           "showland": true,
           "subunitcolor": "white"
          },
          "hoverlabel": {
           "align": "left"
          },
          "hovermode": "closest",
          "mapbox": {
           "style": "light"
          },
          "paper_bgcolor": "white",
          "plot_bgcolor": "#E5ECF6",
          "polar": {
           "angularaxis": {
            "gridcolor": "white",
            "linecolor": "white",
            "ticks": ""
           },
           "bgcolor": "#E5ECF6",
           "radialaxis": {
            "gridcolor": "white",
            "linecolor": "white",
            "ticks": ""
           }
          },
          "scene": {
           "xaxis": {
            "backgroundcolor": "#E5ECF6",
            "gridcolor": "white",
            "gridwidth": 2,
            "linecolor": "white",
            "showbackground": true,
            "ticks": "",
            "zerolinecolor": "white"
           },
           "yaxis": {
            "backgroundcolor": "#E5ECF6",
            "gridcolor": "white",
            "gridwidth": 2,
            "linecolor": "white",
            "showbackground": true,
            "ticks": "",
            "zerolinecolor": "white"
           },
           "zaxis": {
            "backgroundcolor": "#E5ECF6",
            "gridcolor": "white",
            "gridwidth": 2,
            "linecolor": "white",
            "showbackground": true,
            "ticks": "",
            "zerolinecolor": "white"
           }
          },
          "shapedefaults": {
           "line": {
            "color": "#2a3f5f"
           }
          },
          "ternary": {
           "aaxis": {
            "gridcolor": "white",
            "linecolor": "white",
            "ticks": ""
           },
           "baxis": {
            "gridcolor": "white",
            "linecolor": "white",
            "ticks": ""
           },
           "bgcolor": "#E5ECF6",
           "caxis": {
            "gridcolor": "white",
            "linecolor": "white",
            "ticks": ""
           }
          },
          "title": {
           "x": 0.05
          },
          "xaxis": {
           "automargin": true,
           "gridcolor": "white",
           "linecolor": "white",
           "ticks": "",
           "title": {
            "standoff": 15
           },
           "zerolinecolor": "white",
           "zerolinewidth": 2
          },
          "yaxis": {
           "automargin": true,
           "gridcolor": "white",
           "linecolor": "white",
           "ticks": "",
           "title": {
            "standoff": 15
           },
           "zerolinecolor": "white",
           "zerolinewidth": 2
          }
         }
        },
        "title": {
         "text": "Countries' GDP in 2020"
        },
        "xaxis": {
         "anchor": "y",
         "autorange": true,
         "domain": [
          0,
          1
         ],
         "range": [
          -0.5,
          4.5
         ],
         "title": {
          "text": "Country Name"
         },
         "type": "category"
        },
        "yaxis": {
         "anchor": "x",
         "autorange": true,
         "domain": [
          0,
          1
         ],
         "range": [
          9.986147335300611,
          13.495482092502696
         ],
         "title": {
          "text": "2020 GDP"
         },
         "type": "log"
        }
       }
      },
      "image/png": "[encoded data removed]",
      "text/html": [
       "<div>                            <div id=\"ba2a164a-a2d2-4b0f-ac41-345cbdc381b2\" class=\"plotly-graph-div\" style=\"height:525px; width:100%;\"></div>            <script type=\"text/javascript\">                require([\"plotly\"], function(Plotly) {                    window.PLOTLYENV=window.PLOTLYENV || {};                                    if (document.getElementById(\"ba2a164a-a2d2-4b0f-ac41-345cbdc381b2\")) {                    Plotly.newPlot(                        \"ba2a164a-a2d2-4b0f-ac41-345cbdc381b2\",                        [{\"alignmentgroup\":\"True\",\"hovertemplate\":\"Country Name=%{x}<br>2020=%{y}<extra></extra>\",\"legendgroup\":\"\",\"marker\":{\"color\":\"#636efa\",\"pattern\":{\"shape\":\"\"}},\"name\":\"\",\"offsetgroup\":\"\",\"orientation\":\"v\",\"showlegend\":false,\"textposition\":\"auto\",\"x\":[\"Haiti\",\"Honduras\",\"Japan\",\"China\",\"United States\"],\"xaxis\":\"x\",\"y\":[14508218017.0,23827840810.0,5040110000000.0,14687700000000.0,20893700000000.0],\"yaxis\":\"y\",\"type\":\"bar\"}],                        {\"template\":{\"data\":{\"bar\":[{\"error_x\":{\"color\":\"#2a3f5f\"},\"error_y\":{\"color\":\"#2a3f5f\"},\"marker\":{\"line\":{\"color\":\"#E5ECF6\",\"width\":0.5},\"pattern\":{\"fillmode\":\"overlay\",\"size\":10,\"solidity\":0.2}},\"type\":\"bar\"}],\"barpolar\":[{\"marker\":{\"line\":{\"color\":\"#E5ECF6\",\"width\":0.5},\"pattern\":{\"fillmode\":\"overlay\",\"size\":10,\"solidity\":0.2}},\"type\":\"barpolar\"}],\"carpet\":[{\"aaxis\":{\"endlinecolor\":\"#2a3f5f\",\"gridcolor\":\"white\",\"linecolor\":\"white\",\"minorgridcolor\":\"white\",\"startlinecolor\":\"#2a3f5f\"},\"baxis\":{\"endlinecolor\":\"#2a3f5f\",\"gridcolor\":\"white\",\"linecolor\":\"white\",\"minorgridcolor\":\"white\",\"startlinecolor\":\"#2a3f5f\"},\"type\":\"carpet\"}],\"choropleth\":[{\"colorbar\":{\"outlinewidth\":0,\"ticks\":\"\"},\"type\":\"choropleth\"}],\"contour\":[{\"colorbar\":{\"outlinewidth\":0,\"ticks\":\"\"},\"colorscale\":[[0.0,\"#0d0887\"],[0.1111111111111111,\"#46039f\"],[0.2222222222222222,\"#7201a8\"],[0.3333333333333333,\"#9c179e\"],[0.4444444444444444,\"#bd3786\"],[0.5555555555555556,\"#d8576b\"],[0.6666666666666666,\"#ed7953\"],[0.7777777777777778,\"#fb9f3a\"],[0.8888888888888888,\"#fdca26\"],[1.0,\"#f0f921\"]],\"type\":\"contour\"}],\"contourcarpet\":[{\"colorbar\":{\"outlinewidth\":0,\"ticks\":\"\"},\"type\":\"contourcarpet\"}],\"heatmap\":[{\"colorbar\":{\"outlinewidth\":0,\"ticks\":\"\"},\"colorscale\":[[0.0,\"#0d0887\"],[0.1111111111111111,\"#46039f\"],[0.2222222222222222,\"#7201a8\"],[0.3333333333333333,\"#9c179e\"],[0.4444444444444444,\"#bd3786\"],[0.5555555555555556,\"#d8576b\"],[0.6666666666666666,\"#ed7953\"],[0.7777777777777778,\"#fb9f3a\"],[0.8888888888888888,\"#fdca26\"],[1.0,\"#f0f921\"]],\"type\":\"heatmap\"}],\"heatmapgl\":[{\"colorbar\":{\"outlinewidth\":0,\"ticks\":\"\"},\"colorscale\":[[0.0,\"#0d0887\"],[0.1111111111111111,\"#46039f\"],[0.2222222222222222,\"#7201a8\"],[0.3333333333333333,\"#9c179e\"],[0.4444444444444444,\"#bd3786\"],[0.5555555555555556,\"#d8576b\"],[0.6666666666666666,\"#ed7953\"],[0.7777777777777778,\"#fb9f3a\"],[0.8888888888888888,\"#fdca26\"],[1.0,\"#f0f921\"]],\"type\":\"heatmapgl\"}],\"histogram\":[{\"marker\":{\"pattern\":{\"fillmode\":\"overlay\",\"size\":10,\"solidity\":0.2}},\"type\":\"histogram\"}],\"histogram2d\":[{\"colorbar\":{\"outlinewidth\":0,\"ticks\":\"\"},\"colorscale\":[[0.0,\"#0d0887\"],[0.1111111111111111,\"#46039f\"],[0.2222222222222222,\"#7201a8\"],[0.3333333333333333,\"#9c179e\"],[0.4444444444444444,\"#bd3786\"],[0.5555555555555556,\"#d8576b\"],[0.6666666666666666,\"#ed7953\"],[0.7777777777777778,\"#fb9f3a\"],[0.8888888888888888,\"#fdca26\"],[1.0,\"#f0f921\"]],\"type\":\"histogram2d\"}],\"histogram2dcontour\":[{\"colorbar\":{\"outlinewidth\":0,\"ticks\":\"\"},\"colorscale\":[[0.0,\"#0d0887\"],[0.1111111111111111,\"#46039f\"],[0.2222222222222222,\"#7201a8\"],[0.3333333333333333,\"#9c179e\"],[0.4444444444444444,\"#bd3786\"],[0.5555555555555556,\"#d8576b\"],[0.6666666666666666,\"#ed7953\"],[0.7777777777777778,\"#fb9f3a\"],[0.8888888888888888,\"#fdca26\"],[1.0,\"#f0f921\"]],\"type\":\"histogram2dcontour\"}],\"mesh3d\":[{\"colorbar\":{\"outlinewidth\":0,\"ticks\":\"\"},\"type\":\"mesh3d\"}],\"parcoords\":[{\"line\":{\"colorbar\":{\"outlinewidth\":0,\"ticks\":\"\"}},\"type\":\"parcoords\"}],\"pie\":[{\"automargin\":true,\"type\":\"pie\"}],\"scatter\":[{\"marker\":{\"colorbar\":{\"outlinewidth\":0,\"ticks\":\"\"}},\"type\":\"scatter\"}],\"scatter3d\":[{\"line\":{\"colorbar\":{\"outlinewidth\":0,\"ticks\":\"\"}},\"marker\":{\"colorbar\":{\"outlinewidth\":0,\"ticks\":\"\"}},\"type\":\"scatter3d\"}],\"scattercarpet\":[{\"marker\":{\"colorbar\":{\"outlinewidth\":0,\"ticks\":\"\"}},\"type\":\"scattercarpet\"}],\"scattergeo\":[{\"marker\":{\"colorbar\":{\"outlinewidth\":0,\"ticks\":\"\"}},\"type\":\"scattergeo\"}],\"scattergl\":[{\"marker\":{\"colorbar\":{\"outlinewidth\":0,\"ticks\":\"\"}},\"type\":\"scattergl\"}],\"scattermapbox\":[{\"marker\":{\"colorbar\":{\"outlinewidth\":0,\"ticks\":\"\"}},\"type\":\"scattermapbox\"}],\"scatterpolar\":[{\"marker\":{\"colorbar\":{\"outlinewidth\":0,\"ticks\":\"\"}},\"type\":\"scatterpolar\"}],\"scatterpolargl\":[{\"marker\":{\"colorbar\":{\"outlinewidth\":0,\"ticks\":\"\"}},\"type\":\"scatterpolargl\"}],\"scatterternary\":[{\"marker\":{\"colorbar\":{\"outlinewidth\":0,\"ticks\":\"\"}},\"type\":\"scatterternary\"}],\"surface\":[{\"colorbar\":{\"outlinewidth\":0,\"ticks\":\"\"},\"colorscale\":[[0.0,\"#0d0887\"],[0.1111111111111111,\"#46039f\"],[0.2222222222222222,\"#7201a8\"],[0.3333333333333333,\"#9c179e\"],[0.4444444444444444,\"#bd3786\"],[0.5555555555555556,\"#d8576b\"],[0.6666666666666666,\"#ed7953\"],[0.7777777777777778,\"#fb9f3a\"],[0.8888888888888888,\"#fdca26\"],[1.0,\"#f0f921\"]],\"type\":\"surface\"}],\"table\":[{\"cells\":{\"fill\":{\"color\":\"#EBF0F8\"},\"line\":{\"color\":\"white\"}},\"header\":{\"fill\":{\"color\":\"#C8D4E3\"},\"line\":{\"color\":\"white\"}},\"type\":\"table\"}]},\"layout\":{\"annotationdefaults\":{\"arrowcolor\":\"#2a3f5f\",\"arrowhead\":0,\"arrowwidth\":1},\"autotypenumbers\":\"strict\",\"coloraxis\":{\"colorbar\":{\"outlinewidth\":0,\"ticks\":\"\"}},\"colorscale\":{\"diverging\":[[0,\"#8e0152\"],[0.1,\"#c51b7d\"],[0.2,\"#de77ae\"],[0.3,\"#f1b6da\"],[0.4,\"#fde0ef\"],[0.5,\"#f7f7f7\"],[0.6,\"#e6f5d0\"],[0.7,\"#b8e186\"],[0.8,\"#7fbc41\"],[0.9,\"#4d9221\"],[1,\"#276419\"]],\"sequential\":[[0.0,\"#0d0887\"],[0.1111111111111111,\"#46039f\"],[0.2222222222222222,\"#7201a8\"],[0.3333333333333333,\"#9c179e\"],[0.4444444444444444,\"#bd3786\"],[0.5555555555555556,\"#d8576b\"],[0.6666666666666666,\"#ed7953\"],[0.7777777777777778,\"#fb9f3a\"],[0.8888888888888888,\"#fdca26\"],[1.0,\"#f0f921\"]],\"sequentialminus\":[[0.0,\"#0d0887\"],[0.1111111111111111,\"#46039f\"],[0.2222222222222222,\"#7201a8\"],[0.3333333333333333,\"#9c179e\"],[0.4444444444444444,\"#bd3786\"],[0.5555555555555556,\"#d8576b\"],[0.6666666666666666,\"#ed7953\"],[0.7777777777777778,\"#fb9f3a\"],[0.8888888888888888,\"#fdca26\"],[1.0,\"#f0f921\"]]},\"colorway\":[\"#636efa\",\"#EF553B\",\"#00cc96\",\"#ab63fa\",\"#FFA15A\",\"#19d3f3\",\"#FF6692\",\"#B6E880\",\"#FF97FF\",\"#FECB52\"],\"font\":{\"color\":\"#2a3f5f\"},\"geo\":{\"bgcolor\":\"white\",\"lakecolor\":\"white\",\"landcolor\":\"#E5ECF6\",\"showlakes\":true,\"showland\":true,\"subunitcolor\":\"white\"},\"hoverlabel\":{\"align\":\"left\"},\"hovermode\":\"closest\",\"mapbox\":{\"style\":\"light\"},\"paper_bgcolor\":\"white\",\"plot_bgcolor\":\"#E5ECF6\",\"polar\":{\"angularaxis\":{\"gridcolor\":\"white\",\"linecolor\":\"white\",\"ticks\":\"\"},\"bgcolor\":\"#E5ECF6\",\"radialaxis\":{\"gridcolor\":\"white\",\"linecolor\":\"white\",\"ticks\":\"\"}},\"scene\":{\"xaxis\":{\"backgroundcolor\":\"#E5ECF6\",\"gridcolor\":\"white\",\"gridwidth\":2,\"linecolor\":\"white\",\"showbackground\":true,\"ticks\":\"\",\"zerolinecolor\":\"white\"},\"yaxis\":{\"backgroundcolor\":\"#E5ECF6\",\"gridcolor\":\"white\",\"gridwidth\":2,\"linecolor\":\"white\",\"showbackground\":true,\"ticks\":\"\",\"zerolinecolor\":\"white\"},\"zaxis\":{\"backgroundcolor\":\"#E5ECF6\",\"gridcolor\":\"white\",\"gridwidth\":2,\"linecolor\":\"white\",\"showbackground\":true,\"ticks\":\"\",\"zerolinecolor\":\"white\"}},\"shapedefaults\":{\"line\":{\"color\":\"#2a3f5f\"}},\"ternary\":{\"aaxis\":{\"gridcolor\":\"white\",\"linecolor\":\"white\",\"ticks\":\"\"},\"baxis\":{\"gridcolor\":\"white\",\"linecolor\":\"white\",\"ticks\":\"\"},\"bgcolor\":\"#E5ECF6\",\"caxis\":{\"gridcolor\":\"white\",\"linecolor\":\"white\",\"ticks\":\"\"}},\"title\":{\"x\":0.05},\"xaxis\":{\"automargin\":true,\"gridcolor\":\"white\",\"linecolor\":\"white\",\"ticks\":\"\",\"title\":{\"standoff\":15},\"zerolinecolor\":\"white\",\"zerolinewidth\":2},\"yaxis\":{\"automargin\":true,\"gridcolor\":\"white\",\"linecolor\":\"white\",\"ticks\":\"\",\"title\":{\"standoff\":15},\"zerolinecolor\":\"white\",\"zerolinewidth\":2}}},\"xaxis\":{\"anchor\":\"y\",\"domain\":[0.0,1.0],\"title\":{\"text\":\"Country Name\"}},\"yaxis\":{\"anchor\":\"x\",\"domain\":[0.0,1.0],\"title\":{\"text\":\"2020 GDP\"},\"type\":\"log\"},\"legend\":{\"tracegroupgap\":0},\"title\":{\"text\":\"Countries' GDP in 2020\"},\"barmode\":\"relative\"},                        {\"responsive\": true}                    ).then(function(){\n",
       "                            \n",
       "var gd = document.getElementById('ba2a164a-a2d2-4b0f-ac41-345cbdc381b2');\n",
       "var x = new MutationObserver(function (mutations, observer) {{\n",
       "        var display = window.getComputedStyle(gd).display;\n",
       "        if (!display || display === 'none') {{\n",
       "            console.log([gd, 'removed!']);\n",
       "            Plotly.purge(gd);\n",
       "            observer.disconnect();\n",
       "        }}\n",
       "}});\n",
       "\n",
       "// Listen for the removal of the full notebook cells\n",
       "var notebookContainer = gd.closest('#notebook-container');\n",
       "if (notebookContainer) {{\n",
       "    x.observe(notebookContainer, {childList: true});\n",
       "}}\n",
       "\n",
       "// Listen for the clearing of the current output cell\n",
       "var outputEl = gd.closest('.output');\n",
       "if (outputEl) {{\n",
       "    x.observe(outputEl, {childList: true});\n",
       "}}\n",
       "\n",
       "                        })                };                });            </script>        </div>"
      ]
     },
     "metadata": {},
     "output_type": "display_data"
    }
   ],
   "source": [
    "# Plot an interactive bar chart\n",
    "fig = px.bar(data_selected, x='Country Name', y='2020', \n",
    "             title=\"Countries' GDP in 2020\", log_y=True)\n",
    "fig.update_yaxes(title='2020 GDP')\n",
    "fig.show()"
   ]
  },
  {
   "cell_type": "markdown",
   "id": "2353e35a-a4d2-441c-824c-1c17f407a69a",
   "metadata": {},
   "source": [
    "The two figures below show how 2020 global GDP are distributed by region and income level. Run these cells to see the pie charts showing the percentages. Hovering each section shows you the GDP and the number of countries in each region or income level."
   ]
  },
  {
   "cell_type": "code",
   "execution_count": 81,
   "id": "9f5d0b01-b73a-4f56-8e56-1da91f126043",
   "metadata": {},
   "outputs": [],
   "source": [
    "data = pd.read_csv('Files/GDP_region.csv')"
   ]
  },
  {
   "cell_type": "code",
   "execution_count": 82,
   "id": "fcdb1ae0-17cb-401d-a82b-fcc58049bb7a",
   "metadata": {},
   "outputs": [
    {
     "data": {
      "application/vnd.plotly.v1+json": {
       "config": {
        "plotlyServerURL": "https://plot.ly"
       },
       "data": [
        {
         "customdata": [
          [
           37
          ],
          [
           58
          ],
          [
           42
          ],
          [
           21
          ],
          [
           3
          ],
          [
           8
          ],
          [
           48
          ]
         ],
         "domain": {
          "x": [
           0,
           1
          ],
          "y": [
           0,
           1
          ]
         },
         "hovertemplate": "Region=%{label}<br>GDP=%{value}<br>Number of Countries=%{customdata[0]}<extra></extra>",
         "labels": [
          "East Asia & Pacific",
          "Europe & Central Asia",
          "Latin America & Caribbean",
          "Middle East & North Africa",
          "North America",
          "South Asia",
          "Sub-Saharan Africa"
         ],
         "legendgroup": "",
         "name": "",
         "showlegend": true,
         "type": "pie",
         "values": [
          27118700000000,
          22133900000000,
          4743150000000,
          3106900000000,
          22546000000000,
          3482470000000,
          1706090000000
         ]
        }
       ],
       "layout": {
        "autosize": true,
        "legend": {
         "tracegroupgap": 0
        },
        "template": {
         "data": {
          "bar": [
           {
            "error_x": {
             "color": "#2a3f5f"
            },
            "error_y": {
             "color": "#2a3f5f"
            },
            "marker": {
             "line": {
              "color": "#E5ECF6",
              "width": 0.5
             },
             "pattern": {
              "fillmode": "overlay",
              "size": 10,
              "solidity": 0.2
             }
            },
            "type": "bar"
           }
          ],
          "barpolar": [
           {
            "marker": {
             "line": {
              "color": "#E5ECF6",
              "width": 0.5
             },
             "pattern": {
              "fillmode": "overlay",
              "size": 10,
              "solidity": 0.2
             }
            },
            "type": "barpolar"
           }
          ],
          "carpet": [
           {
            "aaxis": {
             "endlinecolor": "#2a3f5f",
             "gridcolor": "white",
             "linecolor": "white",
             "minorgridcolor": "white",
             "startlinecolor": "#2a3f5f"
            },
            "baxis": {
             "endlinecolor": "#2a3f5f",
             "gridcolor": "white",
             "linecolor": "white",
             "minorgridcolor": "white",
             "startlinecolor": "#2a3f5f"
            },
            "type": "carpet"
           }
          ],
          "choropleth": [
           {
            "colorbar": {
             "outlinewidth": 0,
             "ticks": ""
            },
            "type": "choropleth"
           }
          ],
          "contour": [
           {
            "colorbar": {
             "outlinewidth": 0,
             "ticks": ""
            },
            "colorscale": [
             [
              0,
              "#0d0887"
             ],
             [
              0.1111111111111111,
              "#46039f"
             ],
             [
              0.2222222222222222,
              "#7201a8"
             ],
             [
              0.3333333333333333,
              "#9c179e"
             ],
             [
              0.4444444444444444,
              "#bd3786"
             ],
             [
              0.5555555555555556,
              "#d8576b"
             ],
             [
              0.6666666666666666,
              "#ed7953"
             ],
             [
              0.7777777777777778,
              "#fb9f3a"
             ],
             [
              0.8888888888888888,
              "#fdca26"
             ],
             [
              1,
              "#f0f921"
             ]
            ],
            "type": "contour"
           }
          ],
          "contourcarpet": [
           {
            "colorbar": {
             "outlinewidth": 0,
             "ticks": ""
            },
            "type": "contourcarpet"
           }
          ],
          "heatmap": [
           {
            "colorbar": {
             "outlinewidth": 0,
             "ticks": ""
            },
            "colorscale": [
             [
              0,
              "#0d0887"
             ],
             [
              0.1111111111111111,
              "#46039f"
             ],
             [
              0.2222222222222222,
              "#7201a8"
             ],
             [
              0.3333333333333333,
              "#9c179e"
             ],
             [
              0.4444444444444444,
              "#bd3786"
             ],
             [
              0.5555555555555556,
              "#d8576b"
             ],
             [
              0.6666666666666666,
              "#ed7953"
             ],
             [
              0.7777777777777778,
              "#fb9f3a"
             ],
             [
              0.8888888888888888,
              "#fdca26"
             ],
             [
              1,
              "#f0f921"
             ]
            ],
            "type": "heatmap"
           }
          ],
          "heatmapgl": [
           {
            "colorbar": {
             "outlinewidth": 0,
             "ticks": ""
            },
            "colorscale": [
             [
              0,
              "#0d0887"
             ],
             [
              0.1111111111111111,
              "#46039f"
             ],
             [
              0.2222222222222222,
              "#7201a8"
             ],
             [
              0.3333333333333333,
              "#9c179e"
             ],
             [
              0.4444444444444444,
              "#bd3786"
             ],
             [
              0.5555555555555556,
              "#d8576b"
             ],
             [
              0.6666666666666666,
              "#ed7953"
             ],
             [
              0.7777777777777778,
              "#fb9f3a"
             ],
             [
              0.8888888888888888,
              "#fdca26"
             ],
             [
              1,
              "#f0f921"
             ]
            ],
            "type": "heatmapgl"
           }
          ],
          "histogram": [
           {
            "marker": {
             "pattern": {
              "fillmode": "overlay",
              "size": 10,
              "solidity": 0.2
             }
            },
            "type": "histogram"
           }
          ],
          "histogram2d": [
           {
            "colorbar": {
             "outlinewidth": 0,
             "ticks": ""
            },
            "colorscale": [
             [
              0,
              "#0d0887"
             ],
             [
              0.1111111111111111,
              "#46039f"
             ],
             [
              0.2222222222222222,
              "#7201a8"
             ],
             [
              0.3333333333333333,
              "#9c179e"
             ],
             [
              0.4444444444444444,
              "#bd3786"
             ],
             [
              0.5555555555555556,
              "#d8576b"
             ],
             [
              0.6666666666666666,
              "#ed7953"
             ],
             [
              0.7777777777777778,
              "#fb9f3a"
             ],
             [
              0.8888888888888888,
              "#fdca26"
             ],
             [
              1,
              "#f0f921"
             ]
            ],
            "type": "histogram2d"
           }
          ],
          "histogram2dcontour": [
           {
            "colorbar": {
             "outlinewidth": 0,
             "ticks": ""
            },
            "colorscale": [
             [
              0,
              "#0d0887"
             ],
             [
              0.1111111111111111,
              "#46039f"
             ],
             [
              0.2222222222222222,
              "#7201a8"
             ],
             [
              0.3333333333333333,
              "#9c179e"
             ],
             [
              0.4444444444444444,
              "#bd3786"
             ],
             [
              0.5555555555555556,
              "#d8576b"
             ],
             [
              0.6666666666666666,
              "#ed7953"
             ],
             [
              0.7777777777777778,
              "#fb9f3a"
             ],
             [
              0.8888888888888888,
              "#fdca26"
             ],
             [
              1,
              "#f0f921"
             ]
            ],
            "type": "histogram2dcontour"
           }
          ],
          "mesh3d": [
           {
            "colorbar": {
             "outlinewidth": 0,
             "ticks": ""
            },
            "type": "mesh3d"
           }
          ],
          "parcoords": [
           {
            "line": {
             "colorbar": {
              "outlinewidth": 0,
              "ticks": ""
             }
            },
            "type": "parcoords"
           }
          ],
          "pie": [
           {
            "automargin": true,
            "type": "pie"
           }
          ],
          "scatter": [
           {
            "marker": {
             "colorbar": {
              "outlinewidth": 0,
              "ticks": ""
             }
            },
            "type": "scatter"
           }
          ],
          "scatter3d": [
           {
            "line": {
             "colorbar": {
              "outlinewidth": 0,
              "ticks": ""
             }
            },
            "marker": {
             "colorbar": {
              "outlinewidth": 0,
              "ticks": ""
             }
            },
            "type": "scatter3d"
           }
          ],
          "scattercarpet": [
           {
            "marker": {
             "colorbar": {
              "outlinewidth": 0,
              "ticks": ""
             }
            },
            "type": "scattercarpet"
           }
          ],
          "scattergeo": [
           {
            "marker": {
             "colorbar": {
              "outlinewidth": 0,
              "ticks": ""
             }
            },
            "type": "scattergeo"
           }
          ],
          "scattergl": [
           {
            "marker": {
             "colorbar": {
              "outlinewidth": 0,
              "ticks": ""
             }
            },
            "type": "scattergl"
           }
          ],
          "scattermapbox": [
           {
            "marker": {
             "colorbar": {
              "outlinewidth": 0,
              "ticks": ""
             }
            },
            "type": "scattermapbox"
           }
          ],
          "scatterpolar": [
           {
            "marker": {
             "colorbar": {
              "outlinewidth": 0,
              "ticks": ""
             }
            },
            "type": "scatterpolar"
           }
          ],
          "scatterpolargl": [
           {
            "marker": {
             "colorbar": {
              "outlinewidth": 0,
              "ticks": ""
             }
            },
            "type": "scatterpolargl"
           }
          ],
          "scatterternary": [
           {
            "marker": {
             "colorbar": {
              "outlinewidth": 0,
              "ticks": ""
             }
            },
            "type": "scatterternary"
           }
          ],
          "surface": [
           {
            "colorbar": {
             "outlinewidth": 0,
             "ticks": ""
            },
            "colorscale": [
             [
              0,
              "#0d0887"
             ],
             [
              0.1111111111111111,
              "#46039f"
             ],
             [
              0.2222222222222222,
              "#7201a8"
             ],
             [
              0.3333333333333333,
              "#9c179e"
             ],
             [
              0.4444444444444444,
              "#bd3786"
             ],
             [
              0.5555555555555556,
              "#d8576b"
             ],
             [
              0.6666666666666666,
              "#ed7953"
             ],
             [
              0.7777777777777778,
              "#fb9f3a"
             ],
             [
              0.8888888888888888,
              "#fdca26"
             ],
             [
              1,
              "#f0f921"
             ]
            ],
            "type": "surface"
           }
          ],
          "table": [
           {
            "cells": {
             "fill": {
              "color": "#EBF0F8"
             },
             "line": {
              "color": "white"
             }
            },
            "header": {
             "fill": {
              "color": "#C8D4E3"
             },
             "line": {
              "color": "white"
             }
            },
            "type": "table"
           }
          ]
         },
         "layout": {
          "annotationdefaults": {
           "arrowcolor": "#2a3f5f",
           "arrowhead": 0,
           "arrowwidth": 1
          },
          "autotypenumbers": "strict",
          "coloraxis": {
           "colorbar": {
            "outlinewidth": 0,
            "ticks": ""
           }
          },
          "colorscale": {
           "diverging": [
            [
             0,
             "#8e0152"
            ],
            [
             0.1,
             "#c51b7d"
            ],
            [
             0.2,
             "#de77ae"
            ],
            [
             0.3,
             "#f1b6da"
            ],
            [
             0.4,
             "#fde0ef"
            ],
            [
             0.5,
             "#f7f7f7"
            ],
            [
             0.6,
             "#e6f5d0"
            ],
            [
             0.7,
             "#b8e186"
            ],
            [
             0.8,
             "#7fbc41"
            ],
            [
             0.9,
             "#4d9221"
            ],
            [
             1,
             "#276419"
            ]
           ],
           "sequential": [
            [
             0,
             "#0d0887"
            ],
            [
             0.1111111111111111,
             "#46039f"
            ],
            [
             0.2222222222222222,
             "#7201a8"
            ],
            [
             0.3333333333333333,
             "#9c179e"
            ],
            [
             0.4444444444444444,
             "#bd3786"
            ],
            [
             0.5555555555555556,
             "#d8576b"
            ],
            [
             0.6666666666666666,
             "#ed7953"
            ],
            [
             0.7777777777777778,
             "#fb9f3a"
            ],
            [
             0.8888888888888888,
             "#fdca26"
            ],
            [
             1,
             "#f0f921"
            ]
           ],
           "sequentialminus": [
            [
             0,
             "#0d0887"
            ],
            [
             0.1111111111111111,
             "#46039f"
            ],
            [
             0.2222222222222222,
             "#7201a8"
            ],
            [
             0.3333333333333333,
             "#9c179e"
            ],
            [
             0.4444444444444444,
             "#bd3786"
            ],
            [
             0.5555555555555556,
             "#d8576b"
            ],
            [
             0.6666666666666666,
             "#ed7953"
            ],
            [
             0.7777777777777778,
             "#fb9f3a"
            ],
            [
             0.8888888888888888,
             "#fdca26"
            ],
            [
             1,
             "#f0f921"
            ]
           ]
          },
          "colorway": [
           "#636efa",
           "#EF553B",
           "#00cc96",
           "#ab63fa",
           "#FFA15A",
           "#19d3f3",
           "#FF6692",
           "#B6E880",
           "#FF97FF",
           "#FECB52"
          ],
          "font": {
           "color": "#2a3f5f"
          },
          "geo": {
           "bgcolor": "white",
           "lakecolor": "white",
           "landcolor": "#E5ECF6",
           "showlakes": true,
           "showland": true,
           "subunitcolor": "white"
          },
          "hoverlabel": {
           "align": "left"
          },
          "hovermode": "closest",
          "mapbox": {
           "style": "light"
          },
          "paper_bgcolor": "white",
          "plot_bgcolor": "#E5ECF6",
          "polar": {
           "angularaxis": {
            "gridcolor": "white",
            "linecolor": "white",
            "ticks": ""
           },
           "bgcolor": "#E5ECF6",
           "radialaxis": {
            "gridcolor": "white",
            "linecolor": "white",
            "ticks": ""
           }
          },
          "scene": {
           "xaxis": {
            "backgroundcolor": "#E5ECF6",
            "gridcolor": "white",
            "gridwidth": 2,
            "linecolor": "white",
            "showbackground": true,
            "ticks": "",
            "zerolinecolor": "white"
           },
           "yaxis": {
            "backgroundcolor": "#E5ECF6",
            "gridcolor": "white",
            "gridwidth": 2,
            "linecolor": "white",
            "showbackground": true,
            "ticks": "",
            "zerolinecolor": "white"
           },
           "zaxis": {
            "backgroundcolor": "#E5ECF6",
            "gridcolor": "white",
            "gridwidth": 2,
            "linecolor": "white",
            "showbackground": true,
            "ticks": "",
            "zerolinecolor": "white"
           }
          },
          "shapedefaults": {
           "line": {
            "color": "#2a3f5f"
           }
          },
          "ternary": {
           "aaxis": {
            "gridcolor": "white",
            "linecolor": "white",
            "ticks": ""
           },
           "baxis": {
            "gridcolor": "white",
            "linecolor": "white",
            "ticks": ""
           },
           "bgcolor": "#E5ECF6",
           "caxis": {
            "gridcolor": "white",
            "linecolor": "white",
            "ticks": ""
           }
          },
          "title": {
           "x": 0.05
          },
          "xaxis": {
           "automargin": true,
           "gridcolor": "white",
           "linecolor": "white",
           "ticks": "",
           "title": {
            "standoff": 15
           },
           "zerolinecolor": "white",
           "zerolinewidth": 2
          },
          "yaxis": {
           "automargin": true,
           "gridcolor": "white",
           "linecolor": "white",
           "ticks": "",
           "title": {
            "standoff": 15
           },
           "zerolinecolor": "white",
           "zerolinewidth": 2
          }
         }
        },
        "title": {
         "text": "2020 GDP by Country's Region"
        }
       }
      },
      "image/png": "[encoded data removed]",
      "text/html": [
       "<div>                            <div id=\"eed70706-f017-4ebe-b333-5af1aa43da0b\" class=\"plotly-graph-div\" style=\"height:525px; width:100%;\"></div>            <script type=\"text/javascript\">                require([\"plotly\"], function(Plotly) {                    window.PLOTLYENV=window.PLOTLYENV || {};                                    if (document.getElementById(\"eed70706-f017-4ebe-b333-5af1aa43da0b\")) {                    Plotly.newPlot(                        \"eed70706-f017-4ebe-b333-5af1aa43da0b\",                        [{\"customdata\":[[37],[58],[42],[21],[3],[8],[48]],\"domain\":{\"x\":[0.0,1.0],\"y\":[0.0,1.0]},\"hovertemplate\":\"Region=%{label}<br>GDP=%{value}<br>Number of Countries=%{customdata[0]}<extra></extra>\",\"labels\":[\"East Asia & Pacific\",\"Europe & Central Asia\",\"Latin America & Caribbean\",\"Middle East & North Africa\",\"North America\",\"South Asia\",\"Sub-Saharan Africa\"],\"legendgroup\":\"\",\"name\":\"\",\"showlegend\":true,\"values\":[27118700000000.0,22133900000000.0,4743150000000.0,3106900000000.0,22546000000000.0,3482470000000.0,1706090000000.0],\"type\":\"pie\"}],                        {\"template\":{\"data\":{\"bar\":[{\"error_x\":{\"color\":\"#2a3f5f\"},\"error_y\":{\"color\":\"#2a3f5f\"},\"marker\":{\"line\":{\"color\":\"#E5ECF6\",\"width\":0.5},\"pattern\":{\"fillmode\":\"overlay\",\"size\":10,\"solidity\":0.2}},\"type\":\"bar\"}],\"barpolar\":[{\"marker\":{\"line\":{\"color\":\"#E5ECF6\",\"width\":0.5},\"pattern\":{\"fillmode\":\"overlay\",\"size\":10,\"solidity\":0.2}},\"type\":\"barpolar\"}],\"carpet\":[{\"aaxis\":{\"endlinecolor\":\"#2a3f5f\",\"gridcolor\":\"white\",\"linecolor\":\"white\",\"minorgridcolor\":\"white\",\"startlinecolor\":\"#2a3f5f\"},\"baxis\":{\"endlinecolor\":\"#2a3f5f\",\"gridcolor\":\"white\",\"linecolor\":\"white\",\"minorgridcolor\":\"white\",\"startlinecolor\":\"#2a3f5f\"},\"type\":\"carpet\"}],\"choropleth\":[{\"colorbar\":{\"outlinewidth\":0,\"ticks\":\"\"},\"type\":\"choropleth\"}],\"contour\":[{\"colorbar\":{\"outlinewidth\":0,\"ticks\":\"\"},\"colorscale\":[[0.0,\"#0d0887\"],[0.1111111111111111,\"#46039f\"],[0.2222222222222222,\"#7201a8\"],[0.3333333333333333,\"#9c179e\"],[0.4444444444444444,\"#bd3786\"],[0.5555555555555556,\"#d8576b\"],[0.6666666666666666,\"#ed7953\"],[0.7777777777777778,\"#fb9f3a\"],[0.8888888888888888,\"#fdca26\"],[1.0,\"#f0f921\"]],\"type\":\"contour\"}],\"contourcarpet\":[{\"colorbar\":{\"outlinewidth\":0,\"ticks\":\"\"},\"type\":\"contourcarpet\"}],\"heatmap\":[{\"colorbar\":{\"outlinewidth\":0,\"ticks\":\"\"},\"colorscale\":[[0.0,\"#0d0887\"],[0.1111111111111111,\"#46039f\"],[0.2222222222222222,\"#7201a8\"],[0.3333333333333333,\"#9c179e\"],[0.4444444444444444,\"#bd3786\"],[0.5555555555555556,\"#d8576b\"],[0.6666666666666666,\"#ed7953\"],[0.7777777777777778,\"#fb9f3a\"],[0.8888888888888888,\"#fdca26\"],[1.0,\"#f0f921\"]],\"type\":\"heatmap\"}],\"heatmapgl\":[{\"colorbar\":{\"outlinewidth\":0,\"ticks\":\"\"},\"colorscale\":[[0.0,\"#0d0887\"],[0.1111111111111111,\"#46039f\"],[0.2222222222222222,\"#7201a8\"],[0.3333333333333333,\"#9c179e\"],[0.4444444444444444,\"#bd3786\"],[0.5555555555555556,\"#d8576b\"],[0.6666666666666666,\"#ed7953\"],[0.7777777777777778,\"#fb9f3a\"],[0.8888888888888888,\"#fdca26\"],[1.0,\"#f0f921\"]],\"type\":\"heatmapgl\"}],\"histogram\":[{\"marker\":{\"pattern\":{\"fillmode\":\"overlay\",\"size\":10,\"solidity\":0.2}},\"type\":\"histogram\"}],\"histogram2d\":[{\"colorbar\":{\"outlinewidth\":0,\"ticks\":\"\"},\"colorscale\":[[0.0,\"#0d0887\"],[0.1111111111111111,\"#46039f\"],[0.2222222222222222,\"#7201a8\"],[0.3333333333333333,\"#9c179e\"],[0.4444444444444444,\"#bd3786\"],[0.5555555555555556,\"#d8576b\"],[0.6666666666666666,\"#ed7953\"],[0.7777777777777778,\"#fb9f3a\"],[0.8888888888888888,\"#fdca26\"],[1.0,\"#f0f921\"]],\"type\":\"histogram2d\"}],\"histogram2dcontour\":[{\"colorbar\":{\"outlinewidth\":0,\"ticks\":\"\"},\"colorscale\":[[0.0,\"#0d0887\"],[0.1111111111111111,\"#46039f\"],[0.2222222222222222,\"#7201a8\"],[0.3333333333333333,\"#9c179e\"],[0.4444444444444444,\"#bd3786\"],[0.5555555555555556,\"#d8576b\"],[0.6666666666666666,\"#ed7953\"],[0.7777777777777778,\"#fb9f3a\"],[0.8888888888888888,\"#fdca26\"],[1.0,\"#f0f921\"]],\"type\":\"histogram2dcontour\"}],\"mesh3d\":[{\"colorbar\":{\"outlinewidth\":0,\"ticks\":\"\"},\"type\":\"mesh3d\"}],\"parcoords\":[{\"line\":{\"colorbar\":{\"outlinewidth\":0,\"ticks\":\"\"}},\"type\":\"parcoords\"}],\"pie\":[{\"automargin\":true,\"type\":\"pie\"}],\"scatter\":[{\"marker\":{\"colorbar\":{\"outlinewidth\":0,\"ticks\":\"\"}},\"type\":\"scatter\"}],\"scatter3d\":[{\"line\":{\"colorbar\":{\"outlinewidth\":0,\"ticks\":\"\"}},\"marker\":{\"colorbar\":{\"outlinewidth\":0,\"ticks\":\"\"}},\"type\":\"scatter3d\"}],\"scattercarpet\":[{\"marker\":{\"colorbar\":{\"outlinewidth\":0,\"ticks\":\"\"}},\"type\":\"scattercarpet\"}],\"scattergeo\":[{\"marker\":{\"colorbar\":{\"outlinewidth\":0,\"ticks\":\"\"}},\"type\":\"scattergeo\"}],\"scattergl\":[{\"marker\":{\"colorbar\":{\"outlinewidth\":0,\"ticks\":\"\"}},\"type\":\"scattergl\"}],\"scattermapbox\":[{\"marker\":{\"colorbar\":{\"outlinewidth\":0,\"ticks\":\"\"}},\"type\":\"scattermapbox\"}],\"scatterpolar\":[{\"marker\":{\"colorbar\":{\"outlinewidth\":0,\"ticks\":\"\"}},\"type\":\"scatterpolar\"}],\"scatterpolargl\":[{\"marker\":{\"colorbar\":{\"outlinewidth\":0,\"ticks\":\"\"}},\"type\":\"scatterpolargl\"}],\"scatterternary\":[{\"marker\":{\"colorbar\":{\"outlinewidth\":0,\"ticks\":\"\"}},\"type\":\"scatterternary\"}],\"surface\":[{\"colorbar\":{\"outlinewidth\":0,\"ticks\":\"\"},\"colorscale\":[[0.0,\"#0d0887\"],[0.1111111111111111,\"#46039f\"],[0.2222222222222222,\"#7201a8\"],[0.3333333333333333,\"#9c179e\"],[0.4444444444444444,\"#bd3786\"],[0.5555555555555556,\"#d8576b\"],[0.6666666666666666,\"#ed7953\"],[0.7777777777777778,\"#fb9f3a\"],[0.8888888888888888,\"#fdca26\"],[1.0,\"#f0f921\"]],\"type\":\"surface\"}],\"table\":[{\"cells\":{\"fill\":{\"color\":\"#EBF0F8\"},\"line\":{\"color\":\"white\"}},\"header\":{\"fill\":{\"color\":\"#C8D4E3\"},\"line\":{\"color\":\"white\"}},\"type\":\"table\"}]},\"layout\":{\"annotationdefaults\":{\"arrowcolor\":\"#2a3f5f\",\"arrowhead\":0,\"arrowwidth\":1},\"autotypenumbers\":\"strict\",\"coloraxis\":{\"colorbar\":{\"outlinewidth\":0,\"ticks\":\"\"}},\"colorscale\":{\"diverging\":[[0,\"#8e0152\"],[0.1,\"#c51b7d\"],[0.2,\"#de77ae\"],[0.3,\"#f1b6da\"],[0.4,\"#fde0ef\"],[0.5,\"#f7f7f7\"],[0.6,\"#e6f5d0\"],[0.7,\"#b8e186\"],[0.8,\"#7fbc41\"],[0.9,\"#4d9221\"],[1,\"#276419\"]],\"sequential\":[[0.0,\"#0d0887\"],[0.1111111111111111,\"#46039f\"],[0.2222222222222222,\"#7201a8\"],[0.3333333333333333,\"#9c179e\"],[0.4444444444444444,\"#bd3786\"],[0.5555555555555556,\"#d8576b\"],[0.6666666666666666,\"#ed7953\"],[0.7777777777777778,\"#fb9f3a\"],[0.8888888888888888,\"#fdca26\"],[1.0,\"#f0f921\"]],\"sequentialminus\":[[0.0,\"#0d0887\"],[0.1111111111111111,\"#46039f\"],[0.2222222222222222,\"#7201a8\"],[0.3333333333333333,\"#9c179e\"],[0.4444444444444444,\"#bd3786\"],[0.5555555555555556,\"#d8576b\"],[0.6666666666666666,\"#ed7953\"],[0.7777777777777778,\"#fb9f3a\"],[0.8888888888888888,\"#fdca26\"],[1.0,\"#f0f921\"]]},\"colorway\":[\"#636efa\",\"#EF553B\",\"#00cc96\",\"#ab63fa\",\"#FFA15A\",\"#19d3f3\",\"#FF6692\",\"#B6E880\",\"#FF97FF\",\"#FECB52\"],\"font\":{\"color\":\"#2a3f5f\"},\"geo\":{\"bgcolor\":\"white\",\"lakecolor\":\"white\",\"landcolor\":\"#E5ECF6\",\"showlakes\":true,\"showland\":true,\"subunitcolor\":\"white\"},\"hoverlabel\":{\"align\":\"left\"},\"hovermode\":\"closest\",\"mapbox\":{\"style\":\"light\"},\"paper_bgcolor\":\"white\",\"plot_bgcolor\":\"#E5ECF6\",\"polar\":{\"angularaxis\":{\"gridcolor\":\"white\",\"linecolor\":\"white\",\"ticks\":\"\"},\"bgcolor\":\"#E5ECF6\",\"radialaxis\":{\"gridcolor\":\"white\",\"linecolor\":\"white\",\"ticks\":\"\"}},\"scene\":{\"xaxis\":{\"backgroundcolor\":\"#E5ECF6\",\"gridcolor\":\"white\",\"gridwidth\":2,\"linecolor\":\"white\",\"showbackground\":true,\"ticks\":\"\",\"zerolinecolor\":\"white\"},\"yaxis\":{\"backgroundcolor\":\"#E5ECF6\",\"gridcolor\":\"white\",\"gridwidth\":2,\"linecolor\":\"white\",\"showbackground\":true,\"ticks\":\"\",\"zerolinecolor\":\"white\"},\"zaxis\":{\"backgroundcolor\":\"#E5ECF6\",\"gridcolor\":\"white\",\"gridwidth\":2,\"linecolor\":\"white\",\"showbackground\":true,\"ticks\":\"\",\"zerolinecolor\":\"white\"}},\"shapedefaults\":{\"line\":{\"color\":\"#2a3f5f\"}},\"ternary\":{\"aaxis\":{\"gridcolor\":\"white\",\"linecolor\":\"white\",\"ticks\":\"\"},\"baxis\":{\"gridcolor\":\"white\",\"linecolor\":\"white\",\"ticks\":\"\"},\"bgcolor\":\"#E5ECF6\",\"caxis\":{\"gridcolor\":\"white\",\"linecolor\":\"white\",\"ticks\":\"\"}},\"title\":{\"x\":0.05},\"xaxis\":{\"automargin\":true,\"gridcolor\":\"white\",\"linecolor\":\"white\",\"ticks\":\"\",\"title\":{\"standoff\":15},\"zerolinecolor\":\"white\",\"zerolinewidth\":2},\"yaxis\":{\"automargin\":true,\"gridcolor\":\"white\",\"linecolor\":\"white\",\"ticks\":\"\",\"title\":{\"standoff\":15},\"zerolinecolor\":\"white\",\"zerolinewidth\":2}}},\"legend\":{\"tracegroupgap\":0},\"title\":{\"text\":\"2020 GDP by Country's Region\"}},                        {\"responsive\": true}                    ).then(function(){\n",
       "                            \n",
       "var gd = document.getElementById('eed70706-f017-4ebe-b333-5af1aa43da0b');\n",
       "var x = new MutationObserver(function (mutations, observer) {{\n",
       "        var display = window.getComputedStyle(gd).display;\n",
       "        if (!display || display === 'none') {{\n",
       "            console.log([gd, 'removed!']);\n",
       "            Plotly.purge(gd);\n",
       "            observer.disconnect();\n",
       "        }}\n",
       "}});\n",
       "\n",
       "// Listen for the removal of the full notebook cells\n",
       "var notebookContainer = gd.closest('#notebook-container');\n",
       "if (notebookContainer) {{\n",
       "    x.observe(notebookContainer, {childList: true});\n",
       "}}\n",
       "\n",
       "// Listen for the clearing of the current output cell\n",
       "var outputEl = gd.closest('.output');\n",
       "if (outputEl) {{\n",
       "    x.observe(outputEl, {childList: true});\n",
       "}}\n",
       "\n",
       "                        })                };                });            </script>        </div>"
      ]
     },
     "metadata": {},
     "output_type": "display_data"
    }
   ],
   "source": [
    "fig = px.pie(data, values='2020', \n",
    "             names='Country Name', \n",
    "             title=\"2020 GDP by Country's Region\", \n",
    "             labels={'Country Name':'Region', \n",
    "                     '2020':'GDP', \n",
    "                     'Number of Countries':'Number of Countries'},\n",
    "             hover_data=['Number of Countries'])\n",
    "fig.show()"
   ]
  },
  {
   "cell_type": "code",
   "execution_count": 83,
   "id": "bbadbe9e-e75d-4c3e-8759-c28dedbcb59b",
   "metadata": {},
   "outputs": [],
   "source": [
    "import pandas as pd\n",
    "import numpy as np\n",
    "import plotly.express as px"
   ]
  },
  {
   "cell_type": "code",
   "execution_count": 84,
   "id": "37762072-095c-4c11-a1e8-0a0dc92dfd9b",
   "metadata": {},
   "outputs": [],
   "source": [
    "data = pd.read_csv('Files/GDP_income.csv')"
   ]
  },
  {
   "cell_type": "code",
   "execution_count": 85,
   "id": "8ada0f30-b971-4097-9072-f17b0649e5b1",
   "metadata": {},
   "outputs": [
    {
     "data": {
      "application/vnd.plotly.v1+json": {
       "config": {
        "plotlyServerURL": "https://plot.ly"
       },
       "data": [
        {
         "customdata": [
          [
           28
          ],
          [
           54
          ],
          [
           54
          ],
          [
           80
          ]
         ],
         "domain": {
          "x": [
           0,
           1
          ],
          "y": [
           0,
           1
          ]
         },
         "hovertemplate": "Income Level=%{label}<br>GDP=%{value}<br>Number of Countries=%{customdata[0]}<extra></extra>",
         "labels": [
          "Low income",
          "Lower middle income",
          "Upper middle income",
          "High income"
         ],
         "legendgroup": "",
         "name": "",
         "showlegend": true,
         "type": "pie",
         "values": [
          481025000000,
          7585550000000,
          22848300000000,
          53699800000000
         ]
        }
       ],
       "layout": {
        "autosize": true,
        "legend": {
         "tracegroupgap": 0
        },
        "template": {
         "data": {
          "bar": [
           {
            "error_x": {
             "color": "#2a3f5f"
            },
            "error_y": {
             "color": "#2a3f5f"
            },
            "marker": {
             "line": {
              "color": "#E5ECF6",
              "width": 0.5
             },
             "pattern": {
              "fillmode": "overlay",
              "size": 10,
              "solidity": 0.2
             }
            },
            "type": "bar"
           }
          ],
          "barpolar": [
           {
            "marker": {
             "line": {
              "color": "#E5ECF6",
              "width": 0.5
             },
             "pattern": {
              "fillmode": "overlay",
              "size": 10,
              "solidity": 0.2
             }
            },
            "type": "barpolar"
           }
          ],
          "carpet": [
           {
            "aaxis": {
             "endlinecolor": "#2a3f5f",
             "gridcolor": "white",
             "linecolor": "white",
             "minorgridcolor": "white",
             "startlinecolor": "#2a3f5f"
            },
            "baxis": {
             "endlinecolor": "#2a3f5f",
             "gridcolor": "white",
             "linecolor": "white",
             "minorgridcolor": "white",
             "startlinecolor": "#2a3f5f"
            },
            "type": "carpet"
           }
          ],
          "choropleth": [
           {
            "colorbar": {
             "outlinewidth": 0,
             "ticks": ""
            },
            "type": "choropleth"
           }
          ],
          "contour": [
           {
            "colorbar": {
             "outlinewidth": 0,
             "ticks": ""
            },
            "colorscale": [
             [
              0,
              "#0d0887"
             ],
             [
              0.1111111111111111,
              "#46039f"
             ],
             [
              0.2222222222222222,
              "#7201a8"
             ],
             [
              0.3333333333333333,
              "#9c179e"
             ],
             [
              0.4444444444444444,
              "#bd3786"
             ],
             [
              0.5555555555555556,
              "#d8576b"
             ],
             [
              0.6666666666666666,
              "#ed7953"
             ],
             [
              0.7777777777777778,
              "#fb9f3a"
             ],
             [
              0.8888888888888888,
              "#fdca26"
             ],
             [
              1,
              "#f0f921"
             ]
            ],
            "type": "contour"
           }
          ],
          "contourcarpet": [
           {
            "colorbar": {
             "outlinewidth": 0,
             "ticks": ""
            },
            "type": "contourcarpet"
           }
          ],
          "heatmap": [
           {
            "colorbar": {
             "outlinewidth": 0,
             "ticks": ""
            },
            "colorscale": [
             [
              0,
              "#0d0887"
             ],
             [
              0.1111111111111111,
              "#46039f"
             ],
             [
              0.2222222222222222,
              "#7201a8"
             ],
             [
              0.3333333333333333,
              "#9c179e"
             ],
             [
              0.4444444444444444,
              "#bd3786"
             ],
             [
              0.5555555555555556,
              "#d8576b"
             ],
             [
              0.6666666666666666,
              "#ed7953"
             ],
             [
              0.7777777777777778,
              "#fb9f3a"
             ],
             [
              0.8888888888888888,
              "#fdca26"
             ],
             [
              1,
              "#f0f921"
             ]
            ],
            "type": "heatmap"
           }
          ],
          "heatmapgl": [
           {
            "colorbar": {
             "outlinewidth": 0,
             "ticks": ""
            },
            "colorscale": [
             [
              0,
              "#0d0887"
             ],
             [
              0.1111111111111111,
              "#46039f"
             ],
             [
              0.2222222222222222,
              "#7201a8"
             ],
             [
              0.3333333333333333,
              "#9c179e"
             ],
             [
              0.4444444444444444,
              "#bd3786"
             ],
             [
              0.5555555555555556,
              "#d8576b"
             ],
             [
              0.6666666666666666,
              "#ed7953"
             ],
             [
              0.7777777777777778,
              "#fb9f3a"
             ],
             [
              0.8888888888888888,
              "#fdca26"
             ],
             [
              1,
              "#f0f921"
             ]
            ],
            "type": "heatmapgl"
           }
          ],
          "histogram": [
           {
            "marker": {
             "pattern": {
              "fillmode": "overlay",
              "size": 10,
              "solidity": 0.2
             }
            },
            "type": "histogram"
           }
          ],
          "histogram2d": [
           {
            "colorbar": {
             "outlinewidth": 0,
             "ticks": ""
            },
            "colorscale": [
             [
              0,
              "#0d0887"
             ],
             [
              0.1111111111111111,
              "#46039f"
             ],
             [
              0.2222222222222222,
              "#7201a8"
             ],
             [
              0.3333333333333333,
              "#9c179e"
             ],
             [
              0.4444444444444444,
              "#bd3786"
             ],
             [
              0.5555555555555556,
              "#d8576b"
             ],
             [
              0.6666666666666666,
              "#ed7953"
             ],
             [
              0.7777777777777778,
              "#fb9f3a"
             ],
             [
              0.8888888888888888,
              "#fdca26"
             ],
             [
              1,
              "#f0f921"
             ]
            ],
            "type": "histogram2d"
           }
          ],
          "histogram2dcontour": [
           {
            "colorbar": {
             "outlinewidth": 0,
             "ticks": ""
            },
            "colorscale": [
             [
              0,
              "#0d0887"
             ],
             [
              0.1111111111111111,
              "#46039f"
             ],
             [
              0.2222222222222222,
              "#7201a8"
             ],
             [
              0.3333333333333333,
              "#9c179e"
             ],
             [
              0.4444444444444444,
              "#bd3786"
             ],
             [
              0.5555555555555556,
              "#d8576b"
             ],
             [
              0.6666666666666666,
              "#ed7953"
             ],
             [
              0.7777777777777778,
              "#fb9f3a"
             ],
             [
              0.8888888888888888,
              "#fdca26"
             ],
             [
              1,
              "#f0f921"
             ]
            ],
            "type": "histogram2dcontour"
           }
          ],
          "mesh3d": [
           {
            "colorbar": {
             "outlinewidth": 0,
             "ticks": ""
            },
            "type": "mesh3d"
           }
          ],
          "parcoords": [
           {
            "line": {
             "colorbar": {
              "outlinewidth": 0,
              "ticks": ""
             }
            },
            "type": "parcoords"
           }
          ],
          "pie": [
           {
            "automargin": true,
            "type": "pie"
           }
          ],
          "scatter": [
           {
            "marker": {
             "colorbar": {
              "outlinewidth": 0,
              "ticks": ""
             }
            },
            "type": "scatter"
           }
          ],
          "scatter3d": [
           {
            "line": {
             "colorbar": {
              "outlinewidth": 0,
              "ticks": ""
             }
            },
            "marker": {
             "colorbar": {
              "outlinewidth": 0,
              "ticks": ""
             }
            },
            "type": "scatter3d"
           }
          ],
          "scattercarpet": [
           {
            "marker": {
             "colorbar": {
              "outlinewidth": 0,
              "ticks": ""
             }
            },
            "type": "scattercarpet"
           }
          ],
          "scattergeo": [
           {
            "marker": {
             "colorbar": {
              "outlinewidth": 0,
              "ticks": ""
             }
            },
            "type": "scattergeo"
           }
          ],
          "scattergl": [
           {
            "marker": {
             "colorbar": {
              "outlinewidth": 0,
              "ticks": ""
             }
            },
            "type": "scattergl"
           }
          ],
          "scattermapbox": [
           {
            "marker": {
             "colorbar": {
              "outlinewidth": 0,
              "ticks": ""
             }
            },
            "type": "scattermapbox"
           }
          ],
          "scatterpolar": [
           {
            "marker": {
             "colorbar": {
              "outlinewidth": 0,
              "ticks": ""
             }
            },
            "type": "scatterpolar"
           }
          ],
          "scatterpolargl": [
           {
            "marker": {
             "colorbar": {
              "outlinewidth": 0,
              "ticks": ""
             }
            },
            "type": "scatterpolargl"
           }
          ],
          "scatterternary": [
           {
            "marker": {
             "colorbar": {
              "outlinewidth": 0,
              "ticks": ""
             }
            },
            "type": "scatterternary"
           }
          ],
          "surface": [
           {
            "colorbar": {
             "outlinewidth": 0,
             "ticks": ""
            },
            "colorscale": [
             [
              0,
              "#0d0887"
             ],
             [
              0.1111111111111111,
              "#46039f"
             ],
             [
              0.2222222222222222,
              "#7201a8"
             ],
             [
              0.3333333333333333,
              "#9c179e"
             ],
             [
              0.4444444444444444,
              "#bd3786"
             ],
             [
              0.5555555555555556,
              "#d8576b"
             ],
             [
              0.6666666666666666,
              "#ed7953"
             ],
             [
              0.7777777777777778,
              "#fb9f3a"
             ],
             [
              0.8888888888888888,
              "#fdca26"
             ],
             [
              1,
              "#f0f921"
             ]
            ],
            "type": "surface"
           }
          ],
          "table": [
           {
            "cells": {
             "fill": {
              "color": "#EBF0F8"
             },
             "line": {
              "color": "white"
             }
            },
            "header": {
             "fill": {
              "color": "#C8D4E3"
             },
             "line": {
              "color": "white"
             }
            },
            "type": "table"
           }
          ]
         },
         "layout": {
          "annotationdefaults": {
           "arrowcolor": "#2a3f5f",
           "arrowhead": 0,
           "arrowwidth": 1
          },
          "autotypenumbers": "strict",
          "coloraxis": {
           "colorbar": {
            "outlinewidth": 0,
            "ticks": ""
           }
          },
          "colorscale": {
           "diverging": [
            [
             0,
             "#8e0152"
            ],
            [
             0.1,
             "#c51b7d"
            ],
            [
             0.2,
             "#de77ae"
            ],
            [
             0.3,
             "#f1b6da"
            ],
            [
             0.4,
             "#fde0ef"
            ],
            [
             0.5,
             "#f7f7f7"
            ],
            [
             0.6,
             "#e6f5d0"
            ],
            [
             0.7,
             "#b8e186"
            ],
            [
             0.8,
             "#7fbc41"
            ],
            [
             0.9,
             "#4d9221"
            ],
            [
             1,
             "#276419"
            ]
           ],
           "sequential": [
            [
             0,
             "#0d0887"
            ],
            [
             0.1111111111111111,
             "#46039f"
            ],
            [
             0.2222222222222222,
             "#7201a8"
            ],
            [
             0.3333333333333333,
             "#9c179e"
            ],
            [
             0.4444444444444444,
             "#bd3786"
            ],
            [
             0.5555555555555556,
             "#d8576b"
            ],
            [
             0.6666666666666666,
             "#ed7953"
            ],
            [
             0.7777777777777778,
             "#fb9f3a"
            ],
            [
             0.8888888888888888,
             "#fdca26"
            ],
            [
             1,
             "#f0f921"
            ]
           ],
           "sequentialminus": [
            [
             0,
             "#0d0887"
            ],
            [
             0.1111111111111111,
             "#46039f"
            ],
            [
             0.2222222222222222,
             "#7201a8"
            ],
            [
             0.3333333333333333,
             "#9c179e"
            ],
            [
             0.4444444444444444,
             "#bd3786"
            ],
            [
             0.5555555555555556,
             "#d8576b"
            ],
            [
             0.6666666666666666,
             "#ed7953"
            ],
            [
             0.7777777777777778,
             "#fb9f3a"
            ],
            [
             0.8888888888888888,
             "#fdca26"
            ],
            [
             1,
             "#f0f921"
            ]
           ]
          },
          "colorway": [
           "#636efa",
           "#EF553B",
           "#00cc96",
           "#ab63fa",
           "#FFA15A",
           "#19d3f3",
           "#FF6692",
           "#B6E880",
           "#FF97FF",
           "#FECB52"
          ],
          "font": {
           "color": "#2a3f5f"
          },
          "geo": {
           "bgcolor": "white",
           "lakecolor": "white",
           "landcolor": "#E5ECF6",
           "showlakes": true,
           "showland": true,
           "subunitcolor": "white"
          },
          "hoverlabel": {
           "align": "left"
          },
          "hovermode": "closest",
          "mapbox": {
           "style": "light"
          },
          "paper_bgcolor": "white",
          "plot_bgcolor": "#E5ECF6",
          "polar": {
           "angularaxis": {
            "gridcolor": "white",
            "linecolor": "white",
            "ticks": ""
           },
           "bgcolor": "#E5ECF6",
           "radialaxis": {
            "gridcolor": "white",
            "linecolor": "white",
            "ticks": ""
           }
          },
          "scene": {
           "xaxis": {
            "backgroundcolor": "#E5ECF6",
            "gridcolor": "white",
            "gridwidth": 2,
            "linecolor": "white",
            "showbackground": true,
            "ticks": "",
            "zerolinecolor": "white"
           },
           "yaxis": {
            "backgroundcolor": "#E5ECF6",
            "gridcolor": "white",
            "gridwidth": 2,
            "linecolor": "white",
            "showbackground": true,
            "ticks": "",
            "zerolinecolor": "white"
           },
           "zaxis": {
            "backgroundcolor": "#E5ECF6",
            "gridcolor": "white",
            "gridwidth": 2,
            "linecolor": "white",
            "showbackground": true,
            "ticks": "",
            "zerolinecolor": "white"
           }
          },
          "shapedefaults": {
           "line": {
            "color": "#2a3f5f"
           }
          },
          "ternary": {
           "aaxis": {
            "gridcolor": "white",
            "linecolor": "white",
            "ticks": ""
           },
           "baxis": {
            "gridcolor": "white",
            "linecolor": "white",
            "ticks": ""
           },
           "bgcolor": "#E5ECF6",
           "caxis": {
            "gridcolor": "white",
            "linecolor": "white",
            "ticks": ""
           }
          },
          "title": {
           "x": 0.05
          },
          "xaxis": {
           "automargin": true,
           "gridcolor": "white",
           "linecolor": "white",
           "ticks": "",
           "title": {
            "standoff": 15
           },
           "zerolinecolor": "white",
           "zerolinewidth": 2
          },
          "yaxis": {
           "automargin": true,
           "gridcolor": "white",
           "linecolor": "white",
           "ticks": "",
           "title": {
            "standoff": 15
           },
           "zerolinecolor": "white",
           "zerolinewidth": 2
          }
         }
        },
        "title": {
         "text": "2020 GDP by Country's Income Level"
        }
       }
      },
      "image/png": "[encoded data removed]",
      "text/html": [
       "<div>                            <div id=\"68731d5b-990c-49fa-8570-08d3858a47e0\" class=\"plotly-graph-div\" style=\"height:525px; width:100%;\"></div>            <script type=\"text/javascript\">                require([\"plotly\"], function(Plotly) {                    window.PLOTLYENV=window.PLOTLYENV || {};                                    if (document.getElementById(\"68731d5b-990c-49fa-8570-08d3858a47e0\")) {                    Plotly.newPlot(                        \"68731d5b-990c-49fa-8570-08d3858a47e0\",                        [{\"customdata\":[[28],[54],[54],[80]],\"domain\":{\"x\":[0.0,1.0],\"y\":[0.0,1.0]},\"hovertemplate\":\"Income Level=%{label}<br>GDP=%{value}<br>Number of Countries=%{customdata[0]}<extra></extra>\",\"labels\":[\"Low income\",\"Lower middle income\",\"Upper middle income\",\"High income\"],\"legendgroup\":\"\",\"name\":\"\",\"showlegend\":true,\"values\":[481025000000.0,7585550000000.0,22848300000000.0,53699800000000.0],\"type\":\"pie\"}],                        {\"template\":{\"data\":{\"bar\":[{\"error_x\":{\"color\":\"#2a3f5f\"},\"error_y\":{\"color\":\"#2a3f5f\"},\"marker\":{\"line\":{\"color\":\"#E5ECF6\",\"width\":0.5},\"pattern\":{\"fillmode\":\"overlay\",\"size\":10,\"solidity\":0.2}},\"type\":\"bar\"}],\"barpolar\":[{\"marker\":{\"line\":{\"color\":\"#E5ECF6\",\"width\":0.5},\"pattern\":{\"fillmode\":\"overlay\",\"size\":10,\"solidity\":0.2}},\"type\":\"barpolar\"}],\"carpet\":[{\"aaxis\":{\"endlinecolor\":\"#2a3f5f\",\"gridcolor\":\"white\",\"linecolor\":\"white\",\"minorgridcolor\":\"white\",\"startlinecolor\":\"#2a3f5f\"},\"baxis\":{\"endlinecolor\":\"#2a3f5f\",\"gridcolor\":\"white\",\"linecolor\":\"white\",\"minorgridcolor\":\"white\",\"startlinecolor\":\"#2a3f5f\"},\"type\":\"carpet\"}],\"choropleth\":[{\"colorbar\":{\"outlinewidth\":0,\"ticks\":\"\"},\"type\":\"choropleth\"}],\"contour\":[{\"colorbar\":{\"outlinewidth\":0,\"ticks\":\"\"},\"colorscale\":[[0.0,\"#0d0887\"],[0.1111111111111111,\"#46039f\"],[0.2222222222222222,\"#7201a8\"],[0.3333333333333333,\"#9c179e\"],[0.4444444444444444,\"#bd3786\"],[0.5555555555555556,\"#d8576b\"],[0.6666666666666666,\"#ed7953\"],[0.7777777777777778,\"#fb9f3a\"],[0.8888888888888888,\"#fdca26\"],[1.0,\"#f0f921\"]],\"type\":\"contour\"}],\"contourcarpet\":[{\"colorbar\":{\"outlinewidth\":0,\"ticks\":\"\"},\"type\":\"contourcarpet\"}],\"heatmap\":[{\"colorbar\":{\"outlinewidth\":0,\"ticks\":\"\"},\"colorscale\":[[0.0,\"#0d0887\"],[0.1111111111111111,\"#46039f\"],[0.2222222222222222,\"#7201a8\"],[0.3333333333333333,\"#9c179e\"],[0.4444444444444444,\"#bd3786\"],[0.5555555555555556,\"#d8576b\"],[0.6666666666666666,\"#ed7953\"],[0.7777777777777778,\"#fb9f3a\"],[0.8888888888888888,\"#fdca26\"],[1.0,\"#f0f921\"]],\"type\":\"heatmap\"}],\"heatmapgl\":[{\"colorbar\":{\"outlinewidth\":0,\"ticks\":\"\"},\"colorscale\":[[0.0,\"#0d0887\"],[0.1111111111111111,\"#46039f\"],[0.2222222222222222,\"#7201a8\"],[0.3333333333333333,\"#9c179e\"],[0.4444444444444444,\"#bd3786\"],[0.5555555555555556,\"#d8576b\"],[0.6666666666666666,\"#ed7953\"],[0.7777777777777778,\"#fb9f3a\"],[0.8888888888888888,\"#fdca26\"],[1.0,\"#f0f921\"]],\"type\":\"heatmapgl\"}],\"histogram\":[{\"marker\":{\"pattern\":{\"fillmode\":\"overlay\",\"size\":10,\"solidity\":0.2}},\"type\":\"histogram\"}],\"histogram2d\":[{\"colorbar\":{\"outlinewidth\":0,\"ticks\":\"\"},\"colorscale\":[[0.0,\"#0d0887\"],[0.1111111111111111,\"#46039f\"],[0.2222222222222222,\"#7201a8\"],[0.3333333333333333,\"#9c179e\"],[0.4444444444444444,\"#bd3786\"],[0.5555555555555556,\"#d8576b\"],[0.6666666666666666,\"#ed7953\"],[0.7777777777777778,\"#fb9f3a\"],[0.8888888888888888,\"#fdca26\"],[1.0,\"#f0f921\"]],\"type\":\"histogram2d\"}],\"histogram2dcontour\":[{\"colorbar\":{\"outlinewidth\":0,\"ticks\":\"\"},\"colorscale\":[[0.0,\"#0d0887\"],[0.1111111111111111,\"#46039f\"],[0.2222222222222222,\"#7201a8\"],[0.3333333333333333,\"#9c179e\"],[0.4444444444444444,\"#bd3786\"],[0.5555555555555556,\"#d8576b\"],[0.6666666666666666,\"#ed7953\"],[0.7777777777777778,\"#fb9f3a\"],[0.8888888888888888,\"#fdca26\"],[1.0,\"#f0f921\"]],\"type\":\"histogram2dcontour\"}],\"mesh3d\":[{\"colorbar\":{\"outlinewidth\":0,\"ticks\":\"\"},\"type\":\"mesh3d\"}],\"parcoords\":[{\"line\":{\"colorbar\":{\"outlinewidth\":0,\"ticks\":\"\"}},\"type\":\"parcoords\"}],\"pie\":[{\"automargin\":true,\"type\":\"pie\"}],\"scatter\":[{\"marker\":{\"colorbar\":{\"outlinewidth\":0,\"ticks\":\"\"}},\"type\":\"scatter\"}],\"scatter3d\":[{\"line\":{\"colorbar\":{\"outlinewidth\":0,\"ticks\":\"\"}},\"marker\":{\"colorbar\":{\"outlinewidth\":0,\"ticks\":\"\"}},\"type\":\"scatter3d\"}],\"scattercarpet\":[{\"marker\":{\"colorbar\":{\"outlinewidth\":0,\"ticks\":\"\"}},\"type\":\"scattercarpet\"}],\"scattergeo\":[{\"marker\":{\"colorbar\":{\"outlinewidth\":0,\"ticks\":\"\"}},\"type\":\"scattergeo\"}],\"scattergl\":[{\"marker\":{\"colorbar\":{\"outlinewidth\":0,\"ticks\":\"\"}},\"type\":\"scattergl\"}],\"scattermapbox\":[{\"marker\":{\"colorbar\":{\"outlinewidth\":0,\"ticks\":\"\"}},\"type\":\"scattermapbox\"}],\"scatterpolar\":[{\"marker\":{\"colorbar\":{\"outlinewidth\":0,\"ticks\":\"\"}},\"type\":\"scatterpolar\"}],\"scatterpolargl\":[{\"marker\":{\"colorbar\":{\"outlinewidth\":0,\"ticks\":\"\"}},\"type\":\"scatterpolargl\"}],\"scatterternary\":[{\"marker\":{\"colorbar\":{\"outlinewidth\":0,\"ticks\":\"\"}},\"type\":\"scatterternary\"}],\"surface\":[{\"colorbar\":{\"outlinewidth\":0,\"ticks\":\"\"},\"colorscale\":[[0.0,\"#0d0887\"],[0.1111111111111111,\"#46039f\"],[0.2222222222222222,\"#7201a8\"],[0.3333333333333333,\"#9c179e\"],[0.4444444444444444,\"#bd3786\"],[0.5555555555555556,\"#d8576b\"],[0.6666666666666666,\"#ed7953\"],[0.7777777777777778,\"#fb9f3a\"],[0.8888888888888888,\"#fdca26\"],[1.0,\"#f0f921\"]],\"type\":\"surface\"}],\"table\":[{\"cells\":{\"fill\":{\"color\":\"#EBF0F8\"},\"line\":{\"color\":\"white\"}},\"header\":{\"fill\":{\"color\":\"#C8D4E3\"},\"line\":{\"color\":\"white\"}},\"type\":\"table\"}]},\"layout\":{\"annotationdefaults\":{\"arrowcolor\":\"#2a3f5f\",\"arrowhead\":0,\"arrowwidth\":1},\"autotypenumbers\":\"strict\",\"coloraxis\":{\"colorbar\":{\"outlinewidth\":0,\"ticks\":\"\"}},\"colorscale\":{\"diverging\":[[0,\"#8e0152\"],[0.1,\"#c51b7d\"],[0.2,\"#de77ae\"],[0.3,\"#f1b6da\"],[0.4,\"#fde0ef\"],[0.5,\"#f7f7f7\"],[0.6,\"#e6f5d0\"],[0.7,\"#b8e186\"],[0.8,\"#7fbc41\"],[0.9,\"#4d9221\"],[1,\"#276419\"]],\"sequential\":[[0.0,\"#0d0887\"],[0.1111111111111111,\"#46039f\"],[0.2222222222222222,\"#7201a8\"],[0.3333333333333333,\"#9c179e\"],[0.4444444444444444,\"#bd3786\"],[0.5555555555555556,\"#d8576b\"],[0.6666666666666666,\"#ed7953\"],[0.7777777777777778,\"#fb9f3a\"],[0.8888888888888888,\"#fdca26\"],[1.0,\"#f0f921\"]],\"sequentialminus\":[[0.0,\"#0d0887\"],[0.1111111111111111,\"#46039f\"],[0.2222222222222222,\"#7201a8\"],[0.3333333333333333,\"#9c179e\"],[0.4444444444444444,\"#bd3786\"],[0.5555555555555556,\"#d8576b\"],[0.6666666666666666,\"#ed7953\"],[0.7777777777777778,\"#fb9f3a\"],[0.8888888888888888,\"#fdca26\"],[1.0,\"#f0f921\"]]},\"colorway\":[\"#636efa\",\"#EF553B\",\"#00cc96\",\"#ab63fa\",\"#FFA15A\",\"#19d3f3\",\"#FF6692\",\"#B6E880\",\"#FF97FF\",\"#FECB52\"],\"font\":{\"color\":\"#2a3f5f\"},\"geo\":{\"bgcolor\":\"white\",\"lakecolor\":\"white\",\"landcolor\":\"#E5ECF6\",\"showlakes\":true,\"showland\":true,\"subunitcolor\":\"white\"},\"hoverlabel\":{\"align\":\"left\"},\"hovermode\":\"closest\",\"mapbox\":{\"style\":\"light\"},\"paper_bgcolor\":\"white\",\"plot_bgcolor\":\"#E5ECF6\",\"polar\":{\"angularaxis\":{\"gridcolor\":\"white\",\"linecolor\":\"white\",\"ticks\":\"\"},\"bgcolor\":\"#E5ECF6\",\"radialaxis\":{\"gridcolor\":\"white\",\"linecolor\":\"white\",\"ticks\":\"\"}},\"scene\":{\"xaxis\":{\"backgroundcolor\":\"#E5ECF6\",\"gridcolor\":\"white\",\"gridwidth\":2,\"linecolor\":\"white\",\"showbackground\":true,\"ticks\":\"\",\"zerolinecolor\":\"white\"},\"yaxis\":{\"backgroundcolor\":\"#E5ECF6\",\"gridcolor\":\"white\",\"gridwidth\":2,\"linecolor\":\"white\",\"showbackground\":true,\"ticks\":\"\",\"zerolinecolor\":\"white\"},\"zaxis\":{\"backgroundcolor\":\"#E5ECF6\",\"gridcolor\":\"white\",\"gridwidth\":2,\"linecolor\":\"white\",\"showbackground\":true,\"ticks\":\"\",\"zerolinecolor\":\"white\"}},\"shapedefaults\":{\"line\":{\"color\":\"#2a3f5f\"}},\"ternary\":{\"aaxis\":{\"gridcolor\":\"white\",\"linecolor\":\"white\",\"ticks\":\"\"},\"baxis\":{\"gridcolor\":\"white\",\"linecolor\":\"white\",\"ticks\":\"\"},\"bgcolor\":\"#E5ECF6\",\"caxis\":{\"gridcolor\":\"white\",\"linecolor\":\"white\",\"ticks\":\"\"}},\"title\":{\"x\":0.05},\"xaxis\":{\"automargin\":true,\"gridcolor\":\"white\",\"linecolor\":\"white\",\"ticks\":\"\",\"title\":{\"standoff\":15},\"zerolinecolor\":\"white\",\"zerolinewidth\":2},\"yaxis\":{\"automargin\":true,\"gridcolor\":\"white\",\"linecolor\":\"white\",\"ticks\":\"\",\"title\":{\"standoff\":15},\"zerolinecolor\":\"white\",\"zerolinewidth\":2}}},\"legend\":{\"tracegroupgap\":0},\"title\":{\"text\":\"2020 GDP by Country's Income Level\"}},                        {\"responsive\": true}                    ).then(function(){\n",
       "                            \n",
       "var gd = document.getElementById('68731d5b-990c-49fa-8570-08d3858a47e0');\n",
       "var x = new MutationObserver(function (mutations, observer) {{\n",
       "        var display = window.getComputedStyle(gd).display;\n",
       "        if (!display || display === 'none') {{\n",
       "            console.log([gd, 'removed!']);\n",
       "            Plotly.purge(gd);\n",
       "            observer.disconnect();\n",
       "        }}\n",
       "}});\n",
       "\n",
       "// Listen for the removal of the full notebook cells\n",
       "var notebookContainer = gd.closest('#notebook-container');\n",
       "if (notebookContainer) {{\n",
       "    x.observe(notebookContainer, {childList: true});\n",
       "}}\n",
       "\n",
       "// Listen for the clearing of the current output cell\n",
       "var outputEl = gd.closest('.output');\n",
       "if (outputEl) {{\n",
       "    x.observe(outputEl, {childList: true});\n",
       "}}\n",
       "\n",
       "                        })                };                });            </script>        </div>"
      ]
     },
     "metadata": {},
     "output_type": "display_data"
    }
   ],
   "source": [
    "fig = px.pie(data, values='2020', \n",
    "             names='Country Name', \n",
    "             title=\"2020 GDP by Country's Income Level\", \n",
    "             labels={'Country Name':'Income Level', \n",
    "                     '2020':'GDP', \n",
    "                     'Number of Countries':'Number of Countries'},\n",
    "             hover_data=['Number of Countries'])\n",
    "fig.show()"
   ]
  },
  {
   "cell_type": "markdown",
   "id": "d837268a-fdcb-4334-b8d9-b28f4f3c65de",
   "metadata": {},
   "source": [
    "Run the two cells below to plot a pie chart of top 10 ranking of US states GDPs."
   ]
  },
  {
   "cell_type": "code",
   "execution_count": 93,
   "id": "165b80ee-4014-47de-9a5b-39a79c62f22f",
   "metadata": {},
   "outputs": [],
   "source": [
    "data = pd.read_csv('Files/State_GDP_Current_Dollar.csv')\n",
    "data = data[-10:]      # select top 10 states"
   ]
  },
  {
   "cell_type": "code",
   "execution_count": 94,
   "id": "c9c331f2-7d66-4af7-8966-10c86f0b69af",
   "metadata": {},
   "outputs": [
    {
     "data": {
      "application/vnd.plotly.v1+json": {
       "config": {
        "plotlyServerURL": "https://plot.ly"
       },
       "data": [
        {
         "domain": {
          "x": [
           0,
           1
          ],
          "y": [
           0,
           1
          ]
         },
         "hovertemplate": "State=%{label}<br>GDP=%{value}<extra></extra>",
         "labels": [
          "Washington",
          "New Jersey",
          "Georgia",
          "Ohio",
          "Pennsylvania",
          "Illinois",
          "Florida",
          "New York",
          "Texas",
          "California"
         ],
         "legendgroup": "",
         "name": "",
         "showlegend": true,
         "type": "pie",
         "values": [
          604253.8,
          618579.3,
          622627.8,
          677561.2,
          771897.9,
          858366.9,
          1106035.5,
          1724759.1,
          1775587.8,
          3007187.7
         ]
        }
       ],
       "layout": {
        "autosize": true,
        "legend": {
         "tracegroupgap": 0
        },
        "template": {
         "data": {
          "bar": [
           {
            "error_x": {
             "color": "#2a3f5f"
            },
            "error_y": {
             "color": "#2a3f5f"
            },
            "marker": {
             "line": {
              "color": "#E5ECF6",
              "width": 0.5
             },
             "pattern": {
              "fillmode": "overlay",
              "size": 10,
              "solidity": 0.2
             }
            },
            "type": "bar"
           }
          ],
          "barpolar": [
           {
            "marker": {
             "line": {
              "color": "#E5ECF6",
              "width": 0.5
             },
             "pattern": {
              "fillmode": "overlay",
              "size": 10,
              "solidity": 0.2
             }
            },
            "type": "barpolar"
           }
          ],
          "carpet": [
           {
            "aaxis": {
             "endlinecolor": "#2a3f5f",
             "gridcolor": "white",
             "linecolor": "white",
             "minorgridcolor": "white",
             "startlinecolor": "#2a3f5f"
            },
            "baxis": {
             "endlinecolor": "#2a3f5f",
             "gridcolor": "white",
             "linecolor": "white",
             "minorgridcolor": "white",
             "startlinecolor": "#2a3f5f"
            },
            "type": "carpet"
           }
          ],
          "choropleth": [
           {
            "colorbar": {
             "outlinewidth": 0,
             "ticks": ""
            },
            "type": "choropleth"
           }
          ],
          "contour": [
           {
            "colorbar": {
             "outlinewidth": 0,
             "ticks": ""
            },
            "colorscale": [
             [
              0,
              "#0d0887"
             ],
             [
              0.1111111111111111,
              "#46039f"
             ],
             [
              0.2222222222222222,
              "#7201a8"
             ],
             [
              0.3333333333333333,
              "#9c179e"
             ],
             [
              0.4444444444444444,
              "#bd3786"
             ],
             [
              0.5555555555555556,
              "#d8576b"
             ],
             [
              0.6666666666666666,
              "#ed7953"
             ],
             [
              0.7777777777777778,
              "#fb9f3a"
             ],
             [
              0.8888888888888888,
              "#fdca26"
             ],
             [
              1,
              "#f0f921"
             ]
            ],
            "type": "contour"
           }
          ],
          "contourcarpet": [
           {
            "colorbar": {
             "outlinewidth": 0,
             "ticks": ""
            },
            "type": "contourcarpet"
           }
          ],
          "heatmap": [
           {
            "colorbar": {
             "outlinewidth": 0,
             "ticks": ""
            },
            "colorscale": [
             [
              0,
              "#0d0887"
             ],
             [
              0.1111111111111111,
              "#46039f"
             ],
             [
              0.2222222222222222,
              "#7201a8"
             ],
             [
              0.3333333333333333,
              "#9c179e"
             ],
             [
              0.4444444444444444,
              "#bd3786"
             ],
             [
              0.5555555555555556,
              "#d8576b"
             ],
             [
              0.6666666666666666,
              "#ed7953"
             ],
             [
              0.7777777777777778,
              "#fb9f3a"
             ],
             [
              0.8888888888888888,
              "#fdca26"
             ],
             [
              1,
              "#f0f921"
             ]
            ],
            "type": "heatmap"
           }
          ],
          "heatmapgl": [
           {
            "colorbar": {
             "outlinewidth": 0,
             "ticks": ""
            },
            "colorscale": [
             [
              0,
              "#0d0887"
             ],
             [
              0.1111111111111111,
              "#46039f"
             ],
             [
              0.2222222222222222,
              "#7201a8"
             ],
             [
              0.3333333333333333,
              "#9c179e"
             ],
             [
              0.4444444444444444,
              "#bd3786"
             ],
             [
              0.5555555555555556,
              "#d8576b"
             ],
             [
              0.6666666666666666,
              "#ed7953"
             ],
             [
              0.7777777777777778,
              "#fb9f3a"
             ],
             [
              0.8888888888888888,
              "#fdca26"
             ],
             [
              1,
              "#f0f921"
             ]
            ],
            "type": "heatmapgl"
           }
          ],
          "histogram": [
           {
            "marker": {
             "pattern": {
              "fillmode": "overlay",
              "size": 10,
              "solidity": 0.2
             }
            },
            "type": "histogram"
           }
          ],
          "histogram2d": [
           {
            "colorbar": {
             "outlinewidth": 0,
             "ticks": ""
            },
            "colorscale": [
             [
              0,
              "#0d0887"
             ],
             [
              0.1111111111111111,
              "#46039f"
             ],
             [
              0.2222222222222222,
              "#7201a8"
             ],
             [
              0.3333333333333333,
              "#9c179e"
             ],
             [
              0.4444444444444444,
              "#bd3786"
             ],
             [
              0.5555555555555556,
              "#d8576b"
             ],
             [
              0.6666666666666666,
              "#ed7953"
             ],
             [
              0.7777777777777778,
              "#fb9f3a"
             ],
             [
              0.8888888888888888,
              "#fdca26"
             ],
             [
              1,
              "#f0f921"
             ]
            ],
            "type": "histogram2d"
           }
          ],
          "histogram2dcontour": [
           {
            "colorbar": {
             "outlinewidth": 0,
             "ticks": ""
            },
            "colorscale": [
             [
              0,
              "#0d0887"
             ],
             [
              0.1111111111111111,
              "#46039f"
             ],
             [
              0.2222222222222222,
              "#7201a8"
             ],
             [
              0.3333333333333333,
              "#9c179e"
             ],
             [
              0.4444444444444444,
              "#bd3786"
             ],
             [
              0.5555555555555556,
              "#d8576b"
             ],
             [
              0.6666666666666666,
              "#ed7953"
             ],
             [
              0.7777777777777778,
              "#fb9f3a"
             ],
             [
              0.8888888888888888,
              "#fdca26"
             ],
             [
              1,
              "#f0f921"
             ]
            ],
            "type": "histogram2dcontour"
           }
          ],
          "mesh3d": [
           {
            "colorbar": {
             "outlinewidth": 0,
             "ticks": ""
            },
            "type": "mesh3d"
           }
          ],
          "parcoords": [
           {
            "line": {
             "colorbar": {
              "outlinewidth": 0,
              "ticks": ""
             }
            },
            "type": "parcoords"
           }
          ],
          "pie": [
           {
            "automargin": true,
            "type": "pie"
           }
          ],
          "scatter": [
           {
            "marker": {
             "colorbar": {
              "outlinewidth": 0,
              "ticks": ""
             }
            },
            "type": "scatter"
           }
          ],
          "scatter3d": [
           {
            "line": {
             "colorbar": {
              "outlinewidth": 0,
              "ticks": ""
             }
            },
            "marker": {
             "colorbar": {
              "outlinewidth": 0,
              "ticks": ""
             }
            },
            "type": "scatter3d"
           }
          ],
          "scattercarpet": [
           {
            "marker": {
             "colorbar": {
              "outlinewidth": 0,
              "ticks": ""
             }
            },
            "type": "scattercarpet"
           }
          ],
          "scattergeo": [
           {
            "marker": {
             "colorbar": {
              "outlinewidth": 0,
              "ticks": ""
             }
            },
            "type": "scattergeo"
           }
          ],
          "scattergl": [
           {
            "marker": {
             "colorbar": {
              "outlinewidth": 0,
              "ticks": ""
             }
            },
            "type": "scattergl"
           }
          ],
          "scattermapbox": [
           {
            "marker": {
             "colorbar": {
              "outlinewidth": 0,
              "ticks": ""
             }
            },
            "type": "scattermapbox"
           }
          ],
          "scatterpolar": [
           {
            "marker": {
             "colorbar": {
              "outlinewidth": 0,
              "ticks": ""
             }
            },
            "type": "scatterpolar"
           }
          ],
          "scatterpolargl": [
           {
            "marker": {
             "colorbar": {
              "outlinewidth": 0,
              "ticks": ""
             }
            },
            "type": "scatterpolargl"
           }
          ],
          "scatterternary": [
           {
            "marker": {
             "colorbar": {
              "outlinewidth": 0,
              "ticks": ""
             }
            },
            "type": "scatterternary"
           }
          ],
          "surface": [
           {
            "colorbar": {
             "outlinewidth": 0,
             "ticks": ""
            },
            "colorscale": [
             [
              0,
              "#0d0887"
             ],
             [
              0.1111111111111111,
              "#46039f"
             ],
             [
              0.2222222222222222,
              "#7201a8"
             ],
             [
              0.3333333333333333,
              "#9c179e"
             ],
             [
              0.4444444444444444,
              "#bd3786"
             ],
             [
              0.5555555555555556,
              "#d8576b"
             ],
             [
              0.6666666666666666,
              "#ed7953"
             ],
             [
              0.7777777777777778,
              "#fb9f3a"
             ],
             [
              0.8888888888888888,
              "#fdca26"
             ],
             [
              1,
              "#f0f921"
             ]
            ],
            "type": "surface"
           }
          ],
          "table": [
           {
            "cells": {
             "fill": {
              "color": "#EBF0F8"
             },
             "line": {
              "color": "white"
             }
            },
            "header": {
             "fill": {
              "color": "#C8D4E3"
             },
             "line": {
              "color": "white"
             }
            },
            "type": "table"
           }
          ]
         },
         "layout": {
          "annotationdefaults": {
           "arrowcolor": "#2a3f5f",
           "arrowhead": 0,
           "arrowwidth": 1
          },
          "autotypenumbers": "strict",
          "coloraxis": {
           "colorbar": {
            "outlinewidth": 0,
            "ticks": ""
           }
          },
          "colorscale": {
           "diverging": [
            [
             0,
             "#8e0152"
            ],
            [
             0.1,
             "#c51b7d"
            ],
            [
             0.2,
             "#de77ae"
            ],
            [
             0.3,
             "#f1b6da"
            ],
            [
             0.4,
             "#fde0ef"
            ],
            [
             0.5,
             "#f7f7f7"
            ],
            [
             0.6,
             "#e6f5d0"
            ],
            [
             0.7,
             "#b8e186"
            ],
            [
             0.8,
             "#7fbc41"
            ],
            [
             0.9,
             "#4d9221"
            ],
            [
             1,
             "#276419"
            ]
           ],
           "sequential": [
            [
             0,
             "#0d0887"
            ],
            [
             0.1111111111111111,
             "#46039f"
            ],
            [
             0.2222222222222222,
             "#7201a8"
            ],
            [
             0.3333333333333333,
             "#9c179e"
            ],
            [
             0.4444444444444444,
             "#bd3786"
            ],
            [
             0.5555555555555556,
             "#d8576b"
            ],
            [
             0.6666666666666666,
             "#ed7953"
            ],
            [
             0.7777777777777778,
             "#fb9f3a"
            ],
            [
             0.8888888888888888,
             "#fdca26"
            ],
            [
             1,
             "#f0f921"
            ]
           ],
           "sequentialminus": [
            [
             0,
             "#0d0887"
            ],
            [
             0.1111111111111111,
             "#46039f"
            ],
            [
             0.2222222222222222,
             "#7201a8"
            ],
            [
             0.3333333333333333,
             "#9c179e"
            ],
            [
             0.4444444444444444,
             "#bd3786"
            ],
            [
             0.5555555555555556,
             "#d8576b"
            ],
            [
             0.6666666666666666,
             "#ed7953"
            ],
            [
             0.7777777777777778,
             "#fb9f3a"
            ],
            [
             0.8888888888888888,
             "#fdca26"
            ],
            [
             1,
             "#f0f921"
            ]
           ]
          },
          "colorway": [
           "#636efa",
           "#EF553B",
           "#00cc96",
           "#ab63fa",
           "#FFA15A",
           "#19d3f3",
           "#FF6692",
           "#B6E880",
           "#FF97FF",
           "#FECB52"
          ],
          "font": {
           "color": "#2a3f5f"
          },
          "geo": {
           "bgcolor": "white",
           "lakecolor": "white",
           "landcolor": "#E5ECF6",
           "showlakes": true,
           "showland": true,
           "subunitcolor": "white"
          },
          "hoverlabel": {
           "align": "left"
          },
          "hovermode": "closest",
          "mapbox": {
           "style": "light"
          },
          "paper_bgcolor": "white",
          "plot_bgcolor": "#E5ECF6",
          "polar": {
           "angularaxis": {
            "gridcolor": "white",
            "linecolor": "white",
            "ticks": ""
           },
           "bgcolor": "#E5ECF6",
           "radialaxis": {
            "gridcolor": "white",
            "linecolor": "white",
            "ticks": ""
           }
          },
          "scene": {
           "xaxis": {
            "backgroundcolor": "#E5ECF6",
            "gridcolor": "white",
            "gridwidth": 2,
            "linecolor": "white",
            "showbackground": true,
            "ticks": "",
            "zerolinecolor": "white"
           },
           "yaxis": {
            "backgroundcolor": "#E5ECF6",
            "gridcolor": "white",
            "gridwidth": 2,
            "linecolor": "white",
            "showbackground": true,
            "ticks": "",
            "zerolinecolor": "white"
           },
           "zaxis": {
            "backgroundcolor": "#E5ECF6",
            "gridcolor": "white",
            "gridwidth": 2,
            "linecolor": "white",
            "showbackground": true,
            "ticks": "",
            "zerolinecolor": "white"
           }
          },
          "shapedefaults": {
           "line": {
            "color": "#2a3f5f"
           }
          },
          "ternary": {
           "aaxis": {
            "gridcolor": "white",
            "linecolor": "white",
            "ticks": ""
           },
           "baxis": {
            "gridcolor": "white",
            "linecolor": "white",
            "ticks": ""
           },
           "bgcolor": "#E5ECF6",
           "caxis": {
            "gridcolor": "white",
            "linecolor": "white",
            "ticks": ""
           }
          },
          "title": {
           "x": 0.05
          },
          "xaxis": {
           "automargin": true,
           "gridcolor": "white",
           "linecolor": "white",
           "ticks": "",
           "title": {
            "standoff": 15
           },
           "zerolinecolor": "white",
           "zerolinewidth": 2
          },
          "yaxis": {
           "automargin": true,
           "gridcolor": "white",
           "linecolor": "white",
           "ticks": "",
           "title": {
            "standoff": 15
           },
           "zerolinecolor": "white",
           "zerolinewidth": 2
          }
         }
        },
        "title": {
         "text": "Top 10 States GDP in 2020 (in million US current dollars)"
        }
       }
      },
      "image/png": "[encoded data removed]",
      "text/html": [
       "<div>                            <div id=\"a0db4d63-2261-43be-89e8-99c69353e1b5\" class=\"plotly-graph-div\" style=\"height:525px; width:100%;\"></div>            <script type=\"text/javascript\">                require([\"plotly\"], function(Plotly) {                    window.PLOTLYENV=window.PLOTLYENV || {};                                    if (document.getElementById(\"a0db4d63-2261-43be-89e8-99c69353e1b5\")) {                    Plotly.newPlot(                        \"a0db4d63-2261-43be-89e8-99c69353e1b5\",                        [{\"domain\":{\"x\":[0.0,1.0],\"y\":[0.0,1.0]},\"hovertemplate\":\"State=%{label}<br>GDP=%{value}<extra></extra>\",\"labels\":[\"Washington\",\"New Jersey\",\"Georgia\",\"Ohio\",\"Pennsylvania\",\"Illinois\",\"Florida\",\"New York\",\"Texas\",\"California\"],\"legendgroup\":\"\",\"name\":\"\",\"showlegend\":true,\"values\":[604253.8,618579.3,622627.8,677561.2,771897.9,858366.9,1106035.5,1724759.1,1775587.8,3007187.7],\"type\":\"pie\"}],                        {\"template\":{\"data\":{\"bar\":[{\"error_x\":{\"color\":\"#2a3f5f\"},\"error_y\":{\"color\":\"#2a3f5f\"},\"marker\":{\"line\":{\"color\":\"#E5ECF6\",\"width\":0.5},\"pattern\":{\"fillmode\":\"overlay\",\"size\":10,\"solidity\":0.2}},\"type\":\"bar\"}],\"barpolar\":[{\"marker\":{\"line\":{\"color\":\"#E5ECF6\",\"width\":0.5},\"pattern\":{\"fillmode\":\"overlay\",\"size\":10,\"solidity\":0.2}},\"type\":\"barpolar\"}],\"carpet\":[{\"aaxis\":{\"endlinecolor\":\"#2a3f5f\",\"gridcolor\":\"white\",\"linecolor\":\"white\",\"minorgridcolor\":\"white\",\"startlinecolor\":\"#2a3f5f\"},\"baxis\":{\"endlinecolor\":\"#2a3f5f\",\"gridcolor\":\"white\",\"linecolor\":\"white\",\"minorgridcolor\":\"white\",\"startlinecolor\":\"#2a3f5f\"},\"type\":\"carpet\"}],\"choropleth\":[{\"colorbar\":{\"outlinewidth\":0,\"ticks\":\"\"},\"type\":\"choropleth\"}],\"contour\":[{\"colorbar\":{\"outlinewidth\":0,\"ticks\":\"\"},\"colorscale\":[[0.0,\"#0d0887\"],[0.1111111111111111,\"#46039f\"],[0.2222222222222222,\"#7201a8\"],[0.3333333333333333,\"#9c179e\"],[0.4444444444444444,\"#bd3786\"],[0.5555555555555556,\"#d8576b\"],[0.6666666666666666,\"#ed7953\"],[0.7777777777777778,\"#fb9f3a\"],[0.8888888888888888,\"#fdca26\"],[1.0,\"#f0f921\"]],\"type\":\"contour\"}],\"contourcarpet\":[{\"colorbar\":{\"outlinewidth\":0,\"ticks\":\"\"},\"type\":\"contourcarpet\"}],\"heatmap\":[{\"colorbar\":{\"outlinewidth\":0,\"ticks\":\"\"},\"colorscale\":[[0.0,\"#0d0887\"],[0.1111111111111111,\"#46039f\"],[0.2222222222222222,\"#7201a8\"],[0.3333333333333333,\"#9c179e\"],[0.4444444444444444,\"#bd3786\"],[0.5555555555555556,\"#d8576b\"],[0.6666666666666666,\"#ed7953\"],[0.7777777777777778,\"#fb9f3a\"],[0.8888888888888888,\"#fdca26\"],[1.0,\"#f0f921\"]],\"type\":\"heatmap\"}],\"heatmapgl\":[{\"colorbar\":{\"outlinewidth\":0,\"ticks\":\"\"},\"colorscale\":[[0.0,\"#0d0887\"],[0.1111111111111111,\"#46039f\"],[0.2222222222222222,\"#7201a8\"],[0.3333333333333333,\"#9c179e\"],[0.4444444444444444,\"#bd3786\"],[0.5555555555555556,\"#d8576b\"],[0.6666666666666666,\"#ed7953\"],[0.7777777777777778,\"#fb9f3a\"],[0.8888888888888888,\"#fdca26\"],[1.0,\"#f0f921\"]],\"type\":\"heatmapgl\"}],\"histogram\":[{\"marker\":{\"pattern\":{\"fillmode\":\"overlay\",\"size\":10,\"solidity\":0.2}},\"type\":\"histogram\"}],\"histogram2d\":[{\"colorbar\":{\"outlinewidth\":0,\"ticks\":\"\"},\"colorscale\":[[0.0,\"#0d0887\"],[0.1111111111111111,\"#46039f\"],[0.2222222222222222,\"#7201a8\"],[0.3333333333333333,\"#9c179e\"],[0.4444444444444444,\"#bd3786\"],[0.5555555555555556,\"#d8576b\"],[0.6666666666666666,\"#ed7953\"],[0.7777777777777778,\"#fb9f3a\"],[0.8888888888888888,\"#fdca26\"],[1.0,\"#f0f921\"]],\"type\":\"histogram2d\"}],\"histogram2dcontour\":[{\"colorbar\":{\"outlinewidth\":0,\"ticks\":\"\"},\"colorscale\":[[0.0,\"#0d0887\"],[0.1111111111111111,\"#46039f\"],[0.2222222222222222,\"#7201a8\"],[0.3333333333333333,\"#9c179e\"],[0.4444444444444444,\"#bd3786\"],[0.5555555555555556,\"#d8576b\"],[0.6666666666666666,\"#ed7953\"],[0.7777777777777778,\"#fb9f3a\"],[0.8888888888888888,\"#fdca26\"],[1.0,\"#f0f921\"]],\"type\":\"histogram2dcontour\"}],\"mesh3d\":[{\"colorbar\":{\"outlinewidth\":0,\"ticks\":\"\"},\"type\":\"mesh3d\"}],\"parcoords\":[{\"line\":{\"colorbar\":{\"outlinewidth\":0,\"ticks\":\"\"}},\"type\":\"parcoords\"}],\"pie\":[{\"automargin\":true,\"type\":\"pie\"}],\"scatter\":[{\"marker\":{\"colorbar\":{\"outlinewidth\":0,\"ticks\":\"\"}},\"type\":\"scatter\"}],\"scatter3d\":[{\"line\":{\"colorbar\":{\"outlinewidth\":0,\"ticks\":\"\"}},\"marker\":{\"colorbar\":{\"outlinewidth\":0,\"ticks\":\"\"}},\"type\":\"scatter3d\"}],\"scattercarpet\":[{\"marker\":{\"colorbar\":{\"outlinewidth\":0,\"ticks\":\"\"}},\"type\":\"scattercarpet\"}],\"scattergeo\":[{\"marker\":{\"colorbar\":{\"outlinewidth\":0,\"ticks\":\"\"}},\"type\":\"scattergeo\"}],\"scattergl\":[{\"marker\":{\"colorbar\":{\"outlinewidth\":0,\"ticks\":\"\"}},\"type\":\"scattergl\"}],\"scattermapbox\":[{\"marker\":{\"colorbar\":{\"outlinewidth\":0,\"ticks\":\"\"}},\"type\":\"scattermapbox\"}],\"scatterpolar\":[{\"marker\":{\"colorbar\":{\"outlinewidth\":0,\"ticks\":\"\"}},\"type\":\"scatterpolar\"}],\"scatterpolargl\":[{\"marker\":{\"colorbar\":{\"outlinewidth\":0,\"ticks\":\"\"}},\"type\":\"scatterpolargl\"}],\"scatterternary\":[{\"marker\":{\"colorbar\":{\"outlinewidth\":0,\"ticks\":\"\"}},\"type\":\"scatterternary\"}],\"surface\":[{\"colorbar\":{\"outlinewidth\":0,\"ticks\":\"\"},\"colorscale\":[[0.0,\"#0d0887\"],[0.1111111111111111,\"#46039f\"],[0.2222222222222222,\"#7201a8\"],[0.3333333333333333,\"#9c179e\"],[0.4444444444444444,\"#bd3786\"],[0.5555555555555556,\"#d8576b\"],[0.6666666666666666,\"#ed7953\"],[0.7777777777777778,\"#fb9f3a\"],[0.8888888888888888,\"#fdca26\"],[1.0,\"#f0f921\"]],\"type\":\"surface\"}],\"table\":[{\"cells\":{\"fill\":{\"color\":\"#EBF0F8\"},\"line\":{\"color\":\"white\"}},\"header\":{\"fill\":{\"color\":\"#C8D4E3\"},\"line\":{\"color\":\"white\"}},\"type\":\"table\"}]},\"layout\":{\"annotationdefaults\":{\"arrowcolor\":\"#2a3f5f\",\"arrowhead\":0,\"arrowwidth\":1},\"autotypenumbers\":\"strict\",\"coloraxis\":{\"colorbar\":{\"outlinewidth\":0,\"ticks\":\"\"}},\"colorscale\":{\"diverging\":[[0,\"#8e0152\"],[0.1,\"#c51b7d\"],[0.2,\"#de77ae\"],[0.3,\"#f1b6da\"],[0.4,\"#fde0ef\"],[0.5,\"#f7f7f7\"],[0.6,\"#e6f5d0\"],[0.7,\"#b8e186\"],[0.8,\"#7fbc41\"],[0.9,\"#4d9221\"],[1,\"#276419\"]],\"sequential\":[[0.0,\"#0d0887\"],[0.1111111111111111,\"#46039f\"],[0.2222222222222222,\"#7201a8\"],[0.3333333333333333,\"#9c179e\"],[0.4444444444444444,\"#bd3786\"],[0.5555555555555556,\"#d8576b\"],[0.6666666666666666,\"#ed7953\"],[0.7777777777777778,\"#fb9f3a\"],[0.8888888888888888,\"#fdca26\"],[1.0,\"#f0f921\"]],\"sequentialminus\":[[0.0,\"#0d0887\"],[0.1111111111111111,\"#46039f\"],[0.2222222222222222,\"#7201a8\"],[0.3333333333333333,\"#9c179e\"],[0.4444444444444444,\"#bd3786\"],[0.5555555555555556,\"#d8576b\"],[0.6666666666666666,\"#ed7953\"],[0.7777777777777778,\"#fb9f3a\"],[0.8888888888888888,\"#fdca26\"],[1.0,\"#f0f921\"]]},\"colorway\":[\"#636efa\",\"#EF553B\",\"#00cc96\",\"#ab63fa\",\"#FFA15A\",\"#19d3f3\",\"#FF6692\",\"#B6E880\",\"#FF97FF\",\"#FECB52\"],\"font\":{\"color\":\"#2a3f5f\"},\"geo\":{\"bgcolor\":\"white\",\"lakecolor\":\"white\",\"landcolor\":\"#E5ECF6\",\"showlakes\":true,\"showland\":true,\"subunitcolor\":\"white\"},\"hoverlabel\":{\"align\":\"left\"},\"hovermode\":\"closest\",\"mapbox\":{\"style\":\"light\"},\"paper_bgcolor\":\"white\",\"plot_bgcolor\":\"#E5ECF6\",\"polar\":{\"angularaxis\":{\"gridcolor\":\"white\",\"linecolor\":\"white\",\"ticks\":\"\"},\"bgcolor\":\"#E5ECF6\",\"radialaxis\":{\"gridcolor\":\"white\",\"linecolor\":\"white\",\"ticks\":\"\"}},\"scene\":{\"xaxis\":{\"backgroundcolor\":\"#E5ECF6\",\"gridcolor\":\"white\",\"gridwidth\":2,\"linecolor\":\"white\",\"showbackground\":true,\"ticks\":\"\",\"zerolinecolor\":\"white\"},\"yaxis\":{\"backgroundcolor\":\"#E5ECF6\",\"gridcolor\":\"white\",\"gridwidth\":2,\"linecolor\":\"white\",\"showbackground\":true,\"ticks\":\"\",\"zerolinecolor\":\"white\"},\"zaxis\":{\"backgroundcolor\":\"#E5ECF6\",\"gridcolor\":\"white\",\"gridwidth\":2,\"linecolor\":\"white\",\"showbackground\":true,\"ticks\":\"\",\"zerolinecolor\":\"white\"}},\"shapedefaults\":{\"line\":{\"color\":\"#2a3f5f\"}},\"ternary\":{\"aaxis\":{\"gridcolor\":\"white\",\"linecolor\":\"white\",\"ticks\":\"\"},\"baxis\":{\"gridcolor\":\"white\",\"linecolor\":\"white\",\"ticks\":\"\"},\"bgcolor\":\"#E5ECF6\",\"caxis\":{\"gridcolor\":\"white\",\"linecolor\":\"white\",\"ticks\":\"\"}},\"title\":{\"x\":0.05},\"xaxis\":{\"automargin\":true,\"gridcolor\":\"white\",\"linecolor\":\"white\",\"ticks\":\"\",\"title\":{\"standoff\":15},\"zerolinecolor\":\"white\",\"zerolinewidth\":2},\"yaxis\":{\"automargin\":true,\"gridcolor\":\"white\",\"linecolor\":\"white\",\"ticks\":\"\",\"title\":{\"standoff\":15},\"zerolinecolor\":\"white\",\"zerolinewidth\":2}}},\"legend\":{\"tracegroupgap\":0},\"title\":{\"text\":\"Top 10 States GDP in 2020 (in million US current dollars)\"}},                        {\"responsive\": true}                    ).then(function(){\n",
       "                            \n",
       "var gd = document.getElementById('a0db4d63-2261-43be-89e8-99c69353e1b5');\n",
       "var x = new MutationObserver(function (mutations, observer) {{\n",
       "        var display = window.getComputedStyle(gd).display;\n",
       "        if (!display || display === 'none') {{\n",
       "            console.log([gd, 'removed!']);\n",
       "            Plotly.purge(gd);\n",
       "            observer.disconnect();\n",
       "        }}\n",
       "}});\n",
       "\n",
       "// Listen for the removal of the full notebook cells\n",
       "var notebookContainer = gd.closest('#notebook-container');\n",
       "if (notebookContainer) {{\n",
       "    x.observe(notebookContainer, {childList: true});\n",
       "}}\n",
       "\n",
       "// Listen for the clearing of the current output cell\n",
       "var outputEl = gd.closest('.output');\n",
       "if (outputEl) {{\n",
       "    x.observe(outputEl, {childList: true});\n",
       "}}\n",
       "\n",
       "                        })                };                });            </script>        </div>"
      ]
     },
     "metadata": {},
     "output_type": "display_data"
    }
   ],
   "source": [
    "fig = px.pie(data, values='2020', \n",
    "             names='GeoName', \n",
    "             title=\"Top 10 States GDP in 2020 (in million US current dollars)\", \n",
    "             labels={'GeoName':'State', \n",
    "                     '2020':'GDP'}\n",
    "            )\n",
    "fig.show()"
   ]
  },
  {
   "cell_type": "markdown",
   "id": "9df95bdb-c6ef-470b-9102-09ef545bda52",
   "metadata": {},
   "source": [
    "### TO DO\n",
    "\n",
    "**Question 1** Calculate the loss in each disaster as a fraction of the annual Gross Domestic Product (GDP) of the affected country in the year of the disaster. Expressed in this way, how do the disasters rank in terms of severity? Please use the values of GDP in the file `Files/GDP_data.csv` from the [World Bank](https://data.worldbank.org/indicator/NY.GDP.MKTP.CD) lass accessed on October 10, 2022."
   ]
  },
  {
   "cell_type": "markdown",
   "id": "5c1eca4a-e882-4bc5-9174-ae3619c435fb",
   "metadata": {},
   "source": [
    "**Answer**"
   ]
  },
  {
   "cell_type": "markdown",
   "id": "88ae88fe-b2c1-48fe-aaa4-6724d6d91e6d",
   "metadata": {},
   "source": [
    "<font style=\"color:red\">\n",
    "2010 Port-au-Prince Earthquake -- Haiti, $3 billion\n",
    "</font>"
   ]
  },
  {
   "cell_type": "code",
   "execution_count": 1,
   "id": "d7c228eb-71c3-4dd2-815f-2948fececcf3",
   "metadata": {},
   "outputs": [],
   "source": [
    "import pandas as pd"
   ]
  },
  {
   "cell_type": "code",
   "execution_count": 2,
   "id": "1b8234a5-d624-4d32-955c-e3b926aaf178",
   "metadata": {},
   "outputs": [
    {
     "data": {
      "text/plain": [
       "Index(['Country Name', 'Country Code', 'Indicator Name', 'Indicator Code',\n",
       "       '1960', '1961', '1962', '1963', '1964', '1965', '1966', '1967', '1968',\n",
       "       '1969', '1970', '1971', '1972', '1973', '1974', '1975', '1976', '1977',\n",
       "       '1978', '1979', '1980', '1981', '1982', '1983', '1984', '1985', '1986',\n",
       "       '1987', '1988', '1989', '1990', '1991', '1992', '1993', '1994', '1995',\n",
       "       '1996', '1997', '1998', '1999', '2000', '2001', '2002', '2003', '2004',\n",
       "       '2005', '2006', '2007', '2008', '2009', '2010', '2011', '2012', '2013',\n",
       "       '2014', '2015', '2016', '2017', '2018', '2019', '2020', '2021'],\n",
       "      dtype='object')"
      ]
     },
     "execution_count": 2,
     "metadata": {},
     "output_type": "execute_result"
    }
   ],
   "source": [
    "loss_2010 = 3e9        # US Dollars\n",
    "\n",
    "gdp_data = pd.read_csv('Files/GDP_Data.csv')\n",
    "gdp_data.columns"
   ]
  },
  {
   "cell_type": "code",
   "execution_count": 5,
   "id": "a0faf5c0-14b1-464e-b77f-f881b091dced",
   "metadata": {},
   "outputs": [
    {
     "data": {
      "text/html": [
       "<div>\n",
       "<style scoped>\n",
       "    .dataframe tbody tr th:only-of-type {\n",
       "        vertical-align: middle;\n",
       "    }\n",
       "\n",
       "    .dataframe tbody tr th {\n",
       "        vertical-align: top;\n",
       "    }\n",
       "\n",
       "    .dataframe thead th {\n",
       "        text-align: right;\n",
       "    }\n",
       "</style>\n",
       "<table border=\"1\" class=\"dataframe\">\n",
       "  <thead>\n",
       "    <tr style=\"text-align: right;\">\n",
       "      <th></th>\n",
       "      <th>Country Name</th>\n",
       "      <th>Country Code</th>\n",
       "      <th>Indicator Name</th>\n",
       "      <th>Indicator Code</th>\n",
       "      <th>1960</th>\n",
       "      <th>1961</th>\n",
       "      <th>1962</th>\n",
       "      <th>1963</th>\n",
       "      <th>1964</th>\n",
       "      <th>1965</th>\n",
       "      <th>...</th>\n",
       "      <th>2012</th>\n",
       "      <th>2013</th>\n",
       "      <th>2014</th>\n",
       "      <th>2015</th>\n",
       "      <th>2016</th>\n",
       "      <th>2017</th>\n",
       "      <th>2018</th>\n",
       "      <th>2019</th>\n",
       "      <th>2020</th>\n",
       "      <th>2021</th>\n",
       "    </tr>\n",
       "  </thead>\n",
       "  <tbody>\n",
       "    <tr>\n",
       "      <th>79</th>\n",
       "      <td>Haiti</td>\n",
       "      <td>HTI</td>\n",
       "      <td>GDP (current US$)</td>\n",
       "      <td>NY.GDP.MKTP.CD</td>\n",
       "      <td>273187200.0</td>\n",
       "      <td>271066000.0</td>\n",
       "      <td>281896800.0</td>\n",
       "      <td>294883400.0</td>\n",
       "      <td>325281200.0</td>\n",
       "      <td>353251800.0</td>\n",
       "      <td>...</td>\n",
       "      <td>1.370893e+10</td>\n",
       "      <td>1.490247e+10</td>\n",
       "      <td>1.513926e+10</td>\n",
       "      <td>1.483315e+10</td>\n",
       "      <td>1.398769e+10</td>\n",
       "      <td>1.503556e+10</td>\n",
       "      <td>1.645503e+10</td>\n",
       "      <td>1.478584e+10</td>\n",
       "      <td>1.450822e+10</td>\n",
       "      <td>2.094439e+10</td>\n",
       "    </tr>\n",
       "  </tbody>\n",
       "</table>\n",
       "<p>1 rows × 66 columns</p>\n",
       "</div>"
      ],
      "text/plain": [
       "   Country Name Country Code     Indicator Name  Indicator Code         1960  \\\n",
       "79        Haiti          HTI  GDP (current US$)  NY.GDP.MKTP.CD  273187200.0   \n",
       "\n",
       "           1961         1962         1963         1964         1965  ...  \\\n",
       "79  271066000.0  281896800.0  294883400.0  325281200.0  353251800.0  ...   \n",
       "\n",
       "            2012          2013          2014          2015          2016  \\\n",
       "79  1.370893e+10  1.490247e+10  1.513926e+10  1.483315e+10  1.398769e+10   \n",
       "\n",
       "            2017          2018          2019          2020          2021  \n",
       "79  1.503556e+10  1.645503e+10  1.478584e+10  1.450822e+10  2.094439e+10  \n",
       "\n",
       "[1 rows x 66 columns]"
      ]
     },
     "execution_count": 5,
     "metadata": {},
     "output_type": "execute_result"
    }
   ],
   "source": [
    "# How to select a specific country\n",
    "gdp_haiti = gdp_data[gdp_data['Country Name'] == 'Haiti']\n",
    "gdp_haiti"
   ]
  },
  {
   "cell_type": "code",
   "execution_count": 11,
   "id": "024d83d9-fc01-4f8f-b998-14434315ed28",
   "metadata": {},
   "outputs": [
    {
     "name": "stdout",
     "output_type": "stream",
     "text": [
      "The loss in 2010 Port-au-Prince Earthquake in Haiti is 25.30 % of Haiti's GDP\n"
     ]
    }
   ],
   "source": [
    "gdp_haiti_2010 = gdp_haiti['2010']\n",
    "percent_loss_2010 = (loss_2010 / gdp_haiti_2010) * 100\n",
    "print(\"The loss in 2010 Port-au-Prince Earthquake in Haiti is %.2f %% of Haiti's GDP\" % percent_loss_2010)"
   ]
  },
  {
   "cell_type": "markdown",
   "id": "ce3c76b8-4cb6-42b2-87ad-203f5e46d51e",
   "metadata": {},
   "source": [
    "<font style=\"color:red\">\n",
    "2014 Laudian Earthquake -- China, $10 billion\n",
    "</font>"
   ]
  },
  {
   "cell_type": "code",
   "execution_count": 13,
   "id": "205b2d2b-3548-4408-a2b6-f71e8fddcac1",
   "metadata": {},
   "outputs": [
    {
     "name": "stdout",
     "output_type": "stream",
     "text": [
      "The loss in 2014 Laudian Earthquake in China is 0.10 % of China's GDP\n"
     ]
    }
   ],
   "source": [
    "loss_2014 = 10e9        # US Dollars\n",
    "gdp_china_2014 = gdp_data[gdp_data['Country Name'] == 'China']['2014']\n",
    "percent_loss_2014 = (loss_2014 / gdp_china_2014) * 100\n",
    "print(\"The loss in 2014 Laudian Earthquake in China is %.2f %% of China's GDP\" % percent_loss_2014)"
   ]
  },
  {
   "cell_type": "markdown",
   "id": "c3df5a4f-4fb1-4ed8-9d79-6ecae9d861ab",
   "metadata": {
    "tags": []
   },
   "source": [
    "<font style=\"color:red\">\n",
    "2005 Hurricane Katrina -- USA, $150 billion\n",
    "</font>"
   ]
  },
  {
   "cell_type": "code",
   "execution_count": 14,
   "id": "cbe6241e-8374-4144-bc8e-3ee60d0ccce2",
   "metadata": {},
   "outputs": [
    {
     "name": "stdout",
     "output_type": "stream",
     "text": [
      "The loss in 2005 Hurricane Katrina in USA is 1.15 % of USA's GDP\n"
     ]
    }
   ],
   "source": [
    "loss_2005 = 150e9        # US Dollars\n",
    "gdp_usa_2005 = gdp_data[gdp_data['Country Name'] == 'United States']['2005']\n",
    "percent_loss_2005 = (loss_2005 / gdp_usa_2005) * 100\n",
    "print(\"The loss in 2005 Hurricane Katrina in USA is %.2f %% of USA's GDP\" % percent_loss_2005)"
   ]
  },
  {
   "cell_type": "markdown",
   "id": "c5074029-7229-42d1-8d53-a6a26fe7bb0e",
   "metadata": {},
   "source": [
    "<font style=\"color:red\">\n",
    "2011 M9.1 Earthquake -- Japan, $200 billion\n",
    "</font>"
   ]
  },
  {
   "cell_type": "code",
   "execution_count": 15,
   "id": "fc3c8d59-eea0-440c-a02a-7283d391bce4",
   "metadata": {},
   "outputs": [
    {
     "name": "stdout",
     "output_type": "stream",
     "text": [
      "The loss in 2011 M9.1 Earthquake in Japan is 3.21 % of Japan's GDP\n"
     ]
    }
   ],
   "source": [
    "loss_2011 = 200e9        # US Dollars\n",
    "gdp_japan_2011 = gdp_data[gdp_data['Country Name'] == 'Japan']['2011']\n",
    "percent_loss_2011 = (loss_2011 / gdp_japan_2011) * 100\n",
    "print(\"The loss in 2011 M9.1 Earthquake in Japan is %.2f %% of Japan's GDP\" % percent_loss_2011)"
   ]
  },
  {
   "cell_type": "markdown",
   "id": "4cd36136-a171-4cd5-b0b1-e604d1b81d17",
   "metadata": {},
   "source": [
    "<font style=\"color:red\">\n",
    "2012 Hurricane Sandy -- USA, $150 billion\n",
    "</font>"
   ]
  },
  {
   "cell_type": "code",
   "execution_count": 16,
   "id": "7b3a3b39-93bb-4118-97a0-fc193a7b27ac",
   "metadata": {},
   "outputs": [
    {
     "name": "stdout",
     "output_type": "stream",
     "text": [
      "The loss in 2012 Hurrican Sandy in USA is 0.92 % of USA's GDP\n"
     ]
    }
   ],
   "source": [
    "loss_2012 = 150e9        # US Dollars\n",
    "gdp_usa_2012 = gdp_data[gdp_data['Country Name'] == 'United States']['2012']\n",
    "percent_loss_2012 = (loss_2012 / gdp_usa_2012) * 100\n",
    "print(\"The loss in 2012 Hurrican Sandy in USA is %.2f %% of USA's GDP\" % percent_loss_2012)"
   ]
  },
  {
   "cell_type": "markdown",
   "id": "1ec9927a-bdeb-4e14-8879-db35b09cdf13",
   "metadata": {},
   "source": [
    "<font style=\"color:red\">\n",
    "1998 Hurricane Mitch -- Honduras, $4 billion\n",
    "</font>"
   ]
  },
  {
   "cell_type": "code",
   "execution_count": 24,
   "id": "27a702ab-c5f7-40ba-92d8-6c0aef69f892",
   "metadata": {},
   "outputs": [
    {
     "name": "stdout",
     "output_type": "stream",
     "text": [
      "The loss in 1998 Hurricane Mitch in Honduras is 62.83 % of Honduras's GDP\n"
     ]
    }
   ],
   "source": [
    "loss_1998 = 4e9        # US Dollars\n",
    "gdp_honduras_1998 = gdp_data[gdp_data['Country Name'] == 'Honduras']['1998']\n",
    "percent_loss_1998 = (loss_1998 / gdp_honduras_1998) * 100\n",
    "print(\"The loss in 1998 Hurricane Mitch in Honduras is %.2f %% of Honduras's GDP\" % percent_loss_1998)"
   ]
  },
  {
   "cell_type": "markdown",
   "id": "1bf6fa79-175e-4104-b583-1c014b35e74c",
   "metadata": {},
   "source": [
    "<font style=\"color:red\">\n",
    "Here are the disasters ranked in severity.\n",
    "</font>\n",
    "\n",
    "|Rank|Year|Event                    |Country |Economic loss|Percent GDP|\n",
    "|----|----|-------------------------|--------|-------------|-----------|\n",
    "| 1  |1998|Hurricane Mitch          |Honduras|  \\$4 billion| 62.83 %   |\n",
    "| 2  |2010|Port-au-Prince Earthquake|Haiti   |  \\$3 billion| 25.30 %   |\n",
    "| 3  |2011|M9.1 Earthquake          |Japan   |\\$200 billion|  3.21 %   |\n",
    "| 4  |2005|Hurricane Katrina        |USA     |\\$150 billion|  1.15 %   |\n",
    "| 5  |2012|Hurricane Sandy          |USA     |\\$150 billion|  0.92 %   |\n",
    "| 6  |2014|Laudian Earthquake       |China   | \\$10 billion|  0.10 %   |"
   ]
  },
  {
   "cell_type": "markdown",
   "id": "ff491771-8da3-4306-84e8-d50d93402120",
   "metadata": {},
   "source": [
    "**Question 2** For the two US disasters in the table, calculate the loss as a fraction of the annual economic output (Gross State Product or equivalent) of New York + New Jersey (for hurricane Sandy) and Louisiana (for hurricane Katrina). (More than 90% of monetary losses from Katrina occurred in Louisiana.) Please use the GDP values from `Files/State_GDP_Current_Dollar.csv`. Be careful about the units. "
   ]
  },
  {
   "cell_type": "markdown",
   "id": "85b31978-ee4c-4c01-992a-30420a06831a",
   "metadata": {},
   "source": [
    "**Answer**"
   ]
  },
  {
   "cell_type": "markdown",
   "id": "d84ba8c1-1c3a-42cf-9f45-c268993fb0aa",
   "metadata": {
    "tags": []
   },
   "source": [
    "<font style=\"color:red\">\n",
    "2005 Hurricane Katrina -- Louisiana, $150 billion\n",
    "</font>"
   ]
  },
  {
   "cell_type": "code",
   "execution_count": 26,
   "id": "db4dce3f-3e88-45a6-af24-5121c5fa9342",
   "metadata": {
    "collapsed": true,
    "jupyter": {
     "outputs_hidden": true
    },
    "tags": []
   },
   "outputs": [
    {
     "data": {
      "text/html": [
       "<div>\n",
       "<style scoped>\n",
       "    .dataframe tbody tr th:only-of-type {\n",
       "        vertical-align: middle;\n",
       "    }\n",
       "\n",
       "    .dataframe tbody tr th {\n",
       "        vertical-align: top;\n",
       "    }\n",
       "\n",
       "    .dataframe thead th {\n",
       "        text-align: right;\n",
       "    }\n",
       "</style>\n",
       "<table border=\"1\" class=\"dataframe\">\n",
       "  <thead>\n",
       "    <tr style=\"text-align: right;\">\n",
       "      <th></th>\n",
       "      <th>GeoFIPS</th>\n",
       "      <th>GeoName</th>\n",
       "      <th>Region</th>\n",
       "      <th>TableName</th>\n",
       "      <th>LineCode</th>\n",
       "      <th>IndustryClassification</th>\n",
       "      <th>Description</th>\n",
       "      <th>Unit</th>\n",
       "      <th>1997</th>\n",
       "      <th>1998</th>\n",
       "      <th>...</th>\n",
       "      <th>2011</th>\n",
       "      <th>2012</th>\n",
       "      <th>2013</th>\n",
       "      <th>2014</th>\n",
       "      <th>2015</th>\n",
       "      <th>2016</th>\n",
       "      <th>2017</th>\n",
       "      <th>2018</th>\n",
       "      <th>2019</th>\n",
       "      <th>2020</th>\n",
       "    </tr>\n",
       "  </thead>\n",
       "  <tbody>\n",
       "    <tr>\n",
       "      <th>0</th>\n",
       "      <td>\"50000\"</td>\n",
       "      <td>Vermont</td>\n",
       "      <td>1</td>\n",
       "      <td>SAGDP1</td>\n",
       "      <td>3</td>\n",
       "      <td>...</td>\n",
       "      <td>Current-dollar GDP (millions of current dollars)</td>\n",
       "      <td>Millions of current dollars</td>\n",
       "      <td>15454.7</td>\n",
       "      <td>16080.7</td>\n",
       "      <td>...</td>\n",
       "      <td>28418.7</td>\n",
       "      <td>29241.3</td>\n",
       "      <td>29289.6</td>\n",
       "      <td>30099.4</td>\n",
       "      <td>30933.3</td>\n",
       "      <td>31661.2</td>\n",
       "      <td>32246.9</td>\n",
       "      <td>33032.7</td>\n",
       "      <td>34127.5</td>\n",
       "      <td>33435.0</td>\n",
       "    </tr>\n",
       "    <tr>\n",
       "      <th>1</th>\n",
       "      <td>\"56000\"</td>\n",
       "      <td>Wyoming</td>\n",
       "      <td>7</td>\n",
       "      <td>SAGDP1</td>\n",
       "      <td>3</td>\n",
       "      <td>...</td>\n",
       "      <td>Current-dollar GDP (millions of current dollars)</td>\n",
       "      <td>Millions of current dollars</td>\n",
       "      <td>14654.5</td>\n",
       "      <td>14840.2</td>\n",
       "      <td>...</td>\n",
       "      <td>39751.4</td>\n",
       "      <td>38855.4</td>\n",
       "      <td>39289.8</td>\n",
       "      <td>40310.6</td>\n",
       "      <td>38426.9</td>\n",
       "      <td>35879.0</td>\n",
       "      <td>36863.7</td>\n",
       "      <td>39032.3</td>\n",
       "      <td>39600.8</td>\n",
       "      <td>36323.5</td>\n",
       "    </tr>\n",
       "    <tr>\n",
       "      <th>2</th>\n",
       "      <td>\"02000\"</td>\n",
       "      <td>Alaska</td>\n",
       "      <td>8</td>\n",
       "      <td>SAGDP1</td>\n",
       "      <td>3</td>\n",
       "      <td>...</td>\n",
       "      <td>Current-dollar GDP (millions of current dollars)</td>\n",
       "      <td>Millions of current dollars</td>\n",
       "      <td>25810.8</td>\n",
       "      <td>24227.5</td>\n",
       "      <td>...</td>\n",
       "      <td>56896.3</td>\n",
       "      <td>58283.6</td>\n",
       "      <td>57247.7</td>\n",
       "      <td>56484.9</td>\n",
       "      <td>51490.9</td>\n",
       "      <td>50727.7</td>\n",
       "      <td>53089.3</td>\n",
       "      <td>54711.7</td>\n",
       "      <td>54547.1</td>\n",
       "      <td>49820.0</td>\n",
       "    </tr>\n",
       "    <tr>\n",
       "      <th>3</th>\n",
       "      <td>\"30000\"</td>\n",
       "      <td>Montana</td>\n",
       "      <td>7</td>\n",
       "      <td>SAGDP1</td>\n",
       "      <td>3</td>\n",
       "      <td>...</td>\n",
       "      <td>Current-dollar GDP (millions of current dollars)</td>\n",
       "      <td>Millions of current dollars</td>\n",
       "      <td>19290.4</td>\n",
       "      <td>20429.1</td>\n",
       "      <td>...</td>\n",
       "      <td>40995.1</td>\n",
       "      <td>42340.9</td>\n",
       "      <td>43687.9</td>\n",
       "      <td>45177.2</td>\n",
       "      <td>46604.1</td>\n",
       "      <td>45490.9</td>\n",
       "      <td>48439.5</td>\n",
       "      <td>50903.8</td>\n",
       "      <td>51789.3</td>\n",
       "      <td>51508.8</td>\n",
       "    </tr>\n",
       "    <tr>\n",
       "      <th>4</th>\n",
       "      <td>\"46000\"</td>\n",
       "      <td>South Dakota</td>\n",
       "      <td>4</td>\n",
       "      <td>SAGDP1</td>\n",
       "      <td>3</td>\n",
       "      <td>...</td>\n",
       "      <td>Current-dollar GDP (millions of current dollars)</td>\n",
       "      <td>Millions of current dollars</td>\n",
       "      <td>19031.4</td>\n",
       "      <td>20228.1</td>\n",
       "      <td>...</td>\n",
       "      <td>41892.1</td>\n",
       "      <td>43901.5</td>\n",
       "      <td>45361.0</td>\n",
       "      <td>46785.4</td>\n",
       "      <td>48070.2</td>\n",
       "      <td>49151.4</td>\n",
       "      <td>50299.4</td>\n",
       "      <td>52404.3</td>\n",
       "      <td>53939.9</td>\n",
       "      <td>54789.4</td>\n",
       "    </tr>\n",
       "    <tr>\n",
       "      <th>5</th>\n",
       "      <td>\"38000\"</td>\n",
       "      <td>North Dakota</td>\n",
       "      <td>4</td>\n",
       "      <td>SAGDP1</td>\n",
       "      <td>3</td>\n",
       "      <td>...</td>\n",
       "      <td>Current-dollar GDP (millions of current dollars)</td>\n",
       "      <td>Millions of current dollars</td>\n",
       "      <td>15760.8</td>\n",
       "      <td>16816.6</td>\n",
       "      <td>...</td>\n",
       "      <td>41587.7</td>\n",
       "      <td>51832.6</td>\n",
       "      <td>54271.0</td>\n",
       "      <td>59926.3</td>\n",
       "      <td>55996.9</td>\n",
       "      <td>51989.2</td>\n",
       "      <td>55228.0</td>\n",
       "      <td>59092.6</td>\n",
       "      <td>59004.5</td>\n",
       "      <td>54854.2</td>\n",
       "    </tr>\n",
       "    <tr>\n",
       "      <th>6</th>\n",
       "      <td>\"44000\"</td>\n",
       "      <td>Rhode Island</td>\n",
       "      <td>1</td>\n",
       "      <td>SAGDP1</td>\n",
       "      <td>3</td>\n",
       "      <td>...</td>\n",
       "      <td>Current-dollar GDP (millions of current dollars)</td>\n",
       "      <td>Millions of current dollars</td>\n",
       "      <td>28928.8</td>\n",
       "      <td>30818.5</td>\n",
       "      <td>...</td>\n",
       "      <td>50206.1</td>\n",
       "      <td>51583.0</td>\n",
       "      <td>53034.1</td>\n",
       "      <td>54559.7</td>\n",
       "      <td>56390.8</td>\n",
       "      <td>57353.5</td>\n",
       "      <td>57940.8</td>\n",
       "      <td>59129.0</td>\n",
       "      <td>61319.1</td>\n",
       "      <td>60556.3</td>\n",
       "    </tr>\n",
       "    <tr>\n",
       "      <th>7</th>\n",
       "      <td>\"23000\"</td>\n",
       "      <td>Maine</td>\n",
       "      <td>1</td>\n",
       "      <td>SAGDP1</td>\n",
       "      <td>3</td>\n",
       "      <td>...</td>\n",
       "      <td>Current-dollar GDP (millions of current dollars)</td>\n",
       "      <td>Millions of current dollars</td>\n",
       "      <td>30618.4</td>\n",
       "      <td>32156.2</td>\n",
       "      <td>...</td>\n",
       "      <td>52575.5</td>\n",
       "      <td>53679.7</td>\n",
       "      <td>54470.1</td>\n",
       "      <td>56410.8</td>\n",
       "      <td>58131.3</td>\n",
       "      <td>60254.4</td>\n",
       "      <td>62412.9</td>\n",
       "      <td>65491.9</td>\n",
       "      <td>68452.9</td>\n",
       "      <td>69271.8</td>\n",
       "    </tr>\n",
       "    <tr>\n",
       "      <th>8</th>\n",
       "      <td>\"10000\"</td>\n",
       "      <td>Delaware</td>\n",
       "      <td>2</td>\n",
       "      <td>SAGDP1</td>\n",
       "      <td>3</td>\n",
       "      <td>...</td>\n",
       "      <td>Current-dollar GDP (millions of current dollars)</td>\n",
       "      <td>Millions of current dollars</td>\n",
       "      <td>33353.4</td>\n",
       "      <td>37106.0</td>\n",
       "      <td>...</td>\n",
       "      <td>61372.2</td>\n",
       "      <td>62354.6</td>\n",
       "      <td>61716.2</td>\n",
       "      <td>68354.7</td>\n",
       "      <td>71913.9</td>\n",
       "      <td>69355.0</td>\n",
       "      <td>68763.8</td>\n",
       "      <td>72488.0</td>\n",
       "      <td>77042.2</td>\n",
       "      <td>75786.5</td>\n",
       "    </tr>\n",
       "    <tr>\n",
       "      <th>9</th>\n",
       "      <td>\"54000\"</td>\n",
       "      <td>West Virginia</td>\n",
       "      <td>5</td>\n",
       "      <td>SAGDP1</td>\n",
       "      <td>3</td>\n",
       "      <td>...</td>\n",
       "      <td>Current-dollar GDP (millions of current dollars)</td>\n",
       "      <td>Millions of current dollars</td>\n",
       "      <td>38777.5</td>\n",
       "      <td>40014.6</td>\n",
       "      <td>...</td>\n",
       "      <td>69234.1</td>\n",
       "      <td>70322.2</td>\n",
       "      <td>71481.5</td>\n",
       "      <td>72648.2</td>\n",
       "      <td>71318.5</td>\n",
       "      <td>70924.4</td>\n",
       "      <td>74799.5</td>\n",
       "      <td>79044.8</td>\n",
       "      <td>79139.7</td>\n",
       "      <td>75855.0</td>\n",
       "    </tr>\n",
       "    <tr>\n",
       "      <th>10</th>\n",
       "      <td>\"15000\"</td>\n",
       "      <td>Hawaii</td>\n",
       "      <td>8</td>\n",
       "      <td>SAGDP1</td>\n",
       "      <td>3</td>\n",
       "      <td>...</td>\n",
       "      <td>Current-dollar GDP (millions of current dollars)</td>\n",
       "      <td>Millions of current dollars</td>\n",
       "      <td>37707.4</td>\n",
       "      <td>37622.9</td>\n",
       "      <td>...</td>\n",
       "      <td>69083.9</td>\n",
       "      <td>71905.3</td>\n",
       "      <td>74554.9</td>\n",
       "      <td>76773.3</td>\n",
       "      <td>81230.3</td>\n",
       "      <td>83914.4</td>\n",
       "      <td>87177.8</td>\n",
       "      <td>90276.4</td>\n",
       "      <td>91781.1</td>\n",
       "      <td>82884.6</td>\n",
       "    </tr>\n",
       "    <tr>\n",
       "      <th>11</th>\n",
       "      <td>\"16000\"</td>\n",
       "      <td>Idaho</td>\n",
       "      <td>7</td>\n",
       "      <td>SAGDP1</td>\n",
       "      <td>3</td>\n",
       "      <td>...</td>\n",
       "      <td>Current-dollar GDP (millions of current dollars)</td>\n",
       "      <td>Millions of current dollars</td>\n",
       "      <td>29496.9</td>\n",
       "      <td>31059.8</td>\n",
       "      <td>...</td>\n",
       "      <td>56941.1</td>\n",
       "      <td>58323.9</td>\n",
       "      <td>61835.8</td>\n",
       "      <td>64575.2</td>\n",
       "      <td>65899.9</td>\n",
       "      <td>68837.4</td>\n",
       "      <td>71688.4</td>\n",
       "      <td>77493.9</td>\n",
       "      <td>82420.1</td>\n",
       "      <td>83821.6</td>\n",
       "    </tr>\n",
       "    <tr>\n",
       "      <th>12</th>\n",
       "      <td>\"33000\"</td>\n",
       "      <td>New Hampshire</td>\n",
       "      <td>1</td>\n",
       "      <td>SAGDP1</td>\n",
       "      <td>3</td>\n",
       "      <td>...</td>\n",
       "      <td>Current-dollar GDP (millions of current dollars)</td>\n",
       "      <td>Millions of current dollars</td>\n",
       "      <td>38206.6</td>\n",
       "      <td>40554.0</td>\n",
       "      <td>...</td>\n",
       "      <td>66153.2</td>\n",
       "      <td>68498.1</td>\n",
       "      <td>70476.2</td>\n",
       "      <td>72995.2</td>\n",
       "      <td>76478.0</td>\n",
       "      <td>79090.1</td>\n",
       "      <td>80665.9</td>\n",
       "      <td>83844.0</td>\n",
       "      <td>87507.6</td>\n",
       "      <td>87621.0</td>\n",
       "    </tr>\n",
       "    <tr>\n",
       "      <th>13</th>\n",
       "      <td>\"35000\"</td>\n",
       "      <td>New Mexico</td>\n",
       "      <td>6</td>\n",
       "      <td>SAGDP1</td>\n",
       "      <td>3</td>\n",
       "      <td>...</td>\n",
       "      <td>Current-dollar GDP (millions of current dollars)</td>\n",
       "      <td>Millions of current dollars</td>\n",
       "      <td>52475.6</td>\n",
       "      <td>50658.7</td>\n",
       "      <td>...</td>\n",
       "      <td>87062.8</td>\n",
       "      <td>87925.2</td>\n",
       "      <td>88756.9</td>\n",
       "      <td>92185.7</td>\n",
       "      <td>90274.3</td>\n",
       "      <td>89769.4</td>\n",
       "      <td>92311.1</td>\n",
       "      <td>97269.2</td>\n",
       "      <td>101971.5</td>\n",
       "      <td>98472.1</td>\n",
       "    </tr>\n",
       "    <tr>\n",
       "      <th>14</th>\n",
       "      <td>\"28000\"</td>\n",
       "      <td>Mississippi</td>\n",
       "      <td>5</td>\n",
       "      <td>SAGDP1</td>\n",
       "      <td>3</td>\n",
       "      <td>...</td>\n",
       "      <td>Current-dollar GDP (millions of current dollars)</td>\n",
       "      <td>Millions of current dollars</td>\n",
       "      <td>58352.7</td>\n",
       "      <td>60940.4</td>\n",
       "      <td>...</td>\n",
       "      <td>96218.0</td>\n",
       "      <td>100448.4</td>\n",
       "      <td>102371.0</td>\n",
       "      <td>104300.3</td>\n",
       "      <td>105914.6</td>\n",
       "      <td>107291.4</td>\n",
       "      <td>109962.5</td>\n",
       "      <td>112406.8</td>\n",
       "      <td>114733.8</td>\n",
       "      <td>113845.7</td>\n",
       "    </tr>\n",
       "    <tr>\n",
       "      <th>15</th>\n",
       "      <td>\"05000\"</td>\n",
       "      <td>Arkansas</td>\n",
       "      <td>5</td>\n",
       "      <td>SAGDP1</td>\n",
       "      <td>3</td>\n",
       "      <td>...</td>\n",
       "      <td>Current-dollar GDP (millions of current dollars)</td>\n",
       "      <td>Millions of current dollars</td>\n",
       "      <td>59846.3</td>\n",
       "      <td>62396.7</td>\n",
       "      <td>...</td>\n",
       "      <td>105768.1</td>\n",
       "      <td>108492.1</td>\n",
       "      <td>113227.3</td>\n",
       "      <td>116139.4</td>\n",
       "      <td>117786.8</td>\n",
       "      <td>119152.4</td>\n",
       "      <td>122350.2</td>\n",
       "      <td>127306.5</td>\n",
       "      <td>130839.9</td>\n",
       "      <td>130750.7</td>\n",
       "    </tr>\n",
       "    <tr>\n",
       "      <th>16</th>\n",
       "      <td>\"31000\"</td>\n",
       "      <td>Nebraska</td>\n",
       "      <td>4</td>\n",
       "      <td>SAGDP1</td>\n",
       "      <td>3</td>\n",
       "      <td>...</td>\n",
       "      <td>Current-dollar GDP (millions of current dollars)</td>\n",
       "      <td>Millions of current dollars</td>\n",
       "      <td>49819.2</td>\n",
       "      <td>51822.1</td>\n",
       "      <td>...</td>\n",
       "      <td>99921.1</td>\n",
       "      <td>102725.9</td>\n",
       "      <td>107260.7</td>\n",
       "      <td>111945.9</td>\n",
       "      <td>116514.6</td>\n",
       "      <td>118145.9</td>\n",
       "      <td>121946.3</td>\n",
       "      <td>126922.7</td>\n",
       "      <td>131352.4</td>\n",
       "      <td>133439.0</td>\n",
       "    </tr>\n",
       "    <tr>\n",
       "      <th>17</th>\n",
       "      <td>\"11000\"</td>\n",
       "      <td>District of Columbia</td>\n",
       "      <td>2</td>\n",
       "      <td>SAGDP1</td>\n",
       "      <td>3</td>\n",
       "      <td>...</td>\n",
       "      <td>Current-dollar GDP (millions of current dollars)</td>\n",
       "      <td>Millions of current dollars</td>\n",
       "      <td>52503.6</td>\n",
       "      <td>54815.3</td>\n",
       "      <td>...</td>\n",
       "      <td>109730.4</td>\n",
       "      <td>112157.0</td>\n",
       "      <td>114540.1</td>\n",
       "      <td>119414.6</td>\n",
       "      <td>124604.7</td>\n",
       "      <td>129648.6</td>\n",
       "      <td>133391.2</td>\n",
       "      <td>139784.8</td>\n",
       "      <td>144405.7</td>\n",
       "      <td>144554.8</td>\n",
       "    </tr>\n",
       "    <tr>\n",
       "      <th>18</th>\n",
       "      <td>\"32000\"</td>\n",
       "      <td>Nevada</td>\n",
       "      <td>8</td>\n",
       "      <td>SAGDP1</td>\n",
       "      <td>3</td>\n",
       "      <td>...</td>\n",
       "      <td>Current-dollar GDP (millions of current dollars)</td>\n",
       "      <td>Millions of current dollars</td>\n",
       "      <td>60259.1</td>\n",
       "      <td>65114.2</td>\n",
       "      <td>...</td>\n",
       "      <td>127677.9</td>\n",
       "      <td>129312.9</td>\n",
       "      <td>132086.4</td>\n",
       "      <td>136008.7</td>\n",
       "      <td>145115.9</td>\n",
       "      <td>151840.4</td>\n",
       "      <td>160785.0</td>\n",
       "      <td>170352.9</td>\n",
       "      <td>181743.3</td>\n",
       "      <td>170943.8</td>\n",
       "    </tr>\n",
       "    <tr>\n",
       "      <th>19</th>\n",
       "      <td>\"20000\"</td>\n",
       "      <td>Kansas</td>\n",
       "      <td>4</td>\n",
       "      <td>SAGDP1</td>\n",
       "      <td>3</td>\n",
       "      <td>...</td>\n",
       "      <td>Current-dollar GDP (millions of current dollars)</td>\n",
       "      <td>Millions of current dollars</td>\n",
       "      <td>74662.3</td>\n",
       "      <td>78382.0</td>\n",
       "      <td>...</td>\n",
       "      <td>136358.9</td>\n",
       "      <td>141818.2</td>\n",
       "      <td>144483.2</td>\n",
       "      <td>150183.6</td>\n",
       "      <td>154958.2</td>\n",
       "      <td>160451.0</td>\n",
       "      <td>164923.3</td>\n",
       "      <td>172327.5</td>\n",
       "      <td>176738.5</td>\n",
       "      <td>175141.8</td>\n",
       "    </tr>\n",
       "    <tr>\n",
       "      <th>20</th>\n",
       "      <td>\"40000\"</td>\n",
       "      <td>Oklahoma</td>\n",
       "      <td>6</td>\n",
       "      <td>SAGDP1</td>\n",
       "      <td>3</td>\n",
       "      <td>...</td>\n",
       "      <td>Current-dollar GDP (millions of current dollars)</td>\n",
       "      <td>Millions of current dollars</td>\n",
       "      <td>79044.4</td>\n",
       "      <td>81196.9</td>\n",
       "      <td>...</td>\n",
       "      <td>166235.8</td>\n",
       "      <td>174874.4</td>\n",
       "      <td>182694.7</td>\n",
       "      <td>196631.6</td>\n",
       "      <td>186815.6</td>\n",
       "      <td>181244.4</td>\n",
       "      <td>190674.5</td>\n",
       "      <td>202466.6</td>\n",
       "      <td>203699.7</td>\n",
       "      <td>188056.6</td>\n",
       "    </tr>\n",
       "    <tr>\n",
       "      <th>21</th>\n",
       "      <td>\"19000\"</td>\n",
       "      <td>Iowa</td>\n",
       "      <td>4</td>\n",
       "      <td>SAGDP1</td>\n",
       "      <td>3</td>\n",
       "      <td>...</td>\n",
       "      <td>Current-dollar GDP (millions of current dollars)</td>\n",
       "      <td>Millions of current dollars</td>\n",
       "      <td>82720.4</td>\n",
       "      <td>84644.0</td>\n",
       "      <td>...</td>\n",
       "      <td>148477.6</td>\n",
       "      <td>158538.4</td>\n",
       "      <td>162200.3</td>\n",
       "      <td>173095.9</td>\n",
       "      <td>180299.3</td>\n",
       "      <td>181011.4</td>\n",
       "      <td>183549.8</td>\n",
       "      <td>190403.1</td>\n",
       "      <td>194322.6</td>\n",
       "      <td>194267.6</td>\n",
       "    </tr>\n",
       "    <tr>\n",
       "      <th>22</th>\n",
       "      <td>\"49000\"</td>\n",
       "      <td>Utah</td>\n",
       "      <td>7</td>\n",
       "      <td>SAGDP1</td>\n",
       "      <td>3</td>\n",
       "      <td>...</td>\n",
       "      <td>Current-dollar GDP (millions of current dollars)</td>\n",
       "      <td>Millions of current dollars</td>\n",
       "      <td>57684.0</td>\n",
       "      <td>62296.1</td>\n",
       "      <td>...</td>\n",
       "      <td>125565.0</td>\n",
       "      <td>129512.5</td>\n",
       "      <td>135450.4</td>\n",
       "      <td>142150.1</td>\n",
       "      <td>149153.4</td>\n",
       "      <td>157827.3</td>\n",
       "      <td>168058.4</td>\n",
       "      <td>182643.6</td>\n",
       "      <td>195088.4</td>\n",
       "      <td>197561.9</td>\n",
       "    </tr>\n",
       "    <tr>\n",
       "      <th>23</th>\n",
       "      <td>\"21000\"</td>\n",
       "      <td>Kentucky</td>\n",
       "      <td>5</td>\n",
       "      <td>SAGDP1</td>\n",
       "      <td>3</td>\n",
       "      <td>...</td>\n",
       "      <td>Current-dollar GDP (millions of current dollars)</td>\n",
       "      <td>Millions of current dollars</td>\n",
       "      <td>104546.2</td>\n",
       "      <td>109382.3</td>\n",
       "      <td>...</td>\n",
       "      <td>171586.9</td>\n",
       "      <td>178143.7</td>\n",
       "      <td>184524.4</td>\n",
       "      <td>187983.8</td>\n",
       "      <td>193413.1</td>\n",
       "      <td>196484.9</td>\n",
       "      <td>201555.0</td>\n",
       "      <td>208250.3</td>\n",
       "      <td>216101.5</td>\n",
       "      <td>212539.6</td>\n",
       "    </tr>\n",
       "    <tr>\n",
       "      <th>24</th>\n",
       "      <td>\"01000\"</td>\n",
       "      <td>Alabama</td>\n",
       "      <td>5</td>\n",
       "      <td>SAGDP1</td>\n",
       "      <td>3</td>\n",
       "      <td>...</td>\n",
       "      <td>Current-dollar GDP (millions of current dollars)</td>\n",
       "      <td>Millions of current dollars</td>\n",
       "      <td>104811.9</td>\n",
       "      <td>110212.0</td>\n",
       "      <td>...</td>\n",
       "      <td>183916.6</td>\n",
       "      <td>189245.5</td>\n",
       "      <td>194786.9</td>\n",
       "      <td>197406.9</td>\n",
       "      <td>202372.4</td>\n",
       "      <td>207368.4</td>\n",
       "      <td>215085.9</td>\n",
       "      <td>224046.9</td>\n",
       "      <td>231171.8</td>\n",
       "      <td>226896.5</td>\n",
       "    </tr>\n",
       "    <tr>\n",
       "      <th>25</th>\n",
       "      <td>\"22000\"</td>\n",
       "      <td>Louisiana</td>\n",
       "      <td>5</td>\n",
       "      <td>SAGDP1</td>\n",
       "      <td>3</td>\n",
       "      <td>...</td>\n",
       "      <td>Current-dollar GDP (millions of current dollars)</td>\n",
       "      <td>Millions of current dollars</td>\n",
       "      <td>116313.2</td>\n",
       "      <td>120198.1</td>\n",
       "      <td>...</td>\n",
       "      <td>229945.0</td>\n",
       "      <td>235384.7</td>\n",
       "      <td>230832.5</td>\n",
       "      <td>240737.3</td>\n",
       "      <td>235113.5</td>\n",
       "      <td>227090.7</td>\n",
       "      <td>241704.2</td>\n",
       "      <td>255810.3</td>\n",
       "      <td>254562.0</td>\n",
       "      <td>235437.4</td>\n",
       "    </tr>\n",
       "    <tr>\n",
       "      <th>26</th>\n",
       "      <td>\"41000\"</td>\n",
       "      <td>Oregon</td>\n",
       "      <td>8</td>\n",
       "      <td>SAGDP1</td>\n",
       "      <td>3</td>\n",
       "      <td>...</td>\n",
       "      <td>Current-dollar GDP (millions of current dollars)</td>\n",
       "      <td>Millions of current dollars</td>\n",
       "      <td>100914.8</td>\n",
       "      <td>105146.8</td>\n",
       "      <td>...</td>\n",
       "      <td>170630.9</td>\n",
       "      <td>174611.0</td>\n",
       "      <td>179527.7</td>\n",
       "      <td>188120.7</td>\n",
       "      <td>200659.6</td>\n",
       "      <td>211305.9</td>\n",
       "      <td>222613.8</td>\n",
       "      <td>237066.0</td>\n",
       "      <td>246647.1</td>\n",
       "      <td>243776.8</td>\n",
       "    </tr>\n",
       "    <tr>\n",
       "      <th>27</th>\n",
       "      <td>\"45000\"</td>\n",
       "      <td>South Carolina</td>\n",
       "      <td>5</td>\n",
       "      <td>SAGDP1</td>\n",
       "      <td>3</td>\n",
       "      <td>...</td>\n",
       "      <td>Current-dollar GDP (millions of current dollars)</td>\n",
       "      <td>Millions of current dollars</td>\n",
       "      <td>97425.0</td>\n",
       "      <td>103456.3</td>\n",
       "      <td>...</td>\n",
       "      <td>172075.1</td>\n",
       "      <td>177618.1</td>\n",
       "      <td>185009.1</td>\n",
       "      <td>194352.7</td>\n",
       "      <td>205816.7</td>\n",
       "      <td>215120.2</td>\n",
       "      <td>223044.9</td>\n",
       "      <td>233665.3</td>\n",
       "      <td>244662.3</td>\n",
       "      <td>244881.7</td>\n",
       "    </tr>\n",
       "    <tr>\n",
       "      <th>28</th>\n",
       "      <td>\"09000\"</td>\n",
       "      <td>Connecticut</td>\n",
       "      <td>1</td>\n",
       "      <td>SAGDP1</td>\n",
       "      <td>3</td>\n",
       "      <td>...</td>\n",
       "      <td>Current-dollar GDP (millions of current dollars)</td>\n",
       "      <td>Millions of current dollars</td>\n",
       "      <td>138331.8</td>\n",
       "      <td>145475.5</td>\n",
       "      <td>...</td>\n",
       "      <td>233158.7</td>\n",
       "      <td>240911.9</td>\n",
       "      <td>241517.4</td>\n",
       "      <td>246597.0</td>\n",
       "      <td>259487.8</td>\n",
       "      <td>263670.3</td>\n",
       "      <td>271582.6</td>\n",
       "      <td>280692.0</td>\n",
       "      <td>288109.1</td>\n",
       "      <td>276422.9</td>\n",
       "    </tr>\n",
       "    <tr>\n",
       "      <th>29</th>\n",
       "      <td>\"29000\"</td>\n",
       "      <td>Missouri</td>\n",
       "      <td>4</td>\n",
       "      <td>SAGDP1</td>\n",
       "      <td>3</td>\n",
       "      <td>...</td>\n",
       "      <td>Current-dollar GDP (millions of current dollars)</td>\n",
       "      <td>Millions of current dollars</td>\n",
       "      <td>163175.6</td>\n",
       "      <td>169483.4</td>\n",
       "      <td>...</td>\n",
       "      <td>262067.1</td>\n",
       "      <td>271535.1</td>\n",
       "      <td>280571.0</td>\n",
       "      <td>287507.5</td>\n",
       "      <td>296929.3</td>\n",
       "      <td>300914.5</td>\n",
       "      <td>308722.1</td>\n",
       "      <td>319393.9</td>\n",
       "      <td>332272.9</td>\n",
       "      <td>329367.2</td>\n",
       "    </tr>\n",
       "    <tr>\n",
       "      <th>30</th>\n",
       "      <td>\"55000\"</td>\n",
       "      <td>Wisconsin</td>\n",
       "      <td>3</td>\n",
       "      <td>SAGDP1</td>\n",
       "      <td>3</td>\n",
       "      <td>...</td>\n",
       "      <td>Current-dollar GDP (millions of current dollars)</td>\n",
       "      <td>Millions of current dollars</td>\n",
       "      <td>153431.7</td>\n",
       "      <td>162609.3</td>\n",
       "      <td>...</td>\n",
       "      <td>266364.4</td>\n",
       "      <td>277107.1</td>\n",
       "      <td>284270.9</td>\n",
       "      <td>295696.0</td>\n",
       "      <td>307507.9</td>\n",
       "      <td>314073.3</td>\n",
       "      <td>318364.2</td>\n",
       "      <td>332263.5</td>\n",
       "      <td>344724.8</td>\n",
       "      <td>337714.0</td>\n",
       "    </tr>\n",
       "    <tr>\n",
       "      <th>31</th>\n",
       "      <td>\"47000\"</td>\n",
       "      <td>Tennessee</td>\n",
       "      <td>5</td>\n",
       "      <td>SAGDP1</td>\n",
       "      <td>3</td>\n",
       "      <td>...</td>\n",
       "      <td>Current-dollar GDP (millions of current dollars)</td>\n",
       "      <td>Millions of current dollars</td>\n",
       "      <td>154382.1</td>\n",
       "      <td>167394.6</td>\n",
       "      <td>...</td>\n",
       "      <td>269814.2</td>\n",
       "      <td>286341.5</td>\n",
       "      <td>295862.7</td>\n",
       "      <td>306153.1</td>\n",
       "      <td>325294.0</td>\n",
       "      <td>336413.9</td>\n",
       "      <td>349837.7</td>\n",
       "      <td>361381.5</td>\n",
       "      <td>376916.5</td>\n",
       "      <td>369574.3</td>\n",
       "    </tr>\n",
       "    <tr>\n",
       "      <th>32</th>\n",
       "      <td>\"04000\"</td>\n",
       "      <td>Arizona</td>\n",
       "      <td>6</td>\n",
       "      <td>SAGDP1</td>\n",
       "      <td>3</td>\n",
       "      <td>...</td>\n",
       "      <td>Current-dollar GDP (millions of current dollars)</td>\n",
       "      <td>Millions of current dollars</td>\n",
       "      <td>132281.0</td>\n",
       "      <td>143302.6</td>\n",
       "      <td>...</td>\n",
       "      <td>260915.7</td>\n",
       "      <td>271440.0</td>\n",
       "      <td>278591.6</td>\n",
       "      <td>287666.6</td>\n",
       "      <td>299393.3</td>\n",
       "      <td>313081.4</td>\n",
       "      <td>330416.1</td>\n",
       "      <td>349907.5</td>\n",
       "      <td>369988.2</td>\n",
       "      <td>373719.0</td>\n",
       "    </tr>\n",
       "    <tr>\n",
       "      <th>33</th>\n",
       "      <td>\"27000\"</td>\n",
       "      <td>Minnesota</td>\n",
       "      <td>4</td>\n",
       "      <td>SAGDP1</td>\n",
       "      <td>3</td>\n",
       "      <td>...</td>\n",
       "      <td>Current-dollar GDP (millions of current dollars)</td>\n",
       "      <td>Millions of current dollars</td>\n",
       "      <td>156351.4</td>\n",
       "      <td>166904.8</td>\n",
       "      <td>...</td>\n",
       "      <td>287039.3</td>\n",
       "      <td>298328.3</td>\n",
       "      <td>311126.4</td>\n",
       "      <td>324751.4</td>\n",
       "      <td>335530.2</td>\n",
       "      <td>344060.8</td>\n",
       "      <td>354684.2</td>\n",
       "      <td>373419.5</td>\n",
       "      <td>383039.6</td>\n",
       "      <td>373739.3</td>\n",
       "    </tr>\n",
       "    <tr>\n",
       "      <th>34</th>\n",
       "      <td>\"18000\"</td>\n",
       "      <td>Indiana</td>\n",
       "      <td>3</td>\n",
       "      <td>SAGDP1</td>\n",
       "      <td>3</td>\n",
       "      <td>...</td>\n",
       "      <td>Current-dollar GDP (millions of current dollars)</td>\n",
       "      <td>Millions of current dollars</td>\n",
       "      <td>170431.9</td>\n",
       "      <td>184359.8</td>\n",
       "      <td>...</td>\n",
       "      <td>291356.1</td>\n",
       "      <td>300513.9</td>\n",
       "      <td>312138.5</td>\n",
       "      <td>327958.3</td>\n",
       "      <td>331945.7</td>\n",
       "      <td>340500.7</td>\n",
       "      <td>353150.3</td>\n",
       "      <td>373518.4</td>\n",
       "      <td>381020.3</td>\n",
       "      <td>375336.7</td>\n",
       "    </tr>\n",
       "    <tr>\n",
       "      <th>35</th>\n",
       "      <td>\"08000\"</td>\n",
       "      <td>Colorado</td>\n",
       "      <td>7</td>\n",
       "      <td>SAGDP1</td>\n",
       "      <td>3</td>\n",
       "      <td>...</td>\n",
       "      <td>Current-dollar GDP (millions of current dollars)</td>\n",
       "      <td>Millions of current dollars</td>\n",
       "      <td>136898.7</td>\n",
       "      <td>150330.0</td>\n",
       "      <td>...</td>\n",
       "      <td>267516.1</td>\n",
       "      <td>276823.1</td>\n",
       "      <td>292140.5</td>\n",
       "      <td>309542.6</td>\n",
       "      <td>320721.1</td>\n",
       "      <td>329911.7</td>\n",
       "      <td>348898.1</td>\n",
       "      <td>371424.6</td>\n",
       "      <td>392218.0</td>\n",
       "      <td>382584.7</td>\n",
       "    </tr>\n",
       "    <tr>\n",
       "      <th>36</th>\n",
       "      <td>\"24000\"</td>\n",
       "      <td>Maryland</td>\n",
       "      <td>2</td>\n",
       "      <td>SAGDP1</td>\n",
       "      <td>3</td>\n",
       "      <td>...</td>\n",
       "      <td>Current-dollar GDP (millions of current dollars)</td>\n",
       "      <td>Millions of current dollars</td>\n",
       "      <td>159372.1</td>\n",
       "      <td>169982.1</td>\n",
       "      <td>...</td>\n",
       "      <td>326281.2</td>\n",
       "      <td>332523.5</td>\n",
       "      <td>340577.6</td>\n",
       "      <td>352761.3</td>\n",
       "      <td>369728.1</td>\n",
       "      <td>387733.4</td>\n",
       "      <td>400406.0</td>\n",
       "      <td>411099.8</td>\n",
       "      <td>421609.5</td>\n",
       "      <td>410674.7</td>\n",
       "    </tr>\n",
       "    <tr>\n",
       "      <th>37</th>\n",
       "      <td>\"26000\"</td>\n",
       "      <td>Michigan</td>\n",
       "      <td>3</td>\n",
       "      <td>SAGDP1</td>\n",
       "      <td>3</td>\n",
       "      <td>...</td>\n",
       "      <td>Current-dollar GDP (millions of current dollars)</td>\n",
       "      <td>Millions of current dollars</td>\n",
       "      <td>299817.7</td>\n",
       "      <td>312688.1</td>\n",
       "      <td>...</td>\n",
       "      <td>404554.7</td>\n",
       "      <td>422691.2</td>\n",
       "      <td>437274.4</td>\n",
       "      <td>451773.2</td>\n",
       "      <td>474983.3</td>\n",
       "      <td>490264.0</td>\n",
       "      <td>501751.6</td>\n",
       "      <td>520802.6</td>\n",
       "      <td>531434.6</td>\n",
       "      <td>515119.9</td>\n",
       "    </tr>\n",
       "    <tr>\n",
       "      <th>38</th>\n",
       "      <td>\"51000\"</td>\n",
       "      <td>Virginia</td>\n",
       "      <td>5</td>\n",
       "      <td>SAGDP1</td>\n",
       "      <td>3</td>\n",
       "      <td>...</td>\n",
       "      <td>Current-dollar GDP (millions of current dollars)</td>\n",
       "      <td>Millions of current dollars</td>\n",
       "      <td>215101.7</td>\n",
       "      <td>231384.0</td>\n",
       "      <td>...</td>\n",
       "      <td>435180.3</td>\n",
       "      <td>445973.6</td>\n",
       "      <td>457640.5</td>\n",
       "      <td>465181.8</td>\n",
       "      <td>483786.5</td>\n",
       "      <td>496021.1</td>\n",
       "      <td>509892.8</td>\n",
       "      <td>531757.1</td>\n",
       "      <td>554305.8</td>\n",
       "      <td>549535.8</td>\n",
       "    </tr>\n",
       "    <tr>\n",
       "      <th>39</th>\n",
       "      <td>\"25000\"</td>\n",
       "      <td>Massachusetts</td>\n",
       "      <td>1</td>\n",
       "      <td>SAGDP1</td>\n",
       "      <td>3</td>\n",
       "      <td>...</td>\n",
       "      <td>Current-dollar GDP (millions of current dollars)</td>\n",
       "      <td>Millions of current dollars</td>\n",
       "      <td>237267.4</td>\n",
       "      <td>249299.0</td>\n",
       "      <td>...</td>\n",
       "      <td>425523.0</td>\n",
       "      <td>442916.9</td>\n",
       "      <td>454321.2</td>\n",
       "      <td>470468.5</td>\n",
       "      <td>498851.3</td>\n",
       "      <td>514637.6</td>\n",
       "      <td>532354.3</td>\n",
       "      <td>564047.3</td>\n",
       "      <td>593256.7</td>\n",
       "      <td>582476.8</td>\n",
       "    </tr>\n",
       "    <tr>\n",
       "      <th>40</th>\n",
       "      <td>\"37000\"</td>\n",
       "      <td>North Carolina</td>\n",
       "      <td>5</td>\n",
       "      <td>SAGDP1</td>\n",
       "      <td>3</td>\n",
       "      <td>...</td>\n",
       "      <td>Current-dollar GDP (millions of current dollars)</td>\n",
       "      <td>Millions of current dollars</td>\n",
       "      <td>233934.9</td>\n",
       "      <td>246890.4</td>\n",
       "      <td>...</td>\n",
       "      <td>431722.7</td>\n",
       "      <td>445095.3</td>\n",
       "      <td>462268.9</td>\n",
       "      <td>483191.3</td>\n",
       "      <td>508928.7</td>\n",
       "      <td>526029.8</td>\n",
       "      <td>549670.6</td>\n",
       "      <td>569981.7</td>\n",
       "      <td>595655.4</td>\n",
       "      <td>589829.0</td>\n",
       "    </tr>\n",
       "    <tr>\n",
       "      <th>41</th>\n",
       "      <td>\"53000\"</td>\n",
       "      <td>Washington</td>\n",
       "      <td>8</td>\n",
       "      <td>SAGDP1</td>\n",
       "      <td>3</td>\n",
       "      <td>...</td>\n",
       "      <td>Current-dollar GDP (millions of current dollars)</td>\n",
       "      <td>Millions of current dollars</td>\n",
       "      <td>193825.9</td>\n",
       "      <td>209741.1</td>\n",
       "      <td>...</td>\n",
       "      <td>379574.9</td>\n",
       "      <td>400530.6</td>\n",
       "      <td>419092.4</td>\n",
       "      <td>440648.0</td>\n",
       "      <td>466689.7</td>\n",
       "      <td>487275.1</td>\n",
       "      <td>519942.9</td>\n",
       "      <td>564480.7</td>\n",
       "      <td>597873.8</td>\n",
       "      <td>604253.8</td>\n",
       "    </tr>\n",
       "    <tr>\n",
       "      <th>42</th>\n",
       "      <td>\"34000\"</td>\n",
       "      <td>New Jersey</td>\n",
       "      <td>2</td>\n",
       "      <td>SAGDP1</td>\n",
       "      <td>3</td>\n",
       "      <td>...</td>\n",
       "      <td>Current-dollar GDP (millions of current dollars)</td>\n",
       "      <td>Millions of current dollars</td>\n",
       "      <td>307817.1</td>\n",
       "      <td>319861.3</td>\n",
       "      <td>...</td>\n",
       "      <td>495965.8</td>\n",
       "      <td>517195.9</td>\n",
       "      <td>534177.8</td>\n",
       "      <td>542842.8</td>\n",
       "      <td>563233.8</td>\n",
       "      <td>575501.0</td>\n",
       "      <td>586374.6</td>\n",
       "      <td>613508.7</td>\n",
       "      <td>639436.7</td>\n",
       "      <td>618579.3</td>\n",
       "    </tr>\n",
       "    <tr>\n",
       "      <th>43</th>\n",
       "      <td>\"13000\"</td>\n",
       "      <td>Georgia</td>\n",
       "      <td>5</td>\n",
       "      <td>SAGDP1</td>\n",
       "      <td>3</td>\n",
       "      <td>...</td>\n",
       "      <td>Current-dollar GDP (millions of current dollars)</td>\n",
       "      <td>Millions of current dollars</td>\n",
       "      <td>242540.8</td>\n",
       "      <td>265347.2</td>\n",
       "      <td>...</td>\n",
       "      <td>431653.9</td>\n",
       "      <td>447764.7</td>\n",
       "      <td>464752.8</td>\n",
       "      <td>490079.3</td>\n",
       "      <td>521008.2</td>\n",
       "      <td>547546.7</td>\n",
       "      <td>574404.4</td>\n",
       "      <td>602340.1</td>\n",
       "      <td>637798.7</td>\n",
       "      <td>622627.8</td>\n",
       "    </tr>\n",
       "    <tr>\n",
       "      <th>44</th>\n",
       "      <td>\"39000\"</td>\n",
       "      <td>Ohio</td>\n",
       "      <td>3</td>\n",
       "      <td>SAGDP1</td>\n",
       "      <td>3</td>\n",
       "      <td>...</td>\n",
       "      <td>Current-dollar GDP (millions of current dollars)</td>\n",
       "      <td>Millions of current dollars</td>\n",
       "      <td>343430.3</td>\n",
       "      <td>361638.1</td>\n",
       "      <td>...</td>\n",
       "      <td>528189.9</td>\n",
       "      <td>545740.1</td>\n",
       "      <td>566532.4</td>\n",
       "      <td>595640.9</td>\n",
       "      <td>611019.5</td>\n",
       "      <td>623265.3</td>\n",
       "      <td>641745.8</td>\n",
       "      <td>666973.9</td>\n",
       "      <td>693199.3</td>\n",
       "      <td>677561.2</td>\n",
       "    </tr>\n",
       "    <tr>\n",
       "      <th>45</th>\n",
       "      <td>\"42000\"</td>\n",
       "      <td>Pennsylvania</td>\n",
       "      <td>2</td>\n",
       "      <td>SAGDP1</td>\n",
       "      <td>3</td>\n",
       "      <td>...</td>\n",
       "      <td>Current-dollar GDP (millions of current dollars)</td>\n",
       "      <td>Millions of current dollars</td>\n",
       "      <td>356988.0</td>\n",
       "      <td>373748.5</td>\n",
       "      <td>...</td>\n",
       "      <td>624819.7</td>\n",
       "      <td>647925.9</td>\n",
       "      <td>668569.1</td>\n",
       "      <td>694142.6</td>\n",
       "      <td>714202.9</td>\n",
       "      <td>726561.9</td>\n",
       "      <td>745011.3</td>\n",
       "      <td>772611.4</td>\n",
       "      <td>799686.2</td>\n",
       "      <td>771897.9</td>\n",
       "    </tr>\n",
       "    <tr>\n",
       "      <th>46</th>\n",
       "      <td>\"17000\"</td>\n",
       "      <td>Illinois</td>\n",
       "      <td>3</td>\n",
       "      <td>SAGDP1</td>\n",
       "      <td>3</td>\n",
       "      <td>...</td>\n",
       "      <td>Current-dollar GDP (millions of current dollars)</td>\n",
       "      <td>Millions of current dollars</td>\n",
       "      <td>415534.8</td>\n",
       "      <td>436567.1</td>\n",
       "      <td>...</td>\n",
       "      <td>692880.8</td>\n",
       "      <td>726399.1</td>\n",
       "      <td>741121.5</td>\n",
       "      <td>771356.1</td>\n",
       "      <td>799930.5</td>\n",
       "      <td>807043.2</td>\n",
       "      <td>827075.2</td>\n",
       "      <td>867535.5</td>\n",
       "      <td>890486.1</td>\n",
       "      <td>858366.9</td>\n",
       "    </tr>\n",
       "    <tr>\n",
       "      <th>47</th>\n",
       "      <td>\"12000\"</td>\n",
       "      <td>Florida</td>\n",
       "      <td>5</td>\n",
       "      <td>SAGDP1</td>\n",
       "      <td>3</td>\n",
       "      <td>...</td>\n",
       "      <td>Current-dollar GDP (millions of current dollars)</td>\n",
       "      <td>Millions of current dollars</td>\n",
       "      <td>401535.3</td>\n",
       "      <td>429138.4</td>\n",
       "      <td>...</td>\n",
       "      <td>755240.0</td>\n",
       "      <td>778545.0</td>\n",
       "      <td>811751.7</td>\n",
       "      <td>851692.4</td>\n",
       "      <td>908519.9</td>\n",
       "      <td>953352.5</td>\n",
       "      <td>1002568.1</td>\n",
       "      <td>1057862.3</td>\n",
       "      <td>1116435.4</td>\n",
       "      <td>1106035.5</td>\n",
       "    </tr>\n",
       "    <tr>\n",
       "      <th>48</th>\n",
       "      <td>\"36000\"</td>\n",
       "      <td>New York</td>\n",
       "      <td>2</td>\n",
       "      <td>SAGDP1</td>\n",
       "      <td>3</td>\n",
       "      <td>...</td>\n",
       "      <td>Current-dollar GDP (millions of current dollars)</td>\n",
       "      <td>Millions of current dollars</td>\n",
       "      <td>718814.3</td>\n",
       "      <td>745502.4</td>\n",
       "      <td>...</td>\n",
       "      <td>1247605.8</td>\n",
       "      <td>1328233.5</td>\n",
       "      <td>1365529.0</td>\n",
       "      <td>1430923.3</td>\n",
       "      <td>1487627.6</td>\n",
       "      <td>1551354.1</td>\n",
       "      <td>1603903.4</td>\n",
       "      <td>1694957.9</td>\n",
       "      <td>1777751.8</td>\n",
       "      <td>1724759.1</td>\n",
       "    </tr>\n",
       "    <tr>\n",
       "      <th>49</th>\n",
       "      <td>\"48000\"</td>\n",
       "      <td>Texas</td>\n",
       "      <td>6</td>\n",
       "      <td>SAGDP1</td>\n",
       "      <td>3</td>\n",
       "      <td>...</td>\n",
       "      <td>Current-dollar GDP (millions of current dollars)</td>\n",
       "      <td>Millions of current dollars</td>\n",
       "      <td>610157.3</td>\n",
       "      <td>645142.6</td>\n",
       "      <td>...</td>\n",
       "      <td>1341334.4</td>\n",
       "      <td>1421180.1</td>\n",
       "      <td>1515195.6</td>\n",
       "      <td>1579299.5</td>\n",
       "      <td>1573498.4</td>\n",
       "      <td>1579014.9</td>\n",
       "      <td>1677110.9</td>\n",
       "      <td>1809706.4</td>\n",
       "      <td>1863953.8</td>\n",
       "      <td>1775587.8</td>\n",
       "    </tr>\n",
       "    <tr>\n",
       "      <th>50</th>\n",
       "      <td>\"06000\"</td>\n",
       "      <td>California</td>\n",
       "      <td>8</td>\n",
       "      <td>SAGDP1</td>\n",
       "      <td>3</td>\n",
       "      <td>...</td>\n",
       "      <td>Current-dollar GDP (millions of current dollars)</td>\n",
       "      <td>Millions of current dollars</td>\n",
       "      <td>1071117.0</td>\n",
       "      <td>1147520.4</td>\n",
       "      <td>...</td>\n",
       "      <td>2023500.0</td>\n",
       "      <td>2113096.4</td>\n",
       "      <td>2220389.9</td>\n",
       "      <td>2335286.5</td>\n",
       "      <td>2473555.9</td>\n",
       "      <td>2569634.0</td>\n",
       "      <td>2730973.9</td>\n",
       "      <td>2895101.0</td>\n",
       "      <td>3052645.2</td>\n",
       "      <td>3007187.7</td>\n",
       "    </tr>\n",
       "  </tbody>\n",
       "</table>\n",
       "<p>51 rows × 32 columns</p>\n",
       "</div>"
      ],
      "text/plain": [
       "     GeoFIPS               GeoName  Region TableName  LineCode  \\\n",
       "0    \"50000\"               Vermont       1    SAGDP1         3   \n",
       "1    \"56000\"               Wyoming       7    SAGDP1         3   \n",
       "2    \"02000\"                Alaska       8    SAGDP1         3   \n",
       "3    \"30000\"               Montana       7    SAGDP1         3   \n",
       "4    \"46000\"          South Dakota       4    SAGDP1         3   \n",
       "5    \"38000\"          North Dakota       4    SAGDP1         3   \n",
       "6    \"44000\"          Rhode Island       1    SAGDP1         3   \n",
       "7    \"23000\"                 Maine       1    SAGDP1         3   \n",
       "8    \"10000\"              Delaware       2    SAGDP1         3   \n",
       "9    \"54000\"         West Virginia       5    SAGDP1         3   \n",
       "10   \"15000\"                Hawaii       8    SAGDP1         3   \n",
       "11   \"16000\"                 Idaho       7    SAGDP1         3   \n",
       "12   \"33000\"         New Hampshire       1    SAGDP1         3   \n",
       "13   \"35000\"            New Mexico       6    SAGDP1         3   \n",
       "14   \"28000\"           Mississippi       5    SAGDP1         3   \n",
       "15   \"05000\"              Arkansas       5    SAGDP1         3   \n",
       "16   \"31000\"              Nebraska       4    SAGDP1         3   \n",
       "17   \"11000\"  District of Columbia       2    SAGDP1         3   \n",
       "18   \"32000\"                Nevada       8    SAGDP1         3   \n",
       "19   \"20000\"                Kansas       4    SAGDP1         3   \n",
       "20   \"40000\"              Oklahoma       6    SAGDP1         3   \n",
       "21   \"19000\"                  Iowa       4    SAGDP1         3   \n",
       "22   \"49000\"                  Utah       7    SAGDP1         3   \n",
       "23   \"21000\"              Kentucky       5    SAGDP1         3   \n",
       "24   \"01000\"               Alabama       5    SAGDP1         3   \n",
       "25   \"22000\"             Louisiana       5    SAGDP1         3   \n",
       "26   \"41000\"                Oregon       8    SAGDP1         3   \n",
       "27   \"45000\"        South Carolina       5    SAGDP1         3   \n",
       "28   \"09000\"           Connecticut       1    SAGDP1         3   \n",
       "29   \"29000\"              Missouri       4    SAGDP1         3   \n",
       "30   \"55000\"             Wisconsin       3    SAGDP1         3   \n",
       "31   \"47000\"             Tennessee       5    SAGDP1         3   \n",
       "32   \"04000\"               Arizona       6    SAGDP1         3   \n",
       "33   \"27000\"             Minnesota       4    SAGDP1         3   \n",
       "34   \"18000\"               Indiana       3    SAGDP1         3   \n",
       "35   \"08000\"              Colorado       7    SAGDP1         3   \n",
       "36   \"24000\"              Maryland       2    SAGDP1         3   \n",
       "37   \"26000\"              Michigan       3    SAGDP1         3   \n",
       "38   \"51000\"              Virginia       5    SAGDP1         3   \n",
       "39   \"25000\"         Massachusetts       1    SAGDP1         3   \n",
       "40   \"37000\"        North Carolina       5    SAGDP1         3   \n",
       "41   \"53000\"            Washington       8    SAGDP1         3   \n",
       "42   \"34000\"            New Jersey       2    SAGDP1         3   \n",
       "43   \"13000\"               Georgia       5    SAGDP1         3   \n",
       "44   \"39000\"                  Ohio       3    SAGDP1         3   \n",
       "45   \"42000\"          Pennsylvania       2    SAGDP1         3   \n",
       "46   \"17000\"              Illinois       3    SAGDP1         3   \n",
       "47   \"12000\"               Florida       5    SAGDP1         3   \n",
       "48   \"36000\"              New York       2    SAGDP1         3   \n",
       "49   \"48000\"                 Texas       6    SAGDP1         3   \n",
       "50   \"06000\"            California       8    SAGDP1         3   \n",
       "\n",
       "   IndustryClassification                                       Description  \\\n",
       "0                     ...  Current-dollar GDP (millions of current dollars)   \n",
       "1                     ...  Current-dollar GDP (millions of current dollars)   \n",
       "2                     ...  Current-dollar GDP (millions of current dollars)   \n",
       "3                     ...  Current-dollar GDP (millions of current dollars)   \n",
       "4                     ...  Current-dollar GDP (millions of current dollars)   \n",
       "5                     ...  Current-dollar GDP (millions of current dollars)   \n",
       "6                     ...  Current-dollar GDP (millions of current dollars)   \n",
       "7                     ...  Current-dollar GDP (millions of current dollars)   \n",
       "8                     ...  Current-dollar GDP (millions of current dollars)   \n",
       "9                     ...  Current-dollar GDP (millions of current dollars)   \n",
       "10                    ...  Current-dollar GDP (millions of current dollars)   \n",
       "11                    ...  Current-dollar GDP (millions of current dollars)   \n",
       "12                    ...  Current-dollar GDP (millions of current dollars)   \n",
       "13                    ...  Current-dollar GDP (millions of current dollars)   \n",
       "14                    ...  Current-dollar GDP (millions of current dollars)   \n",
       "15                    ...  Current-dollar GDP (millions of current dollars)   \n",
       "16                    ...  Current-dollar GDP (millions of current dollars)   \n",
       "17                    ...  Current-dollar GDP (millions of current dollars)   \n",
       "18                    ...  Current-dollar GDP (millions of current dollars)   \n",
       "19                    ...  Current-dollar GDP (millions of current dollars)   \n",
       "20                    ...  Current-dollar GDP (millions of current dollars)   \n",
       "21                    ...  Current-dollar GDP (millions of current dollars)   \n",
       "22                    ...  Current-dollar GDP (millions of current dollars)   \n",
       "23                    ...  Current-dollar GDP (millions of current dollars)   \n",
       "24                    ...  Current-dollar GDP (millions of current dollars)   \n",
       "25                    ...  Current-dollar GDP (millions of current dollars)   \n",
       "26                    ...  Current-dollar GDP (millions of current dollars)   \n",
       "27                    ...  Current-dollar GDP (millions of current dollars)   \n",
       "28                    ...  Current-dollar GDP (millions of current dollars)   \n",
       "29                    ...  Current-dollar GDP (millions of current dollars)   \n",
       "30                    ...  Current-dollar GDP (millions of current dollars)   \n",
       "31                    ...  Current-dollar GDP (millions of current dollars)   \n",
       "32                    ...  Current-dollar GDP (millions of current dollars)   \n",
       "33                    ...  Current-dollar GDP (millions of current dollars)   \n",
       "34                    ...  Current-dollar GDP (millions of current dollars)   \n",
       "35                    ...  Current-dollar GDP (millions of current dollars)   \n",
       "36                    ...  Current-dollar GDP (millions of current dollars)   \n",
       "37                    ...  Current-dollar GDP (millions of current dollars)   \n",
       "38                    ...  Current-dollar GDP (millions of current dollars)   \n",
       "39                    ...  Current-dollar GDP (millions of current dollars)   \n",
       "40                    ...  Current-dollar GDP (millions of current dollars)   \n",
       "41                    ...  Current-dollar GDP (millions of current dollars)   \n",
       "42                    ...  Current-dollar GDP (millions of current dollars)   \n",
       "43                    ...  Current-dollar GDP (millions of current dollars)   \n",
       "44                    ...  Current-dollar GDP (millions of current dollars)   \n",
       "45                    ...  Current-dollar GDP (millions of current dollars)   \n",
       "46                    ...  Current-dollar GDP (millions of current dollars)   \n",
       "47                    ...  Current-dollar GDP (millions of current dollars)   \n",
       "48                    ...  Current-dollar GDP (millions of current dollars)   \n",
       "49                    ...  Current-dollar GDP (millions of current dollars)   \n",
       "50                    ...  Current-dollar GDP (millions of current dollars)   \n",
       "\n",
       "                           Unit       1997       1998  ...       2011  \\\n",
       "0   Millions of current dollars    15454.7    16080.7  ...    28418.7   \n",
       "1   Millions of current dollars    14654.5    14840.2  ...    39751.4   \n",
       "2   Millions of current dollars    25810.8    24227.5  ...    56896.3   \n",
       "3   Millions of current dollars    19290.4    20429.1  ...    40995.1   \n",
       "4   Millions of current dollars    19031.4    20228.1  ...    41892.1   \n",
       "5   Millions of current dollars    15760.8    16816.6  ...    41587.7   \n",
       "6   Millions of current dollars    28928.8    30818.5  ...    50206.1   \n",
       "7   Millions of current dollars    30618.4    32156.2  ...    52575.5   \n",
       "8   Millions of current dollars    33353.4    37106.0  ...    61372.2   \n",
       "9   Millions of current dollars    38777.5    40014.6  ...    69234.1   \n",
       "10  Millions of current dollars    37707.4    37622.9  ...    69083.9   \n",
       "11  Millions of current dollars    29496.9    31059.8  ...    56941.1   \n",
       "12  Millions of current dollars    38206.6    40554.0  ...    66153.2   \n",
       "13  Millions of current dollars    52475.6    50658.7  ...    87062.8   \n",
       "14  Millions of current dollars    58352.7    60940.4  ...    96218.0   \n",
       "15  Millions of current dollars    59846.3    62396.7  ...   105768.1   \n",
       "16  Millions of current dollars    49819.2    51822.1  ...    99921.1   \n",
       "17  Millions of current dollars    52503.6    54815.3  ...   109730.4   \n",
       "18  Millions of current dollars    60259.1    65114.2  ...   127677.9   \n",
       "19  Millions of current dollars    74662.3    78382.0  ...   136358.9   \n",
       "20  Millions of current dollars    79044.4    81196.9  ...   166235.8   \n",
       "21  Millions of current dollars    82720.4    84644.0  ...   148477.6   \n",
       "22  Millions of current dollars    57684.0    62296.1  ...   125565.0   \n",
       "23  Millions of current dollars   104546.2   109382.3  ...   171586.9   \n",
       "24  Millions of current dollars   104811.9   110212.0  ...   183916.6   \n",
       "25  Millions of current dollars   116313.2   120198.1  ...   229945.0   \n",
       "26  Millions of current dollars   100914.8   105146.8  ...   170630.9   \n",
       "27  Millions of current dollars    97425.0   103456.3  ...   172075.1   \n",
       "28  Millions of current dollars   138331.8   145475.5  ...   233158.7   \n",
       "29  Millions of current dollars   163175.6   169483.4  ...   262067.1   \n",
       "30  Millions of current dollars   153431.7   162609.3  ...   266364.4   \n",
       "31  Millions of current dollars   154382.1   167394.6  ...   269814.2   \n",
       "32  Millions of current dollars   132281.0   143302.6  ...   260915.7   \n",
       "33  Millions of current dollars   156351.4   166904.8  ...   287039.3   \n",
       "34  Millions of current dollars   170431.9   184359.8  ...   291356.1   \n",
       "35  Millions of current dollars   136898.7   150330.0  ...   267516.1   \n",
       "36  Millions of current dollars   159372.1   169982.1  ...   326281.2   \n",
       "37  Millions of current dollars   299817.7   312688.1  ...   404554.7   \n",
       "38  Millions of current dollars   215101.7   231384.0  ...   435180.3   \n",
       "39  Millions of current dollars   237267.4   249299.0  ...   425523.0   \n",
       "40  Millions of current dollars   233934.9   246890.4  ...   431722.7   \n",
       "41  Millions of current dollars   193825.9   209741.1  ...   379574.9   \n",
       "42  Millions of current dollars   307817.1   319861.3  ...   495965.8   \n",
       "43  Millions of current dollars   242540.8   265347.2  ...   431653.9   \n",
       "44  Millions of current dollars   343430.3   361638.1  ...   528189.9   \n",
       "45  Millions of current dollars   356988.0   373748.5  ...   624819.7   \n",
       "46  Millions of current dollars   415534.8   436567.1  ...   692880.8   \n",
       "47  Millions of current dollars   401535.3   429138.4  ...   755240.0   \n",
       "48  Millions of current dollars   718814.3   745502.4  ...  1247605.8   \n",
       "49  Millions of current dollars   610157.3   645142.6  ...  1341334.4   \n",
       "50  Millions of current dollars  1071117.0  1147520.4  ...  2023500.0   \n",
       "\n",
       "         2012       2013       2014       2015       2016       2017  \\\n",
       "0     29241.3    29289.6    30099.4    30933.3    31661.2    32246.9   \n",
       "1     38855.4    39289.8    40310.6    38426.9    35879.0    36863.7   \n",
       "2     58283.6    57247.7    56484.9    51490.9    50727.7    53089.3   \n",
       "3     42340.9    43687.9    45177.2    46604.1    45490.9    48439.5   \n",
       "4     43901.5    45361.0    46785.4    48070.2    49151.4    50299.4   \n",
       "5     51832.6    54271.0    59926.3    55996.9    51989.2    55228.0   \n",
       "6     51583.0    53034.1    54559.7    56390.8    57353.5    57940.8   \n",
       "7     53679.7    54470.1    56410.8    58131.3    60254.4    62412.9   \n",
       "8     62354.6    61716.2    68354.7    71913.9    69355.0    68763.8   \n",
       "9     70322.2    71481.5    72648.2    71318.5    70924.4    74799.5   \n",
       "10    71905.3    74554.9    76773.3    81230.3    83914.4    87177.8   \n",
       "11    58323.9    61835.8    64575.2    65899.9    68837.4    71688.4   \n",
       "12    68498.1    70476.2    72995.2    76478.0    79090.1    80665.9   \n",
       "13    87925.2    88756.9    92185.7    90274.3    89769.4    92311.1   \n",
       "14   100448.4   102371.0   104300.3   105914.6   107291.4   109962.5   \n",
       "15   108492.1   113227.3   116139.4   117786.8   119152.4   122350.2   \n",
       "16   102725.9   107260.7   111945.9   116514.6   118145.9   121946.3   \n",
       "17   112157.0   114540.1   119414.6   124604.7   129648.6   133391.2   \n",
       "18   129312.9   132086.4   136008.7   145115.9   151840.4   160785.0   \n",
       "19   141818.2   144483.2   150183.6   154958.2   160451.0   164923.3   \n",
       "20   174874.4   182694.7   196631.6   186815.6   181244.4   190674.5   \n",
       "21   158538.4   162200.3   173095.9   180299.3   181011.4   183549.8   \n",
       "22   129512.5   135450.4   142150.1   149153.4   157827.3   168058.4   \n",
       "23   178143.7   184524.4   187983.8   193413.1   196484.9   201555.0   \n",
       "24   189245.5   194786.9   197406.9   202372.4   207368.4   215085.9   \n",
       "25   235384.7   230832.5   240737.3   235113.5   227090.7   241704.2   \n",
       "26   174611.0   179527.7   188120.7   200659.6   211305.9   222613.8   \n",
       "27   177618.1   185009.1   194352.7   205816.7   215120.2   223044.9   \n",
       "28   240911.9   241517.4   246597.0   259487.8   263670.3   271582.6   \n",
       "29   271535.1   280571.0   287507.5   296929.3   300914.5   308722.1   \n",
       "30   277107.1   284270.9   295696.0   307507.9   314073.3   318364.2   \n",
       "31   286341.5   295862.7   306153.1   325294.0   336413.9   349837.7   \n",
       "32   271440.0   278591.6   287666.6   299393.3   313081.4   330416.1   \n",
       "33   298328.3   311126.4   324751.4   335530.2   344060.8   354684.2   \n",
       "34   300513.9   312138.5   327958.3   331945.7   340500.7   353150.3   \n",
       "35   276823.1   292140.5   309542.6   320721.1   329911.7   348898.1   \n",
       "36   332523.5   340577.6   352761.3   369728.1   387733.4   400406.0   \n",
       "37   422691.2   437274.4   451773.2   474983.3   490264.0   501751.6   \n",
       "38   445973.6   457640.5   465181.8   483786.5   496021.1   509892.8   \n",
       "39   442916.9   454321.2   470468.5   498851.3   514637.6   532354.3   \n",
       "40   445095.3   462268.9   483191.3   508928.7   526029.8   549670.6   \n",
       "41   400530.6   419092.4   440648.0   466689.7   487275.1   519942.9   \n",
       "42   517195.9   534177.8   542842.8   563233.8   575501.0   586374.6   \n",
       "43   447764.7   464752.8   490079.3   521008.2   547546.7   574404.4   \n",
       "44   545740.1   566532.4   595640.9   611019.5   623265.3   641745.8   \n",
       "45   647925.9   668569.1   694142.6   714202.9   726561.9   745011.3   \n",
       "46   726399.1   741121.5   771356.1   799930.5   807043.2   827075.2   \n",
       "47   778545.0   811751.7   851692.4   908519.9   953352.5  1002568.1   \n",
       "48  1328233.5  1365529.0  1430923.3  1487627.6  1551354.1  1603903.4   \n",
       "49  1421180.1  1515195.6  1579299.5  1573498.4  1579014.9  1677110.9   \n",
       "50  2113096.4  2220389.9  2335286.5  2473555.9  2569634.0  2730973.9   \n",
       "\n",
       "         2018       2019       2020  \n",
       "0     33032.7    34127.5    33435.0  \n",
       "1     39032.3    39600.8    36323.5  \n",
       "2     54711.7    54547.1    49820.0  \n",
       "3     50903.8    51789.3    51508.8  \n",
       "4     52404.3    53939.9    54789.4  \n",
       "5     59092.6    59004.5    54854.2  \n",
       "6     59129.0    61319.1    60556.3  \n",
       "7     65491.9    68452.9    69271.8  \n",
       "8     72488.0    77042.2    75786.5  \n",
       "9     79044.8    79139.7    75855.0  \n",
       "10    90276.4    91781.1    82884.6  \n",
       "11    77493.9    82420.1    83821.6  \n",
       "12    83844.0    87507.6    87621.0  \n",
       "13    97269.2   101971.5    98472.1  \n",
       "14   112406.8   114733.8   113845.7  \n",
       "15   127306.5   130839.9   130750.7  \n",
       "16   126922.7   131352.4   133439.0  \n",
       "17   139784.8   144405.7   144554.8  \n",
       "18   170352.9   181743.3   170943.8  \n",
       "19   172327.5   176738.5   175141.8  \n",
       "20   202466.6   203699.7   188056.6  \n",
       "21   190403.1   194322.6   194267.6  \n",
       "22   182643.6   195088.4   197561.9  \n",
       "23   208250.3   216101.5   212539.6  \n",
       "24   224046.9   231171.8   226896.5  \n",
       "25   255810.3   254562.0   235437.4  \n",
       "26   237066.0   246647.1   243776.8  \n",
       "27   233665.3   244662.3   244881.7  \n",
       "28   280692.0   288109.1   276422.9  \n",
       "29   319393.9   332272.9   329367.2  \n",
       "30   332263.5   344724.8   337714.0  \n",
       "31   361381.5   376916.5   369574.3  \n",
       "32   349907.5   369988.2   373719.0  \n",
       "33   373419.5   383039.6   373739.3  \n",
       "34   373518.4   381020.3   375336.7  \n",
       "35   371424.6   392218.0   382584.7  \n",
       "36   411099.8   421609.5   410674.7  \n",
       "37   520802.6   531434.6   515119.9  \n",
       "38   531757.1   554305.8   549535.8  \n",
       "39   564047.3   593256.7   582476.8  \n",
       "40   569981.7   595655.4   589829.0  \n",
       "41   564480.7   597873.8   604253.8  \n",
       "42   613508.7   639436.7   618579.3  \n",
       "43   602340.1   637798.7   622627.8  \n",
       "44   666973.9   693199.3   677561.2  \n",
       "45   772611.4   799686.2   771897.9  \n",
       "46   867535.5   890486.1   858366.9  \n",
       "47  1057862.3  1116435.4  1106035.5  \n",
       "48  1694957.9  1777751.8  1724759.1  \n",
       "49  1809706.4  1863953.8  1775587.8  \n",
       "50  2895101.0  3052645.2  3007187.7  \n",
       "\n",
       "[51 rows x 32 columns]"
      ]
     },
     "execution_count": 26,
     "metadata": {},
     "output_type": "execute_result"
    }
   ],
   "source": [
    "data_state_gdp = pd.read_csv('Files/State_GDP_Current_Dollar.csv')\n",
    "data_state_gdp"
   ]
  },
  {
   "cell_type": "code",
   "execution_count": 28,
   "id": "ae02fd97-06f8-4d1b-b4b1-e81dc9cc08ca",
   "metadata": {
    "tags": []
   },
   "outputs": [
    {
     "name": "stdout",
     "output_type": "stream",
     "text": [
      "The loss in 2005 Hurricane Katrina is 75.15 % of Louisiana's GDP\n"
     ]
    }
   ],
   "source": [
    "loss_2005 = 150e9             # US Dollars\n",
    "gdp_louisiana_2005 = data_state_gdp[data_state_gdp[\"GeoName\"] == \"Louisiana\"][\"2005\"] * 1e6    # US Dollars\n",
    "percent_loss_2005 = (loss_2005 / gdp_louisiana_2005) * 100\n",
    "print(\"The loss in 2005 Hurricane Katrina is %.2f %% of Louisiana's GDP\" % percent_loss_2005)"
   ]
  },
  {
   "cell_type": "markdown",
   "id": "fe1d1fd2-c727-4c1e-beae-dab80b27dd4b",
   "metadata": {
    "tags": []
   },
   "source": [
    "<font style=\"color:red\">\n",
    "2012 Hurricane Sandy -- New York + New Jersey, $150 billion\n",
    "</font>"
   ]
  },
  {
   "cell_type": "code",
   "execution_count": 38,
   "id": "3279fbf7-c60a-4a23-85df-c7a887980176",
   "metadata": {},
   "outputs": [
    {
     "name": "stdout",
     "output_type": "stream",
     "text": [
      "The loss in 2012 Hurricane Sandy is 8.13 % of New York + New Jersey's GDP\n"
     ]
    }
   ],
   "source": [
    "loss_2012 = 150e9             # US Dollars\n",
    "gdp_newyork_2012 = data_state_gdp[data_state_gdp[\"GeoName\"] == \"New York\"][\"2012\"] * 1e6        # US Dollars\n",
    "gdp_newjersey_2012 = data_state_gdp[data_state_gdp[\"GeoName\"] == \"New Jersey\"][\"2012\"] * 1e6    # US Dollars\n",
    "# convert to floats before addition\n",
    "gdp_combine_2012 = gdp_newyork_2012.array[0] + gdp_newjersey_2012.array[0]\n",
    "percent_loss_2012 = (loss_2012 / gdp_combine_2012) * 100\n",
    "print(\"The loss in 2012 Hurricane Sandy is %.2f %% of New York + New Jersey's GDP\" % percent_loss_2012)"
   ]
  },
  {
   "cell_type": "markdown",
   "id": "cb3f38c1-6146-4386-bf52-86bd5591bb36",
   "metadata": {},
   "source": [
    "**Question 3** Based on your ranking from question 1, comment on the challenges for different countries to recover from natural disasters. Substantiate your answer with some calculations on the country's road to recovery from the disaster. You can assume that on average, 5% of the GDP is used for funding recovery polices each year, and no foreign aid is provided. How many years will it take to fully recover from the economic loss?"
   ]
  },
  {
   "cell_type": "markdown",
   "id": "c1e83556-a426-4b89-a5f7-d7bb77b51e95",
   "metadata": {},
   "source": [
    "**Answer**"
   ]
  },
  {
   "cell_type": "markdown",
   "id": "4f2d9881-3ea1-4810-b59b-9f1fdf90871e",
   "metadata": {},
   "source": [
    "<font style=\"color:red\">\n",
    "Countries with low GDP (e.g. Haiti and Honduras) face greater challenges to recover from natural disasters. ...\n",
    "</font>"
   ]
  },
  {
   "cell_type": "markdown",
   "id": "0c33045d-e8dc-4b35-9d6e-a0c318511838",
   "metadata": {},
   "source": [
    "**Question 4** Based on the results from question 2, comment on the ability of different states to recover from natural disasters. Substantiate your answer with some calculations on the state's road to recovery from the disaster. You can assume that on average, 5% of the state GDP is used for funding recovery polices each year, and no federal aid is provided. How many years will it take to fully recover from the economic loss? Comment on the utility of a system of federal aid and relief in the response to domestic disasters."
   ]
  },
  {
   "cell_type": "markdown",
   "id": "2341189a-4856-4fc2-b379-5cb96a99667d",
   "metadata": {},
   "source": [
    "**Answer**"
   ]
  },
  {
   "cell_type": "markdown",
   "id": "9663c18e-898d-4300-b3c3-9ff58de17ac0",
   "metadata": {},
   "source": [
    "----\n",
    "\n",
    "<div class=\"admonition pythonreview\" name=\"html-admonition\" style=\"background: lightgreen; padding: 10px\">\n",
    "    <h3>Mini-tutorial</h3>\n",
    "\n",
    "- Probability using numpy\n",
    "- Statistical distributions and confidence interval\n",
    "</div>\n",
    "\n",
    "#### Statistics: Mean, standard deviation, normal distribution, t-distribution\n",
    "\n",
    "Consider a set of observations $x_i$ from $i = 1$ to $N$. The mean observation is denoted by $\\bar{x}$ and is obtained by summing all observations $x_i$ and dividing by the number of observation $N$:\n",
    "\n",
    "$$ \\bar{x} = \\frac{1}{N}\\sum_{i=1}^N x_i = \\frac{x_1 + x_2 + x_3 + \\cdots + x_N}{N} $$"
   ]
  },
  {
   "cell_type": "markdown",
   "id": "d3a12f3b-3bb5-48c4-83b2-276fbd221ce7",
   "metadata": {},
   "source": [
    "The standard deviation is a measure which says something about how large a spread there is\n",
    "in observed values in the sample of observations. The standard deviation is denoted by the\n",
    "lower case Greek letter sigma, $\\sigma$ . The formula is not intuitive to most people:\n",
    "\n",
    "$$ \\sigma = \\sqrt{\\frac{\\sum_{i=1}^N (x_i - \\bar{x})^2}{N - 1}} $$\n",
    "\n",
    "The equation can be read, 'For each of the $N$ observations, calculate the deviation of the\n",
    "observation from the calculated mean. Square all of these deviations and sum them. Take\n",
    "the sum and divide it by the total number of observations $N$ minus one. Finally, take the\n",
    "square root of this number."
   ]
  },
  {
   "cell_type": "code",
   "execution_count": 51,
   "id": "c8cc2a6e-1c86-48f8-aad2-4d37f2ecc3b1",
   "metadata": {},
   "outputs": [],
   "source": [
    "from scipy import stats, optimize, special, integrate\n",
    "import numpy as np\n",
    "import matplotlib.pyplot as plt"
   ]
  },
  {
   "cell_type": "code",
   "execution_count": 52,
   "id": "a6fffc51-8897-4111-abed-bbac93e5e6e7",
   "metadata": {},
   "outputs": [
    {
     "name": "stdout",
     "output_type": "stream",
     "text": [
      "x    = [ 2  3  5 10 15]\n",
      "mean = 7.00\n",
      "std  = 4.86\n"
     ]
    }
   ],
   "source": [
    "x = np.array([2, 3, 5, 10, 15])\n",
    "print(\"x    =\", x)\n",
    "print(\"mean = {:.2f}\".format(np.mean(x)))\n",
    "print(\"std  = {:.2f}\".format(np.std(x)))"
   ]
  },
  {
   "cell_type": "markdown",
   "id": "330fcb8f-02c6-45f1-ad80-67dd4a9509d6",
   "metadata": {},
   "source": [
    "Once you know the mean $\\bar{x}$ and standard deviation $\\sigma$ of the normal distribution, you can\n",
    "define the probability distribution that describes the probability of obtaining a measurement\n",
    "in a certain range. The probability distribution is a curve which has unit area and is described\n",
    "mathematically by the formula\n",
    "\n",
    "$$ P(x) = \\frac{1}{\\sigma \\sqrt{2\\pi}} \\exp \\left\\{-\\frac{(x - \\bar{x})^2}{2\\sigma^2} \\right\\} $$\n",
    "\n",
    "In this formula, $P(x)$ does not represent the probability of observing exactly $x$. Instead, $P(x)$\n",
    "is called a probability density function, and the probability of observing a value between two\n",
    "arbitrary values $a$ and $b$ is the area beneath the curve in the range $[a, b]$ (meaning 'a to b').\n",
    "For example, the probability that the next observation x lies between the mean minus one\n",
    "standard deviation and the mean plus one standard deviation (between $\\bar{x}-\\sigma$ and $\\bar{x}+\\sigma)$ is \n",
    "simply the area beneath $P(x)$ over the interval $[\\bar{x}-\\sigma, \\bar{x}+\\sigma]$. This area turns out to be 0.68.\n",
    "Since 0.68 = 68%, you can also express this result as 'you are 68% confident that the measurement will lie between $\\bar{x}-\\sigma$ and $\\bar{x}+\\sigma$'.\n",
    "\n",
    "It is important to remember that we often do not actually observe the normal distribution. We\n",
    "collect a sample (usually not that large) and calculate the mean and the standard deviation.\n",
    "We then make the assumption that the *underlying population* has a normal distribution. This\n",
    "isn’t always true. When only a small number of measurements were used to estimate $\\bar{x}$ and $\\sigma$, these numbers are uncertain. The probability distribution for the next measurement is then \n",
    "more accurately described by *Student's t-distribution*, which takes into account the\n",
    "uncertainties in $\\bar{x}$ and $\\sigma$ as well. Basically, this uncertainty will act to 'spread out' the\n",
    "normal distribution when only few observations are used."
   ]
  },
  {
   "cell_type": "markdown",
   "id": "40c69a38-64c9-4c81-ab9f-43654548a5a4",
   "metadata": {
    "tags": []
   },
   "source": [
    "<img src = \"Images/PDF_comparison.png\" width = \"400\" height = \"500\" >"
   ]
  },
  {
   "cell_type": "markdown",
   "id": "0aa01f37-f1e2-461a-976d-a42eb563377c",
   "metadata": {},
   "source": [
    "The probability distribution is a curve which has unit area and is described mathematically by the formula\n",
    "\n",
    "$$ P(x|\\nu, \\bar{x}, \\sigma) = \\frac{\\Gamma\\left(\\frac{\\nu+1}{2}\\right)}{\\sigma\\sqrt{\\nu\\pi}\\ \\Gamma\\left(\\frac{\\nu}{2}\\right)} \\left(1 + \\frac{(x-\\bar{x})^2}{\\sigma^2 \\nu} \\right)^{-\\frac{\\nu+1}{2}} $$\n",
    "\n",
    "where $\\nu$ is the degree of freedom (number of samples minus one), $\\bar{x}$ is the sample mean, $\\sigma$ is the sample standard deviation, and $\\Gamma(z) = (z - 1)!$ (see [the gamma function](https://docs.scipy.org/doc/scipy/reference/generated/scipy.special.gamma.html))."
   ]
  },
  {
   "cell_type": "markdown",
   "id": "29015cef-d273-4e16-90d8-ffa1e416e5dc",
   "metadata": {},
   "source": [
    "Example below illustrate how the samples are generated from a Normal distribution with known population mean and population standard deviation. When you answer the questions, you will be supplied with the data (treated as samples) without knowing the underlying population mean and population standard deviation. You do not need to copy this cell."
   ]
  },
  {
   "cell_type": "code",
   "execution_count": 53,
   "id": "b219b3e2-1bba-4c66-b901-9baa55f192f3",
   "metadata": {},
   "outputs": [
    {
     "data": {
      "text/plain": [
       "array([49.30996753, 20.97160251, 40.41776131, 18.44689402, 44.1202185 ])"
      ]
     },
     "execution_count": 53,
     "metadata": {},
     "output_type": "execute_result"
    }
   ],
   "source": [
    "popmean, popstd = 30, 12\n",
    "N = 5\n",
    "#s = np.random.normal(popmean, popstd)\n",
    "s = np.array([49.30996753, 20.97160251, 40.41776131, 18.44689402, 44.1202185 ]) # one random output\n",
    "s"
   ]
  },
  {
   "cell_type": "markdown",
   "id": "27e5e19a-2db8-4d6b-92f7-dfe7a31da81a",
   "metadata": {},
   "source": [
    "Let's pretend we do not know the population mean and the population standard deviation, and then we calculate the sample mean and the sample standard deviation."
   ]
  },
  {
   "cell_type": "code",
   "execution_count": 54,
   "id": "d8a0069a-b762-43e0-b55f-77bc83d22ef8",
   "metadata": {},
   "outputs": [
    {
     "name": "stdout",
     "output_type": "stream",
     "text": [
      "N         = 5\n",
      "mean      = 34.65\n",
      "std       = 12.55\n"
     ]
    }
   ],
   "source": [
    "samplemean = np.mean(s)\n",
    "samplestd  = np.std(s)\n",
    "\n",
    "print(\"N         = %d\" % N)\n",
    "print(\"mean      = %.2f\" % samplemean)\n",
    "print(\"std       = %.2f\" % samplestd)"
   ]
  },
  {
   "cell_type": "markdown",
   "id": "a7beb751-7a33-4339-99ee-25e3d994ac8b",
   "metadata": {},
   "source": [
    "Then, we construct the probability density of the Student's t-distribution from the sample mean, the sample standard deviation, and the sample size using the function below."
   ]
  },
  {
   "cell_type": "code",
   "execution_count": 55,
   "id": "5eed5ae7-fef2-40dc-b929-0108c806c50e",
   "metadata": {},
   "outputs": [],
   "source": [
    "def tdist_probability_density(x, dof, mean, std):\n",
    "    '''\n",
    "    Compute the probability density of the Student's t-distribution\n",
    "    \n",
    "    Input Parameters:\n",
    "    ----------------\n",
    "    \n",
    "    x:         (array of) location(s) where the probability density is computed\n",
    "    dof:       degree of freedom; equals to the sample size minus one\n",
    "    mean:      sample mean\n",
    "    std:       sample standard deviation\n",
    "    \n",
    "    Return:\n",
    "    ------\n",
    "    \n",
    "    p:         probability density at all given x\n",
    "    \n",
    "    '''\n",
    "    p = special.gamma((dof + 1) / 2) / special.gamma(dof / 2) / np.sqrt(np.pi * dof * std ** 2) * \\\n",
    "        (1 + (x - mean) ** 2 / std ** 2 / dof) ** (-(dof + 1) / 2)\n",
    "    return p\n",
    "\n",
    "def ndist_probability_density(x, mean, std):\n",
    "    '''\n",
    "    Compute the probability density of the Normal distribution\n",
    "    \n",
    "    Input Parameters:\n",
    "    ----------------\n",
    "    \n",
    "    x:         (array of) location(s) where the probability density is computed\n",
    "    mean:      sample mean\n",
    "    std:       sample standard deviation\n",
    "    \n",
    "    Return:\n",
    "    ------\n",
    "    \n",
    "    p:         probability density at all given x\n",
    "    \n",
    "    '''\n",
    "    p = np.exp(-1/2 * (x - mean) ** 2  / std ** 2) / np.sqrt(2 * np.pi * std ** 2)\n",
    "    return p"
   ]
  },
  {
   "cell_type": "markdown",
   "id": "63d9b416-5882-4029-bf4c-723023479c61",
   "metadata": {},
   "source": [
    "The cumulative density function is obtained by integrating the probability density function from $-\\infty$ to $x$."
   ]
  },
  {
   "cell_type": "code",
   "execution_count": 56,
   "id": "a33f072d-c518-4b07-abdc-5ea56a5a376f",
   "metadata": {},
   "outputs": [],
   "source": [
    "def tdist_cumulative_density(x, dof, mean, std):\n",
    "    '''\n",
    "    Compute the cumulative density of the Student's t-distribution\n",
    "    \n",
    "    Input Parameters:\n",
    "    ----------------\n",
    "    \n",
    "    x:         (array of) location(s) where the probability density is computed\n",
    "    dof:       degree of freedom; equals to the sample size minus one\n",
    "    mean:      sample mean\n",
    "    std:       sample standard deviation\n",
    "    \n",
    "    Return:\n",
    "    ------\n",
    "    \n",
    "    c:         cumulative density at all given x\n",
    "    \n",
    "    '''\n",
    "    c = integrate.quad(tdist_probability_density, -np.inf, x, args=(dof, mean, std))[0]\n",
    "    return c\n",
    "\n",
    "def ndist_cumulative_density(x, mean, std):\n",
    "    '''\n",
    "    Compute the cumulative density of the Normal distribution\n",
    "    \n",
    "    Input Parameters:\n",
    "    ----------------\n",
    "    \n",
    "    x:         (array of) location(s) where the probability density is computed\n",
    "    mean:      sample mean\n",
    "    std:       sample standard deviation\n",
    "    \n",
    "    Return:\n",
    "    ------\n",
    "    \n",
    "    c:         cumulative density at all given x\n",
    "    \n",
    "    '''\n",
    "    c = integrate.quad(ndist_probability_density, -np.inf, x, args=(mean, std))[0]\n",
    "    return c"
   ]
  },
  {
   "cell_type": "markdown",
   "id": "b763d14c-101a-4470-b49e-2174480971b1",
   "metadata": {},
   "source": [
    "Here is how to calculate the value such that there is a 95%-chance that a sample draw from the Student's t-distribution is smaller"
   ]
  },
  {
   "cell_type": "code",
   "execution_count": 57,
   "id": "0caeba1f-e8aa-4298-bbe6-c6802c3428e7",
   "metadata": {},
   "outputs": [],
   "source": [
    "def find_confidence_interval_onesided(dof, mean, std, prob, distribution='t'):\n",
    "    '''\n",
    "    Computes the value to give any probability that a sample draw from \n",
    "    the Student's t-distribution is smaller than this value. In other words,\n",
    "    this function finds the value such that CDF(value | dof, mean, std) = prob.\n",
    "    \n",
    "    Input Parameters:\n",
    "    ----------------\n",
    "    \n",
    "    dof:       degree of freedom; equals to the sample size minus one\n",
    "    mean:      sample mean\n",
    "    std:       sample standard deviation\n",
    "    prob:      target probability\n",
    "    distribution:    which type of distribution ('t' or 'normal')\n",
    "    \n",
    "    Return:\n",
    "    ------\n",
    "    \n",
    "    value:     a value such that CDF(value) = prob\n",
    "    \n",
    "    '''\n",
    "    # function to optimize\n",
    "    if distribution == 't':\n",
    "        def func_to_optimize(x, dof, mean, std, prob):\n",
    "            return tdist_cumulative_density(x, dof, mean, std) - prob\n",
    "    else:\n",
    "        def func_to_optimize(x, dof, mean, std, prob):\n",
    "            return ndist_cumulative_density(x, mean, std) - prob\n",
    "        \n",
    "    value = optimize.root_scalar(func_to_optimize, args=(dof, mean, std, prob), x0=mean, x1=mean+std).root\n",
    "    return value"
   ]
  },
  {
   "cell_type": "code",
   "execution_count": 58,
   "id": "ca539a44-86f8-4851-9bbe-e0534033593e",
   "metadata": {},
   "outputs": [
    {
     "data": {
      "text/plain": [
       "61.407853899787334"
      ]
     },
     "execution_count": 58,
     "metadata": {},
     "output_type": "execute_result"
    }
   ],
   "source": [
    "find_confidence_interval_onesided(N-1, samplemean, samplestd, 0.95) # 95% == 0.95"
   ]
  },
  {
   "cell_type": "code",
   "execution_count": 59,
   "id": "6bb06350-c36e-47bd-af50-907887827ca9",
   "metadata": {},
   "outputs": [
    {
     "data": {
      "text/plain": [
       "4.604094871350386"
      ]
     },
     "execution_count": 59,
     "metadata": {},
     "output_type": "execute_result"
    }
   ],
   "source": [
    "find_confidence_interval_onesided(N-1, 0, 1, 0.995)"
   ]
  },
  {
   "cell_type": "markdown",
   "id": "d9cf834e-72bc-4478-b185-e408fa6ecd99",
   "metadata": {},
   "source": [
    "Values of $t$ ($t = \\frac{x - \\bar{x}}{\\sigma}$) corresponding to given values of $P$ and $\\nu$ degree of freedom. The value $P$ is defined as the area under the probability density curve to the right of $t$. The area under the probability density curve to the left is the cumulative density function.\n",
    "\n",
    "<img src = \"Images/CDF_and_P.png\" width = \"400\" height = \"500\" >\n",
    "\n",
    "| Degree of freedom $\\nu$ |P=0.005|P=0.01 |P=0.025|P=0.05 |P=0.10 |P=0.25 |\n",
    "|-------------------------|-------|-------|-------|-------|-------|-------|\n",
    "| 1                       |63.657 |31.281 |12.706 | 6.314 | 3.078 | 1.000 |\n",
    "| 2                       | 9.925 | 6.945 | 4.303 | 2.920 | 1.886 | 0.816 |\n",
    "| 3                       | 5.841 | 4.541 | 3.182 | 2.353 | 1.638 | 0.765 |\n",
    "| 4                       | 4.604 | 3.747 | 2.776 | 2.132 | 1.533 | 0.741 |\n",
    "| 5                       | 4.032 | 3.365 | 2.571 | 2.015 | 1.476 | 0.727 |\n",
    "| 6                       | 3.707 | 3.143 | 2.447 | 1.943 | 1.440 | 0.718 |\n",
    "| 7                       | 3.499 | 2.998 | 2.365 | 1.895 | 1.415 | 0.711 |\n",
    "| 8                       | 3.355 | 2.896 | 2.306 | 1.860 | 1.397 | 0.706 |\n",
    "| 9                       | 3.250 | 2.821 | 2.262 | 1.833 | 1.383 | 0.703 |\n",
    "| 10                      | 3.169 | 2.764 | 2.228 | 1.812 | 1.372 | 0.700 |\n",
    "| 15                      | 2.947 | 2.602 | 2.131 | 1.753 | 1.341 | 0.691 |\n",
    "| 20                      | 2.845 | 2.528 | 2.086 | 1.725 | 1.325 | 0.687 |\n",
    "| 25                      | 2.787 | 2.485 | 2.060 | 1.708 | 1.316 | 0.684 |\n",
    "| 30                      | 2.750 | 2.457 | 2.042 | 1.697 | 1.310 | 0.683 |\n",
    "| $\\infty$                | 2.576 | 2.326 | 1.960 | 1.645 | 1.282 | 0.674 |"
   ]
  },
  {
   "cell_type": "markdown",
   "id": "5e1166ed-0566-4642-b208-bd254f32a881",
   "metadata": {},
   "source": [
    "#### Probability: recurrence time,  joint probability of independent events\n",
    "\n",
    "The recurrence time is the average time interval between two repeating events. The inverse of the recurrence time is considered as the probability of an event to occur during a year. For example, if the recurrence time is 10 years, then the probability of an event to occur in a year is 1/10. However, if the recurrence time is less than a year, we may need to consider the probability of an event to occure during a shorter a amount of time e.g. 1 month, 3 months etc. to have a probability less than 1.\n",
    "\n",
    "Suppose we know the probability of an earthquake occuring in a year, we can determine the probability of an earthquake occuring in $n$ years by first computing the probability of an earthquake **not** occuring during $n$ in years. In order for an earthquake **not** occuring, the following conditions must be met:\n",
    "\n",
    "- The earthquake must **not** occur in the 1$^{\\text{st}}$ year.\n",
    "- The earthquake must **not** occur in the 2$^{\\text{nd}}$ year.\n",
    "- The earthquake must **not** occur in the 3$^{\\text{rd}}$ year.\n",
    "- ...\n",
    "- The earthquake must **not** occur in the n$^{\\text{th}}$ year.\n",
    "\n",
    "Since these conditions are independent from each other, we can multiply these probabilities to get the joint probability:\n",
    "\n",
    "\\begin{align}\n",
    "    P(\\text{earthquake not occuring in n years}) =&\\ (P(\\text{earthquake not occuring in a year}))^n \\\\\n",
    "    =&\\ (1 - P(\\text{earthquake occuring in a year}))^n \\\\\n",
    "    =&\\ \\left(1 - \\frac{1}{\\text{recurrence time}} \\right)^n\n",
    "\\end{align}\n",
    "\n",
    "Then, the probability of an earthquake *occuring* in $n$ years is \n",
    "\n",
    "$$ 1 - P(\\text{earthquake not occuring in n years}) = 1 - \\left(1 - \\frac{1}{\\text{recurrence time}} \\right)^n $$"
   ]
  },
  {
   "cell_type": "markdown",
   "id": "34a3edad-b2ea-4ae0-82ae-554d4099fb6f",
   "metadata": {
    "tags": []
   },
   "source": [
    "----\n",
    "\n",
    "## Part II: Determining Earthquake Probability\n",
    "\n",
    "From a human perspective, earthquakes of magnitude 7.0 or greater along the North American/Pacific plate boundary in California are rare.  But they do occur and when they do, they can cause devastating injury, loss of life, and property destruction. \n",
    " \n",
    "How do we determine the probability of such events, in a way that is useful to guide earthquake awareness and preparedness?  What is the basis for earthquake probability maps such as the one presented here?\n",
    "\n",
    "One way to estimate the likely of large earthquake occurring within a particular area over a specified period of time is to calculate a probability based on the occurrence of smaller earthquakes in that area. This method assumes that the events are independent of one another, hereas elastic rebound theory holds that after a fault ruptures, it takes time for tectonic stress to re-accumulate on that fault.  The **Third Uniform California Earthquake Rupture Forecast (UCERF3)** includes this notion of fault “readiness” in its earthquake forecast, as well as probabilities based on the frequency of small earthquakes. For further background see [https://www.scec.org/ucerf](https://www.scec.org/ucerf).\n",
    "\n",
    "\n",
    "\n",
    "For this activity, you will use the historical seismicity to determine the probability of various-sized earthquakes occurring in specific areas over the next year, and over the next 30 years.  The data come from [https://earthquake.usgs.gov/earthquakes/search/](https://earthquake.usgs.gov/earthquakes/search/)\n",
    "\n",
    "| | San Francisco area (done as class) | Los Angeles area (done individually for your lab report) |\n",
    "|--|--|--|\n",
    "|Latitude range  |36.25 - 38.75 $^{\\circ}$N  |33.5-35.5 $^{\\circ}$N      |\n",
    "|Longitude range |120.75 - 123.25 $^{\\circ}$W|116.75 - 119.75 $^{\\circ}$W|\n",
    "|Date range      |01/01/1983 - 12/31/2012    |01/01/1983 - 12/31/2012    |\n",
    "|Magnitude ranges|2.0-2.9, 3.0-3.9, up to 9.0-9.9|2.0-2.9, 3.0-3.9, up to 9.0-9.9|\n",
    "|Depth range     |All                        |All                        |\n",
    "|Data source     |United States Geologic Survey|United States Geologic Survey|\n",
    "|Database        |[http://neic.usgs.gov](http://neic.usgs.gov)       |[http://neic.usgs.gov](http://neic.usgs.gov)       |\n"
   ]
  },
  {
   "cell_type": "markdown",
   "id": "4e0d6320-b1b7-4d8a-b570-7de94921c2d7",
   "metadata": {},
   "source": [
    "<img src = \"Images/Rectangles.png\" width = \"400\" height = \"500\" >"
   ]
  },
  {
   "cell_type": "markdown",
   "id": "83d789e6-dd66-4af3-b0ed-31a9eeee8969",
   "metadata": {
    "tags": []
   },
   "source": [
    "<u> Example </u>: San Francisco Area\n",
    "\n"
   ]
  },
  {
   "cell_type": "markdown",
   "id": "8e60a6ba-30d9-4e65-8bc6-cf68e1d0d947",
   "metadata": {},
   "source": [
    "| Magnitude range | total \\# of earthquakes 1983-2012 (30 years) | average # of earthquakes per year | MRI (mean recurrence interval in years) | One year probability of earthquake occurring | One year probability of earthquake **not** occurring |\n",
    "|--|--|--|--|--|--|\n",
    "| 2.0-2.9 | 1716 | 57.20 | 0.017 | 1.000 | 0.000 |\n",
    "| 3.0-3.9 | 1326 | 44.20 | 0.023 | 1.000 | 0.000 |\n",
    "| 4.0-4.9 |  161 |  5.37 | 0.186 | 1.000 | 0.000 |\n",
    "| 5.0-5.9 |   13 |  0.43 | 2.308 | 0.433 | 0.567 |\n",
    "| 6.0-6.9 |    3 |  0.10 | 10.000 | 0.100 | 0.900 |\n",
    "| 7.0-7.9 |    0 |  0.00 | 50 (extrapolated) | 0.020 (extrapolated) | 0.9800 (extrapolated) |\n",
    "| 8.0-8.9 |    0 |  0.00 | 300 (extrapolated) | 0.0033 (extrapolated) | 0.9967 (extrapolated) |\n",
    "| 9.0-9.9 |    0 |  0.00 | 1600 (extrapolated) | 0.0006 (extrapolated) | 0.9994 (extrapolated) |"
   ]
  },
  {
   "cell_type": "code",
   "execution_count": 120,
   "id": "69148f53-5252-43e8-827a-27cc4ced6fe2",
   "metadata": {},
   "outputs": [],
   "source": [
    "import pandas as pd"
   ]
  },
  {
   "cell_type": "code",
   "execution_count": 121,
   "id": "dd8e9230-b2bf-4ed2-9d6f-f94f7f952db4",
   "metadata": {},
   "outputs": [
    {
     "name": "stderr",
     "output_type": "stream",
     "text": [
      "/tmp/ipykernel_840453/1652269062.py:1: DtypeWarning:\n",
      "\n",
      "Columns (1,2,3,4,6,7,8,9,16,17,18) have mixed types. Specify dtype option on import or set low_memory=False.\n",
      "\n"
     ]
    },
    {
     "data": {
      "text/html": [
       "<div>\n",
       "<style scoped>\n",
       "    .dataframe tbody tr th:only-of-type {\n",
       "        vertical-align: middle;\n",
       "    }\n",
       "\n",
       "    .dataframe tbody tr th {\n",
       "        vertical-align: top;\n",
       "    }\n",
       "\n",
       "    .dataframe thead th {\n",
       "        text-align: right;\n",
       "    }\n",
       "</style>\n",
       "<table border=\"1\" class=\"dataframe\">\n",
       "  <thead>\n",
       "    <tr style=\"text-align: right;\">\n",
       "      <th></th>\n",
       "      <th>time</th>\n",
       "      <th>latitude</th>\n",
       "      <th>longitude</th>\n",
       "      <th>depth</th>\n",
       "      <th>mag</th>\n",
       "      <th>magType</th>\n",
       "      <th>nst</th>\n",
       "      <th>gap</th>\n",
       "      <th>dmin</th>\n",
       "      <th>rms</th>\n",
       "      <th>...</th>\n",
       "      <th>updated</th>\n",
       "      <th>place</th>\n",
       "      <th>type</th>\n",
       "      <th>horizontalError</th>\n",
       "      <th>depthError</th>\n",
       "      <th>magError</th>\n",
       "      <th>magNst</th>\n",
       "      <th>status</th>\n",
       "      <th>locationSource</th>\n",
       "      <th>magSource</th>\n",
       "    </tr>\n",
       "  </thead>\n",
       "  <tbody>\n",
       "    <tr>\n",
       "      <th>0</th>\n",
       "      <td>1983-01-01T01:32:35.610Z</td>\n",
       "      <td>38.198</td>\n",
       "      <td>-118.488</td>\n",
       "      <td>3.599</td>\n",
       "      <td>2.89</td>\n",
       "      <td>ml</td>\n",
       "      <td>0.0</td>\n",
       "      <td>247.3</td>\n",
       "      <td>NaN</td>\n",
       "      <td>0.858</td>\n",
       "      <td>...</td>\n",
       "      <td>2016-02-02T18:50:21.010Z</td>\n",
       "      <td>38km SSE of Hawthorne, NV</td>\n",
       "      <td>earthquake</td>\n",
       "      <td>NaN</td>\n",
       "      <td>NaN</td>\n",
       "      <td>0.018</td>\n",
       "      <td>4</td>\n",
       "      <td>reviewed</td>\n",
       "      <td>ci</td>\n",
       "      <td>ci</td>\n",
       "    </tr>\n",
       "    <tr>\n",
       "      <th>1</th>\n",
       "      <td>1983-01-01T02:17:55.930Z</td>\n",
       "      <td>35.7455</td>\n",
       "      <td>-117.722</td>\n",
       "      <td>5.68</td>\n",
       "      <td>2.01</td>\n",
       "      <td>mc</td>\n",
       "      <td>20.0</td>\n",
       "      <td>53.0</td>\n",
       "      <td>NaN</td>\n",
       "      <td>0.12</td>\n",
       "      <td>...</td>\n",
       "      <td>2016-02-03T01:12:47.200Z</td>\n",
       "      <td>14km NE of Inyokern, CA</td>\n",
       "      <td>earthquake</td>\n",
       "      <td>0.28</td>\n",
       "      <td>1.27</td>\n",
       "      <td>NaN</td>\n",
       "      <td>17</td>\n",
       "      <td>reviewed</td>\n",
       "      <td>ci</td>\n",
       "      <td>ci</td>\n",
       "    </tr>\n",
       "    <tr>\n",
       "      <th>2</th>\n",
       "      <td>1983-01-01T03:56:55.920Z</td>\n",
       "      <td>33.933333</td>\n",
       "      <td>-118.812</td>\n",
       "      <td>0.353</td>\n",
       "      <td>2.16</td>\n",
       "      <td>mh</td>\n",
       "      <td>21.0</td>\n",
       "      <td>194.0</td>\n",
       "      <td>NaN</td>\n",
       "      <td>0.21</td>\n",
       "      <td>...</td>\n",
       "      <td>2016-04-01T23:29:13.318Z</td>\n",
       "      <td>8km S of Malibu, CA</td>\n",
       "      <td>earthquake</td>\n",
       "      <td>0.85</td>\n",
       "      <td>1.05</td>\n",
       "      <td>0.309</td>\n",
       "      <td>11</td>\n",
       "      <td>reviewed</td>\n",
       "      <td>ci</td>\n",
       "      <td>ci</td>\n",
       "    </tr>\n",
       "    <tr>\n",
       "      <th>3</th>\n",
       "      <td>1983-01-01T04:03:54.690Z</td>\n",
       "      <td>35.81</td>\n",
       "      <td>-117.7355</td>\n",
       "      <td>5.245</td>\n",
       "      <td>2.5</td>\n",
       "      <td>ml</td>\n",
       "      <td>31.0</td>\n",
       "      <td>60.0</td>\n",
       "      <td>NaN</td>\n",
       "      <td>0.18</td>\n",
       "      <td>...</td>\n",
       "      <td>2016-04-01T20:13:31.091Z</td>\n",
       "      <td>19km NNE of Inyokern, CA</td>\n",
       "      <td>earthquake</td>\n",
       "      <td>0.34</td>\n",
       "      <td>1.14</td>\n",
       "      <td>0.013</td>\n",
       "      <td>4</td>\n",
       "      <td>reviewed</td>\n",
       "      <td>ci</td>\n",
       "      <td>ci</td>\n",
       "    </tr>\n",
       "    <tr>\n",
       "      <th>4</th>\n",
       "      <td>1983-01-01T04:12:21.890Z</td>\n",
       "      <td>35.8165</td>\n",
       "      <td>-117.739</td>\n",
       "      <td>4.979</td>\n",
       "      <td>2.85</td>\n",
       "      <td>ml</td>\n",
       "      <td>35.0</td>\n",
       "      <td>61.0</td>\n",
       "      <td>NaN</td>\n",
       "      <td>0.21</td>\n",
       "      <td>...</td>\n",
       "      <td>2016-04-02T12:24:09.816Z</td>\n",
       "      <td>20km NNE of Inyokern, CA</td>\n",
       "      <td>earthquake</td>\n",
       "      <td>0.40</td>\n",
       "      <td>1.07</td>\n",
       "      <td>0.202</td>\n",
       "      <td>10</td>\n",
       "      <td>reviewed</td>\n",
       "      <td>ci</td>\n",
       "      <td>ci</td>\n",
       "    </tr>\n",
       "    <tr>\n",
       "      <th>...</th>\n",
       "      <td>...</td>\n",
       "      <td>...</td>\n",
       "      <td>...</td>\n",
       "      <td>...</td>\n",
       "      <td>...</td>\n",
       "      <td>...</td>\n",
       "      <td>...</td>\n",
       "      <td>...</td>\n",
       "      <td>...</td>\n",
       "      <td>...</td>\n",
       "      <td>...</td>\n",
       "      <td>...</td>\n",
       "      <td>...</td>\n",
       "      <td>...</td>\n",
       "      <td>...</td>\n",
       "      <td>...</td>\n",
       "      <td>...</td>\n",
       "      <td>...</td>\n",
       "      <td>...</td>\n",
       "      <td>...</td>\n",
       "      <td>...</td>\n",
       "    </tr>\n",
       "    <tr>\n",
       "      <th>224458</th>\n",
       "      <td>2012-12-31T21:00:14.700Z</td>\n",
       "      <td>34.914</td>\n",
       "      <td>-119.593</td>\n",
       "      <td>7.565</td>\n",
       "      <td>2.43</td>\n",
       "      <td>ml</td>\n",
       "      <td>44.0</td>\n",
       "      <td>53.0</td>\n",
       "      <td>0.1501</td>\n",
       "      <td>0.26</td>\n",
       "      <td>...</td>\n",
       "      <td>2022-07-24T14:45:00.773Z</td>\n",
       "      <td>24km SW of Maricopa, CA</td>\n",
       "      <td>earthquake</td>\n",
       "      <td>0.38</td>\n",
       "      <td>0.86</td>\n",
       "      <td>0.16</td>\n",
       "      <td>67.0</td>\n",
       "      <td>reviewed</td>\n",
       "      <td>ci</td>\n",
       "      <td>ci</td>\n",
       "    </tr>\n",
       "    <tr>\n",
       "      <th>224459</th>\n",
       "      <td>2012-12-31T21:00:40.960Z</td>\n",
       "      <td>37.637333</td>\n",
       "      <td>-122.496833</td>\n",
       "      <td>8.54</td>\n",
       "      <td>2.11</td>\n",
       "      <td>md</td>\n",
       "      <td>97.0</td>\n",
       "      <td>93.0</td>\n",
       "      <td>0.01712</td>\n",
       "      <td>0.08</td>\n",
       "      <td>...</td>\n",
       "      <td>2022-07-24T14:43:42.150Z</td>\n",
       "      <td>2 km NNW of Pacifica, California</td>\n",
       "      <td>earthquake</td>\n",
       "      <td>0.14</td>\n",
       "      <td>0.18</td>\n",
       "      <td>0.152</td>\n",
       "      <td>63.0</td>\n",
       "      <td>reviewed</td>\n",
       "      <td>nc</td>\n",
       "      <td>nc</td>\n",
       "    </tr>\n",
       "    <tr>\n",
       "      <th>224460</th>\n",
       "      <td>2012-12-31T21:22:24.430Z</td>\n",
       "      <td>40.4345</td>\n",
       "      <td>-123.364833</td>\n",
       "      <td>28.967</td>\n",
       "      <td>2.42</td>\n",
       "      <td>md</td>\n",
       "      <td>33.0</td>\n",
       "      <td>33.0</td>\n",
       "      <td>0.08919</td>\n",
       "      <td>0.21</td>\n",
       "      <td>...</td>\n",
       "      <td>2017-01-29T05:39:58.660Z</td>\n",
       "      <td>12 km E of Mad River, California</td>\n",
       "      <td>earthquake</td>\n",
       "      <td>0.41</td>\n",
       "      <td>0.99</td>\n",
       "      <td>0.13</td>\n",
       "      <td>32.0</td>\n",
       "      <td>reviewed</td>\n",
       "      <td>nc</td>\n",
       "      <td>nc</td>\n",
       "    </tr>\n",
       "    <tr>\n",
       "      <th>224461</th>\n",
       "      <td>2012-12-31T22:36:06.070Z</td>\n",
       "      <td>38.817833</td>\n",
       "      <td>-122.798333</td>\n",
       "      <td>1.1</td>\n",
       "      <td>2.06</td>\n",
       "      <td>md</td>\n",
       "      <td>60.0</td>\n",
       "      <td>20.0</td>\n",
       "      <td>0.00991</td>\n",
       "      <td>0.07</td>\n",
       "      <td>...</td>\n",
       "      <td>2017-01-29T05:40:38.730Z</td>\n",
       "      <td>6 km W of Cobb, California</td>\n",
       "      <td>earthquake</td>\n",
       "      <td>0.10</td>\n",
       "      <td>0.18</td>\n",
       "      <td>0.142</td>\n",
       "      <td>31.0</td>\n",
       "      <td>reviewed</td>\n",
       "      <td>nc</td>\n",
       "      <td>nc</td>\n",
       "    </tr>\n",
       "    <tr>\n",
       "      <th>224462</th>\n",
       "      <td>2012-12-31T23:02:17.428Z</td>\n",
       "      <td>38.7162</td>\n",
       "      <td>-116.6896</td>\n",
       "      <td>0.0</td>\n",
       "      <td>2.1</td>\n",
       "      <td>ml</td>\n",
       "      <td>5.0</td>\n",
       "      <td>230.45</td>\n",
       "      <td>1.148</td>\n",
       "      <td>0.2014</td>\n",
       "      <td>...</td>\n",
       "      <td>2018-06-29T20:50:58.679Z</td>\n",
       "      <td>63 km SSE of Kingston, Nevada</td>\n",
       "      <td>earthquake</td>\n",
       "      <td>NaN</td>\n",
       "      <td>0.0</td>\n",
       "      <td>0.05</td>\n",
       "      <td>2.0</td>\n",
       "      <td>reviewed</td>\n",
       "      <td>nn</td>\n",
       "      <td>nn</td>\n",
       "    </tr>\n",
       "  </tbody>\n",
       "</table>\n",
       "<p>224463 rows × 22 columns</p>\n",
       "</div>"
      ],
      "text/plain": [
       "                            time   latitude   longitude   depth   mag magType  \\\n",
       "0       1983-01-01T01:32:35.610Z     38.198    -118.488   3.599  2.89      ml   \n",
       "1       1983-01-01T02:17:55.930Z    35.7455    -117.722    5.68  2.01      mc   \n",
       "2       1983-01-01T03:56:55.920Z  33.933333    -118.812   0.353  2.16      mh   \n",
       "3       1983-01-01T04:03:54.690Z      35.81   -117.7355   5.245   2.5      ml   \n",
       "4       1983-01-01T04:12:21.890Z    35.8165    -117.739   4.979  2.85      ml   \n",
       "...                          ...        ...         ...     ...   ...     ...   \n",
       "224458  2012-12-31T21:00:14.700Z     34.914    -119.593   7.565  2.43      ml   \n",
       "224459  2012-12-31T21:00:40.960Z  37.637333 -122.496833    8.54  2.11      md   \n",
       "224460  2012-12-31T21:22:24.430Z    40.4345 -123.364833  28.967  2.42      md   \n",
       "224461  2012-12-31T22:36:06.070Z  38.817833 -122.798333     1.1  2.06      md   \n",
       "224462  2012-12-31T23:02:17.428Z    38.7162   -116.6896     0.0   2.1      ml   \n",
       "\n",
       "         nst     gap     dmin     rms  ...                   updated  \\\n",
       "0        0.0   247.3      NaN   0.858  ...  2016-02-02T18:50:21.010Z   \n",
       "1       20.0    53.0      NaN    0.12  ...  2016-02-03T01:12:47.200Z   \n",
       "2       21.0   194.0      NaN    0.21  ...  2016-04-01T23:29:13.318Z   \n",
       "3       31.0    60.0      NaN    0.18  ...  2016-04-01T20:13:31.091Z   \n",
       "4       35.0    61.0      NaN    0.21  ...  2016-04-02T12:24:09.816Z   \n",
       "...      ...     ...      ...     ...  ...                       ...   \n",
       "224458  44.0    53.0   0.1501    0.26  ...  2022-07-24T14:45:00.773Z   \n",
       "224459  97.0    93.0  0.01712    0.08  ...  2022-07-24T14:43:42.150Z   \n",
       "224460  33.0    33.0  0.08919    0.21  ...  2017-01-29T05:39:58.660Z   \n",
       "224461  60.0    20.0  0.00991    0.07  ...  2017-01-29T05:40:38.730Z   \n",
       "224462   5.0  230.45    1.148  0.2014  ...  2018-06-29T20:50:58.679Z   \n",
       "\n",
       "                                   place        type horizontalError  \\\n",
       "0              38km SSE of Hawthorne, NV  earthquake             NaN   \n",
       "1                14km NE of Inyokern, CA  earthquake            0.28   \n",
       "2                    8km S of Malibu, CA  earthquake            0.85   \n",
       "3               19km NNE of Inyokern, CA  earthquake            0.34   \n",
       "4               20km NNE of Inyokern, CA  earthquake            0.40   \n",
       "...                                  ...         ...             ...   \n",
       "224458           24km SW of Maricopa, CA  earthquake            0.38   \n",
       "224459  2 km NNW of Pacifica, California  earthquake            0.14   \n",
       "224460  12 km E of Mad River, California  earthquake            0.41   \n",
       "224461        6 km W of Cobb, California  earthquake            0.10   \n",
       "224462     63 km SSE of Kingston, Nevada  earthquake             NaN   \n",
       "\n",
       "       depthError  magError magNst    status locationSource magSource  \n",
       "0             NaN     0.018      4  reviewed             ci        ci  \n",
       "1            1.27       NaN     17  reviewed             ci        ci  \n",
       "2            1.05     0.309     11  reviewed             ci        ci  \n",
       "3            1.14     0.013      4  reviewed             ci        ci  \n",
       "4            1.07     0.202     10  reviewed             ci        ci  \n",
       "...           ...       ...    ...       ...            ...       ...  \n",
       "224458       0.86      0.16   67.0  reviewed             ci        ci  \n",
       "224459       0.18     0.152   63.0  reviewed             nc        nc  \n",
       "224460       0.99      0.13   32.0  reviewed             nc        nc  \n",
       "224461       0.18     0.142   31.0  reviewed             nc        nc  \n",
       "224462        0.0      0.05    2.0  reviewed             nn        nn  \n",
       "\n",
       "[224463 rows x 22 columns]"
      ]
     },
     "execution_count": 121,
     "metadata": {},
     "output_type": "execute_result"
    }
   ],
   "source": [
    "earthquakes = pd.read_csv('Files/US_Earthquakes_1983-2012.zip')\n",
    "earthquakes"
   ]
  },
  {
   "cell_type": "code",
   "execution_count": 39,
   "id": "9b0f2986-1bd3-4b55-b95a-8f12b418d569",
   "metadata": {},
   "outputs": [
    {
     "data": {
      "text/plain": [
       "Index(['time', 'latitude', 'longitude', 'depth', 'mag', 'magType', 'nst',\n",
       "       'gap', 'dmin', 'rms', 'net', 'id', 'updated', 'place', 'type',\n",
       "       'horizontalError', 'depthError', 'magError', 'magNst', 'status',\n",
       "       'locationSource', 'magSource'],\n",
       "      dtype='object')"
      ]
     },
     "execution_count": 39,
     "metadata": {},
     "output_type": "execute_result"
    }
   ],
   "source": [
    "earthquakes.columns"
   ]
  },
  {
   "cell_type": "code",
   "execution_count": 40,
   "id": "7343680d-33a7-4a6b-9638-ef5c62a8e6f6",
   "metadata": {},
   "outputs": [
    {
     "data": {
      "text/plain": [
       "16377"
      ]
     },
     "execution_count": 40,
     "metadata": {},
     "output_type": "execute_result"
    }
   ],
   "source": [
    "len(earthquakes[(earthquakes.latitude > 36.25) & (earthquakes.latitude < 38.75) & (earthquakes.longitude > -123.25) & (earthquakes.longitude < 120.75)])"
   ]
  },
  {
   "cell_type": "code",
   "execution_count": 42,
   "id": "3ff4fd30-3910-47f2-b904-32f132619da0",
   "metadata": {},
   "outputs": [],
   "source": [
    "earthquakes_san_francisco = earthquakes[(earthquakes.latitude > 36.25) & (earthquakes.latitude < 38.75) & (earthquakes.longitude > -123.25) & (earthquakes.longitude < 120.75)]"
   ]
  },
  {
   "cell_type": "code",
   "execution_count": 45,
   "id": "86c802f2-122a-44f0-ac3e-9f87d664b4cd",
   "metadata": {},
   "outputs": [
    {
     "data": {
      "text/plain": [
       "5146"
      ]
     },
     "execution_count": 45,
     "metadata": {},
     "output_type": "execute_result"
    }
   ],
   "source": [
    "len(earthquakes_san_francisco[(earthquakes_san_francisco.mag >= 3) & (earthquakes_san_francisco.mag < 4)])"
   ]
  },
  {
   "cell_type": "code",
   "execution_count": 53,
   "id": "fdd8226b-e9ee-48c5-b401-68b016404f48",
   "metadata": {},
   "outputs": [],
   "source": [
    "def catalog_filter(catalog, minlon, maxlon, minlat, maxlat, minmag, maxmag):\n",
    "    catalog_filtered = catalog[(catalog.latitude >= minlat) & (catalog.latitude <= maxlat) & \n",
    "                               (catalog.longitude >= minlon) & (catalog.longitude <= maxlon) &\n",
    "                               (catalog.mag >= minmag) & (catalog.mag < maxmag)\n",
    "                              ]\n",
    "    return catalog_filtered"
   ]
  },
  {
   "cell_type": "code",
   "execution_count": 57,
   "id": "50257b3a-cd1d-438e-87e1-ceaa3bb9b588",
   "metadata": {},
   "outputs": [
    {
     "data": {
      "text/html": [
       "<div>\n",
       "<style scoped>\n",
       "    .dataframe tbody tr th:only-of-type {\n",
       "        vertical-align: middle;\n",
       "    }\n",
       "\n",
       "    .dataframe tbody tr th {\n",
       "        vertical-align: top;\n",
       "    }\n",
       "\n",
       "    .dataframe thead th {\n",
       "        text-align: right;\n",
       "    }\n",
       "</style>\n",
       "<table border=\"1\" class=\"dataframe\">\n",
       "  <thead>\n",
       "    <tr style=\"text-align: right;\">\n",
       "      <th></th>\n",
       "      <th>time</th>\n",
       "      <th>latitude</th>\n",
       "      <th>longitude</th>\n",
       "      <th>depth</th>\n",
       "      <th>mag</th>\n",
       "      <th>magType</th>\n",
       "      <th>nst</th>\n",
       "      <th>gap</th>\n",
       "      <th>dmin</th>\n",
       "      <th>rms</th>\n",
       "      <th>...</th>\n",
       "      <th>updated</th>\n",
       "      <th>place</th>\n",
       "      <th>type</th>\n",
       "      <th>horizontalError</th>\n",
       "      <th>depthError</th>\n",
       "      <th>magError</th>\n",
       "      <th>magNst</th>\n",
       "      <th>status</th>\n",
       "      <th>locationSource</th>\n",
       "      <th>magSource</th>\n",
       "    </tr>\n",
       "  </thead>\n",
       "  <tbody>\n",
       "  </tbody>\n",
       "</table>\n",
       "<p>0 rows × 22 columns</p>\n",
       "</div>"
      ],
      "text/plain": [
       "Empty DataFrame\n",
       "Columns: [time, latitude, longitude, depth, mag, magType, nst, gap, dmin, rms, net, id, updated, place, type, horizontalError, depthError, magError, magNst, status, locationSource, magSource]\n",
       "Index: []\n",
       "\n",
       "[0 rows x 22 columns]"
      ]
     },
     "execution_count": 57,
     "metadata": {},
     "output_type": "execute_result"
    }
   ],
   "source": [
    "catalog_filter(earthquakes, -123.25, -120.75, 36.25, 38.75, 7, 8)"
   ]
  },
  {
   "cell_type": "markdown",
   "id": "94769c19-a5a9-441f-9b40-dbaf47f4b143",
   "metadata": {},
   "source": [
    "**Question 5** Filled the table for Los Angeles Area based on the given instruction below\n"
   ]
  },
  {
   "cell_type": "markdown",
   "id": "aad3be86-93df-4079-a2b6-a8534de8a6a2",
   "metadata": {},
   "source": [
    "How to complete the table:\n",
    "\n",
    "- Column 1-2 are given\n",
    "- Calculate the average number of earthquakes per year that occurred in each magnitude range.\n",
    "- Calculate the mean recurrence interval (MRI) for each magnitude range up through magnitude 6.0-6.9. The MRI is defined as the average time between earthquakes. Extrapolate MRI for magnitude 7.0 or above.\n",
    "- Determine the probability of earthquakes of each magnitude range occurring in one year, expressed as either a fractional probability between 0 and 1.0.\n",
    "    - For earthquakes with MRI’s greater than one year: Fractional probability = 1/ MRI and then multiply by 100 to get % probability. (Note that this is equal to the average # of earthquakes per year. But using the 1/ MRI method allows calculation of probabilities for earthquakes that haven’t occurred over the study period - because we have extrapolated MRI’s.)\n",
    "- Determine the probability of each earthquake magnitude NOT occurring in a year. This will simply be is 1.0 minus the probability of that thing occurring in a year.\n",
    "\n",
    "**Answer**"
   ]
  },
  {
   "cell_type": "markdown",
   "id": "f214a0c5-e342-4bc7-8fad-2d9eab7504d6",
   "metadata": {},
   "source": [
    "| Magnitude range | total \\# of earthquakes 1983-2012 (30 years) | average # of earthquakes per year | MRI (mean recurrence interval in years) | One year probability of earthquake occurring | One year probability of earthquake **not** occurring |\n",
    "|--|--|--|--|--|--|\n",
    "| 1.0-1.9 | 76487 | | | | |\n",
    "| 2.0-2.9 | 21471 | | | | |\n",
    "| 3.0-3.9 |  1830 | | | | |\n",
    "| 4.0-4.9 |   209 | | | | |\n",
    "| 5.0-5.9 |    26 | | | | |\n",
    "| 6.0-6.9 |     2 | | | | |\n",
    "| 7.0-7.9 |     0 | | | | |\n",
    "| 8.0-8.9 |     0 | | | | |\n",
    "| 9.0-9.9 |     0 | | | | |"
   ]
  },
  {
   "cell_type": "markdown",
   "id": "df1fd08c-e46c-4a94-a282-b91ead8e325a",
   "metadata": {},
   "source": [
    "**Question 6** If earthquake follows the Gutenberg-Richter Law, what is the b value in the two regions? What is the magnitude of completeness for the recorded earthquakes in the two areas?"
   ]
  },
  {
   "cell_type": "markdown",
   "id": "b9b67c5c-c6d1-486a-ba96-c8e289af5012",
   "metadata": {},
   "source": [
    "**Answer**"
   ]
  },
  {
   "cell_type": "markdown",
   "id": "34d362f2-4c54-4802-b00d-f07fe7d0fcea",
   "metadata": {},
   "source": [
    "**Question 7** Find the probability of a magnitude 7.0-7.9 earthquake occurring in the San Francisco in the next year – the annual probability of event:"
   ]
  },
  {
   "cell_type": "markdown",
   "id": "234a07a3-5bad-4775-9b6e-09584068a9da",
   "metadata": {},
   "source": [
    "**Answer**"
   ]
  },
  {
   "cell_type": "markdown",
   "id": "784b0534-0b68-4bee-94b1-35717f12fff4",
   "metadata": {},
   "source": [
    "**Question 8** Not a very high probability, perhaps, but then a year isn’t very long!  Let’s say you are living in the San Francisco area and take out a 30-year mortgage on a house.  What is the probability of a magnitude 7.0-7.9 earthquake occurring during that 30-year period? "
   ]
  },
  {
   "cell_type": "markdown",
   "id": "7240b66a-7070-466d-91af-ae95584c7290",
   "metadata": {},
   "source": [
    "**Answer**"
   ]
  },
  {
   "cell_type": "markdown",
   "id": "ae6388de-e778-4290-b238-cb78222b4969",
   "metadata": {
    "tags": []
   },
   "source": [
    "----\n",
    "\n",
    "## Part III: The Parkfield Prediction\n",
    "\n",
    "It is important to realize that the general observation that earthquakes recur on individual faults can be the result of many physical realities. The simple ‘sawtooth’ earthquake cycle model may be attractive because of its simplicity, but its validity has to be confirmed by observational data. This model has come under a great deal of criticism lately, because its predictions for the locations of earthquakes over the past 20 years along the Pacific rim have not been very successful."
   ]
  },
  {
   "cell_type": "markdown",
   "id": "26b313cd-8072-4059-aa11-03bea6920492",
   "metadata": {},
   "source": [
    "<img src = \"Images/Parkfield_map.png\" width = \"500\" height = \"500\" >"
   ]
  },
  {
   "cell_type": "markdown",
   "id": "a2dfd3a9-849a-4e80-b9ec-53b06d3a7a6c",
   "metadata": {
    "tags": []
   },
   "source": [
    "The purpose of this problem is to illustrate how probabilistic forecasts are made by calculating the likely time for next Parkfield earthquake using statistics.\n",
    "\n",
    "*Background*: The National Earthquake Prediction Evaluation Council (NEPEC) in 1985 endorsed a prediction that with 95% confidence (= probability), the next Parkfield earthquake would occur\n",
    "before January 1993."
   ]
  },
  {
   "cell_type": "markdown",
   "id": "42104e46-25f6-4faa-aa1f-5a1f56562c1a",
   "metadata": {},
   "source": [
    "<img src = \"Images/Parkfield_events.png\" width = \"800\" height = \"500\" >"
   ]
  },
  {
   "cell_type": "markdown",
   "id": "a0585467-276c-4ae2-a7cd-35332dd137f4",
   "metadata": {
    "tags": []
   },
   "source": [
    "*The Data*: At the time, most seismologists agreed that earthquakes of very similar size and character (that is, which ruptured the same part of the San Andreas Fault) have occurred near Parkfield at the following times: 1857, 1881, 1901, 1922, 1934, and 1966. There is no record of earthquake activity before 1857, but we do not expect there to be one because the area was not settled at that time.\n",
    "\n",
    "In order to calculate expectations and probabilities, you have to have a model in mind which tells you what the data above represent. It is not clear which model is most appropriate, and you may think of a better one than the following:\n",
    "\n",
    "*Approach 1 — strictly numbers.* The sequence clearly suggests a repetition with approximately the same interval between events. If we think of the intervals between earthquakes as belonging to a normal distribution with some mean, the data can be used to estimate both an average repeat time and a standard deviation around that mean."
   ]
  },
  {
   "cell_type": "markdown",
   "id": "6803ef1f-ead5-41ee-b99d-6d9d2a6cadae",
   "metadata": {},
   "source": [
    "**Question 9.1** Calculate the mean value and the standard deviation for the earthquake repeat times. "
   ]
  },
  {
   "cell_type": "markdown",
   "id": "74cdd789-e760-462a-87dc-5d6704770243",
   "metadata": {},
   "source": [
    "**Answer**"
   ]
  },
  {
   "cell_type": "code",
   "execution_count": 48,
   "id": "e61bcdaf-07a6-4daf-809a-f412b309d648",
   "metadata": {},
   "outputs": [],
   "source": [
    "from scipy import stats, optimize, special, integrate\n",
    "import numpy as np\n",
    "import matplotlib.pyplot as plt"
   ]
  },
  {
   "cell_type": "code",
   "execution_count": 49,
   "id": "840db0ec-dc63-4fb9-9adf-7f13678039fd",
   "metadata": {},
   "outputs": [
    {
     "name": "stdout",
     "output_type": "stream",
     "text": [
      "intervals = [24 20 21 12 32] years\n",
      "mean      = 21.80 years\n",
      "std       = 6.46 years\n"
     ]
    }
   ],
   "source": [
    "years = np.array([1857, 1881, 1901, 1922, 1934, 1966])\n",
    "intervals = years[1:] - years[:-1]\n",
    "mean = np.mean(intervals)\n",
    "std = np.std(intervals)\n",
    "print(\"intervals =\", intervals, \"years\")\n",
    "print(\"mean      = %.2f years\" % mean)\n",
    "print(\"std       = %.2f years\" % std)"
   ]
  },
  {
   "cell_type": "markdown",
   "id": "3cd0f9ec-5c28-4d75-941a-1901006ff3b5",
   "metadata": {},
   "source": [
    "**Question 9.2** What is the predicted time for the earthquake following the 1966 earthquake?"
   ]
  },
  {
   "cell_type": "markdown",
   "id": "f81b94bf-e673-4231-a5b4-e731fbb7e079",
   "metadata": {},
   "source": [
    "**Answer**"
   ]
  },
  {
   "cell_type": "markdown",
   "id": "8bf27402-c94a-4e9b-9bf7-b5b46af6a08b",
   "metadata": {},
   "source": [
    "<font style=\"color:red\">    \n",
    "The next earthquake occurs in the next 22 years, based on the mean value of the earthquake repeating times. Therefore, the next earthquake is predicted to occure in 1966+22 = 1988.\n",
    "</font>"
   ]
  },
  {
   "cell_type": "markdown",
   "id": "e1110b28-8a0d-4c44-b1a0-5bf13198e489",
   "metadata": {},
   "source": [
    "**Question 9.3** What is the time before which there is a 95% probability that the earthquake will occur? (Since there are very few observations, you need to know something about Student’s tdistributions to answer this question. See, for example, **mini-tutorial** above.)"
   ]
  },
  {
   "cell_type": "markdown",
   "id": "a27f9f51-cbc7-4745-912d-567acbcd8ee1",
   "metadata": {},
   "source": [
    "**Answer**"
   ]
  },
  {
   "cell_type": "markdown",
   "id": "992aad8a-1937-4b7c-a920-8fbcc61179a8",
   "metadata": {},
   "source": [
    "<font style=\"color:red\">\n",
    "Here is how to find a 95 % probability that earthquake will occur based on Student's t-distribution:\n",
    "</font>"
   ]
  },
  {
   "cell_type": "code",
   "execution_count": 61,
   "id": "c762e2ad-f5bd-465b-9304-6f9c57116239",
   "metadata": {},
   "outputs": [
    {
     "data": {
      "text/plain": [
       "35.57641554551494"
      ]
     },
     "execution_count": 61,
     "metadata": {},
     "output_type": "execute_result"
    }
   ],
   "source": [
    "nu = np.size(intervals) - 1         # degrees of freedom\n",
    "prob = 0.95                         # 95% probability\n",
    "\n",
    "find_confidence_interval_onesided(nu, mean, std, prob, 't')"
   ]
  },
  {
   "cell_type": "markdown",
   "id": "cb009243-737e-4f44-b747-bd543a68a004",
   "metadata": {},
   "source": [
    "<font style=\"color:red\">\n",
    "The earthquake will occur before 2002 with a 95 % probability.\n",
    "</font>"
   ]
  },
  {
   "cell_type": "markdown",
   "id": "d87c0b61-c9fd-460f-a06b-c86df561d092",
   "metadata": {},
   "source": [
    "*Approach 2 — using some ‘insights’.* Assume that the 1934 earthquake really should have occurred in 1944, but that it for some reason was ‘triggered’ to occur prematurely by some other geophysical process."
   ]
  },
  {
   "cell_type": "markdown",
   "id": "bdd50d83-613e-437f-9432-afaa1b13a44a",
   "metadata": {},
   "source": [
    "**Question 10.1** Repeat the analysis in Question 9 (9.1-9.3) but assume that the 1934 event really occurred in 1944. "
   ]
  },
  {
   "cell_type": "markdown",
   "id": "ad87cc50-4209-4271-ab5a-03d5648aa401",
   "metadata": {},
   "source": [
    "**Answer**"
   ]
  },
  {
   "cell_type": "code",
   "execution_count": 62,
   "id": "e68e6c53-3708-4238-8b10-d9105aefce87",
   "metadata": {},
   "outputs": [
    {
     "name": "stdout",
     "output_type": "stream",
     "text": [
      "intervals = [24 20 21 22 22] years\n",
      "mean      = 21.80 years\n",
      "std       = 1.33 years\n"
     ]
    }
   ],
   "source": [
    "years = np.array([1857, 1881, 1901, 1922, 1944, 1966])\n",
    "intervals = years[1:] - years[:-1]\n",
    "mean = np.mean(intervals)\n",
    "std = np.std(intervals)\n",
    "print(\"intervals =\", intervals, \"years\")\n",
    "print(\"mean      = %.2f years\" % mean)\n",
    "print(\"std       = %.2f years\" % std)"
   ]
  },
  {
   "cell_type": "code",
   "execution_count": 63,
   "id": "484b4c27-bacf-4387-beda-ad270a1e093e",
   "metadata": {},
   "outputs": [
    {
     "data": {
      "text/plain": [
       "24.628214360308185"
      ]
     },
     "execution_count": 63,
     "metadata": {},
     "output_type": "execute_result"
    }
   ],
   "source": [
    "nu = np.size(intervals) - 1         # degrees of freedom\n",
    "prob = 0.95                         # 95% probability\n",
    "\n",
    "find_confidence_interval_onesided(nu, mean, std, prob, 't')"
   ]
  },
  {
   "cell_type": "markdown",
   "id": "a217d336-1c9d-43b4-8a0e-97ffcc741b92",
   "metadata": {},
   "source": [
    "<font style=\"color:red\">\n",
    "The earthquake will occur before 1991 with a 95 % probability.\n",
    "</font>"
   ]
  },
  {
   "cell_type": "markdown",
   "id": "0f9527f2-8e20-4842-9ee5-8dd13d8ab460",
   "metadata": {},
   "source": [
    "<br><br/>\n",
    "<br><br/>"
   ]
  },
  {
   "cell_type": "markdown",
   "id": "5f1c9cf2-0f7a-49da-a604-8258ff53561e",
   "metadata": {},
   "source": [
    "**Question 10.2** Which approach appears to be closest to the one used by the NEPEC?"
   ]
  },
  {
   "cell_type": "markdown",
   "id": "febfa9e3-d60f-486b-95a0-97612ee69479",
   "metadata": {},
   "source": [
    "**Answer**"
   ]
  },
  {
   "cell_type": "markdown",
   "id": "c482463b-9539-4161-af8a-82019d17dee6",
   "metadata": {},
   "source": [
    "<font style=\"color:red\">\n",
    "Approach 2 appears to be closest to the one used by the NEPEC.\n",
    "</font>"
   ]
  },
  {
   "cell_type": "markdown",
   "id": "9d8c8bac-ea78-4ba3-9d12-72f92da4609a",
   "metadata": {},
   "source": [
    "**Question 11** The long-awaited Parkfield earthquake finally occurred on September 28, 2004! Include the 2004 data point and use the same method as in Question 9 to (a) calculate the mean value and standard deviation for the earthquake repeat time and (b) predict the year for the next Parkfield earthquake."
   ]
  },
  {
   "cell_type": "markdown",
   "id": "9fde297e-64d4-49a6-9924-63285c915104",
   "metadata": {},
   "source": [
    "**Answer**"
   ]
  },
  {
   "cell_type": "markdown",
   "id": "1afde20e-15e0-47fd-9b87-b2ad61d1ab0b",
   "metadata": {},
   "source": [
    "<font style=\"color:red\">\n",
    "Here I use the numbers from question 10.1 (approach 1) with an additional 2004 data point.\n",
    "</font>"
   ]
  },
  {
   "cell_type": "code",
   "execution_count": 68,
   "id": "7ba92333-4d02-4bb8-b962-67e8c35a0128",
   "metadata": {},
   "outputs": [
    {
     "name": "stdout",
     "output_type": "stream",
     "text": [
      "intervals = [24 20 21 12 32 38] years\n",
      "mean      = 24.50 years\n",
      "std       = 8.44 years\n"
     ]
    }
   ],
   "source": [
    "years = np.array([1857, 1881, 1901, 1922, 1934, 1966, 2004])\n",
    "intervals = years[1:] - years[:-1]\n",
    "mean = np.mean(intervals)\n",
    "std = np.std(intervals)\n",
    "print(\"intervals =\", intervals, \"years\")\n",
    "print(\"mean      = %.2f years\" % mean)\n",
    "print(\"std       = %.2f years\" % std)"
   ]
  },
  {
   "cell_type": "code",
   "execution_count": 69,
   "id": "57c1db4f-ee79-48ac-aca0-a0de8efcbbd5",
   "metadata": {},
   "outputs": [
    {
     "data": {
      "text/plain": [
       "41.508965906680935"
      ]
     },
     "execution_count": 69,
     "metadata": {},
     "output_type": "execute_result"
    }
   ],
   "source": [
    "nu = np.size(intervals) - 1         # degrees of freedom\n",
    "prob = 0.95                         # 95% probability\n",
    "\n",
    "find_confidence_interval_onesided(nu, mean, std, prob, 't')"
   ]
  },
  {
   "cell_type": "markdown",
   "id": "3d073444-8e8a-4302-b049-d2931d641ab1",
   "metadata": {},
   "source": [
    "<font style=\"color:red\">\n",
    "The earthquake will occur before 2046 with a 95 % probability.\n",
    "</font>"
   ]
  }
 ],
 "metadata": {
  "kernelspec": {
   "display_name": "Python 3 (ipykernel)",
   "language": "python",
   "name": "python3"
  },
  "language_info": {
   "codemirror_mode": {
    "name": "ipython",
    "version": 3
   },
   "file_extension": ".py",
   "mimetype": "text/x-python",
   "name": "python",
   "nbconvert_exporter": "python",
   "pygments_lexer": "ipython3",
   "version": "3.9.12"
  }
 },
 "nbformat": 4,
 "nbformat_minor": 5
}

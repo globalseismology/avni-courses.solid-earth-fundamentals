{
 "cells": [
  {
   "cell_type": "markdown",
   "id": "16c172e4-ecf3-43b4-b5ec-62e723844bd4",
   "metadata": {
    "tags": []
   },
   "source": [
    "# GEO 203: Fundamentals of Solid Earth Science\n",
    "\n",
    "## Problem Sheet \\# 7 Human Interactions\n",
    "\n",
    "*Due 11:59pm Tuesday, December 8 via Gradescope upload (see Canvas link)*\n",
    "\n",
    "IN THE SPACE BELOW, WRITE OUT IN FULL AND THEN SIGN THE HONOR PLEDGE:\n",
    "\n",
    "“I pledge my honor that I have not violated the honor code during this examination.”\n",
    "\n",
    "**PRINT NAME**: \n",
    "\n",
    "By uploading this assignment through Canvas, I sign off on the document below electronically.\n",
    "\n",
    "----"
   ]
  },
  {
   "cell_type": "markdown",
   "id": "1f891def-3a54-40d0-b140-5f3320a03fd1",
   "metadata": {},
   "source": [
    "## Part I: A modified ranking of costly disasters\n",
    "\n",
    "The following table shows some recent natural disasters, and the estimated economic losses in the affected country. (The economic losses are often hard to estimate — these are approximate values.)\n",
    "\n",
    "|Year|Event                    |Country |Economic loss|\n",
    "|----|-------------------------|--------|-------------|\n",
    "|2010|Port-au-Prince Earthquake|Haiti   |  \\$3 billion|\n",
    "|2014|Laudian Earthquake       |China   | \\$10 billion|\n",
    "|2005|Hurricane Katrina        |USA     |\\$150 billion|\n",
    "|2011|M9.1 Earthquake          |Japan   |\\$200 billion|\n",
    "|2012|Hurricane Sandy          |USA     |\\$150 billion|\n",
    "|1998|Hurricane Mitch          |Honduras|  \\$4 billion|"
   ]
  },
  {
   "cell_type": "markdown",
   "id": "9df95bdb-c6ef-470b-9102-09ef545bda52",
   "metadata": {},
   "source": [
    "### To do\n",
    "\n",
    "**Question 1** Calculate the loss in each disaster as a fraction of the annual Gross Domestic Product (GDP) of the affected country. Expressed in this way, how do the disasters rank in terms of severity? (Use the library or the internet (e.g., the CIA World Factbook) to get GDP or equivalent information. Give your sources.)"
   ]
  },
  {
   "cell_type": "markdown",
   "id": "ff491771-8da3-4306-84e8-d50d93402120",
   "metadata": {},
   "source": [
    "**Question 2** For the two US disasters in the table, calculate the loss as a fraction of the annual economic output (Gross State Product or equivalent) of New York + New Jersey (for hurricane Sandy) and Louisiana (for hurricane Katrina). (More than 90% of monetary losses from Katrina occurred in Louisiana.)"
   ]
  },
  {
   "cell_type": "markdown",
   "id": "cb3f38c1-6146-4386-bf52-86bd5591bb36",
   "metadata": {},
   "source": [
    "**Question 3** Based on your ranking from question 1, comment on the challenges for different countries to recover from natural disasters."
   ]
  },
  {
   "cell_type": "markdown",
   "id": "0c33045d-e8dc-4b35-9d6e-a0c318511838",
   "metadata": {},
   "source": [
    "**Question 4** Based on the results from question 2, comment on the ability of different states to recover from natural disasters and on the utility of a system of US federal aid and relief in the response to domestic (US) disasters."
   ]
  },
  {
   "cell_type": "markdown",
   "id": "828a5209-3f73-4b33-8d74-37bab7f971a3",
   "metadata": {},
   "source": [
    "----\n",
    "\n",
    "## Part II: The Parkfield Prediction\n",
    "\n",
    "It is important to realize that the general observation that earthquakes recur on individual faults can be the result of many physical realities. The simple ‘sawtooth’ earthquake cycle model may be attractive because of its simplicity, but its validity has to be confirmed by observational data. This model has come under a great deal of criticism lately, because its predictions for the locations of earthquakes over the past 20 years along the Pacific rim have not been very successful.\n",
    "\n",
    "The purpose of this problem is to illustrate how probabilistic forecasts are made by calculating the likely time for next Parkfield earthquake using statistics.\n",
    "\n",
    "*Background*: The National Earthquake Prediction Evaluation Council (NEPEC) in 1985 endorsed a prediction that with 95% confidence (= probability), the next Parkfield earthquake would occur\n",
    "before January 1993.\n",
    "\n",
    "*The Data*: At the time, most seismologists agreed that earthquakes of very similar size and character (that is, which ruptured the same part of the San Andreas Fault) have occurred near Parkfield at the following times: 1857, 1881, 1901, 1922, 1934, and 1966. There is no record of earthquake activity before 1857, but we do not expect there to be one because the area was not settled at that time.\n",
    "\n",
    "In order to calculate expectations and probabilities, you have to have a model in mind which tells you what the data above represent. It is not clear which model is most appropriate, and you may think of a better one than the following:\n",
    "\n",
    "*Approach 1 — strictly numbers.* The sequence clearly suggests a repetition with approximately the same interval between events. If we think of the intervals between earthquakes as belonging to a normal distribution with some mean, the data can be used to estimate both an average repeat time and a standard deviation around that mean."
   ]
  },
  {
   "cell_type": "markdown",
   "id": "685abd41-c9fd-4153-a973-7a1087ab1f01",
   "metadata": {},
   "source": [
    "**Question 5** \n",
    "\n",
    "**(5a)** Calculate the mean value and the standard deviation for the earthquake repeat times. "
   ]
  },
  {
   "cell_type": "markdown",
   "id": "e94fe977-6c39-457f-97ff-c1a0ef11e3cb",
   "metadata": {},
   "source": [
    "**(5b)** What is the predicted time for the earthquake following the 1966 earthquake?"
   ]
  },
  {
   "cell_type": "markdown",
   "id": "96dfdbf9-ddb6-494c-bace-5a830529f57a",
   "metadata": {},
   "source": [
    "**(5c)** What is the time before which there is a 95% probability that the earthquake will occur? (Since there are very few observations, you need to know something about Student’s tdistributions to answer this question. See, for example, **statistics handout 2**.)"
   ]
  },
  {
   "cell_type": "markdown",
   "id": "8b817549-787c-4cae-8e2f-465047f72858",
   "metadata": {},
   "source": [
    "*Approach 2 — using some ‘insights’.* Assume that the 1934 earthquake really should have occurred in 1944, but that it for some reason was ‘triggered’ to occur prematurely by some other geophysical process."
   ]
  },
  {
   "cell_type": "markdown",
   "id": "31dff2d5-0d1e-4ed9-9453-3f9d6e229e11",
   "metadata": {},
   "source": [
    "**Question 6** \n",
    "\n",
    "**(6a)** Repeat the analysis in Question 5 (5a, 5b, 5c) but assume that the 1934 event really occurred in 1944. "
   ]
  },
  {
   "cell_type": "markdown",
   "id": "598d5b1a-eba8-4c6a-ad12-d27af80d9541",
   "metadata": {},
   "source": [
    "**(6b)** Which approach appears to be closest to the one used by the NEPEC?"
   ]
  },
  {
   "cell_type": "markdown",
   "id": "038d97b2-f34c-4a4e-805e-224f1103d810",
   "metadata": {},
   "source": [
    "**Question 7** The long-awaited Parkfield earthquake finally occurred on September 28, 2004! Include the 2004 data point and use the same method as in Question 5 to (a) calculate the mean value and standard deviation for the earthquake repeat time and (b) predict the year for the next Parkfield earthquake."
   ]
  },
  {
   "cell_type": "markdown",
   "id": "34a3edad-b2ea-4ae0-82ae-554d4099fb6f",
   "metadata": {},
   "source": [
    "----\n",
    "\n",
    "## Part III: Determining Earthquake Probability\n",
    "\n",
    "From a human perspective, earthquakes of magnitude 7.0 or greater along the North American/Pacific plate boundary in California are rare.  But as the prelab assignment shows, they do occur and when they do, they can cause devastating injury, loss of life, and property destruction. \n",
    " \n",
    "How do we determine the probability of such events, in a way that is useful to guide earthquake awareness and preparedness?  What is the basis for earthquake probability maps such as the one presented here?\n",
    "\n",
    "One way to estimate the likely of large earthquake occurring within a particular area over a specified period of time is to calculate a probability based on the occurrence of smaller earthquakes in that area. This method assumes that the events are independent of one another, hereas elastic rebound theory holds that after a fault ruptures, it takes time for tectonic stress to re-accumulate on that fault.  The **Third Uniform California Earthquake Rupture Forecast (UCERF3)** includes this notion of fault “readiness” in its earthquake forecast, as well as probabilities based on the frequency of small earthquakes. For further background see [https://www.scec.org/ucerf](https://www.scec.org/ucerf).\n",
    "\n",
    "\n",
    "\n",
    "For this activity, you will use the historical seismicity to determine the probability of various-sized earthquakes occurring in specific areas over the next year, and over the next 30 years.  The data come from **database**\n",
    "\n",
    "| | San Francisco area (done as class) | Los Angeles area (done individually for your lab report) |\n",
    "|--|--|--|\n",
    "|Latitude range  |36.25 - 38.75 $^{\\circ}$N  |33.5-35.5 $^{\\circ}$N      |\n",
    "|Longitude range |120.75 - 123.25 $^{\\circ}$W|116.75 - 119.75 $^{\\circ}$W|\n",
    "|Date range      |01/01/1983 - 12/31/2012    |01/01/1983 - 12/31/2012    |\n",
    "|Magnitude ranges|2.0-2.9, 3.0-3.9, up to 9.0-9.9|2.0-2.9, 3.0-3.9, up to 9.0-9.9|\n",
    "|Depth range     |All                        |All                        |\n",
    "|Data source     |United States Geologic Survey|United States Geologic Survey|\n",
    "|Database        |[http://neic.usgs.gov](http://neic.usgs.gov)       |[http://neic.usgs.gov](http://neic.usgs.gov)       |\n"
   ]
  },
  {
   "cell_type": "markdown",
   "id": "34d362f2-4c54-4802-b00d-f07fe7d0fcea",
   "metadata": {},
   "source": [
    "**Question 8** Find the probability of a magnitude 7.0-7.9 earthquake occurring in the San Francisco in the next year – the annual probability of event:"
   ]
  },
  {
   "cell_type": "markdown",
   "id": "784b0534-0b68-4bee-94b1-35717f12fff4",
   "metadata": {},
   "source": [
    "**Question 9** Not a very high probability, perhaps, but then a year isn’t very long!  Let’s say you are living in the San Francisco area and take out a 30-year mortgage on a house.  What is the probability of a magnitude 7.0-7.9 earthquake occurring during that 30-year period? "
   ]
  },
  {
   "cell_type": "markdown",
   "id": "e24682f5-9ef3-4e51-a9ad-b78a40d5be1b",
   "metadata": {},
   "source": [
    "**Question 10** More practice with probabilities: assume that in a particular area, an earthquake of magnitude 7 has a recurrence interval of 50 years.  What is the probability of it occurring in the next 60 years?  Show your work."
   ]
  }
 ],
 "metadata": {
  "kernelspec": {
   "display_name": "fall2022 [~/opt/export/course/geo203/anaconda3/envs/fall2022/]",
   "language": "python",
   "name": "conda_fall2022"
  },
  "language_info": {
   "codemirror_mode": {
    "name": "ipython",
    "version": 3
   },
   "file_extension": ".py",
   "mimetype": "text/x-python",
   "name": "python",
   "nbconvert_exporter": "python",
   "pygments_lexer": "ipython3",
   "version": "3.9.12"
  }
 },
 "nbformat": 4,
 "nbformat_minor": 5
}
